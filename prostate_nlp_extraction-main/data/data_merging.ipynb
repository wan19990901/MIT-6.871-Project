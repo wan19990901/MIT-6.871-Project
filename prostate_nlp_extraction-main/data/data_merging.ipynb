{
 "cells": [
  {
   "cell_type": "code",
   "execution_count": 1,
   "metadata": {},
   "outputs": [],
   "source": [
    "import pandas as pd\n",
    "import numpy as np"
   ]
  },
  {
   "cell_type": "code",
   "execution_count": 2,
   "metadata": {},
   "outputs": [],
   "source": [
    "prostate = pd.read_csv('prostate_report.csv')\n",
    "pirads = pd.read_csv('rad_df.csv') # Cleaned by Keith\n",
    "data = pd.read_csv('labeled_df_wreports.csv') # Clean by Keith\n",
    "demo = pd.read_csv('Atharv_features.csv') # Cleaned by Atharv"
   ]
  },
  {
   "cell_type": "code",
   "execution_count": 3,
   "metadata": {},
   "outputs": [],
   "source": [
    "def word_filter(dataframe_to_search_within, column_name, search_word_list, contains1_excludes0):\n",
    "\n",
    "  inclexcl = \"\";\n",
    "  dataframe = dataframe_to_search_within;\n",
    "  words = search_word_list;\n",
    "  if contains1_excludes0 == 1:\n",
    "    output_df = dataframe[dataframe[column_name].str.contains('|'.join(words),case=False)]\n",
    "    inclexcl = \"include\"; \n",
    "  else:\n",
    "    output_df = dataframe[~dataframe[column_name].str.contains('|'.join(words),case=False)]\n",
    "    inclexcl = \"exclude\";\n",
    "    \n",
    "  print(\"\\n\", inclexcl, words, output_df.shape)\n",
    "  return output_df"
   ]
  },
  {
   "cell_type": "markdown",
   "metadata": {},
   "source": [
    "# Prostate Cleaning"
   ]
  },
  {
   "cell_type": "code",
   "execution_count": 4,
   "metadata": {},
   "outputs": [
    {
     "data": {
      "text/plain": [
       "(18350, 28)"
      ]
     },
     "execution_count": 4,
     "metadata": {},
     "output_type": "execute_result"
    }
   ],
   "source": [
    "prostate.shape"
   ]
  },
  {
   "cell_type": "code",
   "execution_count": 5,
   "metadata": {},
   "outputs": [],
   "source": [
    "prostate['Report_Date_Time'] = pd.to_datetime(prostate['Report_Date_Time'])\n",
    "data['date_rp_dt'] = pd.to_datetime(data['date_rp_dt'])"
   ]
  },
  {
   "cell_type": "code",
   "execution_count": 6,
   "metadata": {},
   "outputs": [],
   "source": [
    "temp = data.merge(prostate,on='EMPI',how = 'left')"
   ]
  },
  {
   "cell_type": "code",
   "execution_count": 7,
   "metadata": {},
   "outputs": [],
   "source": [
    "valid_pros_empi = data[(temp['date_rp_dt'] - temp['Report_Date_Time']).dt.days < 365].EMPI # remove any invalid date"
   ]
  },
  {
   "cell_type": "code",
   "execution_count": 8,
   "metadata": {},
   "outputs": [],
   "source": [
    "prostate = prostate[prostate.EMPI.isin(valid_pros_empi)] # make sure both empi exists"
   ]
  },
  {
   "cell_type": "code",
   "execution_count": 9,
   "metadata": {},
   "outputs": [
    {
     "data": {
      "text/plain": [
       "(4052, 28)"
      ]
     },
     "execution_count": 9,
     "metadata": {},
     "output_type": "execute_result"
    }
   ],
   "source": [
    "prostate.shape"
   ]
  },
  {
   "cell_type": "code",
   "execution_count": 10,
   "metadata": {},
   "outputs": [],
   "source": [
    "# Can not regrad patients with missing prostate report\n",
    "import sys\n",
    "sys.path.append('../prostate_grade_extractor/')\n",
    "from biopsy_grade_extractor import BiopsyGradeExtractor\n"
   ]
  },
  {
   "cell_type": "code",
   "execution_count": 11,
   "metadata": {},
   "outputs": [
    {
     "name": "stdout",
     "output_type": "stream",
     "text": [
      "1\n"
     ]
    },
    {
     "name": "stderr",
     "output_type": "stream",
     "text": [
      "extracing info...: 100%|██████████| 4052/4052 [00:01<00:00, 3735.25it/s]\n",
      "/Users/guangyawan/opt/anaconda3/lib/python3.9/site-packages/numpy/core/fromnumeric.py:3199: VisibleDeprecationWarning: Creating an ndarray from ragged nested sequences (which is a list-or-tuple of lists-or-tuples-or ndarrays with different lengths or shapes) is deprecated. If you meant to do this, you must specify 'dtype=object' when creating the ndarray.\n",
      "  return asarray(a).ndim\n",
      "/Users/guangyawan/opt/anaconda3/lib/python3.9/site-packages/pandas/core/internals/blocks.py:937: VisibleDeprecationWarning: Creating an ndarray from ragged nested sequences (which is a list-or-tuple of lists-or-tuples-or ndarrays with different lengths or shapes) is deprecated. If you meant to do this, you must specify 'dtype=object' when creating the ndarray.\n",
      "  arr_value = np.asarray(value)\n"
     ]
    },
    {
     "name": "stdout",
     "output_type": "stream",
     "text": [
      "\n",
      "\n",
      "Extraction complete.\n",
      "\n",
      "\n",
      "Displaying summary...\n",
      "Counts per each primary grade: \n",
      "3.0    7833\n",
      "4.0    2391\n",
      "5.0     113\n",
      "2.0      20\n",
      "3.5      18\n",
      "2.5       1\n",
      "dtype: int64\n",
      "\n",
      "\n",
      "Counts per each secondary grade: \n",
      "3.0    6236\n",
      "4.0    3559\n",
      "5.0     521\n",
      "2.0      41\n",
      "3.5      18\n",
      "2.5       1\n",
      "dtype: int64\n",
      "\n",
      "\n",
      "Number of reports per each overall grade : \n",
      "1.0    1526\n",
      "2.0    1270\n",
      "3.0     687\n",
      "4.0     329\n",
      "5.0     240\n",
      "dtype: int64\n",
      "total =  4052\n",
      "Number of unique biopsy reports :  4052\n",
      "Number of unique patients :  4052\n",
      "Number of unique patients with overall_grade_merged :  4052\n"
     ]
    }
   ],
   "source": [
    "extractor = BiopsyGradeExtractor() \n",
    "prostate_final= extractor.fit(prostate, display_summary = True, return_summary_df = True) # Get biopsy grade from notes"
   ]
  },
  {
   "cell_type": "code",
   "execution_count": 12,
   "metadata": {},
   "outputs": [
    {
     "data": {
      "text/plain": [
       "Index(['EMPI', 'EPIC_PMRN', 'MRN_Type', 'MRN', 'Report_Number',\n",
       "       'Report_Date_Time', 'Report_Description', 'Report_Status',\n",
       "       'Report_Type', 'Report_Text', 'num_pos_cores', 'primary_grade',\n",
       "       'secondary_grade', 'overall_grade_group', 'overall_gs',\n",
       "       'overall_grade_merged', 'benign', 'num_total_core', 'num_pos_cores_sum',\n",
       "       'num_total_core_sum', 'max_core_involve', 'small_cell_carc',\n",
       "       'neuroendocrine_carc', 'adenocarcinoma', 'auxiiliary_mci_score',\n",
       "       'rp_indicator', 'rp_date', 'rp_date_minus_report_date_in_days'],\n",
       "      dtype='object')"
      ]
     },
     "execution_count": 12,
     "metadata": {},
     "output_type": "execute_result"
    }
   ],
   "source": [
    "prostate_final.columns"
   ]
  },
  {
   "cell_type": "code",
   "execution_count": 13,
   "metadata": {},
   "outputs": [],
   "source": [
    "prostate_to_merge = prostate_final[['EMPI','overall_grade_merged','rp_date']]"
   ]
  },
  {
   "cell_type": "code",
   "execution_count": 14,
   "metadata": {},
   "outputs": [],
   "source": [
    "data = data[data.EMPI.isin(prostate_to_merge.EMPI)] # Our first population of interest"
   ]
  },
  {
   "cell_type": "markdown",
   "metadata": {},
   "source": [
    "# Pirads"
   ]
  },
  {
   "cell_type": "code",
   "execution_count": 15,
   "metadata": {},
   "outputs": [
    {
     "data": {
      "text/plain": [
       "(2618, 17)"
      ]
     },
     "execution_count": 15,
     "metadata": {},
     "output_type": "execute_result"
    }
   ],
   "source": [
    "pirads.shape # MRI Prostate"
   ]
  },
  {
   "cell_type": "code",
   "execution_count": 16,
   "metadata": {},
   "outputs": [],
   "source": [
    "# pirads = pirads[~pirads['Report_Text'].str.lower().str.contains('report not available')] # remove missing"
   ]
  },
  {
   "cell_type": "markdown",
   "metadata": {},
   "source": [
    "## Pi-rads extraction"
   ]
  },
  {
   "cell_type": "code",
   "execution_count": 17,
   "metadata": {},
   "outputs": [
    {
     "data": {
      "text/plain": [
       "(2814, 17)"
      ]
     },
     "execution_count": 17,
     "metadata": {},
     "output_type": "execute_result"
    }
   ],
   "source": [
    "pirads.shape"
   ]
  },
  {
   "cell_type": "code",
   "execution_count": 18,
   "metadata": {},
   "outputs": [],
   "source": [
    "check_rp1 = np.unique(data.EMPI)"
   ]
  },
  {
   "cell_type": "code",
   "execution_count": 19,
   "metadata": {},
   "outputs": [],
   "source": [
    "rads_final = pirads[['EMPI','Report_Text','Report_Date_Time','Report_Description','adenopathy','prostate_volume']]"
   ]
  },
  {
   "cell_type": "code",
   "execution_count": 20,
   "metadata": {},
   "outputs": [],
   "source": [
    "rads_final = rads_final[rads_final['Report_Text'].str.contains('impression:')] # All complete report"
   ]
  },
  {
   "cell_type": "code",
   "execution_count": 21,
   "metadata": {},
   "outputs": [
    {
     "data": {
      "text/plain": [
       "(2405, 6)"
      ]
     },
     "execution_count": 21,
     "metadata": {},
     "output_type": "execute_result"
    }
   ],
   "source": [
    "rads_final.shape"
   ]
  },
  {
   "cell_type": "code",
   "execution_count": 22,
   "metadata": {},
   "outputs": [],
   "source": [
    "rads_final = rads_final[rads_final.Report_Text.str.contains('rads')]"
   ]
  },
  {
   "cell_type": "code",
   "execution_count": 23,
   "metadata": {},
   "outputs": [
    {
     "data": {
      "text/plain": [
       "(1698, 6)"
      ]
     },
     "execution_count": 23,
     "metadata": {},
     "output_type": "execute_result"
    }
   ],
   "source": [
    "rads_final.shape"
   ]
  },
  {
   "cell_type": "code",
   "execution_count": 24,
   "metadata": {},
   "outputs": [],
   "source": [
    "rads_final = rads_final[~rads_final.Report_Description.str.contains('guided')]"
   ]
  },
  {
   "cell_type": "code",
   "execution_count": 25,
   "metadata": {},
   "outputs": [
    {
     "data": {
      "text/plain": [
       "(1698, 6)"
      ]
     },
     "execution_count": 25,
     "metadata": {},
     "output_type": "execute_result"
    }
   ],
   "source": [
    "rads_final.shape\n",
    "# This would be our MRI population of interest(Plus valid prostate report)"
   ]
  },
  {
   "cell_type": "code",
   "execution_count": 26,
   "metadata": {},
   "outputs": [],
   "source": [
    "from cmath import inf\n",
    "import re\n",
    "def get_pirads(info):\n",
    "    # info =  'this lesion is pi-rads 4, dsadsa pi-rads 5 , dasdsa, das pirads 10, dsadsa, 9 mm pirads 4 focal lesion in the peripheral zon'\n",
    "    result = re.findall('(pirads|pi-rads|pi-rads score:) (\\d+)', info)\n",
    "    digits = [ int(i[1]) for i in result ]\n",
    "    while(set([1,2,3,4,5]) <= set(digits)):\n",
    "        for i in range(1,6):\n",
    "            digits.remove(i)\n",
    "    digits = [x for x in digits if x <= 5 and x >= 1]\n",
    "    if(len(digits) == 0):\n",
    "        return 1 # Note one can be one or missing\n",
    "    return max(digits)"
   ]
  },
  {
   "cell_type": "code",
   "execution_count": 27,
   "metadata": {},
   "outputs": [],
   "source": [
    "rads_final['P_Score'] = rads_final['Report_Text'].apply(get_pirads)"
   ]
  },
  {
   "cell_type": "code",
   "execution_count": 28,
   "metadata": {},
   "outputs": [],
   "source": [
    "df = pirads.merge(rads_final[['EMPI','P_Score']],on='EMPI',how='left')"
   ]
  },
  {
   "cell_type": "code",
   "execution_count": 29,
   "metadata": {},
   "outputs": [],
   "source": [
    "df['Report_Date_Time'] = pd.to_datetime(df['Report_Date_Time'])"
   ]
  },
  {
   "cell_type": "code",
   "execution_count": 30,
   "metadata": {},
   "outputs": [
    {
     "data": {
      "text/plain": [
       "107674456    9\n",
       "104306528    9\n",
       "112843101    9\n",
       "103435006    9\n",
       "113804893    9\n",
       "            ..\n",
       "109970069    1\n",
       "110578245    1\n",
       "110687237    1\n",
       "110682661    1\n",
       "102128650    1\n",
       "Name: EMPI, Length: 2441, dtype: int64"
      ]
     },
     "execution_count": 30,
     "metadata": {},
     "output_type": "execute_result"
    }
   ],
   "source": [
    "df['EMPI'].value_counts()"
   ]
  },
  {
   "cell_type": "code",
   "execution_count": 31,
   "metadata": {},
   "outputs": [],
   "source": [
    "df = df.sort_values('Report_Date_Time', ascending=False).drop_duplicates('EMPI').sort_index()"
   ]
  },
  {
   "cell_type": "code",
   "execution_count": 32,
   "metadata": {},
   "outputs": [],
   "source": [
    "# if duplicated, keep closet"
   ]
  },
  {
   "cell_type": "code",
   "execution_count": 33,
   "metadata": {},
   "outputs": [],
   "source": [
    "rad_final = df.copy()"
   ]
  },
  {
   "cell_type": "code",
   "execution_count": 34,
   "metadata": {},
   "outputs": [
    {
     "data": {
      "text/plain": [
       "5.0    708\n",
       "4.0    683\n",
       "1.0    120\n",
       "3.0     95\n",
       "2.0      8\n",
       "Name: P_Score, dtype: int64"
      ]
     },
     "execution_count": 34,
     "metadata": {},
     "output_type": "execute_result"
    }
   ],
   "source": [
    "rad_final['P_Score'].dropna().value_counts() # 1614 have a valid pirads\n",
    "# TO DO: Send Madhur another validaiton by grouping 2 and 1 in pirads"
   ]
  },
  {
   "cell_type": "code",
   "execution_count": 35,
   "metadata": {},
   "outputs": [
    {
     "data": {
      "text/plain": [
       "(2441, 18)"
      ]
     },
     "execution_count": 35,
     "metadata": {},
     "output_type": "execute_result"
    }
   ],
   "source": [
    "rad_final.shape"
   ]
  },
  {
   "cell_type": "code",
   "execution_count": 36,
   "metadata": {},
   "outputs": [],
   "source": [
    "rad_final.loc[rad_final['P_Score'] <=2, 'P_score'] = 1"
   ]
  },
  {
   "cell_type": "code",
   "execution_count": 37,
   "metadata": {},
   "outputs": [],
   "source": [
    "rad_to_merge = rad_final[['EMPI','P_Score','adenopathy','prostate_volume']]"
   ]
  },
  {
   "cell_type": "markdown",
   "metadata": {},
   "source": [
    "# Demo"
   ]
  },
  {
   "cell_type": "code",
   "execution_count": 38,
   "metadata": {},
   "outputs": [
    {
     "data": {
      "text/plain": [
       "Index(['Unnamed: 0', 'EMPI', 'Score', 'Wscore', 'Score_Date', 'MRN',\n",
       "       'hospital_rp', 'date_rp_dt', 'date_path_dt', 'path_postRP_days', 'PLND',\n",
       "       'LNM', 'time_lab_result', 'PSA', 'PSAdate_minus_RPdate', 'race_cat',\n",
       "       'pos_cores_fraction', 'gleason_max', 'gleason_avg', 'Age at RP'],\n",
       "      dtype='object')"
      ]
     },
     "execution_count": 38,
     "metadata": {},
     "output_type": "execute_result"
    }
   ],
   "source": [
    "demo.columns"
   ]
  },
  {
   "cell_type": "code",
   "execution_count": 39,
   "metadata": {},
   "outputs": [],
   "source": [
    "demo_final = demo[['EMPI','Wscore','race_cat','Age at RP','hospital_rp']]"
   ]
  },
  {
   "cell_type": "markdown",
   "metadata": {},
   "source": [
    "# PSA"
   ]
  },
  {
   "cell_type": "code",
   "execution_count": 40,
   "metadata": {},
   "outputs": [],
   "source": [
    "base_empi = prostate_to_merge.EMPI\n",
    "data = data[data['EMPI'].isin(base_empi)]"
   ]
  },
  {
   "cell_type": "code",
   "execution_count": 41,
   "metadata": {},
   "outputs": [
    {
     "data": {
      "text/plain": [
       "(4052, 14)"
      ]
     },
     "execution_count": 41,
     "metadata": {},
     "output_type": "execute_result"
    }
   ],
   "source": [
    "data.shape"
   ]
  },
  {
   "cell_type": "code",
   "execution_count": 42,
   "metadata": {},
   "outputs": [],
   "source": [
    "psa_missing_empi = data[data['PSA'].isna()]['EMPI']"
   ]
  },
  {
   "cell_type": "code",
   "execution_count": 43,
   "metadata": {},
   "outputs": [
    {
     "data": {
      "text/plain": [
       "(1936,)"
      ]
     },
     "execution_count": 43,
     "metadata": {},
     "output_type": "execute_result"
    }
   ],
   "source": [
    "psa_missing_empi.shape\n",
    "# If this is within 365 days prior to RP"
   ]
  },
  {
   "cell_type": "markdown",
   "metadata": {},
   "source": [
    "# Radiology PSA"
   ]
  },
  {
   "cell_type": "code",
   "execution_count": 44,
   "metadata": {},
   "outputs": [
    {
     "name": "stdout",
     "output_type": "stream",
     "text": [
      "\n",
      " include ['most recent psa'] (765, 17)\n"
     ]
    }
   ],
   "source": [
    "# Currently everything is done on colab, but will move them here\n",
    "def get_psa(text):\n",
    "  texts = text.split('most recent psa')\n",
    "  s = texts[1]\n",
    "  try:\n",
    "    return re.findall(\"\\d+\\.\\d+\", s)[0]\n",
    "  except:\n",
    "    return np.nan\n",
    "rad_psa = word_filter(pirads, \"Report_Text\", [\"most recent psa\"], 1)"
   ]
  },
  {
   "cell_type": "code",
   "execution_count": 45,
   "metadata": {},
   "outputs": [],
   "source": [
    "rad_psa = rad_psa.sort_values('Report_Date_Time', ascending=False).drop_duplicates('EMPI').sort_index()\n",
    "# We want value and date; TO DO get as much date as possible(For)"
   ]
  },
  {
   "cell_type": "code",
   "execution_count": 46,
   "metadata": {},
   "outputs": [],
   "source": [
    "rad_psa['PSA'] = rad_psa['Report_Text'].apply(get_psa)"
   ]
  },
  {
   "cell_type": "code",
   "execution_count": 47,
   "metadata": {},
   "outputs": [],
   "source": [
    "rad_psa_empi = rad_psa[rad_psa.EMPI.isin(psa_missing_empi)].EMPI"
   ]
  },
  {
   "cell_type": "code",
   "execution_count": 48,
   "metadata": {},
   "outputs": [],
   "source": [
    "rad_psa = rad_psa[rad_psa.EMPI.isin(rad_psa_empi)]"
   ]
  },
  {
   "cell_type": "code",
   "execution_count": 49,
   "metadata": {},
   "outputs": [],
   "source": [
    "rad_psa[rad_psa['EMPI'].isin(psa_missing_empi)][['Report_Text','PSA']].to_excel('radiology_psa.xlsx',index=False)"
   ]
  },
  {
   "cell_type": "code",
   "execution_count": 50,
   "metadata": {},
   "outputs": [
    {
     "data": {
      "text/plain": [
       "(51, 18)"
      ]
     },
     "execution_count": 50,
     "metadata": {},
     "output_type": "execute_result"
    }
   ],
   "source": [
    "rad_psa.shape"
   ]
  },
  {
   "cell_type": "markdown",
   "metadata": {},
   "source": [
    "# Surgical Pathology PSA"
   ]
  },
  {
   "cell_type": "code",
   "execution_count": 51,
   "metadata": {},
   "outputs": [
    {
     "name": "stdout",
     "output_type": "stream",
     "text": [
      "\n",
      " include ['psa.{0,5}\\\\d'] (518, 14)\n"
     ]
    }
   ],
   "source": [
    "sp_psa = word_filter(data, \"Report_Text_noAN\", [\"psa.{0,5}\\d\"], 1)"
   ]
  },
  {
   "cell_type": "code",
   "execution_count": 52,
   "metadata": {},
   "outputs": [],
   "source": [
    "\n",
    "def get_psa_sp(text):\n",
    "  texts = text.split('psa')\n",
    "  try:\n",
    "    s = texts[1]\n",
    "    val = np.array(re.findall(\"\\d+\\.\\d+\", s[:5])).astype(float)\n",
    "    # print(val)\n",
    "    return np.mean(val)\n",
    "  except:\n",
    "    return np.nan"
   ]
  },
  {
   "cell_type": "code",
   "execution_count": 53,
   "metadata": {},
   "outputs": [
    {
     "name": "stderr",
     "output_type": "stream",
     "text": [
      "/Users/guangyawan/opt/anaconda3/lib/python3.9/site-packages/numpy/core/fromnumeric.py:3474: RuntimeWarning: Mean of empty slice.\n",
      "  return _methods._mean(a, axis=axis, dtype=dtype,\n",
      "/var/folders/bm/2x1k2y0s2bv2xxbw4jxfs_hh0000gn/T/ipykernel_77579/427952433.py:1: SettingWithCopyWarning: \n",
      "A value is trying to be set on a copy of a slice from a DataFrame.\n",
      "Try using .loc[row_indexer,col_indexer] = value instead\n",
      "\n",
      "See the caveats in the documentation: https://pandas.pydata.org/pandas-docs/stable/user_guide/indexing.html#returning-a-view-versus-a-copy\n",
      "  sp_psa['PSA'] = sp_psa['Report_Text_noAN'].apply(get_psa_sp)\n"
     ]
    }
   ],
   "source": [
    "sp_psa['PSA'] = sp_psa['Report_Text_noAN'].apply(get_psa_sp)"
   ]
  },
  {
   "cell_type": "code",
   "execution_count": 54,
   "metadata": {},
   "outputs": [],
   "source": [
    "sp_psa = sp_psa[sp_psa['EMPI'].isin(psa_missing_empi)]"
   ]
  },
  {
   "cell_type": "code",
   "execution_count": 55,
   "metadata": {},
   "outputs": [],
   "source": [
    "sp_psa = sp_psa.dropna(subset=['PSA'])"
   ]
  },
  {
   "cell_type": "code",
   "execution_count": 56,
   "metadata": {},
   "outputs": [],
   "source": [
    "sp_psa[['Report_Text','PSA']].sample(100).to_excel('pathlogy_psa.xlsx',index=False)"
   ]
  },
  {
   "cell_type": "code",
   "execution_count": 57,
   "metadata": {},
   "outputs": [],
   "source": [
    "sp_psa_empi = sp_psa.EMPI"
   ]
  },
  {
   "cell_type": "code",
   "execution_count": 58,
   "metadata": {},
   "outputs": [
    {
     "data": {
      "text/plain": [
       "24      100237556\n",
       "81      100026107\n",
       "122     103227763\n",
       "123     100278435\n",
       "125     100348803\n",
       "          ...    \n",
       "5494    102398090\n",
       "5495    102371282\n",
       "5499    102309946\n",
       "5501    101627746\n",
       "5546    114008770\n",
       "Name: EMPI, Length: 221, dtype: int64"
      ]
     },
     "execution_count": 58,
     "metadata": {},
     "output_type": "execute_result"
    }
   ],
   "source": [
    "sp_psa_empi"
   ]
  },
  {
   "cell_type": "code",
   "execution_count": 59,
   "metadata": {},
   "outputs": [],
   "source": [
    "# TO DO\n",
    "# Finish getting PSA from prostate biopsy report"
   ]
  },
  {
   "cell_type": "markdown",
   "metadata": {},
   "source": [
    "# Prostate PSA"
   ]
  },
  {
   "cell_type": "code",
   "execution_count": 60,
   "metadata": {},
   "outputs": [],
   "source": [
    "prostate_psa = prostate[prostate.EMPI.isin(psa_missing_empi)]"
   ]
  },
  {
   "cell_type": "code",
   "execution_count": 61,
   "metadata": {},
   "outputs": [
    {
     "data": {
      "text/plain": [
       "4        False\n",
       "16       False\n",
       "30       False\n",
       "34       False\n",
       "44       False\n",
       "         ...  \n",
       "11572    False\n",
       "12253    False\n",
       "13347    False\n",
       "14978    False\n",
       "18322    False\n",
       "Name: Report_Text, Length: 1936, dtype: bool"
      ]
     },
     "execution_count": 61,
     "metadata": {},
     "output_type": "execute_result"
    }
   ],
   "source": [
    "text = 'Final'\n",
    "\n",
    "item = '\\\\b'+ text + '\\\\b'\n",
    "prostate_psa['Report_Text'].str.match(item)"
   ]
  },
  {
   "cell_type": "code",
   "execution_count": 62,
   "metadata": {},
   "outputs": [
    {
     "data": {
      "text/plain": [
       "'Accession Number: S9831907M Report Status: Final Type: Surgical Pathology Pathology Report S98-31907-M PROSTATE NEEDLE BIOPSY Accessioned On: 12/02/98 NUCCI, MARISA, ROSE, M.D. DIAGNOSIS: by NUCCI,MARISA ROSE,M.D. SPECIMEN LABELED \"RIGHT PROSTATE\", NEEDLE BIOPSY: Benign prostatic tissue. SPECIMEN LABELED \"LEFT PROSTATE\", NEEDLE BIOPSY: PROSTATIC ADENOCARCINOMA, Gleason grade 3+3, present in two (2) of three (3) cores and comprising approximately 40% of overall tissue. CLINICAL DATA: History: BPH; elevated PSA. Operation: Prostate needle biopsy. Clinical Diagnosis: preop: ? Cancer. TISSUE SUBMITTED: #1. Right prostate biopsy. #2. Left prostate biopsy. GROSS DESCRIPTION: by RODIG,SCOTT J.,M.D.,PH.D. The specimen is received in formalin, in two parts, each labeled with the patient\\'s name and unit number. Part #1, labeled \"right prostate,\" consists of three (3) cylindrical fragments of gray/white soft tissue measuring 0.1 cm in diameter each, and 1.5, 1.9, and 2.0 cm in length. Micro 1 : 3 frags, ESS. Part #2, labeled \"left prostate,\" consists of three (3) cylindrical fragments of gray/white soft tissue measuring 0.1 cm in diameter each, and 1.5, 1.7, and 1.4 cm in length. Micro 2 : 3 frags, ESS. Reports to: LOUGHLIN, KEVIN, R. M.D. SPECIMEN TYPE: PROSTATE NEEDLE BIOPSY ADDITIONAL SPECIMEN TYPE: PROSTATE NEEDLE BIOPSY'"
      ]
     },
     "execution_count": 62,
     "metadata": {},
     "output_type": "execute_result"
    }
   ],
   "source": [
    "prostate_psa[prostate_psa['Report_Text'].str.lower().str.contains('psa')]['Report_Text'].iloc[0]"
   ]
  },
  {
   "cell_type": "code",
   "execution_count": 63,
   "metadata": {},
   "outputs": [],
   "source": [
    "# Looks like Surgical Pathology is highly correlated with prostate so no PSA from here"
   ]
  },
  {
   "cell_type": "code",
   "execution_count": 64,
   "metadata": {},
   "outputs": [],
   "source": [
    "# PSA Check"
   ]
  },
  {
   "cell_type": "code",
   "execution_count": 65,
   "metadata": {},
   "outputs": [
    {
     "data": {
      "text/plain": [
       "272"
      ]
     },
     "execution_count": 65,
     "metadata": {},
     "output_type": "execute_result"
    }
   ],
   "source": [
    "len(sp_psa_empi) + len(rad_psa_empi)"
   ]
  },
  {
   "cell_type": "code",
   "execution_count": 66,
   "metadata": {},
   "outputs": [
    {
     "data": {
      "text/plain": [
       "271"
      ]
     },
     "execution_count": 66,
     "metadata": {},
     "output_type": "execute_result"
    }
   ],
   "source": [
    "len(set(list(sp_psa_empi) + list(rad_psa_empi))) # Only 2 duplciats"
   ]
  },
  {
   "cell_type": "code",
   "execution_count": 67,
   "metadata": {},
   "outputs": [],
   "source": [
    "psa_extracted = pd.concat([rad_psa[['EMPI','PSA']],sp_psa[['EMPI','PSA']]])"
   ]
  },
  {
   "cell_type": "code",
   "execution_count": 68,
   "metadata": {},
   "outputs": [
    {
     "data": {
      "text/html": [
       "<div>\n",
       "<style scoped>\n",
       "    .dataframe tbody tr th:only-of-type {\n",
       "        vertical-align: middle;\n",
       "    }\n",
       "\n",
       "    .dataframe tbody tr th {\n",
       "        vertical-align: top;\n",
       "    }\n",
       "\n",
       "    .dataframe thead th {\n",
       "        text-align: right;\n",
       "    }\n",
       "</style>\n",
       "<table border=\"1\" class=\"dataframe\">\n",
       "  <thead>\n",
       "    <tr style=\"text-align: right;\">\n",
       "      <th></th>\n",
       "      <th>EMPI</th>\n",
       "      <th>PSA</th>\n",
       "    </tr>\n",
       "  </thead>\n",
       "  <tbody>\n",
       "    <tr>\n",
       "      <th>24</th>\n",
       "      <td>100237556</td>\n",
       "      <td>5.10</td>\n",
       "    </tr>\n",
       "    <tr>\n",
       "      <th>81</th>\n",
       "      <td>100026107</td>\n",
       "      <td>4.90</td>\n",
       "    </tr>\n",
       "    <tr>\n",
       "      <th>122</th>\n",
       "      <td>103227763</td>\n",
       "      <td>5.99</td>\n",
       "    </tr>\n",
       "    <tr>\n",
       "      <th>123</th>\n",
       "      <td>100278435</td>\n",
       "      <td>3.10</td>\n",
       "    </tr>\n",
       "    <tr>\n",
       "      <th>125</th>\n",
       "      <td>100348803</td>\n",
       "      <td>4.20</td>\n",
       "    </tr>\n",
       "    <tr>\n",
       "      <th>...</th>\n",
       "      <td>...</td>\n",
       "      <td>...</td>\n",
       "    </tr>\n",
       "    <tr>\n",
       "      <th>5494</th>\n",
       "      <td>102398090</td>\n",
       "      <td>4.70</td>\n",
       "    </tr>\n",
       "    <tr>\n",
       "      <th>5495</th>\n",
       "      <td>102371282</td>\n",
       "      <td>5.90</td>\n",
       "    </tr>\n",
       "    <tr>\n",
       "      <th>5499</th>\n",
       "      <td>102309946</td>\n",
       "      <td>13.60</td>\n",
       "    </tr>\n",
       "    <tr>\n",
       "      <th>5501</th>\n",
       "      <td>101627746</td>\n",
       "      <td>6.00</td>\n",
       "    </tr>\n",
       "    <tr>\n",
       "      <th>5546</th>\n",
       "      <td>114008770</td>\n",
       "      <td>5.60</td>\n",
       "    </tr>\n",
       "  </tbody>\n",
       "</table>\n",
       "<p>221 rows × 2 columns</p>\n",
       "</div>"
      ],
      "text/plain": [
       "           EMPI    PSA\n",
       "24    100237556   5.10\n",
       "81    100026107   4.90\n",
       "122   103227763   5.99\n",
       "123   100278435   3.10\n",
       "125   100348803   4.20\n",
       "...         ...    ...\n",
       "5494  102398090   4.70\n",
       "5495  102371282   5.90\n",
       "5499  102309946  13.60\n",
       "5501  101627746   6.00\n",
       "5546  114008770   5.60\n",
       "\n",
       "[221 rows x 2 columns]"
      ]
     },
     "execution_count": 68,
     "metadata": {},
     "output_type": "execute_result"
    }
   ],
   "source": [
    "sp_psa[['EMPI','PSA']]"
   ]
  },
  {
   "cell_type": "code",
   "execution_count": 69,
   "metadata": {},
   "outputs": [],
   "source": [
    "psa_extracted = psa_extracted.drop_duplicates(subset = 'EMPI')"
   ]
  },
  {
   "cell_type": "code",
   "execution_count": 70,
   "metadata": {},
   "outputs": [],
   "source": [
    "data = data.set_index('EMPI')\n"
   ]
  },
  {
   "cell_type": "code",
   "execution_count": 71,
   "metadata": {},
   "outputs": [],
   "source": [
    "psa_extracted = psa_extracted.set_index('EMPI')"
   ]
  },
  {
   "cell_type": "code",
   "execution_count": 72,
   "metadata": {},
   "outputs": [],
   "source": [
    "data.update(psa_extracted)"
   ]
  },
  {
   "cell_type": "code",
   "execution_count": 73,
   "metadata": {},
   "outputs": [],
   "source": [
    "psa_missing_empi = data[data['PSA'].isna()].index"
   ]
  },
  {
   "cell_type": "code",
   "execution_count": 74,
   "metadata": {},
   "outputs": [],
   "source": [
    "pd.DataFrame(psa_missing_empi).to_csv('Missing_EMPI.csv',index=False)"
   ]
  },
  {
   "cell_type": "markdown",
   "metadata": {},
   "source": [
    "\n",
    "# 1st population : \n",
    "\n",
    "1: Radical prostatectomy pathology report\n",
    "2: LNM label from radical prostatectomy report\n",
    "3: Prostate biopsy pathology report with grade group available, prior to radical prostatectomy\n",
    "4: Preoperative PSA\n"
   ]
  },
  {
   "cell_type": "code",
   "execution_count": 88,
   "metadata": {},
   "outputs": [],
   "source": [
    "pop_1 = pd.merge(pd.merge(data,rad_to_merge,on='EMPI',how = 'left'),prostate_to_merge,on='EMPI',how = 'left')"
   ]
  },
  {
   "cell_type": "code",
   "execution_count": 89,
   "metadata": {},
   "outputs": [],
   "source": [
    "pop_1 = pd.merge(pop_1,demo_final,on='EMPI',how = 'left')"
   ]
  },
  {
   "cell_type": "code",
   "execution_count": 90,
   "metadata": {},
   "outputs": [],
   "source": [
    "pop_1 = pop_1.dropna(subset=['PSA'])"
   ]
  },
  {
   "cell_type": "code",
   "execution_count": 91,
   "metadata": {},
   "outputs": [
    {
     "data": {
      "text/plain": [
       "<AxesSubplot:>"
      ]
     },
     "execution_count": 91,
     "metadata": {},
     "output_type": "execute_result"
    },
    {
     "data": {
      "image/png": "[encoded data removed]",
      "text/plain": [
       "<Figure size 432x288 with 1 Axes>"
      ]
     },
     "metadata": {
      "needs_background": "light"
     },
     "output_type": "display_data"
    }
   ],
   "source": [
    "pd.to_datetime(pirads[pirads.EMPI.isin(pop_1.EMPI)]['Report_Date_Time']).dt.year.hist()"
   ]
  },
  {
   "cell_type": "code",
   "execution_count": 92,
   "metadata": {},
   "outputs": [
    {
     "data": {
      "text/plain": [
       "2       100095860\n",
       "6       100237556\n",
       "12      100006532\n",
       "21      100006636\n",
       "23      100026107\n",
       "          ...    \n",
       "4039    102653802\n",
       "4045    111139002\n",
       "4049    109908578\n",
       "4050    110328050\n",
       "4051    110682394\n",
       "Name: EMPI, Length: 1836, dtype: int64"
      ]
     },
     "execution_count": 92,
     "metadata": {},
     "output_type": "execute_result"
    }
   ],
   "source": [
    "pop_1[pop_1.P_Score.isna()].EMPI"
   ]
  },
  {
   "cell_type": "code",
   "execution_count": 93,
   "metadata": {},
   "outputs": [],
   "source": [
    "pop_1 = pop_1[['LNM','PSA','P_Score','overall_grade_merged', 'Wscore', 'race_cat',\n",
    "       'Age at RP','hospital_rp_x','adenopathy','prostate_volume']] # Current features add more from Keith later\n",
    "# Tyr Oversample from LNM 1"
   ]
  },
  {
   "cell_type": "code",
   "execution_count": 94,
   "metadata": {},
   "outputs": [
    {
     "name": "stdout",
     "output_type": "stream",
     "text": [
      "(2387, 10)\n",
      "Number of Missing data for column LNM :  0\n",
      "0    2333\n",
      "1      54\n",
      "Name: LNM, dtype: int64\n",
      "Number of Missing data for column PSA :  0\n",
      "5.50     31\n",
      "4.70     29\n",
      "5.10     28\n",
      "4.80     26\n",
      "4.60     26\n",
      "         ..\n",
      "31.79     1\n",
      "25.28     1\n",
      "16.89     1\n",
      "20.30     1\n",
      "7.38      1\n",
      "Name: PSA, Length: 906, dtype: int64\n",
      "Number of Missing data for column P_Score :  1836\n",
      "4.0    243\n",
      "5.0    229\n",
      "1.0     44\n",
      "3.0     32\n",
      "2.0      3\n",
      "Name: P_Score, dtype: int64\n",
      "Number of Missing data for column overall_grade_merged :  0\n",
      "1.0    877\n",
      "2.0    777\n",
      "3.0    411\n",
      "4.0    179\n",
      "5.0    143\n",
      "Name: overall_grade_merged, dtype: int64\n",
      "Number of Missing data for column Wscore :  28\n",
      "2.0     1712\n",
      "0.0      550\n",
      "3.0       37\n",
      "1.0       26\n",
      "8.0       19\n",
      "4.0       10\n",
      "9.0        2\n",
      "10.0       1\n",
      "5.0        1\n",
      "6.0        1\n",
      "Name: Wscore, dtype: int64\n",
      "Number of Missing data for column race_cat :  2\n",
      "White            2074\n",
      "Black             138\n",
      "Unknown/other      94\n",
      "Hispanic           44\n",
      "Asian              35\n",
      "Name: race_cat, dtype: int64\n",
      "Number of Missing data for column Age at RP :  29\n",
      "62.0    136\n",
      "64.0    131\n",
      "60.0    128\n",
      "63.0    126\n",
      "56.0    122\n",
      "58.0    122\n",
      "66.0    115\n",
      "65.0    114\n",
      "59.0    113\n",
      "57.0    111\n",
      "68.0    111\n",
      "61.0    105\n",
      "67.0    100\n",
      "55.0     94\n",
      "53.0     80\n",
      "54.0     75\n",
      "69.0     75\n",
      "70.0     68\n",
      "52.0     59\n",
      "50.0     55\n",
      "51.0     48\n",
      "71.0     45\n",
      "72.0     36\n",
      "73.0     31\n",
      "49.0     30\n",
      "47.0     26\n",
      "48.0     22\n",
      "74.0     17\n",
      "46.0     14\n",
      "45.0     10\n",
      "42.0      7\n",
      "76.0      7\n",
      "44.0      6\n",
      "43.0      5\n",
      "75.0      5\n",
      "40.0      2\n",
      "41.0      2\n",
      "77.0      2\n",
      "78.0      1\n",
      "35.0      1\n",
      "84.0      1\n",
      "Name: Age at RP, dtype: int64\n",
      "Number of Missing data for column hospital_rp_x :  0\n",
      "MGH    1299\n",
      "BWH     919\n",
      "FH      130\n",
      "NWH      39\n",
      "Name: hospital_rp_x, dtype: int64\n",
      "Number of Missing data for column adenopathy :  1590\n",
      "0.0    767\n",
      "1.0     30\n",
      "Name: adenopathy, dtype: int64\n",
      "Number of Missing data for column prostate_volume :  1679\n",
      "33.0000    14\n",
      "35.0000    11\n",
      "26.0000    10\n",
      "32.0000     9\n",
      "29.0000     9\n",
      "           ..\n",
      "15.7248     1\n",
      "89.5000     1\n",
      "24.6402     1\n",
      "36.5040     1\n",
      "23.7120     1\n",
      "Name: prostate_volume, Length: 501, dtype: int64\n"
     ]
    }
   ],
   "source": [
    "df_result = pop_1\n",
    "print(df_result.shape)\n",
    "for col in df_result.columns[:]:\n",
    "    print(f'Number of Missing data for column {col} : ', df_result [col].isna().sum())\n",
    "    print(df_result[col].value_counts())"
   ]
  },
  {
   "cell_type": "code",
   "execution_count": 95,
   "metadata": {},
   "outputs": [
    {
     "data": {
      "text/html": [
       "<div>\n",
       "<style scoped>\n",
       "    .dataframe tbody tr th:only-of-type {\n",
       "        vertical-align: middle;\n",
       "    }\n",
       "\n",
       "    .dataframe tbody tr th {\n",
       "        vertical-align: top;\n",
       "    }\n",
       "\n",
       "    .dataframe thead th {\n",
       "        text-align: right;\n",
       "    }\n",
       "</style>\n",
       "<table border=\"1\" class=\"dataframe\">\n",
       "  <thead>\n",
       "    <tr style=\"text-align: right;\">\n",
       "      <th></th>\n",
       "      <th>LNM</th>\n",
       "      <th>PSA</th>\n",
       "      <th>P_Score</th>\n",
       "      <th>overall_grade_merged</th>\n",
       "      <th>Wscore</th>\n",
       "      <th>race_cat</th>\n",
       "      <th>Age at RP</th>\n",
       "      <th>hospital_rp_x</th>\n",
       "      <th>adenopathy</th>\n",
       "      <th>prostate_volume</th>\n",
       "    </tr>\n",
       "  </thead>\n",
       "  <tbody>\n",
       "    <tr>\n",
       "      <th>2</th>\n",
       "      <td>0</td>\n",
       "      <td>1.1</td>\n",
       "      <td>NaN</td>\n",
       "      <td>1.0</td>\n",
       "      <td>NaN</td>\n",
       "      <td>NaN</td>\n",
       "      <td>NaN</td>\n",
       "      <td>MGH</td>\n",
       "      <td>NaN</td>\n",
       "      <td>NaN</td>\n",
       "    </tr>\n",
       "    <tr>\n",
       "      <th>5</th>\n",
       "      <td>0</td>\n",
       "      <td>0.8</td>\n",
       "      <td>4.0</td>\n",
       "      <td>3.0</td>\n",
       "      <td>0.0</td>\n",
       "      <td>White</td>\n",
       "      <td>56.0</td>\n",
       "      <td>MGH</td>\n",
       "      <td>0.0</td>\n",
       "      <td>85.000</td>\n",
       "    </tr>\n",
       "    <tr>\n",
       "      <th>6</th>\n",
       "      <td>0</td>\n",
       "      <td>5.1</td>\n",
       "      <td>NaN</td>\n",
       "      <td>5.0</td>\n",
       "      <td>0.0</td>\n",
       "      <td>White</td>\n",
       "      <td>40.0</td>\n",
       "      <td>BWH</td>\n",
       "      <td>NaN</td>\n",
       "      <td>16.380</td>\n",
       "    </tr>\n",
       "    <tr>\n",
       "      <th>7</th>\n",
       "      <td>0</td>\n",
       "      <td>4.1</td>\n",
       "      <td>5.0</td>\n",
       "      <td>3.0</td>\n",
       "      <td>2.0</td>\n",
       "      <td>White</td>\n",
       "      <td>66.0</td>\n",
       "      <td>MGH</td>\n",
       "      <td>0.0</td>\n",
       "      <td>24.000</td>\n",
       "    </tr>\n",
       "    <tr>\n",
       "      <th>12</th>\n",
       "      <td>0</td>\n",
       "      <td>3.3</td>\n",
       "      <td>NaN</td>\n",
       "      <td>2.0</td>\n",
       "      <td>0.0</td>\n",
       "      <td>Unknown/other</td>\n",
       "      <td>56.0</td>\n",
       "      <td>BWH</td>\n",
       "      <td>NaN</td>\n",
       "      <td>NaN</td>\n",
       "    </tr>\n",
       "    <tr>\n",
       "      <th>...</th>\n",
       "      <td>...</td>\n",
       "      <td>...</td>\n",
       "      <td>...</td>\n",
       "      <td>...</td>\n",
       "      <td>...</td>\n",
       "      <td>...</td>\n",
       "      <td>...</td>\n",
       "      <td>...</td>\n",
       "      <td>...</td>\n",
       "      <td>...</td>\n",
       "    </tr>\n",
       "    <tr>\n",
       "      <th>4047</th>\n",
       "      <td>0</td>\n",
       "      <td>7.6</td>\n",
       "      <td>3.0</td>\n",
       "      <td>4.0</td>\n",
       "      <td>2.0</td>\n",
       "      <td>Asian</td>\n",
       "      <td>64.0</td>\n",
       "      <td>MGH</td>\n",
       "      <td>0.0</td>\n",
       "      <td>32.000</td>\n",
       "    </tr>\n",
       "    <tr>\n",
       "      <th>4048</th>\n",
       "      <td>0</td>\n",
       "      <td>7.38</td>\n",
       "      <td>5.0</td>\n",
       "      <td>3.0</td>\n",
       "      <td>2.0</td>\n",
       "      <td>White</td>\n",
       "      <td>67.0</td>\n",
       "      <td>MGH</td>\n",
       "      <td>0.0</td>\n",
       "      <td>26.000</td>\n",
       "    </tr>\n",
       "    <tr>\n",
       "      <th>4049</th>\n",
       "      <td>0</td>\n",
       "      <td>7.65</td>\n",
       "      <td>NaN</td>\n",
       "      <td>3.0</td>\n",
       "      <td>0.0</td>\n",
       "      <td>White</td>\n",
       "      <td>68.0</td>\n",
       "      <td>FH</td>\n",
       "      <td>0.0</td>\n",
       "      <td>23.712</td>\n",
       "    </tr>\n",
       "    <tr>\n",
       "      <th>4050</th>\n",
       "      <td>0</td>\n",
       "      <td>6.5</td>\n",
       "      <td>NaN</td>\n",
       "      <td>2.0</td>\n",
       "      <td>2.0</td>\n",
       "      <td>White</td>\n",
       "      <td>57.0</td>\n",
       "      <td>MGH</td>\n",
       "      <td>NaN</td>\n",
       "      <td>NaN</td>\n",
       "    </tr>\n",
       "    <tr>\n",
       "      <th>4051</th>\n",
       "      <td>0</td>\n",
       "      <td>13.64</td>\n",
       "      <td>NaN</td>\n",
       "      <td>3.0</td>\n",
       "      <td>0.0</td>\n",
       "      <td>Unknown/other</td>\n",
       "      <td>66.0</td>\n",
       "      <td>FH</td>\n",
       "      <td>NaN</td>\n",
       "      <td>NaN</td>\n",
       "    </tr>\n",
       "  </tbody>\n",
       "</table>\n",
       "<p>2387 rows × 10 columns</p>\n",
       "</div>"
      ],
      "text/plain": [
       "      LNM    PSA  P_Score  overall_grade_merged  Wscore       race_cat  \\\n",
       "2       0    1.1      NaN                   1.0     NaN            NaN   \n",
       "5       0    0.8      4.0                   3.0     0.0          White   \n",
       "6       0    5.1      NaN                   5.0     0.0          White   \n",
       "7       0    4.1      5.0                   3.0     2.0          White   \n",
       "12      0    3.3      NaN                   2.0     0.0  Unknown/other   \n",
       "...   ...    ...      ...                   ...     ...            ...   \n",
       "4047    0    7.6      3.0                   4.0     2.0          Asian   \n",
       "4048    0   7.38      5.0                   3.0     2.0          White   \n",
       "4049    0   7.65      NaN                   3.0     0.0          White   \n",
       "4050    0    6.5      NaN                   2.0     2.0          White   \n",
       "4051    0  13.64      NaN                   3.0     0.0  Unknown/other   \n",
       "\n",
       "      Age at RP hospital_rp_x  adenopathy  prostate_volume  \n",
       "2           NaN           MGH         NaN              NaN  \n",
       "5          56.0           MGH         0.0           85.000  \n",
       "6          40.0           BWH         NaN           16.380  \n",
       "7          66.0           MGH         0.0           24.000  \n",
       "12         56.0           BWH         NaN              NaN  \n",
       "...         ...           ...         ...              ...  \n",
       "4047       64.0           MGH         0.0           32.000  \n",
       "4048       67.0           MGH         0.0           26.000  \n",
       "4049       68.0            FH         0.0           23.712  \n",
       "4050       57.0           MGH         NaN              NaN  \n",
       "4051       66.0            FH         NaN              NaN  \n",
       "\n",
       "[2387 rows x 10 columns]"
      ]
     },
     "execution_count": 95,
     "metadata": {},
     "output_type": "execute_result"
    }
   ],
   "source": [
    "df_result"
   ]
  },
  {
   "cell_type": "code",
   "execution_count": 96,
   "metadata": {},
   "outputs": [],
   "source": [
    "df_result.to_csv('final1.csv',index=False)"
   ]
  },
  {
   "cell_type": "markdown",
   "metadata": {},
   "source": [
    "# 2nd population: just drop missing PSA and Keep MRI features"
   ]
  },
  {
   "cell_type": "code",
   "execution_count": 248,
   "metadata": {},
   "outputs": [],
   "source": []
  },
  {
   "cell_type": "code",
   "execution_count": null,
   "metadata": {},
   "outputs": [],
   "source": [
    "# TO DO:\n",
    "# Fill missing PSA after Madhur verified extraction\n",
    "# Add other features such as prostate Volume"
   ]
  }
 ],
 "metadata": {
  "kernelspec": {
   "display_name": "Python 3.9.7 ('base')",
   "language": "python",
   "name": "python3"
  },
  "language_info": {
   "codemirror_mode": {
    "name": "ipython",
    "version": 3
   },
   "file_extension": ".py",
   "mimetype": "text/x-python",
   "name": "python",
   "nbconvert_exporter": "python",
   "pygments_lexer": "ipython3",
   "version": "3.9.7"
  },
  "orig_nbformat": 4,
  "vscode": {
   "interpreter": {
    "hash": "ef24d47633c1e50a0ab5a4a4426166385cbae72ca2faf67d266461f91057cbfa"
   }
  }
 },
 "nbformat": 4,
 "nbformat_minor": 2
}
