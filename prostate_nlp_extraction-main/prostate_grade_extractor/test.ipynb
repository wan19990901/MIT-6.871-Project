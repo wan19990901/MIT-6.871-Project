{
 "cells": [
  {
   "cell_type": "code",
   "execution_count": 1,
   "metadata": {},
   "outputs": [],
   "source": [
    "import pandas as pd\n",
    "import numpy as np\n",
    "from biopsy_grade_extractor import BiopsyGradeExtractor # load exttractor"
   ]
  },
  {
   "cell_type": "markdown",
   "metadata": {},
   "source": [
    "### load the dataset which contrains biopsy reports"
   ]
  },
  {
   "cell_type": "code",
   "execution_count": 2,
   "metadata": {},
   "outputs": [],
   "source": [
    "df_pathology = pd.read_csv('../data/labeled_PSA.csv')\t"
   ]
  },
  {
   "cell_type": "code",
   "execution_count": 3,
   "metadata": {},
   "outputs": [],
   "source": [
    "def get_report_number(report):\n",
    "    return report.split('accession number: ')[1].split(' report')[0]\n",
    "\n",
    "df_pathology['Report_Number'] = df_pathology['Report_Text'].apply(get_report_number)"
   ]
  },
  {
   "cell_type": "code",
   "execution_count": 4,
   "metadata": {},
   "outputs": [],
   "source": [
    "# df_pathology_test = pd.read_csv('../data/data.csv')"
   ]
  },
  {
   "cell_type": "code",
   "execution_count": 5,
   "metadata": {},
   "outputs": [],
   "source": [
    "# df_pathology_test = df_pathology_test[df_pathology_test.Report_Number.isin(['S17-61498','MS08G21552'])]"
   ]
  },
  {
   "cell_type": "markdown",
   "metadata": {},
   "source": [
    "### Instantiate BiopsyGradeExtractor and fit the data"
   ]
  },
  {
   "cell_type": "code",
   "execution_count": 6,
   "metadata": {
    "scrolled": true
   },
   "outputs": [],
   "source": [
    "# extractor = BiopsyGradeExtractor()\n",
    "# df_result_test = extractor.fit(df_pathology_test, display_summary = True, return_summary_df = True)"
   ]
  },
  {
   "cell_type": "code",
   "execution_count": 49,
   "metadata": {},
   "outputs": [
    {
     "name": "stderr",
     "output_type": "stream",
     "text": [
      "extracing info...: 100%|██████████| 10118/10118 [00:04<00:00, 2524.56it/s]"
     ]
    },
    {
     "name": "stdout",
     "output_type": "stream",
     "text": [
      "\n",
      "\n",
      "Extraction complete.\n",
      "\n",
      "\n",
      "Displaying summary...\n",
      "Counts per each primary grade: \n",
      "3.0    7869\n",
      "4.0    3176\n",
      "5.0     213\n",
      "2.0     130\n",
      "3.5      26\n",
      "4.5       6\n",
      "2.5       4\n",
      "1.0       3\n",
      "0.0       1\n",
      "dtype: int64\n",
      "\n",
      "\n",
      "Counts per each secondary grade: \n",
      "4.0    5207\n",
      "3.0    5034\n",
      "5.0     989\n",
      "2.0     155\n",
      "3.5      26\n",
      "4.5       6\n",
      "2.5       4\n",
      "1.0       4\n",
      "6.0       2\n",
      "7.0       1\n",
      "dtype: int64\n",
      "\n",
      "\n",
      "Number of reports per each overall grade : \n",
      "2    3913\n",
      "1    2682\n",
      "3    1572\n",
      "5     710\n",
      "4     520\n",
      "dtype: int64\n",
      "total =  9397\n",
      "Number of unique biopsy reports :  10118\n",
      "Number of unique patients :  10118\n",
      "Number of unique patients with overall_grade_merged :  9397\n"
     ]
    },
    {
     "name": "stderr",
     "output_type": "stream",
     "text": [
      "\n",
      "/Users/guangyawan/opt/anaconda3/lib/python3.9/site-packages/numpy/core/fromnumeric.py:3199: VisibleDeprecationWarning: Creating an ndarray from ragged nested sequences (which is a list-or-tuple of lists-or-tuples-or ndarrays with different lengths or shapes) is deprecated. If you meant to do this, you must specify 'dtype=object' when creating the ndarray.\n",
      "  return asarray(a).ndim\n",
      "/Users/guangyawan/opt/anaconda3/lib/python3.9/site-packages/pandas/core/internals/blocks.py:937: VisibleDeprecationWarning: Creating an ndarray from ragged nested sequences (which is a list-or-tuple of lists-or-tuples-or ndarrays with different lengths or shapes) is deprecated. If you meant to do this, you must specify 'dtype=object' when creating the ndarray.\n",
      "  arr_value = np.asarray(value)\n"
     ]
    }
   ],
   "source": [
    "extractor = BiopsyGradeExtractor()\n",
    "df_result= extractor.fit(df_pathology, display_summary = True, return_summary_df = True)"
   ]
  },
  {
   "cell_type": "code",
   "execution_count": 16,
   "metadata": {},
   "outputs": [],
   "source": [
    "df_result['Report_Text'][df_result['overall_grade_merged'].isna()].sample(100).to_excel('../data/missing_report.xlsx')"
   ]
  },
  {
   "cell_type": "code",
   "execution_count": 10,
   "metadata": {},
   "outputs": [
    {
     "data": {
      "text/plain": [
       "2    2781\n",
       "1    1335\n",
       "3    1194\n",
       "5     434\n",
       "4     416\n",
       "Name: overall_grade_merged, dtype: int64"
      ]
     },
     "execution_count": 10,
     "metadata": {},
     "output_type": "execute_result"
    }
   ],
   "source": [
    "df_result[['Report_Text','overall_grade_merged']]['overall_grade_merged'].value_counts()"
   ]
  },
  {
   "cell_type": "code",
   "execution_count": 21,
   "metadata": {},
   "outputs": [],
   "source": [
    "df_result.overall_grade_merged.iloc[0]"
   ]
  },
  {
   "cell_type": "code",
   "execution_count": 10,
   "metadata": {},
   "outputs": [
    {
     "ename": "NameError",
     "evalue": "name 'df_pathology' is not defined",
     "output_type": "error",
     "traceback": [
      "\u001b[0;31m---------------------------------------------------------------------------\u001b[0m",
      "\u001b[0;31mNameError\u001b[0m                                 Traceback (most recent call last)",
      "\u001b[0;32m/var/folders/bm/2x1k2y0s2bv2xxbw4jxfs_hh0000gn/T/ipykernel_21036/3526962989.py\u001b[0m in \u001b[0;36m<module>\u001b[0;34m\u001b[0m\n\u001b[0;32m----> 1\u001b[0;31m \u001b[0mdf_pathology\u001b[0m\u001b[0;34m.\u001b[0m\u001b[0miloc\u001b[0m\u001b[0;34m[\u001b[0m\u001b[0;36m1\u001b[0m\u001b[0;34m]\u001b[0m\u001b[0;34m[\u001b[0m\u001b[0;34m'Report_Text'\u001b[0m\u001b[0;34m]\u001b[0m\u001b[0;34m\u001b[0m\u001b[0;34m\u001b[0m\u001b[0m\n\u001b[0m",
      "\u001b[0;31mNameError\u001b[0m: name 'df_pathology' is not defined"
     ]
    }
   ],
   "source": [
    "df_pathology.iloc[1]['Report_Text']"
   ]
  },
  {
   "cell_type": "markdown",
   "metadata": {},
   "source": [
    "### Validate the performance of the algorithm"
   ]
  },
  {
   "cell_type": "code",
   "execution_count": 5,
   "metadata": {},
   "outputs": [
    {
     "name": "stdout",
     "output_type": "stream",
     "text": [
      "\n",
      "\n",
      "Extracted info : \n",
      "Report_Number                                                  SPNPSGOSBB\n",
      "Report_Text             LEFT (A3): Benign prostate tissue. LEFT MID (B...\n",
      "primary_grade                                                         [3]\n",
      "secondary_grade                                                       [3]\n",
      "overall_grade_merged                                                  1.0\n",
      "Name: 17, dtype: object\n",
      "\n",
      "\n",
      "Pathology report : \n",
      "LEFT (A3): Benign prostate tissue. LEFT MID (B3): Benign prostate tissue. LEFT APEX (C3): Benign prostate tissue. RIGHT BASE (D3): Benign prostate tissue. RIGHT MID (E3): PROSTATIC ADENOCARCINOMA, Gleason grade 3+3, involving 1 of 1 core, approximately 15% of tissue. RIGHT APEX (F3): Benign prostate tissue.\n",
      "\n",
      "\n",
      "\n",
      "\n",
      "Extracted info : \n",
      "Report_Number                                                  SPNPSGOSBB\n",
      "Report_Text             LEFT (A3): Benign prostate tissue. LEFT MID (B...\n",
      "primary_grade                                                         [3]\n",
      "secondary_grade                                                       [3]\n",
      "overall_grade_merged                                                  1.0\n",
      "Name: 17, dtype: object\n",
      "\n",
      "\n",
      "Pathology report : \n",
      "LEFT (A3): Benign prostate tissue. LEFT MID (B3): Benign prostate tissue. LEFT APEX (C3): Benign prostate tissue. RIGHT BASE (D3): Benign prostate tissue. RIGHT MID (E3): PROSTATIC ADENOCARCINOMA, Gleason grade 3+3, involving 1 of 1 core, approximately 15% of tissue. RIGHT APEX (F3): Benign prostate tissue.\n",
      "\n",
      "\n"
     ]
    }
   ],
   "source": [
    "# if report_number_oi is not specified, then it randomly picks report to evaluate\n",
    "for i in range(2):\n",
    "    extractor.validate_results()"
   ]
  },
  {
   "cell_type": "code",
   "execution_count": null,
   "metadata": {},
   "outputs": [],
   "source": [
    "# Primary Grade/Secondary Grade/overall grade merged"
   ]
  },
  {
   "cell_type": "code",
   "execution_count": 37,
   "metadata": {},
   "outputs": [
    {
     "data": {
      "text/plain": [
       "Index(['Unnamed: 0', 'EMPI', 'MRN', 'hospital_rp', 'date_rp_dt',\n",
       "       'date_path_dt', 'path_postRP_days', 'PLND', 'LNM', 'time_lab_result',\n",
       "       'PSA', 'PSAdate_minus_RPdate', 'Report_Text', 'Report_Text_noAN',\n",
       "       'Report_Number', 'primary_grade', 'secondary_grade',\n",
       "       'overall_grade_merged'],\n",
       "      dtype='object')"
      ]
     },
     "execution_count": 37,
     "metadata": {},
     "output_type": "execute_result"
    }
   ],
   "source": [
    "df_result.columns"
   ]
  },
  {
   "cell_type": "code",
   "execution_count": 50,
   "metadata": {},
   "outputs": [],
   "source": [
    "df_result = df_result.drop(columns = df_result.columns[[0,2,3,4,5,6,9,11,12,13,14]])"
   ]
  },
  {
   "cell_type": "code",
   "execution_count": 51,
   "metadata": {},
   "outputs": [],
   "source": [
    "df_MRI = pd.read_csv('../data/MRI.csv')"
   ]
  },
  {
   "cell_type": "code",
   "execution_count": 52,
   "metadata": {},
   "outputs": [],
   "source": [
    "df_MRI = df_MRI.drop(columns= ['Report_Number','Report_Text'],axis = 1)"
   ]
  },
  {
   "cell_type": "code",
   "execution_count": 53,
   "metadata": {},
   "outputs": [],
   "source": [
    "df_result = df_result.merge(df_MRI,on='EMPI',how='left')"
   ]
  },
  {
   "cell_type": "code",
   "execution_count": 54,
   "metadata": {},
   "outputs": [],
   "source": [
    "df_result = df_result.drop(columns = ['primary_grade','secondary_grade','PLND'],axis = 1)"
   ]
  },
  {
   "cell_type": "code",
   "execution_count": 64,
   "metadata": {},
   "outputs": [
    {
     "name": "stdout",
     "output_type": "stream",
     "text": [
      "(10766, 7)\n",
      "Number of Missing data for column LNM :  0\n",
      "0    10497\n",
      "1      269\n",
      "Name: LNM, dtype: int64\n",
      "Number of Missing data for column PSA :  5429\n",
      "(4.34, 6.07]     1339\n",
      "(9.29, 177.5]    1334\n",
      "(6.07, 9.29]     1329\n",
      "(0.009, 4.34]    1309\n",
      "Name: binned, dtype: int64\n",
      "Number of Missing data for column overall_grade_merged :  877\n",
      "2    4127\n",
      "1    2743\n",
      "3    1693\n",
      "5     780\n",
      "4     546\n",
      "Name: overall_grade_merged, dtype: int64\n",
      "Number of Missing data for column lymphadenopathy :  7335\n",
      "False    2084\n",
      "True     1347\n",
      "Name: lymphadenopathy, dtype: int64\n",
      "Number of Missing data for column pirads :  10063\n",
      "5.0    336\n",
      "4.0    312\n",
      "3.0     51\n",
      "2.0      3\n",
      "1.0      1\n",
      "Name: pirads, dtype: int64\n",
      "Number of Missing data for column binned :  5455\n",
      "(4.34, 6.07]     1339\n",
      "(9.29, 177.5]    1334\n",
      "(6.07, 9.29]     1329\n",
      "(0.009, 4.34]    1309\n",
      "Name: binned, dtype: int64\n"
     ]
    }
   ],
   "source": [
    "print(df_result.shape)\n",
    "for col in df_result.columns[1:]:\n",
    "    if(col == 'binned'):\n",
    "        continue\n",
    "    print(f'Number of Missing data for column {col} : ', df_result [col].isna().sum())\n",
    "    if(df_result[col].value_counts().shape[0] > 10):\n",
    "        bins = df_result[col].quantile([0,.25, .5,.75,1])\n",
    "        df_result['binned'] = pd.cut(df_result[col], bins)\n",
    "        print (df_result['binned'].value_counts())\n",
    "        continue\n",
    "    print(df_result[col].value_counts())"
   ]
  },
  {
   "cell_type": "code",
   "execution_count": 63,
   "metadata": {},
   "outputs": [
    {
     "data": {
      "text/plain": [
       "(4.34, 6.07]     1339\n",
       "(9.29, 177.5]    1334\n",
       "(6.07, 9.29]     1329\n",
       "Name: binned, dtype: int64"
      ]
     },
     "execution_count": 63,
     "metadata": {},
     "output_type": "execute_result"
    }
   ],
   "source": [
    "df_result['binned'].value_counts()"
   ]
  },
  {
   "cell_type": "code",
   "execution_count": 56,
   "metadata": {},
   "outputs": [
    {
     "data": {
      "text/plain": [
       "Index(['EMPI', 'LNM', 'PSA', 'overall_grade_merged', 'lymphadenopathy',\n",
       "       'pirads'],\n",
       "      dtype='object')"
      ]
     },
     "execution_count": 56,
     "metadata": {},
     "output_type": "execute_result"
    }
   ],
   "source": [
    "df_result.columns"
   ]
  },
  {
   "cell_type": "code",
   "execution_count": null,
   "metadata": {},
   "outputs": [],
   "source": []
  }
 ],
 "metadata": {
  "interpreter": {
   "hash": "ef24d47633c1e50a0ab5a4a4426166385cbae72ca2faf67d266461f91057cbfa"
  },
  "kernelspec": {
   "display_name": "Python 3.9.7 ('base')",
   "language": "python",
   "name": "python3"
  },
  "language_info": {
   "codemirror_mode": {
    "name": "ipython",
    "version": 3
   },
   "file_extension": ".py",
   "mimetype": "text/x-python",
   "name": "python",
   "nbconvert_exporter": "python",
   "pygments_lexer": "ipython3",
   "version": "3.9.7"
  }
 },
 "nbformat": 4,
 "nbformat_minor": 2
}
