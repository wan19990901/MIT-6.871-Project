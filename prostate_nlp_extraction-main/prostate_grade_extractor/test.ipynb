{
 "cells": [
  {
   "cell_type": "code",
   "execution_count": 1,
   "metadata": {},
   "outputs": [],
   "source": [
    "import pandas as pd\n",
    "import numpy as np\n",
    "from biopsy_grade_extractor import BiopsyGradeExtractor # load exttractor"
   ]
  },
  {
   "cell_type": "markdown",
   "metadata": {},
   "source": [
    "### load the dataset which contrains biopsy reports"
   ]
  },
  {
   "cell_type": "code",
   "execution_count": 2,
   "metadata": {},
   "outputs": [],
   "source": [
    "df_pathology = pd.read_csv('../data/labeled_PSA.csv')\t"
   ]
  },
  {
   "cell_type": "code",
   "execution_count": 3,
   "metadata": {},
   "outputs": [],
   "source": [
    "def get_report_number(report):\n",
    "    return report.split('accession number: ')[1].split(' report')[0]\n",
    "\n",
    "df_pathology['Report_Number'] = df_pathology['Report_Text'].apply(get_report_number)"
   ]
  },
  {
   "cell_type": "code",
   "execution_count": 4,
   "metadata": {},
   "outputs": [],
   "source": [
    "df_pathology_test = pd.read_csv('../data/data.csv')"
   ]
  },
  {
   "cell_type": "code",
   "execution_count": 6,
   "metadata": {},
   "outputs": [],
   "source": [
    "df_pathology_test = df_pathology_test[df_pathology_test.EMPI.isin(df_pathology.EMPI)]"
   ]
  },
  {
   "cell_type": "markdown",
   "metadata": {},
   "source": [
    "### Instantiate BiopsyGradeExtractor and fit the data"
   ]
  },
  {
   "cell_type": "code",
   "execution_count": 7,
   "metadata": {
    "scrolled": true
   },
   "outputs": [],
   "source": [
    "# extractor = BiopsyGradeExtractor()\n",
    "# df_result_test = extractor.fit(df_pathology_test, display_summary = True, return_summary_df = True)"
   ]
  },
  {
   "cell_type": "code",
   "execution_count": 8,
   "metadata": {},
   "outputs": [
    {
     "data": {
      "text/plain": [
       "(4113, 28)"
      ]
     },
     "execution_count": 8,
     "metadata": {},
     "output_type": "execute_result"
    }
   ],
   "source": [
    "df_pathology_test.shape"
   ]
  },
  {
   "cell_type": "code",
   "execution_count": 9,
   "metadata": {},
   "outputs": [
    {
     "name": "stderr",
     "output_type": "stream",
     "text": [
      "extracing info...: 100%|██████████| 4113/4113 [00:01<00:00, 3817.87it/s]"
     ]
    },
    {
     "name": "stdout",
     "output_type": "stream",
     "text": [
      "\n",
      "\n",
      "Extraction complete.\n",
      "\n",
      "\n",
      "Displaying summary...\n",
      "Counts per each primary grade: \n",
      "3.0    7957\n",
      "4.0    2406\n",
      "5.0     113\n",
      "2.0      20\n",
      "3.5      18\n",
      "2.5       1\n",
      "dtype: int64\n",
      "\n",
      "\n",
      "Counts per each secondary grade: \n",
      "3.0    6348\n",
      "4.0    3586\n",
      "5.0     521\n",
      "2.0      41\n",
      "3.5      18\n",
      "2.5       1\n",
      "dtype: int64\n",
      "\n",
      "\n",
      "Number of reports per each overall grade : \n",
      "1.0    1563\n",
      "2.0    1286\n",
      "3.0     694\n",
      "4.0     330\n",
      "5.0     240\n",
      "dtype: int64\n",
      "total =  4113\n",
      "Number of unique biopsy reports :  4113\n",
      "Number of unique patients :  4113\n",
      "Number of unique patients with overall_grade_merged :  4113\n"
     ]
    },
    {
     "name": "stderr",
     "output_type": "stream",
     "text": [
      "\n",
      "/Users/guangyawan/.local/share/virtualenvs/CS109B-EpXkDfoL/lib/python3.9/site-packages/numpy/core/_asarray.py:102: VisibleDeprecationWarning: Creating an ndarray from ragged nested sequences (which is a list-or-tuple of lists-or-tuples-or ndarrays with different lengths or shapes) is deprecated. If you meant to do this, you must specify 'dtype=object' when creating the ndarray.\n",
      "  return array(a, dtype, copy=False, order=order)\n"
     ]
    }
   ],
   "source": [
    "extractor = BiopsyGradeExtractor()\n",
    "df_result= extractor.fit(df_pathology_test, display_summary = True, return_summary_df = True)"
   ]
  },
  {
   "cell_type": "code",
   "execution_count": 10,
   "metadata": {},
   "outputs": [
    {
     "data": {
      "text/plain": [
       "(4113, 28)"
      ]
     },
     "execution_count": 10,
     "metadata": {},
     "output_type": "execute_result"
    }
   ],
   "source": [
    "df_result.shape"
   ]
  },
  {
   "cell_type": "code",
   "execution_count": 11,
   "metadata": {},
   "outputs": [
    {
     "ename": "ValueError",
     "evalue": "a must be greater than 0 unless no samples are taken",
     "output_type": "error",
     "traceback": [
      "\u001b[0;31m---------------------------------------------------------------------------\u001b[0m",
      "\u001b[0;31mValueError\u001b[0m                                Traceback (most recent call last)",
      "\u001b[1;32m/Users/guangyawan/Desktop/Homework/MIT ML for HC/project/MIT-6.871-Project/prostate_nlp_extraction-main/prostate_grade_extractor/test.ipynb Cell 12\u001b[0m in \u001b[0;36m<module>\u001b[0;34m\u001b[0m\n\u001b[0;32m----> <a href='vscode-notebook-cell:/Users/guangyawan/Desktop/Homework/MIT%20ML%20for%20HC/project/MIT-6.871-Project/prostate_nlp_extraction-main/prostate_grade_extractor/test.ipynb#X12sZmlsZQ%3D%3D?line=0'>1</a>\u001b[0m df_result[\u001b[39m'\u001b[39;49m\u001b[39mReport_Text\u001b[39;49m\u001b[39m'\u001b[39;49m][df_result[\u001b[39m'\u001b[39;49m\u001b[39moverall_grade_merged\u001b[39;49m\u001b[39m'\u001b[39;49m]\u001b[39m.\u001b[39;49misna()]\u001b[39m.\u001b[39;49msample(\u001b[39m100\u001b[39;49m)\u001b[39m.\u001b[39mto_excel(\u001b[39m'\u001b[39m\u001b[39m../data/missing_report.xlsx\u001b[39m\u001b[39m'\u001b[39m)\n",
      "File \u001b[0;32m~/.local/share/virtualenvs/CS109B-EpXkDfoL/lib/python3.9/site-packages/pandas/core/generic.py:5454\u001b[0m, in \u001b[0;36mNDFrame.sample\u001b[0;34m(self, n, frac, replace, weights, random_state, axis, ignore_index)\u001b[0m\n\u001b[1;32m   5451\u001b[0m \u001b[39mif\u001b[39;00m weights \u001b[39mis\u001b[39;00m \u001b[39mnot\u001b[39;00m \u001b[39mNone\u001b[39;00m:\n\u001b[1;32m   5452\u001b[0m     weights \u001b[39m=\u001b[39m sample\u001b[39m.\u001b[39mpreprocess_weights(\u001b[39mself\u001b[39m, weights, axis)\n\u001b[0;32m-> 5454\u001b[0m sampled_indices \u001b[39m=\u001b[39m sample\u001b[39m.\u001b[39;49msample(obj_len, size, replace, weights, rs)\n\u001b[1;32m   5455\u001b[0m result \u001b[39m=\u001b[39m \u001b[39mself\u001b[39m\u001b[39m.\u001b[39mtake(sampled_indices, axis\u001b[39m=\u001b[39maxis)\n\u001b[1;32m   5457\u001b[0m \u001b[39mif\u001b[39;00m ignore_index:\n",
      "File \u001b[0;32m~/.local/share/virtualenvs/CS109B-EpXkDfoL/lib/python3.9/site-packages/pandas/core/sample.py:150\u001b[0m, in \u001b[0;36msample\u001b[0;34m(obj_len, size, replace, weights, random_state)\u001b[0m\n\u001b[1;32m    147\u001b[0m     \u001b[39melse\u001b[39;00m:\n\u001b[1;32m    148\u001b[0m         \u001b[39mraise\u001b[39;00m \u001b[39mValueError\u001b[39;00m(\u001b[39m\"\u001b[39m\u001b[39mInvalid weights: weights sum to zero\u001b[39m\u001b[39m\"\u001b[39m)\n\u001b[0;32m--> 150\u001b[0m \u001b[39mreturn\u001b[39;00m random_state\u001b[39m.\u001b[39;49mchoice(obj_len, size\u001b[39m=\u001b[39;49msize, replace\u001b[39m=\u001b[39;49mreplace, p\u001b[39m=\u001b[39;49mweights)\u001b[39m.\u001b[39mastype(\n\u001b[1;32m    151\u001b[0m     np\u001b[39m.\u001b[39mintp, copy\u001b[39m=\u001b[39m\u001b[39mFalse\u001b[39;00m\n\u001b[1;32m    152\u001b[0m )\n",
      "File \u001b[0;32mmtrand.pyx:903\u001b[0m, in \u001b[0;36mnumpy.random.mtrand.RandomState.choice\u001b[0;34m()\u001b[0m\n",
      "\u001b[0;31mValueError\u001b[0m: a must be greater than 0 unless no samples are taken"
     ]
    }
   ],
   "source": [
    "df_result['Report_Text'][df_result['overall_grade_merged'].isna()].sample(100).to_excel('../data/missing_report.xlsx')"
   ]
  },
  {
   "cell_type": "code",
   "execution_count": 17,
   "metadata": {},
   "outputs": [
    {
     "data": {
      "text/html": [
       "<div>\n",
       "<style scoped>\n",
       "    .dataframe tbody tr th:only-of-type {\n",
       "        vertical-align: middle;\n",
       "    }\n",
       "\n",
       "    .dataframe tbody tr th {\n",
       "        vertical-align: top;\n",
       "    }\n",
       "\n",
       "    .dataframe thead th {\n",
       "        text-align: right;\n",
       "    }\n",
       "</style>\n",
       "<table border=\"1\" class=\"dataframe\">\n",
       "  <thead>\n",
       "    <tr style=\"text-align: right;\">\n",
       "      <th></th>\n",
       "      <th>EMPI</th>\n",
       "      <th>EPIC_PMRN</th>\n",
       "      <th>MRN_Type</th>\n",
       "      <th>MRN</th>\n",
       "      <th>Report_Number</th>\n",
       "      <th>Report_Date_Time</th>\n",
       "      <th>Report_Description</th>\n",
       "      <th>Report_Status</th>\n",
       "      <th>Report_Type</th>\n",
       "      <th>Report_Text</th>\n",
       "      <th>...</th>\n",
       "      <th>num_pos_cores_sum</th>\n",
       "      <th>num_total_core_sum</th>\n",
       "      <th>max_core_involve</th>\n",
       "      <th>small_cell_carc</th>\n",
       "      <th>neuroendocrine_carc</th>\n",
       "      <th>adenocarcinoma</th>\n",
       "      <th>auxiiliary_mci_score</th>\n",
       "      <th>rp_indicator</th>\n",
       "      <th>rp_date</th>\n",
       "      <th>rp_date_minus_report_date_in_days</th>\n",
       "    </tr>\n",
       "  </thead>\n",
       "  <tbody>\n",
       "    <tr>\n",
       "      <th>0</th>\n",
       "      <td>100006532</td>\n",
       "      <td>1.004006e+10</td>\n",
       "      <td>BWH</td>\n",
       "      <td>975151</td>\n",
       "      <td>S9902128C</td>\n",
       "      <td>1/26/1999 12:00:00 AM</td>\n",
       "      <td>Surgical Pathology</td>\n",
       "      <td>Final</td>\n",
       "      <td>PAT</td>\n",
       "      <td>Accession Number: S9902128C Report Status: Fin...</td>\n",
       "      <td>...</td>\n",
       "      <td>1</td>\n",
       "      <td>3</td>\n",
       "      <td>[[20]]</td>\n",
       "      <td>0</td>\n",
       "      <td>0</td>\n",
       "      <td>1</td>\n",
       "      <td>0.40</td>\n",
       "      <td>1</td>\n",
       "      <td>1999-02-27 00:00:00</td>\n",
       "      <td>32.0</td>\n",
       "    </tr>\n",
       "    <tr>\n",
       "      <th>1</th>\n",
       "      <td>100006636</td>\n",
       "      <td>1.004006e+10</td>\n",
       "      <td>BWH</td>\n",
       "      <td>984781</td>\n",
       "      <td>S0444089R</td>\n",
       "      <td>12/1/2004 12:00:00 AM</td>\n",
       "      <td>Surgical Pathology</td>\n",
       "      <td>Final</td>\n",
       "      <td>PAT</td>\n",
       "      <td>Accession Number: S0444089R Report Status: Fin...</td>\n",
       "      <td>...</td>\n",
       "      <td>1</td>\n",
       "      <td>3</td>\n",
       "      <td>[[5]]</td>\n",
       "      <td>0</td>\n",
       "      <td>0</td>\n",
       "      <td>1</td>\n",
       "      <td>0.05</td>\n",
       "      <td>1</td>\n",
       "      <td>2005-02-10 00:00:00</td>\n",
       "      <td>71.0</td>\n",
       "    </tr>\n",
       "    <tr>\n",
       "      <th>2</th>\n",
       "      <td>100086908</td>\n",
       "      <td>1.003182e+10</td>\n",
       "      <td>BWH</td>\n",
       "      <td>4041760</td>\n",
       "      <td>BS08F03886</td>\n",
       "      <td>1/25/2008 12:00:00 AM</td>\n",
       "      <td>Surgical Pathology</td>\n",
       "      <td>Final</td>\n",
       "      <td>PAT</td>\n",
       "      <td>Accession Number: BS08F03886 Report Status: Fi...</td>\n",
       "      <td>...</td>\n",
       "      <td>1</td>\n",
       "      <td>5</td>\n",
       "      <td>[[10]]</td>\n",
       "      <td>0</td>\n",
       "      <td>0</td>\n",
       "      <td>1</td>\n",
       "      <td>0.10</td>\n",
       "      <td>1</td>\n",
       "      <td>2008-04-14 00:00:00</td>\n",
       "      <td>80.0</td>\n",
       "    </tr>\n",
       "    <tr>\n",
       "      <th>4</th>\n",
       "      <td>100110356</td>\n",
       "      <td>1.004505e+10</td>\n",
       "      <td>BWH</td>\n",
       "      <td>4634622</td>\n",
       "      <td>BS11K31832</td>\n",
       "      <td>7/13/2011 12:00:00 AM</td>\n",
       "      <td>Surgical Pathology</td>\n",
       "      <td>Final</td>\n",
       "      <td>PAT</td>\n",
       "      <td>Accession Number: BS11K31832 Report Status: Fi...</td>\n",
       "      <td>...</td>\n",
       "      <td>4</td>\n",
       "      <td>6</td>\n",
       "      <td>[[20, 15, 10, 5]]</td>\n",
       "      <td>0</td>\n",
       "      <td>0</td>\n",
       "      <td>1</td>\n",
       "      <td>1.00</td>\n",
       "      <td>1</td>\n",
       "      <td>2011-08-04 00:00:00</td>\n",
       "      <td>22.0</td>\n",
       "    </tr>\n",
       "    <tr>\n",
       "      <th>6</th>\n",
       "      <td>100067564</td>\n",
       "      <td>1.004259e+10</td>\n",
       "      <td>BWH</td>\n",
       "      <td>3686102</td>\n",
       "      <td>S0410361B</td>\n",
       "      <td>3/24/2004 12:00:00 AM</td>\n",
       "      <td>Surgical Pathology</td>\n",
       "      <td>Final</td>\n",
       "      <td>PAT</td>\n",
       "      <td>Accession Number: S0410361B Report Status: Fin...</td>\n",
       "      <td>...</td>\n",
       "      <td>3</td>\n",
       "      <td>3</td>\n",
       "      <td>[[60, 60, 50]]</td>\n",
       "      <td>0</td>\n",
       "      <td>0</td>\n",
       "      <td>1</td>\n",
       "      <td>3.40</td>\n",
       "      <td>1</td>\n",
       "      <td>2004-05-24 00:00:00</td>\n",
       "      <td>61.0</td>\n",
       "    </tr>\n",
       "    <tr>\n",
       "      <th>...</th>\n",
       "      <td>...</td>\n",
       "      <td>...</td>\n",
       "      <td>...</td>\n",
       "      <td>...</td>\n",
       "      <td>...</td>\n",
       "      <td>...</td>\n",
       "      <td>...</td>\n",
       "      <td>...</td>\n",
       "      <td>...</td>\n",
       "      <td>...</td>\n",
       "      <td>...</td>\n",
       "      <td>...</td>\n",
       "      <td>...</td>\n",
       "      <td>...</td>\n",
       "      <td>...</td>\n",
       "      <td>...</td>\n",
       "      <td>...</td>\n",
       "      <td>...</td>\n",
       "      <td>...</td>\n",
       "      <td>...</td>\n",
       "      <td>...</td>\n",
       "    </tr>\n",
       "    <tr>\n",
       "      <th>16808</th>\n",
       "      <td>106503199</td>\n",
       "      <td>1.002961e+10</td>\n",
       "      <td>MGH</td>\n",
       "      <td>2142809</td>\n",
       "      <td>S17-16332</td>\n",
       "      <td>3/10/2017 12:00:00 AM</td>\n",
       "      <td>Surgical Pathology</td>\n",
       "      <td>Final</td>\n",
       "      <td>PAT</td>\n",
       "      <td>Accession Number: S17-16332 Report Status: Fin...</td>\n",
       "      <td>...</td>\n",
       "      <td>13</td>\n",
       "      <td>13</td>\n",
       "      <td>[[10], [90], [85], [90], [70], [50]]</td>\n",
       "      <td>0</td>\n",
       "      <td>0</td>\n",
       "      <td>1</td>\n",
       "      <td>44.00</td>\n",
       "      <td>0</td>\n",
       "      <td>NaN</td>\n",
       "      <td>NaN</td>\n",
       "    </tr>\n",
       "    <tr>\n",
       "      <th>16938</th>\n",
       "      <td>100998631</td>\n",
       "      <td>1.003356e+10</td>\n",
       "      <td>MGH</td>\n",
       "      <td>1563286</td>\n",
       "      <td>S19-56746</td>\n",
       "      <td>8/14/2019 12:00:00 AM</td>\n",
       "      <td>Surgical Pathology</td>\n",
       "      <td>Final</td>\n",
       "      <td>PAT</td>\n",
       "      <td>Accession Number: S19-56746 Report Status: Fin...</td>\n",
       "      <td>...</td>\n",
       "      <td>1</td>\n",
       "      <td>4</td>\n",
       "      <td>[[20]]</td>\n",
       "      <td>0</td>\n",
       "      <td>0</td>\n",
       "      <td>1</td>\n",
       "      <td>0.60</td>\n",
       "      <td>0</td>\n",
       "      <td>NaN</td>\n",
       "      <td>NaN</td>\n",
       "    </tr>\n",
       "    <tr>\n",
       "      <th>16986</th>\n",
       "      <td>101689783</td>\n",
       "      <td>1.002667e+10</td>\n",
       "      <td>MGH</td>\n",
       "      <td>3717115</td>\n",
       "      <td>S17-7873</td>\n",
       "      <td>2/3/2017 12:00:00 AM</td>\n",
       "      <td>Surgical Pathology</td>\n",
       "      <td>Final</td>\n",
       "      <td>PAT</td>\n",
       "      <td>Accession Number: S17-7873 Report Status: Fina...</td>\n",
       "      <td>...</td>\n",
       "      <td>6</td>\n",
       "      <td>7</td>\n",
       "      <td>[[90, 40], [80, 60], [90, 50]]</td>\n",
       "      <td>0</td>\n",
       "      <td>0</td>\n",
       "      <td>1</td>\n",
       "      <td>12.30</td>\n",
       "      <td>0</td>\n",
       "      <td>NaN</td>\n",
       "      <td>NaN</td>\n",
       "    </tr>\n",
       "    <tr>\n",
       "      <th>17891</th>\n",
       "      <td>112488945</td>\n",
       "      <td>1.012004e+10</td>\n",
       "      <td>MGH</td>\n",
       "      <td>4355980</td>\n",
       "      <td>S18-21487</td>\n",
       "      <td>4/3/2018 6:50:00 AM</td>\n",
       "      <td>Surgical Pathology</td>\n",
       "      <td>Final</td>\n",
       "      <td>PAT</td>\n",
       "      <td>Accession Number: S18-21487 Report Status: Fin...</td>\n",
       "      <td>...</td>\n",
       "      <td>4</td>\n",
       "      <td>5</td>\n",
       "      <td>[[15], [20]]</td>\n",
       "      <td>0</td>\n",
       "      <td>0</td>\n",
       "      <td>1</td>\n",
       "      <td>2.80</td>\n",
       "      <td>0</td>\n",
       "      <td>NaN</td>\n",
       "      <td>NaN</td>\n",
       "    </tr>\n",
       "    <tr>\n",
       "      <th>18322</th>\n",
       "      <td>112946514</td>\n",
       "      <td>1.012104e+10</td>\n",
       "      <td>MGH</td>\n",
       "      <td>6049765</td>\n",
       "      <td>S17-21195</td>\n",
       "      <td>3/31/2017 12:00:00 AM</td>\n",
       "      <td>Surgical Pathology</td>\n",
       "      <td>Final</td>\n",
       "      <td>PAT</td>\n",
       "      <td>Accession Number: S17-21195 Report Status: Fin...</td>\n",
       "      <td>...</td>\n",
       "      <td>4</td>\n",
       "      <td>4</td>\n",
       "      <td>[[10], [25], [60], [80]]</td>\n",
       "      <td>0</td>\n",
       "      <td>0</td>\n",
       "      <td>1</td>\n",
       "      <td>8.75</td>\n",
       "      <td>0</td>\n",
       "      <td>NaN</td>\n",
       "      <td>NaN</td>\n",
       "    </tr>\n",
       "  </tbody>\n",
       "</table>\n",
       "<p>4113 rows × 28 columns</p>\n",
       "</div>"
      ],
      "text/plain": [
       "            EMPI     EPIC_PMRN MRN_Type      MRN Report_Number  \\\n",
       "0      100006532  1.004006e+10      BWH   975151     S9902128C   \n",
       "1      100006636  1.004006e+10      BWH   984781     S0444089R   \n",
       "2      100086908  1.003182e+10      BWH  4041760    BS08F03886   \n",
       "4      100110356  1.004505e+10      BWH  4634622    BS11K31832   \n",
       "6      100067564  1.004259e+10      BWH  3686102     S0410361B   \n",
       "...          ...           ...      ...      ...           ...   \n",
       "16808  106503199  1.002961e+10      MGH  2142809     S17-16332   \n",
       "16938  100998631  1.003356e+10      MGH  1563286     S19-56746   \n",
       "16986  101689783  1.002667e+10      MGH  3717115      S17-7873   \n",
       "17891  112488945  1.012004e+10      MGH  4355980     S18-21487   \n",
       "18322  112946514  1.012104e+10      MGH  6049765     S17-21195   \n",
       "\n",
       "            Report_Date_Time  Report_Description Report_Status Report_Type  \\\n",
       "0      1/26/1999 12:00:00 AM  Surgical Pathology         Final         PAT   \n",
       "1      12/1/2004 12:00:00 AM  Surgical Pathology         Final         PAT   \n",
       "2      1/25/2008 12:00:00 AM  Surgical Pathology         Final         PAT   \n",
       "4      7/13/2011 12:00:00 AM  Surgical Pathology         Final         PAT   \n",
       "6      3/24/2004 12:00:00 AM  Surgical Pathology         Final         PAT   \n",
       "...                      ...                 ...           ...         ...   \n",
       "16808  3/10/2017 12:00:00 AM  Surgical Pathology         Final         PAT   \n",
       "16938  8/14/2019 12:00:00 AM  Surgical Pathology         Final         PAT   \n",
       "16986   2/3/2017 12:00:00 AM  Surgical Pathology         Final         PAT   \n",
       "17891    4/3/2018 6:50:00 AM  Surgical Pathology         Final         PAT   \n",
       "18322  3/31/2017 12:00:00 AM  Surgical Pathology         Final         PAT   \n",
       "\n",
       "                                             Report_Text  ...  \\\n",
       "0      Accession Number: S9902128C Report Status: Fin...  ...   \n",
       "1      Accession Number: S0444089R Report Status: Fin...  ...   \n",
       "2      Accession Number: BS08F03886 Report Status: Fi...  ...   \n",
       "4      Accession Number: BS11K31832 Report Status: Fi...  ...   \n",
       "6      Accession Number: S0410361B Report Status: Fin...  ...   \n",
       "...                                                  ...  ...   \n",
       "16808  Accession Number: S17-16332 Report Status: Fin...  ...   \n",
       "16938  Accession Number: S19-56746 Report Status: Fin...  ...   \n",
       "16986  Accession Number: S17-7873 Report Status: Fina...  ...   \n",
       "17891  Accession Number: S18-21487 Report Status: Fin...  ...   \n",
       "18322  Accession Number: S17-21195 Report Status: Fin...  ...   \n",
       "\n",
       "      num_pos_cores_sum num_total_core_sum  \\\n",
       "0                     1                  3   \n",
       "1                     1                  3   \n",
       "2                     1                  5   \n",
       "4                     4                  6   \n",
       "6                     3                  3   \n",
       "...                 ...                ...   \n",
       "16808                13                 13   \n",
       "16938                 1                  4   \n",
       "16986                 6                  7   \n",
       "17891                 4                  5   \n",
       "18322                 4                  4   \n",
       "\n",
       "                           max_core_involve small_cell_carc  \\\n",
       "0                                    [[20]]               0   \n",
       "1                                     [[5]]               0   \n",
       "2                                    [[10]]               0   \n",
       "4                         [[20, 15, 10, 5]]               0   \n",
       "6                            [[60, 60, 50]]               0   \n",
       "...                                     ...             ...   \n",
       "16808  [[10], [90], [85], [90], [70], [50]]               0   \n",
       "16938                                [[20]]               0   \n",
       "16986        [[90, 40], [80, 60], [90, 50]]               0   \n",
       "17891                          [[15], [20]]               0   \n",
       "18322              [[10], [25], [60], [80]]               0   \n",
       "\n",
       "      neuroendocrine_carc  adenocarcinoma  auxiiliary_mci_score rp_indicator  \\\n",
       "0                       0               1                  0.40            1   \n",
       "1                       0               1                  0.05            1   \n",
       "2                       0               1                  0.10            1   \n",
       "4                       0               1                  1.00            1   \n",
       "6                       0               1                  3.40            1   \n",
       "...                   ...             ...                   ...          ...   \n",
       "16808                   0               1                 44.00            0   \n",
       "16938                   0               1                  0.60            0   \n",
       "16986                   0               1                 12.30            0   \n",
       "17891                   0               1                  2.80            0   \n",
       "18322                   0               1                  8.75            0   \n",
       "\n",
       "                   rp_date  rp_date_minus_report_date_in_days  \n",
       "0      1999-02-27 00:00:00                               32.0  \n",
       "1      2005-02-10 00:00:00                               71.0  \n",
       "2      2008-04-14 00:00:00                               80.0  \n",
       "4      2011-08-04 00:00:00                               22.0  \n",
       "6      2004-05-24 00:00:00                               61.0  \n",
       "...                    ...                                ...  \n",
       "16808                  NaN                                NaN  \n",
       "16938                  NaN                                NaN  \n",
       "16986                  NaN                                NaN  \n",
       "17891                  NaN                                NaN  \n",
       "18322                  NaN                                NaN  \n",
       "\n",
       "[4113 rows x 28 columns]"
      ]
     },
     "execution_count": 17,
     "metadata": {},
     "output_type": "execute_result"
    }
   ],
   "source": [
    "df_result"
   ]
  },
  {
   "cell_type": "code",
   "execution_count": 11,
   "metadata": {},
   "outputs": [
    {
     "data": {
      "text/plain": [
       "1"
      ]
     },
     "execution_count": 11,
     "metadata": {},
     "output_type": "execute_result"
    }
   ],
   "source": [
    "df_result.overall_grade_merged.iloc[0]"
   ]
  },
  {
   "cell_type": "code",
   "execution_count": 12,
   "metadata": {},
   "outputs": [
    {
     "data": {
      "text/plain": [
       "'accession number: bs05n11932 report status: final type: surgical pathology specimen type: lymph node biopsy (non-heme) procedure date: 03/25/2005 ordering provider: michael w mcdonald m.d. case: bs-05-n11932 patient: john fitzgerald resident: samuel g katz, m.d., ph.d. pathologist: lucian chirieac, m.d. pathologic diagnosis: right pelvic lymph nodes: one (1) lymph node with no tumor present. left pelvic lymph nodes: one (1) lymph node with no tumor present. prostate, radical prostatectomy: prostatic adenocarcinoma (0.4 cm in greatest dimension), gleason score 3+3=6, present in the right side (see note). no lymphovascular invasion is identified. no tumor present in extraprostatic soft tissue. no tumor present in the seminal vesicles. no tumor present at the soft tissue resection margin. ajcc stage (6th edition): t2c n0 mx (see note) note: although the focus of adenocarcinoma is present on the right side, the operative note mentions that the location of the cancer in the biopsy performed outside brigham and women?s hospital, being on the left side. no carcinoma was identified on the left side by routine analysis after entire submission of the specimen. neither the biopsy slides nor the surgical pathology report from the outside institution have been reviewed by our department. if the patient does not indeed have cancer on both sides of his prostate, he would be appropriately staged as t2c, otherwise, he would be considered t2a category. clinical correlation is needed. clinical data: history: prostate ca operation: prostatectomy operative findings: none given. clinical diagnosis: prostate ca. tissue submitted: #1 left pelvic nodes #2 right pelvic nodes #3 prostate - to path room gross description: the specimen is received fresh, in three parts, each labeled with the patient?s name, unit number. part a, \"1. left pelvic nodes\", consists of multiple fragments of yellow/red, fibroadipose tissue (4.2 x 2.9 x 1.5 cm in aggregate). within this specimen, one lymph node is found (1.9 cm in greatest dimension). micro a1; left pelvic node bisected, 2 frags, ess. part b, \"2. right pelvic nodes\", consists of one fragment of yellow/red, fibroadipose tissue (3.7 x 2.4 x 1.0 cm). within this tissue, one potential lymph node found (1.2 cm in greatest dimension). micro b1: right pelvic lymph node, 1 frag, ess. micro b2: right pelvic adipose tissue, 2 frags, ess. part c, \"3. prostate\", consists of one prostate (24.5 gm; 3.7 x 2.9 x 3.1 cm) with a disrupted, right, seminal vesicle (3.0 x 1.1 x 0.4 cm), right vas deferens (1.2 cm in length x 0.8 cm in diameter), left vas deferens (1.5 cm in length x 0.6 cm in diameter) and a disrupted, left, seminal vesicle (3.6 x 1.1 x 0.5 cm). the right side is inked in black, and the left side is inked in blue. the specimen is serially sectioned from inferior to superior to reveal no gross lesions. slice 2 has been entirely submitted to the tissue bank, and representative sections of the right and left seminal vesicles have also been submitted to the tissue bank. micro c1: right apex, 4 frags, ess. micro c2: left apex, 3 frags, ess. micro c3: right base, 3 frags, ess. micro c4: left base, 4 frags, ess. micro c5: slice 3, left anterior, 1 frag, ess. micro c6: slice 3, left posterior, 1 frag, ess. micro c7: slice 4, left anterior, 1 frag, ess. micro c8: slice 4, left posterior, 1 frag, ess. micro c9: slice 5, left anterior, 1 frag, ess. micro c10: slice 5, left posterior, 1 frag, ess. micro c11-12: left vas deferens and seminal vesicles, 1 frag each, ess. micro c13: slice 3, right anterior, 1 frag, ess. micro c14: slice 3, right posterior, 1 frag, ess. micro c15: slice 4, right anterior, 1 frag, ess. micro c16: slice 4, right posterior, 1 frag, ess. micro c17: slice 5, right anterior, 1 frag, ess. micro c18: slice 5, right posterior, 1 frag, ess. micro c19: right vas deferens and seminal vesicle, 1 frag, ess. sak/mmm by his/her signature below, the senior physician certifies that he/she personally conducted a microscopic examination (\"gross only\" exam if so stated) of the described specimen(s) and rendered or confirmed the diagnosis(es) related thereto. resident review by samuel g katz m.d., ph.d., on 3/31/2005 final diagnosis by lucian chirieac m.d., electronically signed on 4/4/2005'"
      ]
     },
     "execution_count": 12,
     "metadata": {},
     "output_type": "execute_result"
    }
   ],
   "source": [
    "df_pathology.iloc[1]['Report_Text']"
   ]
  },
  {
   "cell_type": "markdown",
   "metadata": {},
   "source": [
    "### Validate the performance of the algorithm"
   ]
  },
  {
   "cell_type": "code",
   "execution_count": 13,
   "metadata": {},
   "outputs": [
    {
     "name": "stdout",
     "output_type": "stream",
     "text": [
      "\n",
      "\n",
      "Extracted info : \n",
      "Report_Number                                                  ms09g80390\n",
      "Report_Text             accession number: ms09g80390 report status: fi...\n",
      "primary_grade                                                      [4, 4]\n",
      "secondary_grade                                                    [5, 5]\n",
      "overall_grade_merged                                                    5\n",
      "Name: 6613, dtype: object\n",
      "\n",
      "\n",
      "Pathology report : \n",
      "accession number: ms09g80390 report status: final type: surgical pathology pathology report: ms-09-g80390 case: ms-09-g80390 patient: curtis vouwie date taken: 12/14/2009 source care unit: mgh inpatient path subspecialty service: genito-urinary results to: douglas middleton dahl, m.d. resident: katy linskey, m.d. signed out by: chin-lee wu, m.d. clinical data: prostate cancer of right and left apex, middle, and base, up to gleason's 8 score. final diagnosis: prostate, radical prostatectomy: prostatic adenocarcinoma, gleason score 4+5=9/10, involving the right anterior quadrant focally, right posterior quadrant extensively, left anterior quadrant focally, and left anterior quadrant extensively. extraprostatic extension is present in the right posterior quadrant. perineural invasion is present. the seminal vesicles are unremarkable. all resection margins are negative. ajcc tnm pathologic stage (6th edition): pt3an0mx. lymph nodes (right pelvic), dissection: there is no evidence of malignancy in 5 of 5 lymph node fragments. lymph nodes (left pelvic), dissection: there is no evidence of malignancy in 2 of 2 lymph nodes. gross description: received are 3 containers which are labeled curtis vouwie, #242-52-49. received fresh, labeled \"prostate\", is a 35.2 gram, 4.5 x 4 x 2.5 cm radical prostatectomy specimen, with attached right and left vasa deferentia (2.7 x 0.3 cm and 2.8 x 0.3 cm, respectively) and right and left seminal vesicles (2.4 x 1.5 x 0.5 cm and 3 x 2.5 x 0.8 cm, respectively). the specimen is inked as follows: right - blue, left - black. the apical and bladder base margins are shaved and serially sectioned. the specimen is cut into quadrants, and each is serially sectioned to reveal pink-tan, whorled parenchyma, with focal nodular areas. representative sections are submitted as follows: section code: a1-a2: bladder base margin shaved and serially sectioned. a3-a4: apical margin shaved and serially sectioned. a5: right vas deferens, en face margin and right seminal vesicle, radial to prostate. a6: left vas deferens, en face margin and left seminal vesicle, radial to prostate. a7-a10: representative right anterior quadrant, from superior to inferior. a11-a14: representative right posterior quadrant, from superior to inferior. a15-a18: representative left posterior quadrant, from superior to inferior. a19-a22: representative left anterior quadrant, from superior to inferior. received fresh, labeled \"right pelvic lymph nodes\", are multiple fragments of red-tan soft tissue, 2.5 x 1.5 x 0.5 cm in aggregate, dissected to reveal multiple candidate lymph nodes. the specimen is entirely submitted in b1-b2. received fresh, labeled \"left pelvic lymph node\", is a 5 x 2.5 x 0.5 cm segment of red-tan soft tissue, containing 1 candidate lymph node, which is quadrisected and submitted entirely in c1-c4. final diagnosis by chin-lee wu m.d., electronically signed on friday december 18, 2009 at 12:53:10pm by his/her signature above, the pathologist listed as making the final diagnosis certifies that he/she has personally reviewed this case and confirmed or corrected the diagnoses. part a: prostate, radical prostatectomy part b: lymph nodes (right pelvic), dissection part c: lymph nodes (left pelvic), dissection\n",
      "\n",
      "\n",
      "\n",
      "\n",
      "Extracted info : \n",
      "Report_Number                                                  bs12f06821\n",
      "Report_Text             accession number: bs12f06821 report status: fi...\n",
      "primary_grade                                                         [4]\n",
      "secondary_grade                                                       [3]\n",
      "overall_grade_merged                                                    3\n",
      "Name: 8955, dtype: object\n",
      "\n",
      "\n",
      "Pathology report : \n",
      "accession number: bs12f06821 report status: final type: surgical pathology specimen type: lymph node biopsy (non-heme) procedure date: 02/10/2012 ordering provider: kevin r loughlin m.d. case: bs-12-f06821 patient: david gill resident: trevor flood, m.d. pathologist: michelle s hirsch, m.d., ph.d. pathologic diagnosis: a. specimen labeled \"left pelvic lymph node\": one (1) lymph node; negative for tumor. b. specimen labeled \"right pelvic lymph node\": one (1) lymph node; negative for tumor. c. specimen labeled \"prostate\", proctectomy: prostatic adenocarcinoma, gleason grade 4+3=7, involving the left side of the prostate only. tumor extends into extraprostatic soft tissue. tumor is present at the inked resection margin at the left posterior zone/base (0.25 cm in linear dimension). the seminal vesicles are negative for tumor. no lymphovascular invasion is identified. ajcc classification (7th edition): pt3a n0. clinical data: history: none provided. operation: nerve sparing retropubic prostatectomy and bilateral pelvic lymphadenectomy operative findings: none given clinical diagnosis: prostate cancer tissue submitted: 1. left pelvic lymph node 2. right pelvic lymph node 3. prostate gross description: the specimen is received in three (3) parts, each labeled with the patient's name and medical record number. part 1, labeled \"left pelvic lymph node\", consist of a single fragment of fibroadipose tissue (4.0 x 3.0 x 1.4 cm). at least one fatty replaced lymph node (2.0 cm in greatest dimension) is identified. the specimen is bisected and entirely submitted. micro a1-a5: fibroadipose tissue and lymph node(s), multi frags, ess. part 2, labeled \"right pelvic lymph node\", consist of a single fragment of fibroadipose tissue (3.5 x 2.8 x 0.5 cm). a definite lymph node is not grossly identified. the specimen is bisected and entirely submitted. micro b1-b5: fibroadipose tissue and ?lymph node(s), multi frags, ess. part 3, labeled \"prostate\", consists of a 17 gram prostatectomy specimen which includes the prostate (3.7 cm left-right, 2.5 cm superior-inferior, 2.0 cm anterior-posterior), right seminal vesicle (2.2 x 0.7 x 0.4 cm), right vas deferens (2.7 x 0.4 cm) which is partially calcified at the resection margin, left seminal vesicle (2.5 x 1.4 x 0.4 cm) and left vas deferens (1.0 x 0.4 cm). the right side of the prostate is inked black and the left side of the prostate is inked blue. the prostate is serially sectioned from apex to base, and a discrete lesion consistent with carcinoma (1.3 cm in greatest dimension) is grossly identified in the left posterior zone. the prostate, including the junction with the seminal vesicles, is entirely submitted with the majority of the prostate processed as whole mount sections. only representative additional sections of the seminal vesicles and vas deferentia are submitted. micro c1: right apex, en face margin, coned sections, 5 frags, ess. micro c2: left apex, en face margin, coned sections, 5 frags, ess. micro c3: right base, en face margin, coned sections, 5 frags, ess. micro c4: left base, en face margin, coned sections, 5 frags, ess. micro c5: prostate-seminal vesicle junction, right and left, 2 frags, ess. micro c6: additional seminal vesicles and vas deferntia, 4 frags, rss. micro c7-c13: prostate, serially sectioned from apex to base, whole mount sections, 7 sections, ess. by his/her signature below, the senior physician certifies that he/she personally conducted a microscopic examination (\"gross only\" exam if so stated) of the described specimen(s) and rendered or confirmed the diagnosis(es) related thereto. final diagnosis by michelle s hirsch m.d., ph.d., electronically signed on thursday march 01, 2012 at 03:45:38pm\n",
      "\n",
      "\n"
     ]
    }
   ],
   "source": [
    "# if report_number_oi is not specified, then it randomly picks report to evaluate\n",
    "for i in range(2):\n",
    "    extractor.validate_results()"
   ]
  },
  {
   "cell_type": "code",
   "execution_count": null,
   "metadata": {},
   "outputs": [],
   "source": [
    "# Primary Grade/Secondary Grade/overall grade merged"
   ]
  },
  {
   "cell_type": "code",
   "execution_count": 14,
   "metadata": {},
   "outputs": [
    {
     "data": {
      "text/plain": [
       "Index(['Unnamed: 0', 'EMPI', 'MRN', 'hospital_rp', 'date_rp_dt',\n",
       "       'date_path_dt', 'path_postRP_days', 'PLND', 'LNM', 'time_lab_result',\n",
       "       'PSA', 'PSAdate_minus_RPdate', 'Report_Text', 'Report_Text_noAN',\n",
       "       'Report_Number', 'primary_grade', 'secondary_grade',\n",
       "       'overall_grade_merged'],\n",
       "      dtype='object')"
      ]
     },
     "execution_count": 14,
     "metadata": {},
     "output_type": "execute_result"
    }
   ],
   "source": [
    "df_result.columns"
   ]
  },
  {
   "cell_type": "code",
   "execution_count": 8,
   "metadata": {},
   "outputs": [],
   "source": [
    "df_result = df_result.drop(columns = df_result.columns[[0,2,3,4,5,6,9,11,12,13,14]])"
   ]
  },
  {
   "cell_type": "code",
   "execution_count": 9,
   "metadata": {},
   "outputs": [],
   "source": [
    "df_MRI = pd.read_csv('../data/MRI.csv')"
   ]
  },
  {
   "cell_type": "code",
   "execution_count": 10,
   "metadata": {},
   "outputs": [],
   "source": [
    "df_MRI = df_MRI.drop(columns= ['Report_Number','Report_Text'],axis = 1)"
   ]
  },
  {
   "cell_type": "code",
   "execution_count": 11,
   "metadata": {},
   "outputs": [],
   "source": [
    "df_result = df_result.merge(df_MRI,on='EMPI',how='left')"
   ]
  },
  {
   "cell_type": "code",
   "execution_count": 12,
   "metadata": {},
   "outputs": [],
   "source": [
    "df_result = df_result.drop(columns = ['primary_grade','secondary_grade','PLND'],axis = 1)"
   ]
  },
  {
   "cell_type": "code",
   "execution_count": 13,
   "metadata": {},
   "outputs": [
    {
     "name": "stdout",
     "output_type": "stream",
     "text": [
      "(10766, 6)\n",
      "Number of Missing data for column LNM :  0\n",
      "0    10497\n",
      "1      269\n",
      "Name: LNM, dtype: int64\n",
      "Number of Missing data for column PSA :  5429\n",
      "(4.34, 6.07]     1339\n",
      "(9.29, 177.5]    1334\n",
      "(6.07, 9.29]     1329\n",
      "(0.009, 4.34]    1309\n",
      "Name: binned, dtype: int64\n",
      "Number of Missing data for column overall_grade_merged :  877\n",
      "2    4127\n",
      "1    2743\n",
      "3    1693\n",
      "5     780\n",
      "4     546\n",
      "Name: overall_grade_merged, dtype: int64\n",
      "Number of Missing data for column lymphadenopathy :  7335\n",
      "False    2084\n",
      "True     1347\n",
      "Name: lymphadenopathy, dtype: int64\n",
      "Number of Missing data for column pirads :  10063\n",
      "5.0    336\n",
      "4.0    312\n",
      "3.0     51\n",
      "2.0      3\n",
      "1.0      1\n",
      "Name: pirads, dtype: int64\n"
     ]
    }
   ],
   "source": [
    "print(df_result.shape)\n",
    "for col in df_result.columns[1:]:\n",
    "    if(col == 'binned'):\n",
    "        continue\n",
    "    print(f'Number of Missing data for column {col} : ', df_result [col].isna().sum())\n",
    "    if(df_result[col].value_counts().shape[0] > 10):\n",
    "        bins = df_result[col].quantile([0,.25, .5,.75,1])\n",
    "        df_result['binned'] = pd.cut(df_result[col], bins)\n",
    "        print (df_result['binned'].value_counts())\n",
    "        continue\n",
    "    print(df_result[col].value_counts())"
   ]
  },
  {
   "cell_type": "code",
   "execution_count": 14,
   "metadata": {},
   "outputs": [],
   "source": [
    "df_all = df_result.dropna()"
   ]
  },
  {
   "cell_type": "code",
   "execution_count": 15,
   "metadata": {},
   "outputs": [
    {
     "data": {
      "text/plain": [
       "(584, 7)"
      ]
     },
     "execution_count": 15,
     "metadata": {},
     "output_type": "execute_result"
    }
   ],
   "source": [
    "df_all.shape"
   ]
  },
  {
   "cell_type": "code",
   "execution_count": 16,
   "metadata": {},
   "outputs": [],
   "source": [
    "import xgboost as xgb"
   ]
  },
  {
   "cell_type": "code",
   "execution_count": 17,
   "metadata": {},
   "outputs": [],
   "source": [
    "X = df_all[df_all.columns[2:-1]]\n",
    "y = df_all['LNM']\n",
    "from sklearn.model_selection import train_test_split\n",
    "X_train, X_test, y_train, y_test = train_test_split(X,y, stratify = y, test_size=0.2, random_state=10)"
   ]
  },
  {
   "cell_type": "code",
   "execution_count": 18,
   "metadata": {},
   "outputs": [],
   "source": [
    "from sklearn.linear_model import LogisticRegression\n",
    "\n",
    "ovr = LogisticRegression()\n",
    "ovr.fit(X_train, y_train)\n",
    "ovr_preds = ovr.predict(X_test)"
   ]
  },
  {
   "cell_type": "code",
   "execution_count": 19,
   "metadata": {},
   "outputs": [
    {
     "name": "stdout",
     "output_type": "stream",
     "text": [
      "0.9572649572649573\n",
      "              precision    recall  f1-score   support\n",
      "\n",
      "           0       0.96      0.99      0.98       111\n",
      "           1       0.67      0.33      0.44         6\n",
      "\n",
      "    accuracy                           0.96       117\n",
      "   macro avg       0.82      0.66      0.71       117\n",
      "weighted avg       0.95      0.96      0.95       117\n",
      "\n"
     ]
    }
   ],
   "source": [
    "from sklearn.metrics import accuracy_score, classification_report, roc_auc_score\n",
    "print(accuracy_score(y_test, ovr_preds))\n",
    "print(classification_report(y_test, ovr_preds))"
   ]
  },
  {
   "cell_type": "code",
   "execution_count": 20,
   "metadata": {},
   "outputs": [
    {
     "data": {
      "text/plain": [
       "0.9789789789789789"
      ]
     },
     "execution_count": 20,
     "metadata": {},
     "output_type": "execute_result"
    }
   ],
   "source": [
    "ovr_pred_prob = ovr.predict_proba(X_test)\n",
    "roc_auc_score(y_test, ovr_pred_prob[:,1] , average=\"weighted\")"
   ]
  },
  {
   "cell_type": "code",
   "execution_count": 26,
   "metadata": {},
   "outputs": [
    {
     "data": {
      "text/plain": [
       "RandomForestClassifier(class_weight={0: 1, 1: 50}, max_depth=2, random_state=5)"
      ]
     },
     "execution_count": 26,
     "metadata": {},
     "output_type": "execute_result"
    }
   ],
   "source": [
    "from sklearn.ensemble import RandomForestClassifier\n",
    "clf = RandomForestClassifier(max_depth=2, random_state=5, class_weight = {0:1,1:50})\n",
    "clf.fit(X_train, y_train)"
   ]
  },
  {
   "cell_type": "code",
   "execution_count": 27,
   "metadata": {},
   "outputs": [],
   "source": [
    "rf_preds = clf.predict(X_test)\n",
    "rf_pred_prob = clf.predict_proba(X_test)"
   ]
  },
  {
   "cell_type": "code",
   "execution_count": 28,
   "metadata": {},
   "outputs": [
    {
     "name": "stdout",
     "output_type": "stream",
     "text": [
      "0.7350427350427351\n",
      "              precision    recall  f1-score   support\n",
      "\n",
      "           0       1.00      0.72      0.84       111\n",
      "           1       0.16      1.00      0.28         6\n",
      "\n",
      "    accuracy                           0.74       117\n",
      "   macro avg       0.58      0.86      0.56       117\n",
      "weighted avg       0.96      0.74      0.81       117\n",
      "\n"
     ]
    }
   ],
   "source": [
    "print(accuracy_score(y_test, rf_preds))\n",
    "print(classification_report(y_test, rf_preds))"
   ]
  },
  {
   "cell_type": "code",
   "execution_count": 29,
   "metadata": {},
   "outputs": [
    {
     "data": {
      "text/plain": [
       "0.9834834834834835"
      ]
     },
     "execution_count": 29,
     "metadata": {},
     "output_type": "execute_result"
    }
   ],
   "source": [
    "rf_pred_prob = clf.predict_proba(X_test)\n",
    "roc_auc_score(y_test, rf_pred_prob[:,1] , average=\"weighted\")"
   ]
  },
  {
   "cell_type": "code",
   "execution_count": 42,
   "metadata": {},
   "outputs": [
    {
     "data": {
      "text/html": [
       "<div>\n",
       "<style scoped>\n",
       "    .dataframe tbody tr th:only-of-type {\n",
       "        vertical-align: middle;\n",
       "    }\n",
       "\n",
       "    .dataframe tbody tr th {\n",
       "        vertical-align: top;\n",
       "    }\n",
       "\n",
       "    .dataframe thead th {\n",
       "        text-align: right;\n",
       "    }\n",
       "</style>\n",
       "<table border=\"1\" class=\"dataframe\">\n",
       "  <thead>\n",
       "    <tr style=\"text-align: right;\">\n",
       "      <th></th>\n",
       "      <th>EMPI</th>\n",
       "      <th>LNM</th>\n",
       "      <th>PSA</th>\n",
       "      <th>overall_grade_merged</th>\n",
       "      <th>lymphadenopathy</th>\n",
       "      <th>pirads</th>\n",
       "      <th>binned</th>\n",
       "    </tr>\n",
       "  </thead>\n",
       "  <tbody>\n",
       "    <tr>\n",
       "      <th>169</th>\n",
       "      <td>100081580</td>\n",
       "      <td>0</td>\n",
       "      <td>8.94</td>\n",
       "      <td>2</td>\n",
       "      <td>0</td>\n",
       "      <td>4.0</td>\n",
       "      <td>(6.07, 9.29]</td>\n",
       "    </tr>\n",
       "    <tr>\n",
       "      <th>696</th>\n",
       "      <td>100229964</td>\n",
       "      <td>0</td>\n",
       "      <td>7.46</td>\n",
       "      <td>2</td>\n",
       "      <td>0</td>\n",
       "      <td>4.0</td>\n",
       "      <td>(6.07, 9.29]</td>\n",
       "    </tr>\n",
       "    <tr>\n",
       "      <th>734</th>\n",
       "      <td>100244916</td>\n",
       "      <td>0</td>\n",
       "      <td>4.87</td>\n",
       "      <td>2</td>\n",
       "      <td>0</td>\n",
       "      <td>5.0</td>\n",
       "      <td>(4.34, 6.07]</td>\n",
       "    </tr>\n",
       "    <tr>\n",
       "      <th>783</th>\n",
       "      <td>100264220</td>\n",
       "      <td>0</td>\n",
       "      <td>3.05</td>\n",
       "      <td>2</td>\n",
       "      <td>0</td>\n",
       "      <td>3.0</td>\n",
       "      <td>(0.009, 4.34]</td>\n",
       "    </tr>\n",
       "    <tr>\n",
       "      <th>940</th>\n",
       "      <td>100581524</td>\n",
       "      <td>0</td>\n",
       "      <td>6.16</td>\n",
       "      <td>5</td>\n",
       "      <td>0</td>\n",
       "      <td>4.0</td>\n",
       "      <td>(6.07, 9.29]</td>\n",
       "    </tr>\n",
       "    <tr>\n",
       "      <th>...</th>\n",
       "      <td>...</td>\n",
       "      <td>...</td>\n",
       "      <td>...</td>\n",
       "      <td>...</td>\n",
       "      <td>...</td>\n",
       "      <td>...</td>\n",
       "      <td>...</td>\n",
       "    </tr>\n",
       "    <tr>\n",
       "      <th>10755</th>\n",
       "      <td>112448770</td>\n",
       "      <td>0</td>\n",
       "      <td>8.19</td>\n",
       "      <td>3</td>\n",
       "      <td>0</td>\n",
       "      <td>4.0</td>\n",
       "      <td>(6.07, 9.29]</td>\n",
       "    </tr>\n",
       "    <tr>\n",
       "      <th>10756</th>\n",
       "      <td>112868514</td>\n",
       "      <td>0</td>\n",
       "      <td>7.60</td>\n",
       "      <td>3</td>\n",
       "      <td>0</td>\n",
       "      <td>3.0</td>\n",
       "      <td>(6.07, 9.29]</td>\n",
       "    </tr>\n",
       "    <tr>\n",
       "      <th>10757</th>\n",
       "      <td>112868514</td>\n",
       "      <td>0</td>\n",
       "      <td>7.60</td>\n",
       "      <td>3</td>\n",
       "      <td>0</td>\n",
       "      <td>3.0</td>\n",
       "      <td>(6.07, 9.29]</td>\n",
       "    </tr>\n",
       "    <tr>\n",
       "      <th>10758</th>\n",
       "      <td>113061322</td>\n",
       "      <td>1</td>\n",
       "      <td>6.60</td>\n",
       "      <td>5</td>\n",
       "      <td>0</td>\n",
       "      <td>5.0</td>\n",
       "      <td>(6.07, 9.29]</td>\n",
       "    </tr>\n",
       "    <tr>\n",
       "      <th>10759</th>\n",
       "      <td>113123338</td>\n",
       "      <td>0</td>\n",
       "      <td>7.38</td>\n",
       "      <td>3</td>\n",
       "      <td>0</td>\n",
       "      <td>5.0</td>\n",
       "      <td>(6.07, 9.29]</td>\n",
       "    </tr>\n",
       "  </tbody>\n",
       "</table>\n",
       "<p>584 rows × 7 columns</p>\n",
       "</div>"
      ],
      "text/plain": [
       "            EMPI  LNM   PSA overall_grade_merged  lymphadenopathy  pirads  \\\n",
       "169    100081580    0  8.94                    2                0     4.0   \n",
       "696    100229964    0  7.46                    2                0     4.0   \n",
       "734    100244916    0  4.87                    2                0     5.0   \n",
       "783    100264220    0  3.05                    2                0     3.0   \n",
       "940    100581524    0  6.16                    5                0     4.0   \n",
       "...          ...  ...   ...                  ...              ...     ...   \n",
       "10755  112448770    0  8.19                    3                0     4.0   \n",
       "10756  112868514    0  7.60                    3                0     3.0   \n",
       "10757  112868514    0  7.60                    3                0     3.0   \n",
       "10758  113061322    1  6.60                    5                0     5.0   \n",
       "10759  113123338    0  7.38                    3                0     5.0   \n",
       "\n",
       "              binned  \n",
       "169     (6.07, 9.29]  \n",
       "696     (6.07, 9.29]  \n",
       "734     (4.34, 6.07]  \n",
       "783    (0.009, 4.34]  \n",
       "940     (6.07, 9.29]  \n",
       "...              ...  \n",
       "10755   (6.07, 9.29]  \n",
       "10756   (6.07, 9.29]  \n",
       "10757   (6.07, 9.29]  \n",
       "10758   (6.07, 9.29]  \n",
       "10759   (6.07, 9.29]  \n",
       "\n",
       "[584 rows x 7 columns]"
      ]
     },
     "execution_count": 42,
     "metadata": {},
     "output_type": "execute_result"
    }
   ],
   "source": [
    "df_all"
   ]
  },
  {
   "cell_type": "code",
   "execution_count": 121,
   "metadata": {},
   "outputs": [
    {
     "name": "stderr",
     "output_type": "stream",
     "text": [
      "/var/folders/bm/2x1k2y0s2bv2xxbw4jxfs_hh0000gn/T/ipykernel_21232/2825649401.py:3: SettingWithCopyWarning: \n",
      "A value is trying to be set on a copy of a slice from a DataFrame.\n",
      "Try using .loc[row_indexer,col_indexer] = value instead\n",
      "\n",
      "See the caveats in the documentation: https://pandas.pydata.org/pandas-docs/stable/user_guide/indexing.html#returning-a-view-versus-a-copy\n",
      "  df_all[\"lymphadenopathy\"] = df_all[\"lymphadenopathy\"].astype(int)\n",
      "/var/folders/bm/2x1k2y0s2bv2xxbw4jxfs_hh0000gn/T/ipykernel_21232/2825649401.py:4: SettingWithCopyWarning: \n",
      "A value is trying to be set on a copy of a slice from a DataFrame.\n",
      "Try using .loc[row_indexer,col_indexer] = value instead\n",
      "\n",
      "See the caveats in the documentation: https://pandas.pydata.org/pandas-docs/stable/user_guide/indexing.html#returning-a-view-versus-a-copy\n",
      "  df_all[\"overall_grade_merged\"] = df_all[\"overall_grade_merged\"].astype(int)\n"
     ]
    }
   ],
   "source": [
    "from xgboost import XGBClassifier\n",
    "\n",
    "df_all[\"lymphadenopathy\"] = df_all[\"lymphadenopathy\"].astype(int)\n",
    "df_all[\"overall_grade_merged\"] = df_all[\"overall_grade_merged\"].astype(int)\n",
    "X = df_all[df_all.columns[2:-1]]\n",
    "y = df_all['LNM']\n",
    "X_train, X_test, y_train, y_test = train_test_split(X,y, stratify = y, test_size=0.2, random_state=10)\n",
    "\n",
    "xgb_model = XGBClassifier(max_delta_step = 1)"
   ]
  },
  {
   "cell_type": "code",
   "execution_count": 122,
   "metadata": {},
   "outputs": [],
   "source": [
    "xgb_model.fit(X_train, y_train)\n",
    "xgb_preds = xgb_model.predict(X_test)"
   ]
  },
  {
   "cell_type": "code",
   "execution_count": 123,
   "metadata": {},
   "outputs": [
    {
     "name": "stdout",
     "output_type": "stream",
     "text": [
      "0.9658119658119658\n",
      "              precision    recall  f1-score   support\n",
      "\n",
      "           0       0.97      0.99      0.98       111\n",
      "           1       0.75      0.50      0.60         6\n",
      "\n",
      "    accuracy                           0.97       117\n",
      "   macro avg       0.86      0.75      0.79       117\n",
      "weighted avg       0.96      0.97      0.96       117\n",
      "\n"
     ]
    }
   ],
   "source": [
    "print(accuracy_score(y_test, xgb_preds))\n",
    "print(classification_report(y_test, xgb_preds))"
   ]
  },
  {
   "cell_type": "code",
   "execution_count": 124,
   "metadata": {},
   "outputs": [
    {
     "data": {
      "text/plain": [
       "<AxesSubplot:title={'center':'Feature importance'}, xlabel='F score', ylabel='Features'>"
      ]
     },
     "execution_count": 124,
     "metadata": {},
     "output_type": "execute_result"
    },
    {
     "data": {
      "image/png": "[encoded data removed]",
      "text/plain": [
       "<Figure size 432x288 with 1 Axes>"
      ]
     },
     "metadata": {
      "needs_background": "light"
     },
     "output_type": "display_data"
    }
   ],
   "source": [
    "from matplotlib import pyplot\n",
    "from xgboost import plot_importance\n",
    "plot_importance(xgb_model)"
   ]
  },
  {
   "cell_type": "code",
   "execution_count": 125,
   "metadata": {},
   "outputs": [
    {
     "data": {
      "text/plain": [
       "0.9564564564564564"
      ]
     },
     "execution_count": 125,
     "metadata": {},
     "output_type": "execute_result"
    }
   ],
   "source": [
    "xgb_pred_prob = xgb_model.predict_proba(X_test)\n",
    "roc_auc_score(y_test, xgb_pred_prob[:,1] , average=\"weighted\")"
   ]
  },
  {
   "cell_type": "code",
   "execution_count": 106,
   "metadata": {},
   "outputs": [],
   "source": [
    "from sklearn import metrics\n",
    "\n",
    "\n",
    "df_result[\"lymphadenopathy\"] = df_result[\"lymphadenopathy\"].astype(float)\n",
    "df_result[\"overall_grade_merged\"] = df_result[\"overall_grade_merged\"].astype(float)\n",
    "X = df_result[df_all.columns[2:-1]]\n",
    "y = df_result['LNM']\n",
    "X_train, X_test, y_train, y_test = train_test_split(X,y, stratify = y, test_size=0.2, random_state=10)\n",
    "\n",
    "xgb_model = XGBClassifier(max_delta_step = 10,scale_pos_weight = 10)"
   ]
  },
  {
   "cell_type": "code",
   "execution_count": 107,
   "metadata": {},
   "outputs": [],
   "source": [
    "xgb_model.fit(X_train, y_train)\n",
    "xgb_preds = xgb_model.predict(X_test)"
   ]
  },
  {
   "cell_type": "code",
   "execution_count": 108,
   "metadata": {},
   "outputs": [
    {
     "data": {
      "text/plain": [
       "(8612, 4)"
      ]
     },
     "execution_count": 108,
     "metadata": {},
     "output_type": "execute_result"
    }
   ],
   "source": [
    "X_train.shape"
   ]
  },
  {
   "cell_type": "code",
   "execution_count": 109,
   "metadata": {},
   "outputs": [
    {
     "name": "stdout",
     "output_type": "stream",
     "text": [
      "0.9331476323119777\n",
      "              precision    recall  f1-score   support\n",
      "\n",
      "           0       0.98      0.95      0.97      2100\n",
      "           1       0.12      0.26      0.16        54\n",
      "\n",
      "    accuracy                           0.93      2154\n",
      "   macro avg       0.55      0.60      0.56      2154\n",
      "weighted avg       0.96      0.93      0.95      2154\n",
      "\n"
     ]
    }
   ],
   "source": [
    "print(accuracy_score(y_test, xgb_preds))\n",
    "print(classification_report(y_test, xgb_preds))"
   ]
  },
  {
   "cell_type": "code",
   "execution_count": 110,
   "metadata": {},
   "outputs": [
    {
     "data": {
      "text/plain": [
       "0.7909567901234569"
      ]
     },
     "execution_count": 110,
     "metadata": {},
     "output_type": "execute_result"
    }
   ],
   "source": [
    "xgb_pred_prob = xgb_model.predict_proba(X_test)\n",
    "roc_auc_score(y_test, xgb_pred_prob[:,1] , average=\"weighted\")"
   ]
  },
  {
   "cell_type": "code",
   "execution_count": 95,
   "metadata": {},
   "outputs": [
    {
     "data": {
      "text/plain": [
       "<AxesSubplot:title={'center':'Feature importance'}, xlabel='F score', ylabel='Features'>"
      ]
     },
     "execution_count": 95,
     "metadata": {},
     "output_type": "execute_result"
    },
    {
     "data": {
      "image/png": "[encoded data removed]",
      "text/plain": [
       "<Figure size 432x288 with 1 Axes>"
      ]
     },
     "metadata": {
      "needs_background": "light"
     },
     "output_type": "display_data"
    }
   ],
   "source": [
    "from matplotlib import pyplot\n",
    "from xgboost import plot_importance\n",
    "plot_importance(xgb_model)"
   ]
  },
  {
   "cell_type": "code",
   "execution_count": null,
   "metadata": {},
   "outputs": [],
   "source": []
  }
 ],
 "metadata": {
  "kernelspec": {
   "display_name": "Python 3.9.7 ('CS109B-EpXkDfoL')",
   "language": "python",
   "name": "python3"
  },
  "language_info": {
   "codemirror_mode": {
    "name": "ipython",
    "version": 3
   },
   "file_extension": ".py",
   "mimetype": "text/x-python",
   "name": "python",
   "nbconvert_exporter": "python",
   "pygments_lexer": "ipython3",
   "version": "3.9.7"
  },
  "vscode": {
   "interpreter": {
    "hash": "d9586e197f6f26c72fae433bd2e5aaeb4790f8bd29c18e95f6f90e7aedfaed44"
   }
  }
 },
 "nbformat": 4,
 "nbformat_minor": 2
}
