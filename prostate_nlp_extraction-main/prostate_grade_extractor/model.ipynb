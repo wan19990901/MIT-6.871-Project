{
 "cells": [
  {
   "cell_type": "code",
   "execution_count": 132,
   "metadata": {},
   "outputs": [],
   "source": [
    "import pandas as pd\n",
    "import numpy as np\n",
    "from matplotlib import pyplot\n",
    "from xgboost import plot_importance\n",
    "from sklearn import metrics\n",
    "import xgboost as xgb\n",
    "from sklearn.linear_model import LogisticRegression\n",
    "from sklearn.model_selection import train_test_split\n",
    "from xgboost import XGBClassifier\n",
    "from imblearn.over_sampling import SMOTE, ADASYN"
   ]
  },
  {
   "cell_type": "markdown",
   "metadata": {},
   "source": [
    "TO DO:\n",
    "\n",
    "SHOW Confusion matrix by setting the threshold as 2%"
   ]
  },
  {
   "cell_type": "markdown",
   "metadata": {},
   "source": [
    "### load the dataset (base population)"
   ]
  },
  {
   "cell_type": "code",
   "execution_count": 133,
   "metadata": {},
   "outputs": [],
   "source": [
    "df= pd.read_csv('../data/final1.csv')\n",
    "df= pd.get_dummies(df)\n",
    "df_all = df.dropna() # MRI pop"
   ]
  },
  {
   "cell_type": "code",
   "execution_count": 134,
   "metadata": {},
   "outputs": [
    {
     "data": {
      "text/html": [
       "<div>\n",
       "<style scoped>\n",
       "    .dataframe tbody tr th:only-of-type {\n",
       "        vertical-align: middle;\n",
       "    }\n",
       "\n",
       "    .dataframe tbody tr th {\n",
       "        vertical-align: top;\n",
       "    }\n",
       "\n",
       "    .dataframe thead th {\n",
       "        text-align: right;\n",
       "    }\n",
       "</style>\n",
       "<table border=\"1\" class=\"dataframe\">\n",
       "  <thead>\n",
       "    <tr style=\"text-align: right;\">\n",
       "      <th></th>\n",
       "      <th>LNM</th>\n",
       "      <th>PSA</th>\n",
       "      <th>P_Score</th>\n",
       "      <th>overall_grade_merged</th>\n",
       "      <th>Wscore</th>\n",
       "      <th>Age at RP</th>\n",
       "      <th>adenopathy</th>\n",
       "      <th>prostate_volume</th>\n",
       "      <th>race_cat_Asian</th>\n",
       "      <th>race_cat_Black</th>\n",
       "      <th>race_cat_Hispanic</th>\n",
       "      <th>race_cat_Unknown/other</th>\n",
       "      <th>race_cat_White</th>\n",
       "      <th>hospital_rp_x_BWH</th>\n",
       "      <th>hospital_rp_x_FH</th>\n",
       "      <th>hospital_rp_x_MGH</th>\n",
       "      <th>hospital_rp_x_NWH</th>\n",
       "    </tr>\n",
       "  </thead>\n",
       "  <tbody>\n",
       "    <tr>\n",
       "      <th>0</th>\n",
       "      <td>0</td>\n",
       "      <td>1.10</td>\n",
       "      <td>NaN</td>\n",
       "      <td>1.0</td>\n",
       "      <td>NaN</td>\n",
       "      <td>NaN</td>\n",
       "      <td>NaN</td>\n",
       "      <td>NaN</td>\n",
       "      <td>0</td>\n",
       "      <td>0</td>\n",
       "      <td>0</td>\n",
       "      <td>0</td>\n",
       "      <td>0</td>\n",
       "      <td>0</td>\n",
       "      <td>0</td>\n",
       "      <td>1</td>\n",
       "      <td>0</td>\n",
       "    </tr>\n",
       "    <tr>\n",
       "      <th>1</th>\n",
       "      <td>0</td>\n",
       "      <td>0.80</td>\n",
       "      <td>4.0</td>\n",
       "      <td>3.0</td>\n",
       "      <td>0.0</td>\n",
       "      <td>56.0</td>\n",
       "      <td>0.0</td>\n",
       "      <td>85.000</td>\n",
       "      <td>0</td>\n",
       "      <td>0</td>\n",
       "      <td>0</td>\n",
       "      <td>0</td>\n",
       "      <td>1</td>\n",
       "      <td>0</td>\n",
       "      <td>0</td>\n",
       "      <td>1</td>\n",
       "      <td>0</td>\n",
       "    </tr>\n",
       "    <tr>\n",
       "      <th>2</th>\n",
       "      <td>0</td>\n",
       "      <td>5.10</td>\n",
       "      <td>NaN</td>\n",
       "      <td>5.0</td>\n",
       "      <td>0.0</td>\n",
       "      <td>40.0</td>\n",
       "      <td>NaN</td>\n",
       "      <td>16.380</td>\n",
       "      <td>0</td>\n",
       "      <td>0</td>\n",
       "      <td>0</td>\n",
       "      <td>0</td>\n",
       "      <td>1</td>\n",
       "      <td>1</td>\n",
       "      <td>0</td>\n",
       "      <td>0</td>\n",
       "      <td>0</td>\n",
       "    </tr>\n",
       "    <tr>\n",
       "      <th>3</th>\n",
       "      <td>0</td>\n",
       "      <td>4.10</td>\n",
       "      <td>5.0</td>\n",
       "      <td>3.0</td>\n",
       "      <td>2.0</td>\n",
       "      <td>66.0</td>\n",
       "      <td>0.0</td>\n",
       "      <td>24.000</td>\n",
       "      <td>0</td>\n",
       "      <td>0</td>\n",
       "      <td>0</td>\n",
       "      <td>0</td>\n",
       "      <td>1</td>\n",
       "      <td>0</td>\n",
       "      <td>0</td>\n",
       "      <td>1</td>\n",
       "      <td>0</td>\n",
       "    </tr>\n",
       "    <tr>\n",
       "      <th>4</th>\n",
       "      <td>0</td>\n",
       "      <td>3.30</td>\n",
       "      <td>NaN</td>\n",
       "      <td>2.0</td>\n",
       "      <td>0.0</td>\n",
       "      <td>56.0</td>\n",
       "      <td>NaN</td>\n",
       "      <td>NaN</td>\n",
       "      <td>0</td>\n",
       "      <td>0</td>\n",
       "      <td>0</td>\n",
       "      <td>1</td>\n",
       "      <td>0</td>\n",
       "      <td>1</td>\n",
       "      <td>0</td>\n",
       "      <td>0</td>\n",
       "      <td>0</td>\n",
       "    </tr>\n",
       "    <tr>\n",
       "      <th>...</th>\n",
       "      <td>...</td>\n",
       "      <td>...</td>\n",
       "      <td>...</td>\n",
       "      <td>...</td>\n",
       "      <td>...</td>\n",
       "      <td>...</td>\n",
       "      <td>...</td>\n",
       "      <td>...</td>\n",
       "      <td>...</td>\n",
       "      <td>...</td>\n",
       "      <td>...</td>\n",
       "      <td>...</td>\n",
       "      <td>...</td>\n",
       "      <td>...</td>\n",
       "      <td>...</td>\n",
       "      <td>...</td>\n",
       "      <td>...</td>\n",
       "    </tr>\n",
       "    <tr>\n",
       "      <th>2382</th>\n",
       "      <td>0</td>\n",
       "      <td>7.60</td>\n",
       "      <td>3.0</td>\n",
       "      <td>4.0</td>\n",
       "      <td>2.0</td>\n",
       "      <td>64.0</td>\n",
       "      <td>0.0</td>\n",
       "      <td>32.000</td>\n",
       "      <td>1</td>\n",
       "      <td>0</td>\n",
       "      <td>0</td>\n",
       "      <td>0</td>\n",
       "      <td>0</td>\n",
       "      <td>0</td>\n",
       "      <td>0</td>\n",
       "      <td>1</td>\n",
       "      <td>0</td>\n",
       "    </tr>\n",
       "    <tr>\n",
       "      <th>2383</th>\n",
       "      <td>0</td>\n",
       "      <td>7.38</td>\n",
       "      <td>5.0</td>\n",
       "      <td>3.0</td>\n",
       "      <td>2.0</td>\n",
       "      <td>67.0</td>\n",
       "      <td>0.0</td>\n",
       "      <td>26.000</td>\n",
       "      <td>0</td>\n",
       "      <td>0</td>\n",
       "      <td>0</td>\n",
       "      <td>0</td>\n",
       "      <td>1</td>\n",
       "      <td>0</td>\n",
       "      <td>0</td>\n",
       "      <td>1</td>\n",
       "      <td>0</td>\n",
       "    </tr>\n",
       "    <tr>\n",
       "      <th>2384</th>\n",
       "      <td>0</td>\n",
       "      <td>7.65</td>\n",
       "      <td>NaN</td>\n",
       "      <td>3.0</td>\n",
       "      <td>0.0</td>\n",
       "      <td>68.0</td>\n",
       "      <td>0.0</td>\n",
       "      <td>23.712</td>\n",
       "      <td>0</td>\n",
       "      <td>0</td>\n",
       "      <td>0</td>\n",
       "      <td>0</td>\n",
       "      <td>1</td>\n",
       "      <td>0</td>\n",
       "      <td>1</td>\n",
       "      <td>0</td>\n",
       "      <td>0</td>\n",
       "    </tr>\n",
       "    <tr>\n",
       "      <th>2385</th>\n",
       "      <td>0</td>\n",
       "      <td>6.50</td>\n",
       "      <td>NaN</td>\n",
       "      <td>2.0</td>\n",
       "      <td>2.0</td>\n",
       "      <td>57.0</td>\n",
       "      <td>NaN</td>\n",
       "      <td>NaN</td>\n",
       "      <td>0</td>\n",
       "      <td>0</td>\n",
       "      <td>0</td>\n",
       "      <td>0</td>\n",
       "      <td>1</td>\n",
       "      <td>0</td>\n",
       "      <td>0</td>\n",
       "      <td>1</td>\n",
       "      <td>0</td>\n",
       "    </tr>\n",
       "    <tr>\n",
       "      <th>2386</th>\n",
       "      <td>0</td>\n",
       "      <td>13.64</td>\n",
       "      <td>NaN</td>\n",
       "      <td>3.0</td>\n",
       "      <td>0.0</td>\n",
       "      <td>66.0</td>\n",
       "      <td>NaN</td>\n",
       "      <td>NaN</td>\n",
       "      <td>0</td>\n",
       "      <td>0</td>\n",
       "      <td>0</td>\n",
       "      <td>1</td>\n",
       "      <td>0</td>\n",
       "      <td>0</td>\n",
       "      <td>1</td>\n",
       "      <td>0</td>\n",
       "      <td>0</td>\n",
       "    </tr>\n",
       "  </tbody>\n",
       "</table>\n",
       "<p>2387 rows × 17 columns</p>\n",
       "</div>"
      ],
      "text/plain": [
       "      LNM    PSA  P_Score  overall_grade_merged  Wscore  Age at RP  \\\n",
       "0       0   1.10      NaN                   1.0     NaN        NaN   \n",
       "1       0   0.80      4.0                   3.0     0.0       56.0   \n",
       "2       0   5.10      NaN                   5.0     0.0       40.0   \n",
       "3       0   4.10      5.0                   3.0     2.0       66.0   \n",
       "4       0   3.30      NaN                   2.0     0.0       56.0   \n",
       "...   ...    ...      ...                   ...     ...        ...   \n",
       "2382    0   7.60      3.0                   4.0     2.0       64.0   \n",
       "2383    0   7.38      5.0                   3.0     2.0       67.0   \n",
       "2384    0   7.65      NaN                   3.0     0.0       68.0   \n",
       "2385    0   6.50      NaN                   2.0     2.0       57.0   \n",
       "2386    0  13.64      NaN                   3.0     0.0       66.0   \n",
       "\n",
       "      adenopathy  prostate_volume  race_cat_Asian  race_cat_Black  \\\n",
       "0            NaN              NaN               0               0   \n",
       "1            0.0           85.000               0               0   \n",
       "2            NaN           16.380               0               0   \n",
       "3            0.0           24.000               0               0   \n",
       "4            NaN              NaN               0               0   \n",
       "...          ...              ...             ...             ...   \n",
       "2382         0.0           32.000               1               0   \n",
       "2383         0.0           26.000               0               0   \n",
       "2384         0.0           23.712               0               0   \n",
       "2385         NaN              NaN               0               0   \n",
       "2386         NaN              NaN               0               0   \n",
       "\n",
       "      race_cat_Hispanic  race_cat_Unknown/other  race_cat_White  \\\n",
       "0                     0                       0               0   \n",
       "1                     0                       0               1   \n",
       "2                     0                       0               1   \n",
       "3                     0                       0               1   \n",
       "4                     0                       1               0   \n",
       "...                 ...                     ...             ...   \n",
       "2382                  0                       0               0   \n",
       "2383                  0                       0               1   \n",
       "2384                  0                       0               1   \n",
       "2385                  0                       0               1   \n",
       "2386                  0                       1               0   \n",
       "\n",
       "      hospital_rp_x_BWH  hospital_rp_x_FH  hospital_rp_x_MGH  \\\n",
       "0                     0                 0                  1   \n",
       "1                     0                 0                  1   \n",
       "2                     1                 0                  0   \n",
       "3                     0                 0                  1   \n",
       "4                     1                 0                  0   \n",
       "...                 ...               ...                ...   \n",
       "2382                  0                 0                  1   \n",
       "2383                  0                 0                  1   \n",
       "2384                  0                 1                  0   \n",
       "2385                  0                 0                  1   \n",
       "2386                  0                 1                  0   \n",
       "\n",
       "      hospital_rp_x_NWH  \n",
       "0                     0  \n",
       "1                     0  \n",
       "2                     0  \n",
       "3                     0  \n",
       "4                     0  \n",
       "...                 ...  \n",
       "2382                  0  \n",
       "2383                  0  \n",
       "2384                  0  \n",
       "2385                  0  \n",
       "2386                  0  \n",
       "\n",
       "[2387 rows x 17 columns]"
      ]
     },
     "execution_count": 134,
     "metadata": {},
     "output_type": "execute_result"
    }
   ],
   "source": [
    "df # include BMI?"
   ]
  },
  {
   "cell_type": "markdown",
   "metadata": {},
   "source": [
    "# Model with all features"
   ]
  },
  {
   "cell_type": "code",
   "execution_count": 135,
   "metadata": {},
   "outputs": [],
   "source": [
    "df_result = df\n",
    "df_result[\"overall_grade_merged\"] = df_result[\"overall_grade_merged\"].astype(float)\n",
    "X = df_result.drop('LNM',axis=1)\n",
    "y = df_result['LNM']\n",
    "X_train, X_test, y_train, y_test = train_test_split(X,y, stratify = y, test_size=0.2, random_state=10)\n",
    "\n",
    "xgb_model = XGBClassifier(max_delta_step = 20, max_depth = 4, eta = 0.2, nthread = 2, nrounds = 200 ,\n",
    "                 eval_metric = \"auc\" , scale_pos_weight = 100, colsample_bytree = 0.7,\n",
    "                 subsample = 0.8,\n",
    "                 gamma = 10,\n",
    "                 objective = \"binary:logistic\")"
   ]
  },
  {
   "cell_type": "code",
   "execution_count": 136,
   "metadata": {},
   "outputs": [
    {
     "name": "stdout",
     "output_type": "stream",
     "text": [
      "[15:50:08] WARNING: /Users/runner/work/xgboost/xgboost/python-package/build/temp.macosx-10.9-x86_64-3.7/xgboost/src/learner.cc:627: \n",
      "Parameters: { \"nrounds\" } might not be used.\n",
      "\n",
      "  This could be a false alarm, with some parameters getting used by language bindings but\n",
      "  then being mistakenly passed down to XGBoost core, or some parameter actually being used\n",
      "  but getting flagged wrongly here. Please open an issue if you find any such cases.\n",
      "\n",
      "\n"
     ]
    }
   ],
   "source": [
    "xgb_model.fit(X_train, y_train)\n",
    "xgb_preds = xgb_model.predict(X_test)"
   ]
  },
  {
   "cell_type": "code",
   "execution_count": 137,
   "metadata": {},
   "outputs": [
    {
     "data": {
      "text/plain": [
       "(1909, 16)"
      ]
     },
     "execution_count": 137,
     "metadata": {},
     "output_type": "execute_result"
    }
   ],
   "source": [
    "X_train.shape"
   ]
  },
  {
   "cell_type": "code",
   "execution_count": 138,
   "metadata": {},
   "outputs": [
    {
     "name": "stdout",
     "output_type": "stream",
     "text": [
      "0.9435146443514645\n",
      "              precision    recall  f1-score   support\n",
      "\n",
      "           0       0.98      0.96      0.97       467\n",
      "           1       0.14      0.27      0.18        11\n",
      "\n",
      "    accuracy                           0.94       478\n",
      "   macro avg       0.56      0.62      0.58       478\n",
      "weighted avg       0.96      0.94      0.95       478\n",
      "\n"
     ]
    }
   ],
   "source": [
    "print(metrics.accuracy_score(y_test, xgb_preds))\n",
    "print(metrics.classification_report(y_test, xgb_preds))"
   ]
  },
  {
   "cell_type": "code",
   "execution_count": 139,
   "metadata": {},
   "outputs": [
    {
     "data": {
      "text/plain": [
       "0.7335020439945493"
      ]
     },
     "execution_count": 139,
     "metadata": {},
     "output_type": "execute_result"
    }
   ],
   "source": [
    "xgb_pred_prob = xgb_model.predict_proba(X_test)\n",
    "metrics.roc_auc_score(y_test, xgb_pred_prob[:,1] , average=\"weighted\")"
   ]
  },
  {
   "cell_type": "code",
   "execution_count": 140,
   "metadata": {},
   "outputs": [
    {
     "data": {
      "text/plain": [
       "<AxesSubplot:title={'center':'Feature importance'}, xlabel='F score', ylabel='Features'>"
      ]
     },
     "execution_count": 140,
     "metadata": {},
     "output_type": "execute_result"
    },
    {
     "data": {
      "image/png": "[encoded data removed]",
      "text/plain": [
       "<Figure size 432x288 with 1 Axes>"
      ]
     },
     "metadata": {
      "needs_background": "light"
     },
     "output_type": "display_data"
    }
   ],
   "source": [
    "plot_importance(xgb_model)"
   ]
  },
  {
   "cell_type": "markdown",
   "metadata": {},
   "source": [
    "# Model without MRI"
   ]
  },
  {
   "cell_type": "code",
   "execution_count": 141,
   "metadata": {},
   "outputs": [],
   "source": [
    "df_result = df\n",
    "df_result[\"overall_grade_merged\"] = df_result[\"overall_grade_merged\"].astype(float)\n",
    "X = df_result.drop('LNM',axis=1)\n",
    "X = X.drop(['P_Score','adenopathy','prostate_volume'],axis=1)\n",
    "y = df_result['LNM']\n",
    "X_train, X_test, y_train, y_test = train_test_split(X,y, stratify = y, test_size=0.2, random_state=10)\n",
    "\n",
    "xgb_model = XGBClassifier(max_delta_step = 20, max_depth = 4, eta = 0.2, nthread = 2, nrounds = 200 ,\n",
    "                 eval_metric = \"auc\" , scale_pos_weight = 100, colsample_bytree = 0.7,\n",
    "                 subsample = 0.8,\n",
    "                 gamma = 10,\n",
    "                 objective = \"binary:logistic\")"
   ]
  },
  {
   "cell_type": "code",
   "execution_count": 142,
   "metadata": {},
   "outputs": [
    {
     "name": "stdout",
     "output_type": "stream",
     "text": [
      "[15:50:11] WARNING: /Users/runner/work/xgboost/xgboost/python-package/build/temp.macosx-10.9-x86_64-3.7/xgboost/src/learner.cc:627: \n",
      "Parameters: { \"nrounds\" } might not be used.\n",
      "\n",
      "  This could be a false alarm, with some parameters getting used by language bindings but\n",
      "  then being mistakenly passed down to XGBoost core, or some parameter actually being used\n",
      "  but getting flagged wrongly here. Please open an issue if you find any such cases.\n",
      "\n",
      "\n",
      "0.9414225941422594\n",
      "              precision    recall  f1-score   support\n",
      "\n",
      "           0       0.98      0.96      0.97       467\n",
      "           1       0.13      0.27      0.18        11\n",
      "\n",
      "    accuracy                           0.94       478\n",
      "   macro avg       0.56      0.61      0.57       478\n",
      "weighted avg       0.96      0.94      0.95       478\n",
      "\n"
     ]
    }
   ],
   "source": [
    "xgb_model.fit(X_train, y_train)\n",
    "xgb_preds = xgb_model.predict(X_test)\n",
    "print(metrics.accuracy_score(y_test, xgb_preds))\n",
    "print(metrics.classification_report(y_test, xgb_preds))"
   ]
  },
  {
   "cell_type": "code",
   "execution_count": 143,
   "metadata": {},
   "outputs": [
    {
     "data": {
      "text/plain": [
       "0.7328207124781001"
      ]
     },
     "execution_count": 143,
     "metadata": {},
     "output_type": "execute_result"
    }
   ],
   "source": [
    "xgb_pred_prob = xgb_model.predict_proba(X_test)\n",
    "metrics.roc_auc_score(y_test, xgb_pred_prob[:,1] , average=\"weighted\")"
   ]
  },
  {
   "cell_type": "code",
   "execution_count": 144,
   "metadata": {},
   "outputs": [
    {
     "data": {
      "text/plain": [
       "<AxesSubplot:title={'center':'Feature importance'}, xlabel='F score', ylabel='Features'>"
      ]
     },
     "execution_count": 144,
     "metadata": {},
     "output_type": "execute_result"
    },
    {
     "data": {
      "image/png": "[encoded data removed]",
      "text/plain": [
       "<Figure size 432x288 with 1 Axes>"
      ]
     },
     "metadata": {
      "needs_background": "light"
     },
     "output_type": "display_data"
    }
   ],
   "source": [
    "plot_importance(xgb_model)"
   ]
  },
  {
   "cell_type": "markdown",
   "metadata": {},
   "source": [
    "# Oversampleing on MRI (Need to drop data with missingness so that this would work)"
   ]
  },
  {
   "cell_type": "code",
   "execution_count": 145,
   "metadata": {},
   "outputs": [],
   "source": [
    "X = df_all.drop('LNM',axis=1)\n",
    "y = df_all['LNM']"
   ]
  },
  {
   "cell_type": "code",
   "execution_count": 146,
   "metadata": {},
   "outputs": [],
   "source": [
    "X_train, X_test, y_train, y_test = train_test_split(X,y, stratify = y, test_size=0.2, random_state=10)\n",
    "oversample = SMOTE()\n",
    "X, y = oversample.fit_resample(X_train, y_train)"
   ]
  },
  {
   "cell_type": "code",
   "execution_count": 147,
   "metadata": {},
   "outputs": [],
   "source": [
    "xgb_model = XGBClassifier(objective = \"binary:logistic\")"
   ]
  },
  {
   "cell_type": "code",
   "execution_count": 148,
   "metadata": {},
   "outputs": [
    {
     "name": "stdout",
     "output_type": "stream",
     "text": [
      "0.9158878504672897\n",
      "              precision    recall  f1-score   support\n",
      "\n",
      "           0       0.97      0.94      0.96       103\n",
      "           1       0.14      0.25      0.18         4\n",
      "\n",
      "    accuracy                           0.92       107\n",
      "   macro avg       0.56      0.60      0.57       107\n",
      "weighted avg       0.94      0.92      0.93       107\n",
      "\n"
     ]
    }
   ],
   "source": [
    "xgb_model.fit(X, y)\n",
    "xgb_preds = xgb_model.predict(X_test)\n",
    "print(metrics.accuracy_score(y_test, xgb_preds))\n",
    "print(metrics.classification_report(y_test, xgb_preds))"
   ]
  },
  {
   "cell_type": "code",
   "execution_count": 149,
   "metadata": {},
   "outputs": [
    {
     "data": {
      "text/plain": [
       "0.7766990291262136"
      ]
     },
     "execution_count": 149,
     "metadata": {},
     "output_type": "execute_result"
    }
   ],
   "source": [
    "xgb_pred_prob = xgb_model.predict_proba(X_test)\n",
    "metrics.roc_auc_score(y_test, xgb_pred_prob[:,1] , average=\"weighted\")"
   ]
  },
  {
   "cell_type": "code",
   "execution_count": 150,
   "metadata": {},
   "outputs": [
    {
     "data": {
      "text/plain": [
       "<AxesSubplot:title={'center':'Feature importance'}, xlabel='F score', ylabel='Features'>"
      ]
     },
     "execution_count": 150,
     "metadata": {},
     "output_type": "execute_result"
    },
    {
     "data": {
      "image/png": "[encoded data removed]",
      "text/plain": [
       "<Figure size 432x288 with 1 Axes>"
      ]
     },
     "metadata": {
      "needs_background": "light"
     },
     "output_type": "display_data"
    }
   ],
   "source": [
    "plot_importance(xgb_model)"
   ]
  },
  {
   "cell_type": "markdown",
   "metadata": {},
   "source": [
    "# Oversampling on Non MRI (same need to drop missingness data along with MRI features)"
   ]
  },
  {
   "cell_type": "code",
   "execution_count": 151,
   "metadata": {},
   "outputs": [],
   "source": [
    "df_result = df_result.drop(['P_Score','adenopathy','prostate_volume'],axis=1).dropna()\n",
    "X = df_result.drop('LNM',axis=1)\n",
    "y = df_result['LNM']"
   ]
  },
  {
   "cell_type": "code",
   "execution_count": 152,
   "metadata": {},
   "outputs": [],
   "source": [
    "X_train, X_test, y_train, y_test = train_test_split(X,y, stratify = y, test_size=0.2, random_state=10)"
   ]
  },
  {
   "cell_type": "code",
   "execution_count": 187,
   "metadata": {},
   "outputs": [],
   "source": [
    "oversample = SMOTE()\n",
    "X, y = oversample.fit_resample(X_train, y_train)"
   ]
  },
  {
   "cell_type": "code",
   "execution_count": 188,
   "metadata": {},
   "outputs": [],
   "source": [
    "xgb_model = XGBClassifier(max_delta_step = 20, max_depth = 4, eta = 0.2, nthread = 2, nrounds = 200 ,\n",
    "                 eval_metric = \"auc\" , scale_pos_weight = 100, colsample_bytree = 0.7,\n",
    "                 subsample = 0.8,\n",
    "                 gamma = 10,\n",
    "                 objective = \"binary:logistic\")"
   ]
  },
  {
   "cell_type": "code",
   "execution_count": 189,
   "metadata": {},
   "outputs": [
    {
     "name": "stdout",
     "output_type": "stream",
     "text": [
      "[15:53:43] WARNING: /Users/runner/work/xgboost/xgboost/python-package/build/temp.macosx-10.9-x86_64-3.7/xgboost/src/learner.cc:627: \n",
      "Parameters: { \"nrounds\" } might not be used.\n",
      "\n",
      "  This could be a false alarm, with some parameters getting used by language bindings but\n",
      "  then being mistakenly passed down to XGBoost core, or some parameter actually being used\n",
      "  but getting flagged wrongly here. Please open an issue if you find any such cases.\n",
      "\n",
      "\n",
      "0.8622881355932204\n",
      "              precision    recall  f1-score   support\n",
      "\n",
      "           0       0.99      0.87      0.93       461\n",
      "           1       0.09      0.55      0.16        11\n",
      "\n",
      "    accuracy                           0.86       472\n",
      "   macro avg       0.54      0.71      0.54       472\n",
      "weighted avg       0.97      0.86      0.91       472\n",
      "\n"
     ]
    }
   ],
   "source": [
    "xgb_model.fit(X, y)\n",
    "xgb_preds = xgb_model.predict(X_test)\n",
    "print(metrics.accuracy_score(y_test, xgb_preds))\n",
    "print(metrics.classification_report(y_test, xgb_preds))"
   ]
  },
  {
   "cell_type": "code",
   "execution_count": 190,
   "metadata": {},
   "outputs": [
    {
     "data": {
      "text/plain": [
       "0.7350621179254585"
      ]
     },
     "execution_count": 190,
     "metadata": {},
     "output_type": "execute_result"
    }
   ],
   "source": [
    "xgb_pred_prob = xgb_model.predict_proba(X_test)\n",
    "metrics.roc_auc_score(y_test, xgb_pred_prob[:,1] , average=\"weighted\")"
   ]
  },
  {
   "cell_type": "code",
   "execution_count": 191,
   "metadata": {},
   "outputs": [
    {
     "data": {
      "text/plain": [
       "<AxesSubplot:title={'center':'Feature importance'}, xlabel='F score', ylabel='Features'>"
      ]
     },
     "execution_count": 191,
     "metadata": {},
     "output_type": "execute_result"
    },
    {
     "data": {
      "image/png": "[encoded data removed]",
      "text/plain": [
       "<Figure size 432x288 with 1 Axes>"
      ]
     },
     "metadata": {
      "needs_background": "light"
     },
     "output_type": "display_data"
    }
   ],
   "source": [
    "plot_importance(xgb_model)"
   ]
  },
  {
   "cell_type": "markdown",
   "metadata": {},
   "source": [
    "# Model with Top 3 features"
   ]
  },
  {
   "cell_type": "code",
   "execution_count": 158,
   "metadata": {},
   "outputs": [],
   "source": [
    "df_result = df\n",
    "df_result[\"overall_grade_merged\"] = df_result[\"overall_grade_merged\"].astype(float)\n",
    "X = df_result.drop('LNM',axis=1)\n",
    "X = X[['Age at RP','PSA','overall_grade_merged']]\n",
    "y = df_result['LNM']\n",
    "X_train, X_test, y_train, y_test = train_test_split(X,y, stratify = y, test_size=0.2, random_state=10)\n",
    "\n",
    "xgb_model = XGBClassifier(max_delta_step = 20, max_depth = 4, eta = 0.2, nthread = 2, nrounds = 200 ,\n",
    "                 eval_metric = \"auc\" , scale_pos_weight = 100, colsample_bytree = 0.7,\n",
    "                 subsample = 0.8,\n",
    "                 gamma = 10,\n",
    "                 objective = \"binary:logistic\")"
   ]
  },
  {
   "cell_type": "code",
   "execution_count": 159,
   "metadata": {},
   "outputs": [
    {
     "name": "stdout",
     "output_type": "stream",
     "text": [
      "[15:51:31] WARNING: /Users/runner/work/xgboost/xgboost/python-package/build/temp.macosx-10.9-x86_64-3.7/xgboost/src/learner.cc:627: \n",
      "Parameters: { \"nrounds\" } might not be used.\n",
      "\n",
      "  This could be a false alarm, with some parameters getting used by language bindings but\n",
      "  then being mistakenly passed down to XGBoost core, or some parameter actually being used\n",
      "  but getting flagged wrongly here. Please open an issue if you find any such cases.\n",
      "\n",
      "\n",
      "0.9037656903765691\n",
      "              precision    recall  f1-score   support\n",
      "\n",
      "           0       0.98      0.92      0.95       467\n",
      "           1       0.05      0.18      0.08        11\n",
      "\n",
      "    accuracy                           0.90       478\n",
      "   macro avg       0.52      0.55      0.51       478\n",
      "weighted avg       0.96      0.90      0.93       478\n",
      "\n"
     ]
    }
   ],
   "source": [
    "xgb_model.fit(X_train, y_train)\n",
    "xgb_preds = xgb_model.predict(X_test)\n",
    "print(metrics.accuracy_score(y_test, xgb_preds))\n",
    "print(metrics.classification_report(y_test, xgb_preds))"
   ]
  },
  {
   "cell_type": "code",
   "execution_count": 160,
   "metadata": {},
   "outputs": [
    {
     "data": {
      "text/plain": [
       "0.7510219972746739"
      ]
     },
     "execution_count": 160,
     "metadata": {},
     "output_type": "execute_result"
    }
   ],
   "source": [
    "xgb_pred_prob = xgb_model.predict_proba(X_test)\n",
    "metrics.roc_auc_score(y_test, xgb_pred_prob[:,1] , average=\"weighted\")"
   ]
  },
  {
   "cell_type": "code",
   "execution_count": 161,
   "metadata": {},
   "outputs": [
    {
     "data": {
      "text/plain": [
       "<AxesSubplot:title={'center':'Feature importance'}, xlabel='F score', ylabel='Features'>"
      ]
     },
     "execution_count": 161,
     "metadata": {},
     "output_type": "execute_result"
    },
    {
     "data": {
      "image/png": "[encoded data removed]",
      "text/plain": [
       "<Figure size 432x288 with 1 Axes>"
      ]
     },
     "metadata": {
      "needs_background": "light"
     },
     "output_type": "display_data"
    }
   ],
   "source": [
    "plot_importance(xgb_model)"
   ]
  },
  {
   "cell_type": "markdown",
   "metadata": {},
   "source": [
    "# Oversampling on Top 3"
   ]
  },
  {
   "cell_type": "code",
   "execution_count": 168,
   "metadata": {},
   "outputs": [],
   "source": [
    "df_result = df_result[['Age at RP','PSA','overall_grade_merged','LNM']].dropna()\n",
    "X = df_result.drop('LNM',axis=1)\n",
    "X = X[['Age at RP','PSA','overall_grade_merged']]\n",
    "y = df_result['LNM']\n",
    "X_train, X_test, y_train, y_test = train_test_split(X,y, stratify = y, test_size=0.2, random_state=10)"
   ]
  },
  {
   "cell_type": "code",
   "execution_count": 174,
   "metadata": {},
   "outputs": [],
   "source": [
    "oversample = SMOTE()\n",
    "X, y = oversample.fit_resample(X_train, y_train)"
   ]
  },
  {
   "cell_type": "code",
   "execution_count": 183,
   "metadata": {},
   "outputs": [],
   "source": [
    "xgb_model = XGBClassifier(\n",
    "    max_delta_step = 20, max_depth = 4, eta = 0.2, nthread = 2, nrounds = 200 ,\n",
    "                 eval_metric = \"auc\" , scale_pos_weight = 10,\n",
    "                 subsample = 0.8,\n",
    "    #              gamma = 10,\n",
    "                 objective = \"binary:logistic\")"
   ]
  },
  {
   "cell_type": "code",
   "execution_count": 184,
   "metadata": {},
   "outputs": [
    {
     "name": "stdout",
     "output_type": "stream",
     "text": [
      "[15:52:38] WARNING: /Users/runner/work/xgboost/xgboost/python-package/build/temp.macosx-10.9-x86_64-3.7/xgboost/src/learner.cc:627: \n",
      "Parameters: { \"nrounds\" } might not be used.\n",
      "\n",
      "  This could be a false alarm, with some parameters getting used by language bindings but\n",
      "  then being mistakenly passed down to XGBoost core, or some parameter actually being used\n",
      "  but getting flagged wrongly here. Please open an issue if you find any such cases.\n",
      "\n",
      "\n",
      "0.9279661016949152\n",
      "              precision    recall  f1-score   support\n",
      "\n",
      "           0       0.98      0.94      0.96       461\n",
      "           1       0.13      0.36      0.19        11\n",
      "\n",
      "    accuracy                           0.93       472\n",
      "   macro avg       0.56      0.65      0.58       472\n",
      "weighted avg       0.96      0.93      0.94       472\n",
      "\n"
     ]
    }
   ],
   "source": [
    "xgb_model.fit(X, y)\n",
    "xgb_preds = xgb_model.predict(X_test)\n",
    "print(metrics.accuracy_score(y_test, xgb_preds))\n",
    "print(metrics.classification_report(y_test, xgb_preds))"
   ]
  },
  {
   "cell_type": "code",
   "execution_count": 185,
   "metadata": {},
   "outputs": [
    {
     "data": {
      "text/plain": [
       "0.7296391244330507"
      ]
     },
     "execution_count": 185,
     "metadata": {},
     "output_type": "execute_result"
    }
   ],
   "source": [
    "xgb_pred_prob = xgb_model.predict_proba(X_test)\n",
    "metrics.roc_auc_score(y_test, xgb_pred_prob[:,1] , average=\"weighted\")"
   ]
  },
  {
   "cell_type": "code",
   "execution_count": 186,
   "metadata": {},
   "outputs": [
    {
     "data": {
      "text/plain": [
       "<AxesSubplot:title={'center':'Feature importance'}, xlabel='F score', ylabel='Features'>"
      ]
     },
     "execution_count": 186,
     "metadata": {},
     "output_type": "execute_result"
    },
    {
     "data": {
      "image/png": "[encoded data removed]",
      "text/plain": [
       "<Figure size 432x288 with 1 Axes>"
      ]
     },
     "metadata": {
      "needs_background": "light"
     },
     "output_type": "display_data"
    }
   ],
   "source": [
    "plot_importance(xgb_model)"
   ]
  },
  {
   "cell_type": "code",
   "execution_count": null,
   "metadata": {},
   "outputs": [],
   "source": []
  }
 ],
 "metadata": {
  "kernelspec": {
   "display_name": "Python 3.9.7 ('CS109B-EpXkDfoL')",
   "language": "python",
   "name": "python3"
  },
  "language_info": {
   "codemirror_mode": {
    "name": "ipython",
    "version": 3
   },
   "file_extension": ".py",
   "mimetype": "text/x-python",
   "name": "python",
   "nbconvert_exporter": "python",
   "pygments_lexer": "ipython3",
   "version": "3.9.7"
  },
  "vscode": {
   "interpreter": {
    "hash": "d9586e197f6f26c72fae433bd2e5aaeb4790f8bd29c18e95f6f90e7aedfaed44"
   }
  }
 },
 "nbformat": 4,
 "nbformat_minor": 2
}
