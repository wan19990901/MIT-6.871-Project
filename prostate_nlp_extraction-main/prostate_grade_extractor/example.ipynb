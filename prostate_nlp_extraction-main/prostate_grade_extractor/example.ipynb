{
 "cells": [
  {
   "cell_type": "code",
   "execution_count": 1,
   "metadata": {},
   "outputs": [],
   "source": [
    "import pandas as pd\n",
    "import numpy as np\n",
    "from biopsy_grade_extractor import BiopsyGradeExtractor # load exttractor"
   ]
  },
  {
   "cell_type": "markdown",
   "metadata": {},
   "source": [
    "### load the dataset which contrains biopsy reports"
   ]
  },
  {
   "cell_type": "code",
   "execution_count": 2,
   "metadata": {},
   "outputs": [],
   "source": [
    "df_pathology = pd.read_csv('../data/sample_biopsy_reports.csv')\t"
   ]
  },
  {
   "cell_type": "markdown",
   "metadata": {},
   "source": [
    "### Instantiate BiopsyGradeExtractor and fit the data"
   ]
  },
  {
   "cell_type": "code",
   "execution_count": 3,
   "metadata": {
    "scrolled": true
   },
   "outputs": [
    {
     "name": "stderr",
     "output_type": "stream",
     "text": [
      "extracing info...: 100%|██████████| 18/18 [00:00<00:00, 3697.59it/s]"
     ]
    },
    {
     "name": "stdout",
     "output_type": "stream",
     "text": [
      "\n",
      "\n",
      "Extraction complete.\n",
      "\n",
      "\n",
      "Displaying summary...\n",
      "Counts per each primary grade: \n",
      "3    30\n",
      "4    11\n",
      "5     3\n",
      "dtype: int64\n",
      "\n",
      "\n",
      "Counts per each secondary grade: \n",
      "3    25\n",
      "4    13\n",
      "5     6\n",
      "dtype: int64\n",
      "\n",
      "\n",
      "Counts per each max core involvement : \n",
      "5     10\n",
      "10     8\n",
      "20     6\n",
      "30     6\n",
      "15     5\n",
      "90     4\n",
      "50     4\n",
      "25     3\n",
      "70     2\n",
      "40     2\n",
      "60     2\n",
      "2      1\n",
      "80     1\n",
      "17     1\n",
      "dtype: int64\n",
      "\n",
      "\n",
      "Number of reports with benign indicator 1 (postiive) or 0 (negative) : \n",
      "0    18\n",
      "dtype: int64\n",
      "total =  18\n",
      "\n",
      "\n",
      "Number of reports per each # of positive cores : \n",
      "1     5\n",
      "2     4\n",
      "4     3\n",
      "3     2\n",
      "5     1\n",
      "8     1\n",
      "9     1\n",
      "10    1\n",
      "dtype: int64\n",
      "Number of reports per each # of total cores : \n",
      "4     4\n",
      "6     4\n",
      "2     3\n",
      "1     2\n",
      "10    2\n",
      "3     1\n",
      "5     1\n",
      "12    1\n",
      "dtype: int64\n",
      "Number of reports per each overall grade : \n",
      "1    7\n",
      "3    5\n",
      "2    2\n",
      "4    2\n",
      "5    2\n",
      "dtype: int64\n",
      "total =  18\n",
      "Number of unique biopsy reports :  18\n",
      "Number of unique biopsy reports per center : \n",
      "BWH    13\n",
      "MGH     5\n",
      "dtype: int64\n",
      "Number of unique patients :  18\n",
      "Number of unique patients with overall grade :  18\n",
      "Number of unique patients with overall grade, and num. of positive and total cores :  18\n",
      "Number of unique patients with num. of positive and total cores :  18\n",
      "Number of unique patients with overall grade, num. of positive and total cores, and maximum core involvement :  18\n",
      "Number of unique patients with overall grade, num. of positive and total cores, maximum core involvement, and benign :  18\n",
      "\n",
      "\n"
     ]
    },
    {
     "name": "stderr",
     "output_type": "stream",
     "text": [
      "\n",
      "/Users/intaemoon/anaconda3/lib/python3.7/site-packages/pandas/core/dtypes/missing.py:516: VisibleDeprecationWarning: Creating an ndarray from ragged nested sequences (which is a list-or-tuple of lists-or-tuples-or ndarrays with different lengths or shapes) is deprecated. If you meant to do this, you must specify 'dtype=object' when creating the ndarray\n",
      "  val = np.array(val, copy=False)\n",
      "/Users/intaemoon/anaconda3/lib/python3.7/site-packages/numpy/core/_asarray.py:83: VisibleDeprecationWarning: Creating an ndarray from ragged nested sequences (which is a list-or-tuple of lists-or-tuples-or ndarrays with different lengths or shapes) is deprecated. If you meant to do this, you must specify 'dtype=object' when creating the ndarray\n",
      "  return array(a, dtype, copy=False, order=order)\n",
      "/Users/intaemoon/anaconda3/lib/python3.7/site-packages/pandas/core/internals/blocks.py:976: VisibleDeprecationWarning: Creating an ndarray from ragged nested sequences (which is a list-or-tuple of lists-or-tuples-or ndarrays with different lengths or shapes) is deprecated. If you meant to do this, you must specify 'dtype=object' when creating the ndarray\n",
      "  dtype, _ = maybe_promote(np.array(value).dtype)\n",
      "/Users/intaemoon/anaconda3/lib/python3.7/site-packages/pandas/core/internals/blocks.py:993: VisibleDeprecationWarning: Creating an ndarray from ragged nested sequences (which is a list-or-tuple of lists-or-tuples-or ndarrays with different lengths or shapes) is deprecated. If you meant to do this, you must specify 'dtype=object' when creating the ndarray\n",
      "  arr_value = np.array(value)\n"
     ]
    }
   ],
   "source": [
    "extractor = BiopsyGradeExtractor()\n",
    "extractor.fit(df_pathology, display_summary = True, return_summary_df = False)"
   ]
  },
  {
   "cell_type": "markdown",
   "metadata": {},
   "source": [
    "### Validate the performance of the algorithm"
   ]
  },
  {
   "cell_type": "code",
   "execution_count": 4,
   "metadata": {},
   "outputs": [
    {
     "name": "stdout",
     "output_type": "stream",
     "text": [
      "\n",
      "\n",
      "Extracted info : \n",
      "Report_Number                                                  YDOXSRZFJF\n",
      "Report_Text             Firm right prostate lobe. ====================...\n",
      "primary_grade                                                         [3]\n",
      "secondary_grade                                                       [3]\n",
      "overall_grade_group                                                   [1]\n",
      "overall_grade_merged                                                    1\n",
      "Name: 0, dtype: object\n",
      "\n",
      "\n",
      "Pathology report : \n",
      "Firm right prostate lobe. =============================================================================== *** FINAL DIAGNOSIS *** PROSTATE (RIGHT), BIOPSY: PROSTATIC ADENOCARCINOMA, GLEASON GRADE 3+3=6/10, PRESENT IN 4 OF 4 CORES AND 60% OF THE TOTAL TISSUE. PROSTATE (LEFT), BIOPSY: BENIGN PROSTATIC TISSUE. Diagnosis by: =============================================================================== GROSS DESCRIPTION: Received in formalin, labeled with the patient's name, unit number, and \"Right prostate biopsies\", are six tan cylindrical soft tissues, ranging from 0.3 x 0.1 cm to 1.9 x 0.1 , which are submitted in toto as A. Labeled \"Left prostate biopsies\", are eight soft, tan cylindrical soft tissues, ranging from 0.5 x 0.1 cm to 1.6 x 0.1 cm which are submitted in toto as B. Gross Description by: PART A: PROSTATE(RIGHT),BIOPSY PART B: PROSTATE(LEFT),BIOPSY\n",
      "\n",
      "\n",
      "Would you like to continue? (Y/N) : Y\n",
      "\n",
      "\n",
      "Extracted info : \n",
      "Report_Number                                                  PWDMXHIVGX\n",
      "Report_Text             A. PROSTATE NEEDLE BIOPSIES, RIGHT BASE: PROST...\n",
      "primary_grade                                          [4, 4, 4, 3, 3, 3]\n",
      "secondary_grade                                        [4, 4, 3, 4, 4, 3]\n",
      "overall_grade_group                                    [4, 4, 3, 2, 2, 1]\n",
      "overall_grade_merged                                                    4\n",
      "Name: 1, dtype: object\n",
      "\n",
      "\n",
      "Pathology report : \n",
      "A. PROSTATE NEEDLE BIOPSIES, RIGHT BASE: PROSTATIC ADENOCARCINOMA, Gleason score 4+4=8 (Grade Group 4) involving 10% of one of two (1:2) fragmented cores. No perineural invasion. B. PROSTATE NEEDLE BIOPSIES, RIGHT MID: PROSTATIC ADENOCARCINOMA, Gleason score 4+4=8 (Grade Group 4) involving 30% and 10% of two of two (2:2) fragmented cores. No perineural invasion. C. PROSTATE NEEDLE BIOPSIES, RIGHT APEX: PROSTATIC ADENOCARCINOMA, Gleason score 4+3=7 (Grade Group 3) involving 90% and 30% of two of two (2:2) fragmented cores. Gleason pattern 4 comprises 70% of the tumor. Perineural invasion is present. D. PROSTATE NEEDLE BIOPSIES, LEFT BASE: PROSTATIC ADENOCARCINOMA, Gleason score 3+4=7 (Grade Group 2) involving less than 5% of one of two (1:2) cores. Gleason pattern 4 comprises 20% of the tumor. No perineural invasion. E. PROSTATE NEEDLE BIOPSIES, LEFT MID: PROSTATIC ADENOCARCINOMA, Gleason score 3+4=7 (Grade Group 2) involving 5% of one of two (1:2) cores. Gleason pattern 4 comprises 30% of the tumor. No perineural invasion. F. PROSTATE NEEDLE BIOPSIES, LEFT APEX: PROSTATIC ADENOCARCINOMA, Gleason score 3+3=6 (Grade Group 1) involving 20% and 5% of two of two (2:2) cores. No perineural invasion. CLINICAL DATA: History: Prostate ca TISSUE SUBMITTED: Consult slides. GROSS DESCRIPTION:\n",
      "\n",
      "\n",
      "Would you like to continue? (Y/N) : Y\n",
      "\n",
      "\n",
      "Extracted info : \n",
      "Report_Number                                                  KFDPJIOOSD\n",
      "Report_Text             A) RIGHT LOBE: Benign prostatic tissue. Immuno...\n",
      "primary_grade                                                         [4]\n",
      "secondary_grade                                                       [3]\n",
      "overall_grade_group                                                   [3]\n",
      "overall_grade_merged                                                    3\n",
      "Name: 2, dtype: object\n",
      "\n",
      "\n",
      "Pathology report : \n",
      "A) RIGHT LOBE: Benign prostatic tissue. Immunostains performed at XXX confirm the presence of basal cells (34BE12/p63 positive) around the prostate glands. B) LEFT LOBE: PROSTATIC ADENOCARCINOMA, Gleason score 4+3=7 involving 90%, 70%, 20% and 20% of four of six cores (4/6). No perineural invasion is present.\n",
      "\n",
      "\n",
      "Would you like to continue? (Y/N) : Y\n",
      "Reached the end of list...\n"
     ]
    }
   ],
   "source": [
    "report_number_oi = ['YDOXSRZFJF', 'PWDMXHIVGX', 'KFDPJIOOSD'] \n",
    "# if report_number_oi is not specified, then it randomly picks report to evaluate\n",
    "extractor.validate_results(report_numbers_to_query = report_number_oi)"
   ]
  },
  {
   "cell_type": "code",
   "execution_count": null,
   "metadata": {},
   "outputs": [],
   "source": []
  }
 ],
 "metadata": {
  "kernelspec": {
   "display_name": "Python 3",
   "language": "python",
   "name": "python3"
  },
  "language_info": {
   "codemirror_mode": {
    "name": "ipython",
    "version": 3
   },
   "file_extension": ".py",
   "mimetype": "text/x-python",
   "name": "python",
   "nbconvert_exporter": "python",
   "pygments_lexer": "ipython3",
   "version": "3.7.4"
  }
 },
 "nbformat": 4,
 "nbformat_minor": 2
}
