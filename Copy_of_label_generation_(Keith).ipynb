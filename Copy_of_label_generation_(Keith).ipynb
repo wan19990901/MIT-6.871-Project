{
  "nbformat": 4,
  "nbformat_minor": 0,
  "metadata": {
    "colab": {
      "name": "Copy of label_generation (Keith).ipynb",
      "provenance": [],
      "collapsed_sections": []
    },
    "kernelspec": {
      "name": "python3",
      "display_name": "Python 3"
    },
    "language_info": {
      "name": "python"
    }
  },
  "cells": [
    {
      "cell_type": "code",
      "execution_count": null,
      "metadata": {
        "id": "A9qjpJDMi7p0"
      },
      "outputs": [],
      "source": [
        "import pandas as pd\n",
        "import numpy as np\n",
        "import os\n",
        "import shutil\n",
        "import csv\n",
        "import re"
      ]
    },
    {
      "cell_type": "code",
      "source": [
        "!wget -O singlerp.csv https://www.dropbox.com/s/y6zmuirq4mwdlgn/singlerp.csv?dl=0"
      ],
      "metadata": {
        "id": "OkKlLCfZPuMP"
      },
      "execution_count": null,
      "outputs": []
    },
    {
      "cell_type": "code",
      "source": [
        "!wget -O rad.txt https://www.dropbox.com/s/npg42xdq2lzemnn/KS185_20200918_114153_Rad.txt?dl=0"
      ],
      "metadata": {
        "id": "r17bKBwh2VtF"
      },
      "execution_count": null,
      "outputs": []
    },
    {
      "cell_type": "code",
      "source": [
        "id = pd.read_csv('singlerp.csv', header=0, low_memory=False) # Why only single but not multiple?"
      ],
      "metadata": {
        "id": "noXowHhHPybl"
      },
      "execution_count": null,
      "outputs": []
    },
    {
      "cell_type": "code",
      "source": [
        "id.head()"
      ],
      "metadata": {
        "id": "vvRYtYnhoZFh",
        "colab": {
          "base_uri": "https://localhost:8080/",
          "height": 206
        },
        "outputId": "5af1e8af-b8a0-4629-920a-aaddd568b73c"
      },
      "execution_count": null,
      "outputs": [
        {
          "output_type": "execute_result",
          "data": {
            "text/plain": [
              "        EMPI     date_rp hospital_rp  lap_rp  lymph_rp\n",
              "0  100126964  2019-03-25         MGH       1         0\n",
              "1  100103172  2019-10-16         MGH       1         0\n",
              "2  100244916  2018-11-02         MGH       1         1\n",
              "3  100229964  2017-07-24         MGH       1         1\n",
              "4  100081580  2016-09-23         MGH       1         1"
            ],
            "text/html": [
              "\n",
              "  <div id=\"df-a4d8d5fc-7cd0-42a2-a613-305745739e3a\">\n",
              "    <div class=\"colab-df-container\">\n",
              "      <div>\n",
              "<style scoped>\n",
              "    .dataframe tbody tr th:only-of-type {\n",
              "        vertical-align: middle;\n",
              "    }\n",
              "\n",
              "    .dataframe tbody tr th {\n",
              "        vertical-align: top;\n",
              "    }\n",
              "\n",
              "    .dataframe thead th {\n",
              "        text-align: right;\n",
              "    }\n",
              "</style>\n",
              "<table border=\"1\" class=\"dataframe\">\n",
              "  <thead>\n",
              "    <tr style=\"text-align: right;\">\n",
              "      <th></th>\n",
              "      <th>EMPI</th>\n",
              "      <th>date_rp</th>\n",
              "      <th>hospital_rp</th>\n",
              "      <th>lap_rp</th>\n",
              "      <th>lymph_rp</th>\n",
              "    </tr>\n",
              "  </thead>\n",
              "  <tbody>\n",
              "    <tr>\n",
              "      <th>0</th>\n",
              "      <td>100126964</td>\n",
              "      <td>2019-03-25</td>\n",
              "      <td>MGH</td>\n",
              "      <td>1</td>\n",
              "      <td>0</td>\n",
              "    </tr>\n",
              "    <tr>\n",
              "      <th>1</th>\n",
              "      <td>100103172</td>\n",
              "      <td>2019-10-16</td>\n",
              "      <td>MGH</td>\n",
              "      <td>1</td>\n",
              "      <td>0</td>\n",
              "    </tr>\n",
              "    <tr>\n",
              "      <th>2</th>\n",
              "      <td>100244916</td>\n",
              "      <td>2018-11-02</td>\n",
              "      <td>MGH</td>\n",
              "      <td>1</td>\n",
              "      <td>1</td>\n",
              "    </tr>\n",
              "    <tr>\n",
              "      <th>3</th>\n",
              "      <td>100229964</td>\n",
              "      <td>2017-07-24</td>\n",
              "      <td>MGH</td>\n",
              "      <td>1</td>\n",
              "      <td>1</td>\n",
              "    </tr>\n",
              "    <tr>\n",
              "      <th>4</th>\n",
              "      <td>100081580</td>\n",
              "      <td>2016-09-23</td>\n",
              "      <td>MGH</td>\n",
              "      <td>1</td>\n",
              "      <td>1</td>\n",
              "    </tr>\n",
              "  </tbody>\n",
              "</table>\n",
              "</div>\n",
              "      <button class=\"colab-df-convert\" onclick=\"convertToInteractive('df-a4d8d5fc-7cd0-42a2-a613-305745739e3a')\"\n",
              "              title=\"Convert this dataframe to an interactive table.\"\n",
              "              style=\"display:none;\">\n",
              "        \n",
              "  <svg xmlns=\"http://www.w3.org/2000/svg\" height=\"24px\"viewBox=\"0 0 24 24\"\n",
              "       width=\"24px\">\n",
              "    <path d=\"M0 0h24v24H0V0z\" fill=\"none\"/>\n",
              "    <path d=\"M18.56 5.44l.94 2.06.94-2.06 2.06-.94-2.06-.94-.94-2.06-.94 2.06-2.06.94zm-11 1L8.5 8.5l.94-2.06 2.06-.94-2.06-.94L8.5 2.5l-.94 2.06-2.06.94zm10 10l.94 2.06.94-2.06 2.06-.94-2.06-.94-.94-2.06-.94 2.06-2.06.94z\"/><path d=\"M17.41 7.96l-1.37-1.37c-.4-.4-.92-.59-1.43-.59-.52 0-1.04.2-1.43.59L10.3 9.45l-7.72 7.72c-.78.78-.78 2.05 0 2.83L4 21.41c.39.39.9.59 1.41.59.51 0 1.02-.2 1.41-.59l7.78-7.78 2.81-2.81c.8-.78.8-2.07 0-2.86zM5.41 20L4 18.59l7.72-7.72 1.47 1.35L5.41 20z\"/>\n",
              "  </svg>\n",
              "      </button>\n",
              "      \n",
              "  <style>\n",
              "    .colab-df-container {\n",
              "      display:flex;\n",
              "      flex-wrap:wrap;\n",
              "      gap: 12px;\n",
              "    }\n",
              "\n",
              "    .colab-df-convert {\n",
              "      background-color: #E8F0FE;\n",
              "      border: none;\n",
              "      border-radius: 50%;\n",
              "      cursor: pointer;\n",
              "      display: none;\n",
              "      fill: #1967D2;\n",
              "      height: 32px;\n",
              "      padding: 0 0 0 0;\n",
              "      width: 32px;\n",
              "    }\n",
              "\n",
              "    .colab-df-convert:hover {\n",
              "      background-color: #E2EBFA;\n",
              "      box-shadow: 0px 1px 2px rgba(60, 64, 67, 0.3), 0px 1px 3px 1px rgba(60, 64, 67, 0.15);\n",
              "      fill: #174EA6;\n",
              "    }\n",
              "\n",
              "    [theme=dark] .colab-df-convert {\n",
              "      background-color: #3B4455;\n",
              "      fill: #D2E3FC;\n",
              "    }\n",
              "\n",
              "    [theme=dark] .colab-df-convert:hover {\n",
              "      background-color: #434B5C;\n",
              "      box-shadow: 0px 1px 3px 1px rgba(0, 0, 0, 0.15);\n",
              "      filter: drop-shadow(0px 1px 2px rgba(0, 0, 0, 0.3));\n",
              "      fill: #FFFFFF;\n",
              "    }\n",
              "  </style>\n",
              "\n",
              "      <script>\n",
              "        const buttonEl =\n",
              "          document.querySelector('#df-a4d8d5fc-7cd0-42a2-a613-305745739e3a button.colab-df-convert');\n",
              "        buttonEl.style.display =\n",
              "          google.colab.kernel.accessAllowed ? 'block' : 'none';\n",
              "\n",
              "        async function convertToInteractive(key) {\n",
              "          const element = document.querySelector('#df-a4d8d5fc-7cd0-42a2-a613-305745739e3a');\n",
              "          const dataTable =\n",
              "            await google.colab.kernel.invokeFunction('convertToInteractive',\n",
              "                                                     [key], {});\n",
              "          if (!dataTable) return;\n",
              "\n",
              "          const docLinkHtml = 'Like what you see? Visit the ' +\n",
              "            '<a target=\"_blank\" href=https://colab.research.google.com/notebooks/data_table.ipynb>data table notebook</a>'\n",
              "            + ' to learn more about interactive tables.';\n",
              "          element.innerHTML = '';\n",
              "          dataTable['output_type'] = 'display_data';\n",
              "          await google.colab.output.renderOutput(dataTable, element);\n",
              "          const docLink = document.createElement('div');\n",
              "          docLink.innerHTML = docLinkHtml;\n",
              "          element.appendChild(docLink);\n",
              "        }\n",
              "      </script>\n",
              "    </div>\n",
              "  </div>\n",
              "  "
            ]
          },
          "metadata": {},
          "execution_count": 5
        }
      ]
    },
    {
      "cell_type": "code",
      "source": [
        "!wget -O pat1.txt https://www.dropbox.com/s/k26bb5ewsx71n88/KS185_20200918_114153_Pat.txt?dl=0"
      ],
      "metadata": {
        "id": "dh3vw7tUzJLW"
      },
      "execution_count": null,
      "outputs": []
    },
    {
      "cell_type": "code",
      "source": [
        "!wget -O pat2.csv https://www.dropbox.com/s/cihhaunbfk1nzp1/Pat.csv?dl=0"
      ],
      "metadata": {
        "id": "y0n4aD-_P1HU"
      },
      "execution_count": null,
      "outputs": []
    },
    {
      "cell_type": "code",
      "source": [
        "!wget -O pat3.csv https://www.dropbox.com/s/t2th5b5iuvz72zk/Pat.csv?dl=0"
      ],
      "metadata": {
        "id": "vG1K9Pt4zRUY"
      },
      "execution_count": null,
      "outputs": []
    },
    {
      "cell_type": "code",
      "source": [
        "!wget -O pat4.csv https://www.dropbox.com/s/v24o2fkl3t07ahx/Pat.csv?dl=0"
      ],
      "metadata": {
        "id": "I50kvkeZzRY1"
      },
      "execution_count": null,
      "outputs": []
    },
    {
      "cell_type": "code",
      "source": [
        "df2 = pd.read_csv('pat2.csv',sep=\"|\", header=0, low_memory=False)"
      ],
      "metadata": {
        "id": "5D1Hb7kUQOpM"
      },
      "execution_count": null,
      "outputs": []
    },
    {
      "cell_type": "code",
      "source": [
        "df3 = pd.read_csv('pat3.csv',sep=\"|\", header=0, low_memory=False)"
      ],
      "metadata": {
        "id": "r4I6r0mJn1-R"
      },
      "execution_count": null,
      "outputs": []
    },
    {
      "cell_type": "code",
      "source": [
        "df4 = pd.read_csv('pat4.csv',sep=\"|\", header=0, low_memory=False)"
      ],
      "metadata": {
        "id": "tpK6cP1rh2Ye"
      },
      "execution_count": null,
      "outputs": []
    },
    {
      "cell_type": "code",
      "source": [
        "# Check 1st line of file\n",
        "rows = []\n",
        "curr_row = []\n",
        "with open('pat1.txt', encoding='utf-8') as input_file:\n",
        "    \n",
        "    first_line = input_file.readline()\n",
        "    \n",
        "    # Skip processing if current file doens't have multiline reports, just copy original txt file as csv\n",
        "    if \"|Report\" not in first_line:\n",
        "        shutil.copyfile('pat1.txt','pat1.csv')\n",
        "        input_file.close()\n",
        "\n",
        "    else:\n",
        "        input_file.close()\n",
        "\n",
        "for line in open('pat1.txt', encoding='utf-8'):\n",
        "\n",
        "    # Header of the file\n",
        "    if \"EPIC_PMRN|\" in line:\n",
        "        rows.append(line)\n",
        "        curr_row = []\n",
        "\n",
        "    # Beginning line for each record\n",
        "    elif '|' in line:\n",
        "        curr_row.append(line)\n",
        "\n",
        "    # End line for each record\n",
        "    elif '[report_end]' in line:\n",
        "        rows.append(curr_row)\n",
        "        curr_row = []\n",
        "\n",
        "    # data row for each record, likely report text\n",
        "    else:\n",
        "        curr_row.append(line)\n",
        "\n",
        "# Write to output file\n",
        "output_file = open('pat1.csv','w',newline='',encoding='utf-8')\n",
        "\n",
        "def strip_whitespace(record):\n",
        "    return \" \".join(record.split())\n",
        "      \n",
        "for r in rows:\n",
        "\n",
        "    curr_record = ''.join(r)\n",
        "    curr_record = strip_whitespace(curr_record)\n",
        "    output_file.write(curr_record + '\\n')\n",
        "\n",
        "output_file.close()"
      ],
      "metadata": {
        "id": "dH9703BazoXH"
      },
      "execution_count": null,
      "outputs": []
    },
    {
      "cell_type": "code",
      "source": [
        "df1 = pd.read_csv('pat1.csv',sep=\"|\", low_memory=False)"
      ],
      "metadata": {
        "id": "qC-6SEFj2ore"
      },
      "execution_count": null,
      "outputs": []
    },
    {
      "cell_type": "code",
      "source": [
        "df1.head()"
      ],
      "metadata": {
        "colab": {
          "base_uri": "https://localhost:8080/",
          "height": 206
        },
        "id": "AK2x7NTe25on",
        "outputId": "9649ec08-520a-458f-a9b6-0a76d1ba1527"
      },
      "execution_count": null,
      "outputs": [
        {
          "output_type": "execute_result",
          "data": {
            "text/plain": [
              "        EMPI     EPIC_PMRN MRN_Type     MRN Report_Number  \\\n",
              "0  100005276  1.002419e+10       FH  366628      S04-5802   \n",
              "1  100005276  1.002419e+10       FH  366628       S04-900   \n",
              "2  100005276  1.002419e+10       FH  366628      S03-6789   \n",
              "3  100005636  1.004004e+10      MGH  432959     S96E33362   \n",
              "4  100005636  1.004004e+10      BWH  882951     S8810652D   \n",
              "\n",
              "        Report_Date_Time  Report_Description Report_Status Report_Type  \\\n",
              "0   7/8/2004 12:00:00 AM  Surgical Pathology        Signed         PAT   \n",
              "1  1/29/2004 12:00:00 AM  Surgical Pathology        Signed         PAT   \n",
              "2   9/2/2003 12:00:00 AM  Surgical Pathology        Signed         PAT   \n",
              "3  8/27/1996 12:00:00 AM  Surgical Pathology         Final         PAT   \n",
              "4  8/22/1988 12:00:00 AM  Surgical Pathology         Final         PAT   \n",
              "\n",
              "                                         Report_Text  \n",
              "0  Accession Number: S04-5802 Report Status: Sign...  \n",
              "1  Accession Number: S04-900 Report Status: Signe...  \n",
              "2  Accession Number: S03-6789 Report Status: Sign...  \n",
              "3  Accession Number: S96E33362 Report Status: Fin...  \n",
              "4  Accession Number: S8810652D Report Status: Fin...  "
            ],
            "text/html": [
              "\n",
              "  <div id=\"df-5abc3b29-99e4-46b6-a84f-c1a6a5ce635e\">\n",
              "    <div class=\"colab-df-container\">\n",
              "      <div>\n",
              "<style scoped>\n",
              "    .dataframe tbody tr th:only-of-type {\n",
              "        vertical-align: middle;\n",
              "    }\n",
              "\n",
              "    .dataframe tbody tr th {\n",
              "        vertical-align: top;\n",
              "    }\n",
              "\n",
              "    .dataframe thead th {\n",
              "        text-align: right;\n",
              "    }\n",
              "</style>\n",
              "<table border=\"1\" class=\"dataframe\">\n",
              "  <thead>\n",
              "    <tr style=\"text-align: right;\">\n",
              "      <th></th>\n",
              "      <th>EMPI</th>\n",
              "      <th>EPIC_PMRN</th>\n",
              "      <th>MRN_Type</th>\n",
              "      <th>MRN</th>\n",
              "      <th>Report_Number</th>\n",
              "      <th>Report_Date_Time</th>\n",
              "      <th>Report_Description</th>\n",
              "      <th>Report_Status</th>\n",
              "      <th>Report_Type</th>\n",
              "      <th>Report_Text</th>\n",
              "    </tr>\n",
              "  </thead>\n",
              "  <tbody>\n",
              "    <tr>\n",
              "      <th>0</th>\n",
              "      <td>100005276</td>\n",
              "      <td>1.002419e+10</td>\n",
              "      <td>FH</td>\n",
              "      <td>366628</td>\n",
              "      <td>S04-5802</td>\n",
              "      <td>7/8/2004 12:00:00 AM</td>\n",
              "      <td>Surgical Pathology</td>\n",
              "      <td>Signed</td>\n",
              "      <td>PAT</td>\n",
              "      <td>Accession Number: S04-5802 Report Status: Sign...</td>\n",
              "    </tr>\n",
              "    <tr>\n",
              "      <th>1</th>\n",
              "      <td>100005276</td>\n",
              "      <td>1.002419e+10</td>\n",
              "      <td>FH</td>\n",
              "      <td>366628</td>\n",
              "      <td>S04-900</td>\n",
              "      <td>1/29/2004 12:00:00 AM</td>\n",
              "      <td>Surgical Pathology</td>\n",
              "      <td>Signed</td>\n",
              "      <td>PAT</td>\n",
              "      <td>Accession Number: S04-900 Report Status: Signe...</td>\n",
              "    </tr>\n",
              "    <tr>\n",
              "      <th>2</th>\n",
              "      <td>100005276</td>\n",
              "      <td>1.002419e+10</td>\n",
              "      <td>FH</td>\n",
              "      <td>366628</td>\n",
              "      <td>S03-6789</td>\n",
              "      <td>9/2/2003 12:00:00 AM</td>\n",
              "      <td>Surgical Pathology</td>\n",
              "      <td>Signed</td>\n",
              "      <td>PAT</td>\n",
              "      <td>Accession Number: S03-6789 Report Status: Sign...</td>\n",
              "    </tr>\n",
              "    <tr>\n",
              "      <th>3</th>\n",
              "      <td>100005636</td>\n",
              "      <td>1.004004e+10</td>\n",
              "      <td>MGH</td>\n",
              "      <td>432959</td>\n",
              "      <td>S96E33362</td>\n",
              "      <td>8/27/1996 12:00:00 AM</td>\n",
              "      <td>Surgical Pathology</td>\n",
              "      <td>Final</td>\n",
              "      <td>PAT</td>\n",
              "      <td>Accession Number: S96E33362 Report Status: Fin...</td>\n",
              "    </tr>\n",
              "    <tr>\n",
              "      <th>4</th>\n",
              "      <td>100005636</td>\n",
              "      <td>1.004004e+10</td>\n",
              "      <td>BWH</td>\n",
              "      <td>882951</td>\n",
              "      <td>S8810652D</td>\n",
              "      <td>8/22/1988 12:00:00 AM</td>\n",
              "      <td>Surgical Pathology</td>\n",
              "      <td>Final</td>\n",
              "      <td>PAT</td>\n",
              "      <td>Accession Number: S8810652D Report Status: Fin...</td>\n",
              "    </tr>\n",
              "  </tbody>\n",
              "</table>\n",
              "</div>\n",
              "      <button class=\"colab-df-convert\" onclick=\"convertToInteractive('df-5abc3b29-99e4-46b6-a84f-c1a6a5ce635e')\"\n",
              "              title=\"Convert this dataframe to an interactive table.\"\n",
              "              style=\"display:none;\">\n",
              "        \n",
              "  <svg xmlns=\"http://www.w3.org/2000/svg\" height=\"24px\"viewBox=\"0 0 24 24\"\n",
              "       width=\"24px\">\n",
              "    <path d=\"M0 0h24v24H0V0z\" fill=\"none\"/>\n",
              "    <path d=\"M18.56 5.44l.94 2.06.94-2.06 2.06-.94-2.06-.94-.94-2.06-.94 2.06-2.06.94zm-11 1L8.5 8.5l.94-2.06 2.06-.94-2.06-.94L8.5 2.5l-.94 2.06-2.06.94zm10 10l.94 2.06.94-2.06 2.06-.94-2.06-.94-.94-2.06-.94 2.06-2.06.94z\"/><path d=\"M17.41 7.96l-1.37-1.37c-.4-.4-.92-.59-1.43-.59-.52 0-1.04.2-1.43.59L10.3 9.45l-7.72 7.72c-.78.78-.78 2.05 0 2.83L4 21.41c.39.39.9.59 1.41.59.51 0 1.02-.2 1.41-.59l7.78-7.78 2.81-2.81c.8-.78.8-2.07 0-2.86zM5.41 20L4 18.59l7.72-7.72 1.47 1.35L5.41 20z\"/>\n",
              "  </svg>\n",
              "      </button>\n",
              "      \n",
              "  <style>\n",
              "    .colab-df-container {\n",
              "      display:flex;\n",
              "      flex-wrap:wrap;\n",
              "      gap: 12px;\n",
              "    }\n",
              "\n",
              "    .colab-df-convert {\n",
              "      background-color: #E8F0FE;\n",
              "      border: none;\n",
              "      border-radius: 50%;\n",
              "      cursor: pointer;\n",
              "      display: none;\n",
              "      fill: #1967D2;\n",
              "      height: 32px;\n",
              "      padding: 0 0 0 0;\n",
              "      width: 32px;\n",
              "    }\n",
              "\n",
              "    .colab-df-convert:hover {\n",
              "      background-color: #E2EBFA;\n",
              "      box-shadow: 0px 1px 2px rgba(60, 64, 67, 0.3), 0px 1px 3px 1px rgba(60, 64, 67, 0.15);\n",
              "      fill: #174EA6;\n",
              "    }\n",
              "\n",
              "    [theme=dark] .colab-df-convert {\n",
              "      background-color: #3B4455;\n",
              "      fill: #D2E3FC;\n",
              "    }\n",
              "\n",
              "    [theme=dark] .colab-df-convert:hover {\n",
              "      background-color: #434B5C;\n",
              "      box-shadow: 0px 1px 3px 1px rgba(0, 0, 0, 0.15);\n",
              "      filter: drop-shadow(0px 1px 2px rgba(0, 0, 0, 0.3));\n",
              "      fill: #FFFFFF;\n",
              "    }\n",
              "  </style>\n",
              "\n",
              "      <script>\n",
              "        const buttonEl =\n",
              "          document.querySelector('#df-5abc3b29-99e4-46b6-a84f-c1a6a5ce635e button.colab-df-convert');\n",
              "        buttonEl.style.display =\n",
              "          google.colab.kernel.accessAllowed ? 'block' : 'none';\n",
              "\n",
              "        async function convertToInteractive(key) {\n",
              "          const element = document.querySelector('#df-5abc3b29-99e4-46b6-a84f-c1a6a5ce635e');\n",
              "          const dataTable =\n",
              "            await google.colab.kernel.invokeFunction('convertToInteractive',\n",
              "                                                     [key], {});\n",
              "          if (!dataTable) return;\n",
              "\n",
              "          const docLinkHtml = 'Like what you see? Visit the ' +\n",
              "            '<a target=\"_blank\" href=https://colab.research.google.com/notebooks/data_table.ipynb>data table notebook</a>'\n",
              "            + ' to learn more about interactive tables.';\n",
              "          element.innerHTML = '';\n",
              "          dataTable['output_type'] = 'display_data';\n",
              "          await google.colab.output.renderOutput(dataTable, element);\n",
              "          const docLink = document.createElement('div');\n",
              "          docLink.innerHTML = docLinkHtml;\n",
              "          element.appendChild(docLink);\n",
              "        }\n",
              "      </script>\n",
              "    </div>\n",
              "  </div>\n",
              "  "
            ]
          },
          "metadata": {},
          "execution_count": 15
        }
      ]
    },
    {
      "cell_type": "code",
      "source": [
        "print(df1.shape)\n",
        "print(df2.shape)\n",
        "print(df3.shape)\n",
        "print(df4.shape)"
      ],
      "metadata": {
        "colab": {
          "base_uri": "https://localhost:8080/"
        },
        "id": "Ph5IHH1u28oQ",
        "outputId": "4a785de5-bf54-49a5-e46c-dbc1c97d339a"
      },
      "execution_count": null,
      "outputs": [
        {
          "output_type": "stream",
          "name": "stdout",
          "text": [
            "(104984, 10)\n",
            "(54948, 10)\n",
            "(104141, 10)\n",
            "(103843, 10)\n"
          ]
        }
      ]
    },
    {
      "cell_type": "code",
      "source": [
        "df1 = df1[df1['EMPI'].isin(id.EMPI)]\n",
        "df2 = df2[df2['EMPI'].isin(id.EMPI)]\n",
        "df3 = df3[df3['EMPI'].isin(id.EMPI)]\n",
        "df4 = df4[df4['EMPI'].isin(id.EMPI)]"
      ],
      "metadata": {
        "id": "MXUqxW7X3kWX"
      },
      "execution_count": null,
      "outputs": []
    },
    {
      "cell_type": "code",
      "source": [
        "print(df1.shape)\n",
        "print(df2.shape)\n",
        "print(df3.shape)\n",
        "print(df4.shape)"
      ],
      "metadata": {
        "colab": {
          "base_uri": "https://localhost:8080/"
        },
        "id": "0xhF4TRE3kZU",
        "outputId": "1f370f74-bb91-437f-f616-c04b982ebf5f"
      },
      "execution_count": null,
      "outputs": [
        {
          "output_type": "stream",
          "name": "stdout",
          "text": [
            "(24878, 10)\n",
            "(12663, 10)\n",
            "(25033, 10)\n",
            "(24605, 10)\n"
          ]
        }
      ]
    },
    {
      "cell_type": "code",
      "source": [
        "df1"
      ],
      "metadata": {
        "colab": {
          "base_uri": "https://localhost:8080/",
          "height": 424
        },
        "id": "hmWCRWny6oQI",
        "outputId": "52c58069-6218-4d1d-f1f1-c8a73a2dd73b"
      },
      "execution_count": null,
      "outputs": [
        {
          "output_type": "execute_result",
          "data": {
            "text/plain": [
              "             EMPI     EPIC_PMRN MRN_Type       MRN Report_Number  \\\n",
              "5       100003956  1.002650e+10      MGH   1784307     S02K17074   \n",
              "6       100003956  1.002650e+10      MGH   1784307      S02M6053   \n",
              "7       100003956  1.002650e+10      NWH    265017    S01:014639   \n",
              "8       100003956  1.002650e+10      NWH    265017    C01:020125   \n",
              "9       100003956  1.002650e+10      NWH    265017    U99:000131   \n",
              "...           ...           ...      ...       ...           ...   \n",
              "104979  111036658  1.010503e+10      BWH  30970941    BS16G47035   \n",
              "104980  111036658  1.010503e+10      BWH  30970941    BS15X53915   \n",
              "104981  111036658  1.010503e+10      BWH  30970941    BS15N38425   \n",
              "104982  111049658  1.010516e+10      BWH  31044431    BS15F39420   \n",
              "104983  111049658  1.010516e+10       FH  10021264    FS15R09046   \n",
              "\n",
              "              Report_Date_Time  Report_Description Report_Status Report_Type  \\\n",
              "5        3/29/2002 12:00:00 AM  Surgical Pathology         Final         PAT   \n",
              "6         1/31/2002 2:05:00 PM  Surgical Pathology         Final         PAT   \n",
              "7       11/13/2001 12:00:00 AM  Surgical Pathology        Signed         PAT   \n",
              "8       10/30/2001 12:00:00 AM            Cytology        Signed         PAT   \n",
              "9         1/11/1999 2:41:00 PM  Surgical Pathology        Signed         PAT   \n",
              "...                        ...                 ...           ...         ...   \n",
              "104979    9/1/2016 12:00:00 AM  Surgical Pathology         Final         PAT   \n",
              "104980   11/5/2015 12:00:00 AM  Surgical Pathology         Final         PAT   \n",
              "104981   7/10/2015 12:00:00 AM  Surgical Pathology         Final         PAT   \n",
              "104982   7/24/2015 12:00:00 AM  Surgical Pathology         Final         PAT   \n",
              "104983  10/27/2015 12:00:00 AM  Surgical Pathology         Final         PAT   \n",
              "\n",
              "                                              Report_Text  \n",
              "5       Accession Number: S02K17074 Report Status: Fin...  \n",
              "6       Accession Number: S02M6053 Report Status: Fina...  \n",
              "7       Accession Number: S01:014639 Report Status: Si...  \n",
              "8       Accession Number: C01:020125 Report Status: Si...  \n",
              "9       Accession Number: U99:000131 Report Status: Si...  \n",
              "...                                                   ...  \n",
              "104979  Accession Number: BS16G47035 Report Status: Fi...  \n",
              "104980  Accession Number: BS15X53915 Report Status: Fi...  \n",
              "104981  Accession Number: BS15N38425 Report Status: Fi...  \n",
              "104982  Accession Number: BS15F39420 Report Status: Fi...  \n",
              "104983  Accession Number: FS15R09046 Report Status: Fi...  \n",
              "\n",
              "[24878 rows x 10 columns]"
            ],
            "text/html": [
              "\n",
              "  <div id=\"df-b2f9d56b-a5d6-49e7-9497-5858c2071eb5\">\n",
              "    <div class=\"colab-df-container\">\n",
              "      <div>\n",
              "<style scoped>\n",
              "    .dataframe tbody tr th:only-of-type {\n",
              "        vertical-align: middle;\n",
              "    }\n",
              "\n",
              "    .dataframe tbody tr th {\n",
              "        vertical-align: top;\n",
              "    }\n",
              "\n",
              "    .dataframe thead th {\n",
              "        text-align: right;\n",
              "    }\n",
              "</style>\n",
              "<table border=\"1\" class=\"dataframe\">\n",
              "  <thead>\n",
              "    <tr style=\"text-align: right;\">\n",
              "      <th></th>\n",
              "      <th>EMPI</th>\n",
              "      <th>EPIC_PMRN</th>\n",
              "      <th>MRN_Type</th>\n",
              "      <th>MRN</th>\n",
              "      <th>Report_Number</th>\n",
              "      <th>Report_Date_Time</th>\n",
              "      <th>Report_Description</th>\n",
              "      <th>Report_Status</th>\n",
              "      <th>Report_Type</th>\n",
              "      <th>Report_Text</th>\n",
              "    </tr>\n",
              "  </thead>\n",
              "  <tbody>\n",
              "    <tr>\n",
              "      <th>5</th>\n",
              "      <td>100003956</td>\n",
              "      <td>1.002650e+10</td>\n",
              "      <td>MGH</td>\n",
              "      <td>1784307</td>\n",
              "      <td>S02K17074</td>\n",
              "      <td>3/29/2002 12:00:00 AM</td>\n",
              "      <td>Surgical Pathology</td>\n",
              "      <td>Final</td>\n",
              "      <td>PAT</td>\n",
              "      <td>Accession Number: S02K17074 Report Status: Fin...</td>\n",
              "    </tr>\n",
              "    <tr>\n",
              "      <th>6</th>\n",
              "      <td>100003956</td>\n",
              "      <td>1.002650e+10</td>\n",
              "      <td>MGH</td>\n",
              "      <td>1784307</td>\n",
              "      <td>S02M6053</td>\n",
              "      <td>1/31/2002 2:05:00 PM</td>\n",
              "      <td>Surgical Pathology</td>\n",
              "      <td>Final</td>\n",
              "      <td>PAT</td>\n",
              "      <td>Accession Number: S02M6053 Report Status: Fina...</td>\n",
              "    </tr>\n",
              "    <tr>\n",
              "      <th>7</th>\n",
              "      <td>100003956</td>\n",
              "      <td>1.002650e+10</td>\n",
              "      <td>NWH</td>\n",
              "      <td>265017</td>\n",
              "      <td>S01:014639</td>\n",
              "      <td>11/13/2001 12:00:00 AM</td>\n",
              "      <td>Surgical Pathology</td>\n",
              "      <td>Signed</td>\n",
              "      <td>PAT</td>\n",
              "      <td>Accession Number: S01:014639 Report Status: Si...</td>\n",
              "    </tr>\n",
              "    <tr>\n",
              "      <th>8</th>\n",
              "      <td>100003956</td>\n",
              "      <td>1.002650e+10</td>\n",
              "      <td>NWH</td>\n",
              "      <td>265017</td>\n",
              "      <td>C01:020125</td>\n",
              "      <td>10/30/2001 12:00:00 AM</td>\n",
              "      <td>Cytology</td>\n",
              "      <td>Signed</td>\n",
              "      <td>PAT</td>\n",
              "      <td>Accession Number: C01:020125 Report Status: Si...</td>\n",
              "    </tr>\n",
              "    <tr>\n",
              "      <th>9</th>\n",
              "      <td>100003956</td>\n",
              "      <td>1.002650e+10</td>\n",
              "      <td>NWH</td>\n",
              "      <td>265017</td>\n",
              "      <td>U99:000131</td>\n",
              "      <td>1/11/1999 2:41:00 PM</td>\n",
              "      <td>Surgical Pathology</td>\n",
              "      <td>Signed</td>\n",
              "      <td>PAT</td>\n",
              "      <td>Accession Number: U99:000131 Report Status: Si...</td>\n",
              "    </tr>\n",
              "    <tr>\n",
              "      <th>...</th>\n",
              "      <td>...</td>\n",
              "      <td>...</td>\n",
              "      <td>...</td>\n",
              "      <td>...</td>\n",
              "      <td>...</td>\n",
              "      <td>...</td>\n",
              "      <td>...</td>\n",
              "      <td>...</td>\n",
              "      <td>...</td>\n",
              "      <td>...</td>\n",
              "    </tr>\n",
              "    <tr>\n",
              "      <th>104979</th>\n",
              "      <td>111036658</td>\n",
              "      <td>1.010503e+10</td>\n",
              "      <td>BWH</td>\n",
              "      <td>30970941</td>\n",
              "      <td>BS16G47035</td>\n",
              "      <td>9/1/2016 12:00:00 AM</td>\n",
              "      <td>Surgical Pathology</td>\n",
              "      <td>Final</td>\n",
              "      <td>PAT</td>\n",
              "      <td>Accession Number: BS16G47035 Report Status: Fi...</td>\n",
              "    </tr>\n",
              "    <tr>\n",
              "      <th>104980</th>\n",
              "      <td>111036658</td>\n",
              "      <td>1.010503e+10</td>\n",
              "      <td>BWH</td>\n",
              "      <td>30970941</td>\n",
              "      <td>BS15X53915</td>\n",
              "      <td>11/5/2015 12:00:00 AM</td>\n",
              "      <td>Surgical Pathology</td>\n",
              "      <td>Final</td>\n",
              "      <td>PAT</td>\n",
              "      <td>Accession Number: BS15X53915 Report Status: Fi...</td>\n",
              "    </tr>\n",
              "    <tr>\n",
              "      <th>104981</th>\n",
              "      <td>111036658</td>\n",
              "      <td>1.010503e+10</td>\n",
              "      <td>BWH</td>\n",
              "      <td>30970941</td>\n",
              "      <td>BS15N38425</td>\n",
              "      <td>7/10/2015 12:00:00 AM</td>\n",
              "      <td>Surgical Pathology</td>\n",
              "      <td>Final</td>\n",
              "      <td>PAT</td>\n",
              "      <td>Accession Number: BS15N38425 Report Status: Fi...</td>\n",
              "    </tr>\n",
              "    <tr>\n",
              "      <th>104982</th>\n",
              "      <td>111049658</td>\n",
              "      <td>1.010516e+10</td>\n",
              "      <td>BWH</td>\n",
              "      <td>31044431</td>\n",
              "      <td>BS15F39420</td>\n",
              "      <td>7/24/2015 12:00:00 AM</td>\n",
              "      <td>Surgical Pathology</td>\n",
              "      <td>Final</td>\n",
              "      <td>PAT</td>\n",
              "      <td>Accession Number: BS15F39420 Report Status: Fi...</td>\n",
              "    </tr>\n",
              "    <tr>\n",
              "      <th>104983</th>\n",
              "      <td>111049658</td>\n",
              "      <td>1.010516e+10</td>\n",
              "      <td>FH</td>\n",
              "      <td>10021264</td>\n",
              "      <td>FS15R09046</td>\n",
              "      <td>10/27/2015 12:00:00 AM</td>\n",
              "      <td>Surgical Pathology</td>\n",
              "      <td>Final</td>\n",
              "      <td>PAT</td>\n",
              "      <td>Accession Number: FS15R09046 Report Status: Fi...</td>\n",
              "    </tr>\n",
              "  </tbody>\n",
              "</table>\n",
              "<p>24878 rows × 10 columns</p>\n",
              "</div>\n",
              "      <button class=\"colab-df-convert\" onclick=\"convertToInteractive('df-b2f9d56b-a5d6-49e7-9497-5858c2071eb5')\"\n",
              "              title=\"Convert this dataframe to an interactive table.\"\n",
              "              style=\"display:none;\">\n",
              "        \n",
              "  <svg xmlns=\"http://www.w3.org/2000/svg\" height=\"24px\"viewBox=\"0 0 24 24\"\n",
              "       width=\"24px\">\n",
              "    <path d=\"M0 0h24v24H0V0z\" fill=\"none\"/>\n",
              "    <path d=\"M18.56 5.44l.94 2.06.94-2.06 2.06-.94-2.06-.94-.94-2.06-.94 2.06-2.06.94zm-11 1L8.5 8.5l.94-2.06 2.06-.94-2.06-.94L8.5 2.5l-.94 2.06-2.06.94zm10 10l.94 2.06.94-2.06 2.06-.94-2.06-.94-.94-2.06-.94 2.06-2.06.94z\"/><path d=\"M17.41 7.96l-1.37-1.37c-.4-.4-.92-.59-1.43-.59-.52 0-1.04.2-1.43.59L10.3 9.45l-7.72 7.72c-.78.78-.78 2.05 0 2.83L4 21.41c.39.39.9.59 1.41.59.51 0 1.02-.2 1.41-.59l7.78-7.78 2.81-2.81c.8-.78.8-2.07 0-2.86zM5.41 20L4 18.59l7.72-7.72 1.47 1.35L5.41 20z\"/>\n",
              "  </svg>\n",
              "      </button>\n",
              "      \n",
              "  <style>\n",
              "    .colab-df-container {\n",
              "      display:flex;\n",
              "      flex-wrap:wrap;\n",
              "      gap: 12px;\n",
              "    }\n",
              "\n",
              "    .colab-df-convert {\n",
              "      background-color: #E8F0FE;\n",
              "      border: none;\n",
              "      border-radius: 50%;\n",
              "      cursor: pointer;\n",
              "      display: none;\n",
              "      fill: #1967D2;\n",
              "      height: 32px;\n",
              "      padding: 0 0 0 0;\n",
              "      width: 32px;\n",
              "    }\n",
              "\n",
              "    .colab-df-convert:hover {\n",
              "      background-color: #E2EBFA;\n",
              "      box-shadow: 0px 1px 2px rgba(60, 64, 67, 0.3), 0px 1px 3px 1px rgba(60, 64, 67, 0.15);\n",
              "      fill: #174EA6;\n",
              "    }\n",
              "\n",
              "    [theme=dark] .colab-df-convert {\n",
              "      background-color: #3B4455;\n",
              "      fill: #D2E3FC;\n",
              "    }\n",
              "\n",
              "    [theme=dark] .colab-df-convert:hover {\n",
              "      background-color: #434B5C;\n",
              "      box-shadow: 0px 1px 3px 1px rgba(0, 0, 0, 0.15);\n",
              "      filter: drop-shadow(0px 1px 2px rgba(0, 0, 0, 0.3));\n",
              "      fill: #FFFFFF;\n",
              "    }\n",
              "  </style>\n",
              "\n",
              "      <script>\n",
              "        const buttonEl =\n",
              "          document.querySelector('#df-b2f9d56b-a5d6-49e7-9497-5858c2071eb5 button.colab-df-convert');\n",
              "        buttonEl.style.display =\n",
              "          google.colab.kernel.accessAllowed ? 'block' : 'none';\n",
              "\n",
              "        async function convertToInteractive(key) {\n",
              "          const element = document.querySelector('#df-b2f9d56b-a5d6-49e7-9497-5858c2071eb5');\n",
              "          const dataTable =\n",
              "            await google.colab.kernel.invokeFunction('convertToInteractive',\n",
              "                                                     [key], {});\n",
              "          if (!dataTable) return;\n",
              "\n",
              "          const docLinkHtml = 'Like what you see? Visit the ' +\n",
              "            '<a target=\"_blank\" href=https://colab.research.google.com/notebooks/data_table.ipynb>data table notebook</a>'\n",
              "            + ' to learn more about interactive tables.';\n",
              "          element.innerHTML = '';\n",
              "          dataTable['output_type'] = 'display_data';\n",
              "          await google.colab.output.renderOutput(dataTable, element);\n",
              "          const docLink = document.createElement('div');\n",
              "          docLink.innerHTML = docLinkHtml;\n",
              "          element.appendChild(docLink);\n",
              "        }\n",
              "      </script>\n",
              "    </div>\n",
              "  </div>\n",
              "  "
            ]
          },
          "metadata": {},
          "execution_count": 19
        }
      ]
    },
    {
      "cell_type": "code",
      "source": [
        "id[id.EMPI == \t100003956] "
      ],
      "metadata": {
        "colab": {
          "base_uri": "https://localhost:8080/",
          "height": 81
        },
        "id": "LzNX90ds66pA",
        "outputId": "36211909-2903-4e67-e6d9-1921a5d60f1b"
      },
      "execution_count": null,
      "outputs": [
        {
          "output_type": "execute_result",
          "data": {
            "text/plain": [
              "         EMPI     date_rp hospital_rp  lap_rp  lymph_rp\n",
              "14  100003956  2002-03-29         MGH       0         0"
            ],
            "text/html": [
              "\n",
              "  <div id=\"df-ae2d8184-a272-43cb-b862-ea79fdaf6885\">\n",
              "    <div class=\"colab-df-container\">\n",
              "      <div>\n",
              "<style scoped>\n",
              "    .dataframe tbody tr th:only-of-type {\n",
              "        vertical-align: middle;\n",
              "    }\n",
              "\n",
              "    .dataframe tbody tr th {\n",
              "        vertical-align: top;\n",
              "    }\n",
              "\n",
              "    .dataframe thead th {\n",
              "        text-align: right;\n",
              "    }\n",
              "</style>\n",
              "<table border=\"1\" class=\"dataframe\">\n",
              "  <thead>\n",
              "    <tr style=\"text-align: right;\">\n",
              "      <th></th>\n",
              "      <th>EMPI</th>\n",
              "      <th>date_rp</th>\n",
              "      <th>hospital_rp</th>\n",
              "      <th>lap_rp</th>\n",
              "      <th>lymph_rp</th>\n",
              "    </tr>\n",
              "  </thead>\n",
              "  <tbody>\n",
              "    <tr>\n",
              "      <th>14</th>\n",
              "      <td>100003956</td>\n",
              "      <td>2002-03-29</td>\n",
              "      <td>MGH</td>\n",
              "      <td>0</td>\n",
              "      <td>0</td>\n",
              "    </tr>\n",
              "  </tbody>\n",
              "</table>\n",
              "</div>\n",
              "      <button class=\"colab-df-convert\" onclick=\"convertToInteractive('df-ae2d8184-a272-43cb-b862-ea79fdaf6885')\"\n",
              "              title=\"Convert this dataframe to an interactive table.\"\n",
              "              style=\"display:none;\">\n",
              "        \n",
              "  <svg xmlns=\"http://www.w3.org/2000/svg\" height=\"24px\"viewBox=\"0 0 24 24\"\n",
              "       width=\"24px\">\n",
              "    <path d=\"M0 0h24v24H0V0z\" fill=\"none\"/>\n",
              "    <path d=\"M18.56 5.44l.94 2.06.94-2.06 2.06-.94-2.06-.94-.94-2.06-.94 2.06-2.06.94zm-11 1L8.5 8.5l.94-2.06 2.06-.94-2.06-.94L8.5 2.5l-.94 2.06-2.06.94zm10 10l.94 2.06.94-2.06 2.06-.94-2.06-.94-.94-2.06-.94 2.06-2.06.94z\"/><path d=\"M17.41 7.96l-1.37-1.37c-.4-.4-.92-.59-1.43-.59-.52 0-1.04.2-1.43.59L10.3 9.45l-7.72 7.72c-.78.78-.78 2.05 0 2.83L4 21.41c.39.39.9.59 1.41.59.51 0 1.02-.2 1.41-.59l7.78-7.78 2.81-2.81c.8-.78.8-2.07 0-2.86zM5.41 20L4 18.59l7.72-7.72 1.47 1.35L5.41 20z\"/>\n",
              "  </svg>\n",
              "      </button>\n",
              "      \n",
              "  <style>\n",
              "    .colab-df-container {\n",
              "      display:flex;\n",
              "      flex-wrap:wrap;\n",
              "      gap: 12px;\n",
              "    }\n",
              "\n",
              "    .colab-df-convert {\n",
              "      background-color: #E8F0FE;\n",
              "      border: none;\n",
              "      border-radius: 50%;\n",
              "      cursor: pointer;\n",
              "      display: none;\n",
              "      fill: #1967D2;\n",
              "      height: 32px;\n",
              "      padding: 0 0 0 0;\n",
              "      width: 32px;\n",
              "    }\n",
              "\n",
              "    .colab-df-convert:hover {\n",
              "      background-color: #E2EBFA;\n",
              "      box-shadow: 0px 1px 2px rgba(60, 64, 67, 0.3), 0px 1px 3px 1px rgba(60, 64, 67, 0.15);\n",
              "      fill: #174EA6;\n",
              "    }\n",
              "\n",
              "    [theme=dark] .colab-df-convert {\n",
              "      background-color: #3B4455;\n",
              "      fill: #D2E3FC;\n",
              "    }\n",
              "\n",
              "    [theme=dark] .colab-df-convert:hover {\n",
              "      background-color: #434B5C;\n",
              "      box-shadow: 0px 1px 3px 1px rgba(0, 0, 0, 0.15);\n",
              "      filter: drop-shadow(0px 1px 2px rgba(0, 0, 0, 0.3));\n",
              "      fill: #FFFFFF;\n",
              "    }\n",
              "  </style>\n",
              "\n",
              "      <script>\n",
              "        const buttonEl =\n",
              "          document.querySelector('#df-ae2d8184-a272-43cb-b862-ea79fdaf6885 button.colab-df-convert');\n",
              "        buttonEl.style.display =\n",
              "          google.colab.kernel.accessAllowed ? 'block' : 'none';\n",
              "\n",
              "        async function convertToInteractive(key) {\n",
              "          const element = document.querySelector('#df-ae2d8184-a272-43cb-b862-ea79fdaf6885');\n",
              "          const dataTable =\n",
              "            await google.colab.kernel.invokeFunction('convertToInteractive',\n",
              "                                                     [key], {});\n",
              "          if (!dataTable) return;\n",
              "\n",
              "          const docLinkHtml = 'Like what you see? Visit the ' +\n",
              "            '<a target=\"_blank\" href=https://colab.research.google.com/notebooks/data_table.ipynb>data table notebook</a>'\n",
              "            + ' to learn more about interactive tables.';\n",
              "          element.innerHTML = '';\n",
              "          dataTable['output_type'] = 'display_data';\n",
              "          await google.colab.output.renderOutput(dataTable, element);\n",
              "          const docLink = document.createElement('div');\n",
              "          docLink.innerHTML = docLinkHtml;\n",
              "          element.appendChild(docLink);\n",
              "        }\n",
              "      </script>\n",
              "    </div>\n",
              "  </div>\n",
              "  "
            ]
          },
          "metadata": {},
          "execution_count": 20
        }
      ]
    },
    {
      "cell_type": "code",
      "source": [
        "df1[df1.EMPI == 100003956]"
      ],
      "metadata": {
        "colab": {
          "base_uri": "https://localhost:8080/",
          "height": 206
        },
        "id": "9Cpm0j8Z7A8j",
        "outputId": "b3347220-ba38-4596-abae-657df3d74301"
      },
      "execution_count": null,
      "outputs": [
        {
          "output_type": "execute_result",
          "data": {
            "text/plain": [
              "        EMPI     EPIC_PMRN MRN_Type      MRN Report_Number  \\\n",
              "5  100003956  1.002650e+10      MGH  1784307     S02K17074   \n",
              "6  100003956  1.002650e+10      MGH  1784307      S02M6053   \n",
              "7  100003956  1.002650e+10      NWH   265017    S01:014639   \n",
              "8  100003956  1.002650e+10      NWH   265017    C01:020125   \n",
              "9  100003956  1.002650e+10      NWH   265017    U99:000131   \n",
              "\n",
              "         Report_Date_Time  Report_Description Report_Status Report_Type  \\\n",
              "5   3/29/2002 12:00:00 AM  Surgical Pathology         Final         PAT   \n",
              "6    1/31/2002 2:05:00 PM  Surgical Pathology         Final         PAT   \n",
              "7  11/13/2001 12:00:00 AM  Surgical Pathology        Signed         PAT   \n",
              "8  10/30/2001 12:00:00 AM            Cytology        Signed         PAT   \n",
              "9    1/11/1999 2:41:00 PM  Surgical Pathology        Signed         PAT   \n",
              "\n",
              "                                         Report_Text  \n",
              "5  Accession Number: S02K17074 Report Status: Fin...  \n",
              "6  Accession Number: S02M6053 Report Status: Fina...  \n",
              "7  Accession Number: S01:014639 Report Status: Si...  \n",
              "8  Accession Number: C01:020125 Report Status: Si...  \n",
              "9  Accession Number: U99:000131 Report Status: Si...  "
            ],
            "text/html": [
              "\n",
              "  <div id=\"df-475760f0-42da-405e-a4bd-6176f07f7e83\">\n",
              "    <div class=\"colab-df-container\">\n",
              "      <div>\n",
              "<style scoped>\n",
              "    .dataframe tbody tr th:only-of-type {\n",
              "        vertical-align: middle;\n",
              "    }\n",
              "\n",
              "    .dataframe tbody tr th {\n",
              "        vertical-align: top;\n",
              "    }\n",
              "\n",
              "    .dataframe thead th {\n",
              "        text-align: right;\n",
              "    }\n",
              "</style>\n",
              "<table border=\"1\" class=\"dataframe\">\n",
              "  <thead>\n",
              "    <tr style=\"text-align: right;\">\n",
              "      <th></th>\n",
              "      <th>EMPI</th>\n",
              "      <th>EPIC_PMRN</th>\n",
              "      <th>MRN_Type</th>\n",
              "      <th>MRN</th>\n",
              "      <th>Report_Number</th>\n",
              "      <th>Report_Date_Time</th>\n",
              "      <th>Report_Description</th>\n",
              "      <th>Report_Status</th>\n",
              "      <th>Report_Type</th>\n",
              "      <th>Report_Text</th>\n",
              "    </tr>\n",
              "  </thead>\n",
              "  <tbody>\n",
              "    <tr>\n",
              "      <th>5</th>\n",
              "      <td>100003956</td>\n",
              "      <td>1.002650e+10</td>\n",
              "      <td>MGH</td>\n",
              "      <td>1784307</td>\n",
              "      <td>S02K17074</td>\n",
              "      <td>3/29/2002 12:00:00 AM</td>\n",
              "      <td>Surgical Pathology</td>\n",
              "      <td>Final</td>\n",
              "      <td>PAT</td>\n",
              "      <td>Accession Number: S02K17074 Report Status: Fin...</td>\n",
              "    </tr>\n",
              "    <tr>\n",
              "      <th>6</th>\n",
              "      <td>100003956</td>\n",
              "      <td>1.002650e+10</td>\n",
              "      <td>MGH</td>\n",
              "      <td>1784307</td>\n",
              "      <td>S02M6053</td>\n",
              "      <td>1/31/2002 2:05:00 PM</td>\n",
              "      <td>Surgical Pathology</td>\n",
              "      <td>Final</td>\n",
              "      <td>PAT</td>\n",
              "      <td>Accession Number: S02M6053 Report Status: Fina...</td>\n",
              "    </tr>\n",
              "    <tr>\n",
              "      <th>7</th>\n",
              "      <td>100003956</td>\n",
              "      <td>1.002650e+10</td>\n",
              "      <td>NWH</td>\n",
              "      <td>265017</td>\n",
              "      <td>S01:014639</td>\n",
              "      <td>11/13/2001 12:00:00 AM</td>\n",
              "      <td>Surgical Pathology</td>\n",
              "      <td>Signed</td>\n",
              "      <td>PAT</td>\n",
              "      <td>Accession Number: S01:014639 Report Status: Si...</td>\n",
              "    </tr>\n",
              "    <tr>\n",
              "      <th>8</th>\n",
              "      <td>100003956</td>\n",
              "      <td>1.002650e+10</td>\n",
              "      <td>NWH</td>\n",
              "      <td>265017</td>\n",
              "      <td>C01:020125</td>\n",
              "      <td>10/30/2001 12:00:00 AM</td>\n",
              "      <td>Cytology</td>\n",
              "      <td>Signed</td>\n",
              "      <td>PAT</td>\n",
              "      <td>Accession Number: C01:020125 Report Status: Si...</td>\n",
              "    </tr>\n",
              "    <tr>\n",
              "      <th>9</th>\n",
              "      <td>100003956</td>\n",
              "      <td>1.002650e+10</td>\n",
              "      <td>NWH</td>\n",
              "      <td>265017</td>\n",
              "      <td>U99:000131</td>\n",
              "      <td>1/11/1999 2:41:00 PM</td>\n",
              "      <td>Surgical Pathology</td>\n",
              "      <td>Signed</td>\n",
              "      <td>PAT</td>\n",
              "      <td>Accession Number: U99:000131 Report Status: Si...</td>\n",
              "    </tr>\n",
              "  </tbody>\n",
              "</table>\n",
              "</div>\n",
              "      <button class=\"colab-df-convert\" onclick=\"convertToInteractive('df-475760f0-42da-405e-a4bd-6176f07f7e83')\"\n",
              "              title=\"Convert this dataframe to an interactive table.\"\n",
              "              style=\"display:none;\">\n",
              "        \n",
              "  <svg xmlns=\"http://www.w3.org/2000/svg\" height=\"24px\"viewBox=\"0 0 24 24\"\n",
              "       width=\"24px\">\n",
              "    <path d=\"M0 0h24v24H0V0z\" fill=\"none\"/>\n",
              "    <path d=\"M18.56 5.44l.94 2.06.94-2.06 2.06-.94-2.06-.94-.94-2.06-.94 2.06-2.06.94zm-11 1L8.5 8.5l.94-2.06 2.06-.94-2.06-.94L8.5 2.5l-.94 2.06-2.06.94zm10 10l.94 2.06.94-2.06 2.06-.94-2.06-.94-.94-2.06-.94 2.06-2.06.94z\"/><path d=\"M17.41 7.96l-1.37-1.37c-.4-.4-.92-.59-1.43-.59-.52 0-1.04.2-1.43.59L10.3 9.45l-7.72 7.72c-.78.78-.78 2.05 0 2.83L4 21.41c.39.39.9.59 1.41.59.51 0 1.02-.2 1.41-.59l7.78-7.78 2.81-2.81c.8-.78.8-2.07 0-2.86zM5.41 20L4 18.59l7.72-7.72 1.47 1.35L5.41 20z\"/>\n",
              "  </svg>\n",
              "      </button>\n",
              "      \n",
              "  <style>\n",
              "    .colab-df-container {\n",
              "      display:flex;\n",
              "      flex-wrap:wrap;\n",
              "      gap: 12px;\n",
              "    }\n",
              "\n",
              "    .colab-df-convert {\n",
              "      background-color: #E8F0FE;\n",
              "      border: none;\n",
              "      border-radius: 50%;\n",
              "      cursor: pointer;\n",
              "      display: none;\n",
              "      fill: #1967D2;\n",
              "      height: 32px;\n",
              "      padding: 0 0 0 0;\n",
              "      width: 32px;\n",
              "    }\n",
              "\n",
              "    .colab-df-convert:hover {\n",
              "      background-color: #E2EBFA;\n",
              "      box-shadow: 0px 1px 2px rgba(60, 64, 67, 0.3), 0px 1px 3px 1px rgba(60, 64, 67, 0.15);\n",
              "      fill: #174EA6;\n",
              "    }\n",
              "\n",
              "    [theme=dark] .colab-df-convert {\n",
              "      background-color: #3B4455;\n",
              "      fill: #D2E3FC;\n",
              "    }\n",
              "\n",
              "    [theme=dark] .colab-df-convert:hover {\n",
              "      background-color: #434B5C;\n",
              "      box-shadow: 0px 1px 3px 1px rgba(0, 0, 0, 0.15);\n",
              "      filter: drop-shadow(0px 1px 2px rgba(0, 0, 0, 0.3));\n",
              "      fill: #FFFFFF;\n",
              "    }\n",
              "  </style>\n",
              "\n",
              "      <script>\n",
              "        const buttonEl =\n",
              "          document.querySelector('#df-475760f0-42da-405e-a4bd-6176f07f7e83 button.colab-df-convert');\n",
              "        buttonEl.style.display =\n",
              "          google.colab.kernel.accessAllowed ? 'block' : 'none';\n",
              "\n",
              "        async function convertToInteractive(key) {\n",
              "          const element = document.querySelector('#df-475760f0-42da-405e-a4bd-6176f07f7e83');\n",
              "          const dataTable =\n",
              "            await google.colab.kernel.invokeFunction('convertToInteractive',\n",
              "                                                     [key], {});\n",
              "          if (!dataTable) return;\n",
              "\n",
              "          const docLinkHtml = 'Like what you see? Visit the ' +\n",
              "            '<a target=\"_blank\" href=https://colab.research.google.com/notebooks/data_table.ipynb>data table notebook</a>'\n",
              "            + ' to learn more about interactive tables.';\n",
              "          element.innerHTML = '';\n",
              "          dataTable['output_type'] = 'display_data';\n",
              "          await google.colab.output.renderOutput(dataTable, element);\n",
              "          const docLink = document.createElement('div');\n",
              "          docLink.innerHTML = docLinkHtml;\n",
              "          element.appendChild(docLink);\n",
              "        }\n",
              "      </script>\n",
              "    </div>\n",
              "  </div>\n",
              "  "
            ]
          },
          "metadata": {},
          "execution_count": 21
        }
      ]
    },
    {
      "cell_type": "code",
      "source": [
        "df1[df1.EMPI == 100003956].Report_Text.iloc[0] "
      ],
      "metadata": {
        "colab": {
          "base_uri": "https://localhost:8080/",
          "height": 122
        },
        "id": "aJSLstKh8ALL",
        "outputId": "c9937081-599d-415a-dfc2-b2b8c6ffe31f"
      },
      "execution_count": null,
      "outputs": [
        {
          "output_type": "execute_result",
          "data": {
            "text/plain": [
              "'Accession Number: S02K17074 Report Status: Final Type: Surgical Pathology Pathology Report: S02-K17074 OPERATION DATE: 29 MAR 02 ACCESSIONED ON: 29 MAR 02 at 12:56 CLINICAL DATA: Prostate cancer. =============================================================================== *** FINAL DIAGNOSIS *** PROSTATE, EXCISION: ADENOCARCINOMA, GLEASON SCORE 3+4=7/10, CONFINED TO THE PROSTATE. See note. NOTE: The tumor involves predominantly left and right posterior quadrants and focally left anterior quadrant. All resection margins are negative for tumor. Tumor does not extend into periprostatic fat. Perineural invasion is present. No lymphatic or vascular invasion is seen. The seminal vesicles and vasa deferentia are unremarkable. LYMPH NODES (LEFT AND RIGHT), EXCISION: THERE IS NO EVIDENCE OF MALIGNANCY IN 2 LYMPH NODES. THE FROZEN SECTION DIAGNOSIS IS CONFIRMED. Diagnosis by: Robert B. Colvin, M.D. Signed On: 02 APR 02 at 18:18 =============================================================================== GROSS DESCRIPTION: Received fresh, labeled with the patient\\'s name, unit number, and \"prostate\" is a 59 gm, 5.0 x 4.5 x 4.5 cm radical prostatectomy specimen. The external surface is unremarkable. The seminal vesicle and the vas deferentia are separately submitted in the same container. There are three seminal vesicle fragments, measuring 2.0 x 1.0 x 0.6 cm, 2.0 x 0.7 x 0.5 cm, and 1.6 x 0.8 x 0.5 cm, which are grossly unremarkable. The vas deferentia measures 4.5 cm in length x 0.4 cm in diameter and 3.9 cm in length x 0.4 cm in diameter. The prostate glands are inked right side blue and left side black. The proximal and distal margins are taken en face and serially sectioned. The prostate is serially sectioned transversely to reveal a whorled, tan-white to focal yellow rubbery firm parenchyma. Numerous tan-yellow well-defined nodules are noted ranging from minute to 0.5 cm, predominantly in the transitional zone. Representative sections are submitted as follows: SECTION CODES: A,B: representative section of the seminal vesicle and left vas deferentia. C-E: Proximal margin, radial. F,G: Distal margin, radial. H-K: Left anterior portion of prostate, from superior to inferior. L-O: Left posterior portion, from superior to inferior. P-S: Right posterior portion, from superior to inferior. T-W: Right anterior portion, from superior to inferior. Received fresh, labeled with the patient\\'s name, unit number, and \"lymph node right and left\" are 2 fragments of adipose tissue measuring 2.2 x 0.8 x 0.5 cm and 2.5 x 0.7 x 0.4 cm. The specimens are bisected and entirely submitted in cassettes X and Y, respectively. Resident: LAN WANG, MD =============================================================================== SOURCE CARE UNIT: MGH-INPATIENT (FLR.UNKNOWN) REPORTS TO: Douglas Middleton Dahl, M.D. PART A: LYMPH NODES (LEFT AND RIGHT), EXCISION PART B: PROSTATE, EXCISION'"
            ],
            "application/vnd.google.colaboratory.intrinsic+json": {
              "type": "string"
            }
          },
          "metadata": {},
          "execution_count": 22
        }
      ]
    },
    {
      "cell_type": "code",
      "source": [
        "df1[df1.EMPI == 100003956].Report_Text.iloc[1]"
      ],
      "metadata": {
        "colab": {
          "base_uri": "https://localhost:8080/",
          "height": 122
        },
        "id": "xkWP_QMC8Hi2",
        "outputId": "e56b7b30-8516-43f6-e0b0-d539715103b4"
      },
      "execution_count": null,
      "outputs": [
        {
          "output_type": "execute_result",
          "data": {
            "text/plain": [
              "'Accession Number: S02M6053 Report Status: Final Type: Surgical Pathology Pathology Report: S02-M6053 ACCESSIONED ON: 31 JAN 02 at 14:05 CLINICAL DATA: Elevated PSA; BPH. =============================================================================== *** FINAL DIAGNOSIS *** PROSTATE, RIGHT APEX (S01:014639-A): ADENOCARCINOMA, GLEASON SCORE 3+3= 6/10, INVOLVING 1 OF 2 TISSUE CORES AND 10% OF TOTAL TISSUE VOLUME. RIGHT, RIGHT MID (SO1:0146339-B): ADENOCARCINOMA, GLEASON GRADE 3+3=SCORE 6/10, INVOLVING 1 OF 2 TISSUE CORES AND <5% OF TOTAL TISSUE VOLUME. PROSTATE, RIGHT BASE (S01:014639-C): BENIGN PROSTATIC TISSUE. PROSTATE, LEFT APEX (S01:014639-D): ADENOCARCINOMA, GLEASON GRADE 3/5, ONE MICROSCOPIC FOCUS INVOLVING 1 OF 4 TISSUE CORE FRAGMENTS. PROSTATE, LEFT MID (S01:014639-E): ADENOCARCINOMA, GLEASON GRADE 3/5, ONE MICROSCOPIC FOCUS INVOLVING 1 OF 2 TISSUE CORES. PROSTATE, LEFT BASE (S01:01469-F): ADENOCARCINOMA, GLEASON SCORE 4+3=7/10, INVOLVING 1 OF 3 TISSUE CORE FRAGMENTS AND 5% OF TOTAL TISSUE. Diagnosis by: ESTHER OLIVA, MD Signed On: 04 FEB 02 at 17:47 =============================================================================== =============================================================================== SOURCE CARE UNIT: MGH-OUTSIDE LOCATION REPORTS TO: Douglas Middleton Dahl, M.D. OUTSIDE INSTITUTION: NEWTON-WELLESLEY HOSPITAL OUTSIDE PATHOLOGIST: Michael J. Ross, MD NEWTON-WELLESLEY HOSPITAL 2014 WASHINGTON STREET NEWTON, MA 02162 PART A: PROSTATE, RIGHT APEX(S01:014639-A) Date of Procedure: 13-NOV-2001 Slides: 1 Blocks: 0 PART B: PROSTATE, RIGHT MID(S01:014639-B) Date of Procedure: 13-NOV-2001 Slides: 3 Blocks: 0 PART C: PROSTATE, RIGHT BASE(S01:014639-C) Date of Procedure: 13-NOV-2001 Slides: 1 Blocks: 0 PART D: PROSTATE, LEFT APEX(S01:014639-D) Date of Procedure: 13-NOV-2001 Slides: 1 Blocks: 0 PART E: PROSTATE, LEFT MID(S01:014639-E) Date of Procedure: 13-NOV-2001 Slides: 1 Blocks: 0 PART F: PROSTATE, LEFT BASE(S01:014639-F) Date of Procedure: 13-NOV-2001 Slides: 1 Blocks: 0'"
            ],
            "application/vnd.google.colaboratory.intrinsic+json": {
              "type": "string"
            }
          },
          "metadata": {},
          "execution_count": 23
        }
      ]
    },
    {
      "cell_type": "code",
      "source": [
        "id[id.EMPI == \t111036658]"
      ],
      "metadata": {
        "colab": {
          "base_uri": "https://localhost:8080/",
          "height": 81
        },
        "id": "Kq1LpjeJ7H_X",
        "outputId": "309a4000-9d49-4ffc-a003-9df66b4267ae"
      },
      "execution_count": null,
      "outputs": [
        {
          "output_type": "execute_result",
          "data": {
            "text/plain": [
              "           EMPI     date_rp hospital_rp  lap_rp  lymph_rp\n",
              "4810  111036658  2015-11-05         BWH       1         1"
            ],
            "text/html": [
              "\n",
              "  <div id=\"df-b1f77857-1bba-468b-ba74-b8e6f04e8c5b\">\n",
              "    <div class=\"colab-df-container\">\n",
              "      <div>\n",
              "<style scoped>\n",
              "    .dataframe tbody tr th:only-of-type {\n",
              "        vertical-align: middle;\n",
              "    }\n",
              "\n",
              "    .dataframe tbody tr th {\n",
              "        vertical-align: top;\n",
              "    }\n",
              "\n",
              "    .dataframe thead th {\n",
              "        text-align: right;\n",
              "    }\n",
              "</style>\n",
              "<table border=\"1\" class=\"dataframe\">\n",
              "  <thead>\n",
              "    <tr style=\"text-align: right;\">\n",
              "      <th></th>\n",
              "      <th>EMPI</th>\n",
              "      <th>date_rp</th>\n",
              "      <th>hospital_rp</th>\n",
              "      <th>lap_rp</th>\n",
              "      <th>lymph_rp</th>\n",
              "    </tr>\n",
              "  </thead>\n",
              "  <tbody>\n",
              "    <tr>\n",
              "      <th>4810</th>\n",
              "      <td>111036658</td>\n",
              "      <td>2015-11-05</td>\n",
              "      <td>BWH</td>\n",
              "      <td>1</td>\n",
              "      <td>1</td>\n",
              "    </tr>\n",
              "  </tbody>\n",
              "</table>\n",
              "</div>\n",
              "      <button class=\"colab-df-convert\" onclick=\"convertToInteractive('df-b1f77857-1bba-468b-ba74-b8e6f04e8c5b')\"\n",
              "              title=\"Convert this dataframe to an interactive table.\"\n",
              "              style=\"display:none;\">\n",
              "        \n",
              "  <svg xmlns=\"http://www.w3.org/2000/svg\" height=\"24px\"viewBox=\"0 0 24 24\"\n",
              "       width=\"24px\">\n",
              "    <path d=\"M0 0h24v24H0V0z\" fill=\"none\"/>\n",
              "    <path d=\"M18.56 5.44l.94 2.06.94-2.06 2.06-.94-2.06-.94-.94-2.06-.94 2.06-2.06.94zm-11 1L8.5 8.5l.94-2.06 2.06-.94-2.06-.94L8.5 2.5l-.94 2.06-2.06.94zm10 10l.94 2.06.94-2.06 2.06-.94-2.06-.94-.94-2.06-.94 2.06-2.06.94z\"/><path d=\"M17.41 7.96l-1.37-1.37c-.4-.4-.92-.59-1.43-.59-.52 0-1.04.2-1.43.59L10.3 9.45l-7.72 7.72c-.78.78-.78 2.05 0 2.83L4 21.41c.39.39.9.59 1.41.59.51 0 1.02-.2 1.41-.59l7.78-7.78 2.81-2.81c.8-.78.8-2.07 0-2.86zM5.41 20L4 18.59l7.72-7.72 1.47 1.35L5.41 20z\"/>\n",
              "  </svg>\n",
              "      </button>\n",
              "      \n",
              "  <style>\n",
              "    .colab-df-container {\n",
              "      display:flex;\n",
              "      flex-wrap:wrap;\n",
              "      gap: 12px;\n",
              "    }\n",
              "\n",
              "    .colab-df-convert {\n",
              "      background-color: #E8F0FE;\n",
              "      border: none;\n",
              "      border-radius: 50%;\n",
              "      cursor: pointer;\n",
              "      display: none;\n",
              "      fill: #1967D2;\n",
              "      height: 32px;\n",
              "      padding: 0 0 0 0;\n",
              "      width: 32px;\n",
              "    }\n",
              "\n",
              "    .colab-df-convert:hover {\n",
              "      background-color: #E2EBFA;\n",
              "      box-shadow: 0px 1px 2px rgba(60, 64, 67, 0.3), 0px 1px 3px 1px rgba(60, 64, 67, 0.15);\n",
              "      fill: #174EA6;\n",
              "    }\n",
              "\n",
              "    [theme=dark] .colab-df-convert {\n",
              "      background-color: #3B4455;\n",
              "      fill: #D2E3FC;\n",
              "    }\n",
              "\n",
              "    [theme=dark] .colab-df-convert:hover {\n",
              "      background-color: #434B5C;\n",
              "      box-shadow: 0px 1px 3px 1px rgba(0, 0, 0, 0.15);\n",
              "      filter: drop-shadow(0px 1px 2px rgba(0, 0, 0, 0.3));\n",
              "      fill: #FFFFFF;\n",
              "    }\n",
              "  </style>\n",
              "\n",
              "      <script>\n",
              "        const buttonEl =\n",
              "          document.querySelector('#df-b1f77857-1bba-468b-ba74-b8e6f04e8c5b button.colab-df-convert');\n",
              "        buttonEl.style.display =\n",
              "          google.colab.kernel.accessAllowed ? 'block' : 'none';\n",
              "\n",
              "        async function convertToInteractive(key) {\n",
              "          const element = document.querySelector('#df-b1f77857-1bba-468b-ba74-b8e6f04e8c5b');\n",
              "          const dataTable =\n",
              "            await google.colab.kernel.invokeFunction('convertToInteractive',\n",
              "                                                     [key], {});\n",
              "          if (!dataTable) return;\n",
              "\n",
              "          const docLinkHtml = 'Like what you see? Visit the ' +\n",
              "            '<a target=\"_blank\" href=https://colab.research.google.com/notebooks/data_table.ipynb>data table notebook</a>'\n",
              "            + ' to learn more about interactive tables.';\n",
              "          element.innerHTML = '';\n",
              "          dataTable['output_type'] = 'display_data';\n",
              "          await google.colab.output.renderOutput(dataTable, element);\n",
              "          const docLink = document.createElement('div');\n",
              "          docLink.innerHTML = docLinkHtml;\n",
              "          element.appendChild(docLink);\n",
              "        }\n",
              "      </script>\n",
              "    </div>\n",
              "  </div>\n",
              "  "
            ]
          },
          "metadata": {},
          "execution_count": 24
        }
      ]
    },
    {
      "cell_type": "code",
      "source": [
        "df1[df1.EMPI == 111036658]"
      ],
      "metadata": {
        "colab": {
          "base_uri": "https://localhost:8080/",
          "height": 143
        },
        "id": "-IuU6wET7ZtM",
        "outputId": "79b28cd7-fc0f-45cb-e082-b9166dd318c9"
      },
      "execution_count": null,
      "outputs": [
        {
          "output_type": "execute_result",
          "data": {
            "text/plain": [
              "             EMPI     EPIC_PMRN MRN_Type       MRN Report_Number  \\\n",
              "104979  111036658  1.010503e+10      BWH  30970941    BS16G47035   \n",
              "104980  111036658  1.010503e+10      BWH  30970941    BS15X53915   \n",
              "104981  111036658  1.010503e+10      BWH  30970941    BS15N38425   \n",
              "\n",
              "             Report_Date_Time  Report_Description Report_Status Report_Type  \\\n",
              "104979   9/1/2016 12:00:00 AM  Surgical Pathology         Final         PAT   \n",
              "104980  11/5/2015 12:00:00 AM  Surgical Pathology         Final         PAT   \n",
              "104981  7/10/2015 12:00:00 AM  Surgical Pathology         Final         PAT   \n",
              "\n",
              "                                              Report_Text  \n",
              "104979  Accession Number: BS16G47035 Report Status: Fi...  \n",
              "104980  Accession Number: BS15X53915 Report Status: Fi...  \n",
              "104981  Accession Number: BS15N38425 Report Status: Fi...  "
            ],
            "text/html": [
              "\n",
              "  <div id=\"df-3922c950-4653-49d4-86bc-0f61810b9315\">\n",
              "    <div class=\"colab-df-container\">\n",
              "      <div>\n",
              "<style scoped>\n",
              "    .dataframe tbody tr th:only-of-type {\n",
              "        vertical-align: middle;\n",
              "    }\n",
              "\n",
              "    .dataframe tbody tr th {\n",
              "        vertical-align: top;\n",
              "    }\n",
              "\n",
              "    .dataframe thead th {\n",
              "        text-align: right;\n",
              "    }\n",
              "</style>\n",
              "<table border=\"1\" class=\"dataframe\">\n",
              "  <thead>\n",
              "    <tr style=\"text-align: right;\">\n",
              "      <th></th>\n",
              "      <th>EMPI</th>\n",
              "      <th>EPIC_PMRN</th>\n",
              "      <th>MRN_Type</th>\n",
              "      <th>MRN</th>\n",
              "      <th>Report_Number</th>\n",
              "      <th>Report_Date_Time</th>\n",
              "      <th>Report_Description</th>\n",
              "      <th>Report_Status</th>\n",
              "      <th>Report_Type</th>\n",
              "      <th>Report_Text</th>\n",
              "    </tr>\n",
              "  </thead>\n",
              "  <tbody>\n",
              "    <tr>\n",
              "      <th>104979</th>\n",
              "      <td>111036658</td>\n",
              "      <td>1.010503e+10</td>\n",
              "      <td>BWH</td>\n",
              "      <td>30970941</td>\n",
              "      <td>BS16G47035</td>\n",
              "      <td>9/1/2016 12:00:00 AM</td>\n",
              "      <td>Surgical Pathology</td>\n",
              "      <td>Final</td>\n",
              "      <td>PAT</td>\n",
              "      <td>Accession Number: BS16G47035 Report Status: Fi...</td>\n",
              "    </tr>\n",
              "    <tr>\n",
              "      <th>104980</th>\n",
              "      <td>111036658</td>\n",
              "      <td>1.010503e+10</td>\n",
              "      <td>BWH</td>\n",
              "      <td>30970941</td>\n",
              "      <td>BS15X53915</td>\n",
              "      <td>11/5/2015 12:00:00 AM</td>\n",
              "      <td>Surgical Pathology</td>\n",
              "      <td>Final</td>\n",
              "      <td>PAT</td>\n",
              "      <td>Accession Number: BS15X53915 Report Status: Fi...</td>\n",
              "    </tr>\n",
              "    <tr>\n",
              "      <th>104981</th>\n",
              "      <td>111036658</td>\n",
              "      <td>1.010503e+10</td>\n",
              "      <td>BWH</td>\n",
              "      <td>30970941</td>\n",
              "      <td>BS15N38425</td>\n",
              "      <td>7/10/2015 12:00:00 AM</td>\n",
              "      <td>Surgical Pathology</td>\n",
              "      <td>Final</td>\n",
              "      <td>PAT</td>\n",
              "      <td>Accession Number: BS15N38425 Report Status: Fi...</td>\n",
              "    </tr>\n",
              "  </tbody>\n",
              "</table>\n",
              "</div>\n",
              "      <button class=\"colab-df-convert\" onclick=\"convertToInteractive('df-3922c950-4653-49d4-86bc-0f61810b9315')\"\n",
              "              title=\"Convert this dataframe to an interactive table.\"\n",
              "              style=\"display:none;\">\n",
              "        \n",
              "  <svg xmlns=\"http://www.w3.org/2000/svg\" height=\"24px\"viewBox=\"0 0 24 24\"\n",
              "       width=\"24px\">\n",
              "    <path d=\"M0 0h24v24H0V0z\" fill=\"none\"/>\n",
              "    <path d=\"M18.56 5.44l.94 2.06.94-2.06 2.06-.94-2.06-.94-.94-2.06-.94 2.06-2.06.94zm-11 1L8.5 8.5l.94-2.06 2.06-.94-2.06-.94L8.5 2.5l-.94 2.06-2.06.94zm10 10l.94 2.06.94-2.06 2.06-.94-2.06-.94-.94-2.06-.94 2.06-2.06.94z\"/><path d=\"M17.41 7.96l-1.37-1.37c-.4-.4-.92-.59-1.43-.59-.52 0-1.04.2-1.43.59L10.3 9.45l-7.72 7.72c-.78.78-.78 2.05 0 2.83L4 21.41c.39.39.9.59 1.41.59.51 0 1.02-.2 1.41-.59l7.78-7.78 2.81-2.81c.8-.78.8-2.07 0-2.86zM5.41 20L4 18.59l7.72-7.72 1.47 1.35L5.41 20z\"/>\n",
              "  </svg>\n",
              "      </button>\n",
              "      \n",
              "  <style>\n",
              "    .colab-df-container {\n",
              "      display:flex;\n",
              "      flex-wrap:wrap;\n",
              "      gap: 12px;\n",
              "    }\n",
              "\n",
              "    .colab-df-convert {\n",
              "      background-color: #E8F0FE;\n",
              "      border: none;\n",
              "      border-radius: 50%;\n",
              "      cursor: pointer;\n",
              "      display: none;\n",
              "      fill: #1967D2;\n",
              "      height: 32px;\n",
              "      padding: 0 0 0 0;\n",
              "      width: 32px;\n",
              "    }\n",
              "\n",
              "    .colab-df-convert:hover {\n",
              "      background-color: #E2EBFA;\n",
              "      box-shadow: 0px 1px 2px rgba(60, 64, 67, 0.3), 0px 1px 3px 1px rgba(60, 64, 67, 0.15);\n",
              "      fill: #174EA6;\n",
              "    }\n",
              "\n",
              "    [theme=dark] .colab-df-convert {\n",
              "      background-color: #3B4455;\n",
              "      fill: #D2E3FC;\n",
              "    }\n",
              "\n",
              "    [theme=dark] .colab-df-convert:hover {\n",
              "      background-color: #434B5C;\n",
              "      box-shadow: 0px 1px 3px 1px rgba(0, 0, 0, 0.15);\n",
              "      filter: drop-shadow(0px 1px 2px rgba(0, 0, 0, 0.3));\n",
              "      fill: #FFFFFF;\n",
              "    }\n",
              "  </style>\n",
              "\n",
              "      <script>\n",
              "        const buttonEl =\n",
              "          document.querySelector('#df-3922c950-4653-49d4-86bc-0f61810b9315 button.colab-df-convert');\n",
              "        buttonEl.style.display =\n",
              "          google.colab.kernel.accessAllowed ? 'block' : 'none';\n",
              "\n",
              "        async function convertToInteractive(key) {\n",
              "          const element = document.querySelector('#df-3922c950-4653-49d4-86bc-0f61810b9315');\n",
              "          const dataTable =\n",
              "            await google.colab.kernel.invokeFunction('convertToInteractive',\n",
              "                                                     [key], {});\n",
              "          if (!dataTable) return;\n",
              "\n",
              "          const docLinkHtml = 'Like what you see? Visit the ' +\n",
              "            '<a target=\"_blank\" href=https://colab.research.google.com/notebooks/data_table.ipynb>data table notebook</a>'\n",
              "            + ' to learn more about interactive tables.';\n",
              "          element.innerHTML = '';\n",
              "          dataTable['output_type'] = 'display_data';\n",
              "          await google.colab.output.renderOutput(dataTable, element);\n",
              "          const docLink = document.createElement('div');\n",
              "          docLink.innerHTML = docLinkHtml;\n",
              "          element.appendChild(docLink);\n",
              "        }\n",
              "      </script>\n",
              "    </div>\n",
              "  </div>\n",
              "  "
            ]
          },
          "metadata": {},
          "execution_count": 25
        }
      ]
    },
    {
      "cell_type": "code",
      "source": [
        "df1.dtypes"
      ],
      "metadata": {
        "colab": {
          "base_uri": "https://localhost:8080/"
        },
        "id": "6vzjyACn7cTH",
        "outputId": "dfd5f8f4-e10c-471e-e0fd-dfac7861a6dc"
      },
      "execution_count": null,
      "outputs": [
        {
          "output_type": "execute_result",
          "data": {
            "text/plain": [
              "EMPI                    int64\n",
              "EPIC_PMRN             float64\n",
              "MRN_Type               object\n",
              "MRN                     int64\n",
              "Report_Number          object\n",
              "Report_Date_Time       object\n",
              "Report_Description     object\n",
              "Report_Status          object\n",
              "Report_Type            object\n",
              "Report_Text            object\n",
              "dtype: object"
            ]
          },
          "metadata": {},
          "execution_count": 26
        }
      ]
    },
    {
      "cell_type": "code",
      "source": [
        "df_merged = df1.append([df2, df3, df4])"
      ],
      "metadata": {
        "id": "hqYHYNnh7o2j"
      },
      "execution_count": null,
      "outputs": []
    },
    {
      "cell_type": "code",
      "source": [
        "df_merged.info()"
      ],
      "metadata": {
        "colab": {
          "base_uri": "https://localhost:8080/"
        },
        "id": "bAxtKxR0FBok",
        "outputId": "7cbd3f97-325d-4ff6-bf2d-cbaad9f1e2be"
      },
      "execution_count": null,
      "outputs": [
        {
          "output_type": "stream",
          "name": "stdout",
          "text": [
            "<class 'pandas.core.frame.DataFrame'>\n",
            "Int64Index: 87179 entries, 5 to 103842\n",
            "Data columns (total 10 columns):\n",
            " #   Column              Non-Null Count  Dtype  \n",
            "---  ------              --------------  -----  \n",
            " 0   EMPI                87179 non-null  int64  \n",
            " 1   EPIC_PMRN           86492 non-null  float64\n",
            " 2   MRN_Type            87179 non-null  object \n",
            " 3   MRN                 87179 non-null  int64  \n",
            " 4   Report_Number       87179 non-null  object \n",
            " 5   Report_Date_Time    87179 non-null  object \n",
            " 6   Report_Description  87179 non-null  object \n",
            " 7   Report_Status       87179 non-null  object \n",
            " 8   Report_Type         87179 non-null  object \n",
            " 9   Report_Text         87179 non-null  object \n",
            "dtypes: float64(1), int64(2), object(7)\n",
            "memory usage: 7.3+ MB\n"
          ]
        }
      ]
    },
    {
      "cell_type": "code",
      "source": [
        "df_merged[\"Report_Text\"] = df_merged[\"Report_Text\"].str.lower()"
      ],
      "metadata": {
        "id": "Re2fnpuJFDwD"
      },
      "execution_count": null,
      "outputs": []
    },
    {
      "cell_type": "code",
      "source": [
        "df_merged['date_pathology'] = pd.to_datetime(df_merged['Report_Date_Time'], infer_datetime_format=True)"
      ],
      "metadata": {
        "id": "qt1-2W6pFGUU"
      },
      "execution_count": null,
      "outputs": []
    },
    {
      "cell_type": "code",
      "source": [
        "df_merged.head()"
      ],
      "metadata": {
        "colab": {
          "base_uri": "https://localhost:8080/",
          "height": 250
        },
        "id": "uPWlqfljFKHr",
        "outputId": "f858b604-8005-4e9b-ff6d-5b6badcf48e5"
      },
      "execution_count": null,
      "outputs": [
        {
          "output_type": "execute_result",
          "data": {
            "text/plain": [
              "        EMPI     EPIC_PMRN MRN_Type      MRN Report_Number  \\\n",
              "5  100003956  1.002650e+10      MGH  1784307     S02K17074   \n",
              "6  100003956  1.002650e+10      MGH  1784307      S02M6053   \n",
              "7  100003956  1.002650e+10      NWH   265017    S01:014639   \n",
              "8  100003956  1.002650e+10      NWH   265017    C01:020125   \n",
              "9  100003956  1.002650e+10      NWH   265017    U99:000131   \n",
              "\n",
              "         Report_Date_Time  Report_Description Report_Status Report_Type  \\\n",
              "5   3/29/2002 12:00:00 AM  Surgical Pathology         Final         PAT   \n",
              "6    1/31/2002 2:05:00 PM  Surgical Pathology         Final         PAT   \n",
              "7  11/13/2001 12:00:00 AM  Surgical Pathology        Signed         PAT   \n",
              "8  10/30/2001 12:00:00 AM            Cytology        Signed         PAT   \n",
              "9    1/11/1999 2:41:00 PM  Surgical Pathology        Signed         PAT   \n",
              "\n",
              "                                         Report_Text      date_pathology  \n",
              "5  accession number: s02k17074 report status: fin... 2002-03-29 00:00:00  \n",
              "6  accession number: s02m6053 report status: fina... 2002-01-31 14:05:00  \n",
              "7  accession number: s01:014639 report status: si... 2001-11-13 00:00:00  \n",
              "8  accession number: c01:020125 report status: si... 2001-10-30 00:00:00  \n",
              "9  accession number: u99:000131 report status: si... 1999-01-11 14:41:00  "
            ],
            "text/html": [
              "\n",
              "  <div id=\"df-d27e6ae2-a712-40f6-9962-5cfd4740f2b7\">\n",
              "    <div class=\"colab-df-container\">\n",
              "      <div>\n",
              "<style scoped>\n",
              "    .dataframe tbody tr th:only-of-type {\n",
              "        vertical-align: middle;\n",
              "    }\n",
              "\n",
              "    .dataframe tbody tr th {\n",
              "        vertical-align: top;\n",
              "    }\n",
              "\n",
              "    .dataframe thead th {\n",
              "        text-align: right;\n",
              "    }\n",
              "</style>\n",
              "<table border=\"1\" class=\"dataframe\">\n",
              "  <thead>\n",
              "    <tr style=\"text-align: right;\">\n",
              "      <th></th>\n",
              "      <th>EMPI</th>\n",
              "      <th>EPIC_PMRN</th>\n",
              "      <th>MRN_Type</th>\n",
              "      <th>MRN</th>\n",
              "      <th>Report_Number</th>\n",
              "      <th>Report_Date_Time</th>\n",
              "      <th>Report_Description</th>\n",
              "      <th>Report_Status</th>\n",
              "      <th>Report_Type</th>\n",
              "      <th>Report_Text</th>\n",
              "      <th>date_pathology</th>\n",
              "    </tr>\n",
              "  </thead>\n",
              "  <tbody>\n",
              "    <tr>\n",
              "      <th>5</th>\n",
              "      <td>100003956</td>\n",
              "      <td>1.002650e+10</td>\n",
              "      <td>MGH</td>\n",
              "      <td>1784307</td>\n",
              "      <td>S02K17074</td>\n",
              "      <td>3/29/2002 12:00:00 AM</td>\n",
              "      <td>Surgical Pathology</td>\n",
              "      <td>Final</td>\n",
              "      <td>PAT</td>\n",
              "      <td>accession number: s02k17074 report status: fin...</td>\n",
              "      <td>2002-03-29 00:00:00</td>\n",
              "    </tr>\n",
              "    <tr>\n",
              "      <th>6</th>\n",
              "      <td>100003956</td>\n",
              "      <td>1.002650e+10</td>\n",
              "      <td>MGH</td>\n",
              "      <td>1784307</td>\n",
              "      <td>S02M6053</td>\n",
              "      <td>1/31/2002 2:05:00 PM</td>\n",
              "      <td>Surgical Pathology</td>\n",
              "      <td>Final</td>\n",
              "      <td>PAT</td>\n",
              "      <td>accession number: s02m6053 report status: fina...</td>\n",
              "      <td>2002-01-31 14:05:00</td>\n",
              "    </tr>\n",
              "    <tr>\n",
              "      <th>7</th>\n",
              "      <td>100003956</td>\n",
              "      <td>1.002650e+10</td>\n",
              "      <td>NWH</td>\n",
              "      <td>265017</td>\n",
              "      <td>S01:014639</td>\n",
              "      <td>11/13/2001 12:00:00 AM</td>\n",
              "      <td>Surgical Pathology</td>\n",
              "      <td>Signed</td>\n",
              "      <td>PAT</td>\n",
              "      <td>accession number: s01:014639 report status: si...</td>\n",
              "      <td>2001-11-13 00:00:00</td>\n",
              "    </tr>\n",
              "    <tr>\n",
              "      <th>8</th>\n",
              "      <td>100003956</td>\n",
              "      <td>1.002650e+10</td>\n",
              "      <td>NWH</td>\n",
              "      <td>265017</td>\n",
              "      <td>C01:020125</td>\n",
              "      <td>10/30/2001 12:00:00 AM</td>\n",
              "      <td>Cytology</td>\n",
              "      <td>Signed</td>\n",
              "      <td>PAT</td>\n",
              "      <td>accession number: c01:020125 report status: si...</td>\n",
              "      <td>2001-10-30 00:00:00</td>\n",
              "    </tr>\n",
              "    <tr>\n",
              "      <th>9</th>\n",
              "      <td>100003956</td>\n",
              "      <td>1.002650e+10</td>\n",
              "      <td>NWH</td>\n",
              "      <td>265017</td>\n",
              "      <td>U99:000131</td>\n",
              "      <td>1/11/1999 2:41:00 PM</td>\n",
              "      <td>Surgical Pathology</td>\n",
              "      <td>Signed</td>\n",
              "      <td>PAT</td>\n",
              "      <td>accession number: u99:000131 report status: si...</td>\n",
              "      <td>1999-01-11 14:41:00</td>\n",
              "    </tr>\n",
              "  </tbody>\n",
              "</table>\n",
              "</div>\n",
              "      <button class=\"colab-df-convert\" onclick=\"convertToInteractive('df-d27e6ae2-a712-40f6-9962-5cfd4740f2b7')\"\n",
              "              title=\"Convert this dataframe to an interactive table.\"\n",
              "              style=\"display:none;\">\n",
              "        \n",
              "  <svg xmlns=\"http://www.w3.org/2000/svg\" height=\"24px\"viewBox=\"0 0 24 24\"\n",
              "       width=\"24px\">\n",
              "    <path d=\"M0 0h24v24H0V0z\" fill=\"none\"/>\n",
              "    <path d=\"M18.56 5.44l.94 2.06.94-2.06 2.06-.94-2.06-.94-.94-2.06-.94 2.06-2.06.94zm-11 1L8.5 8.5l.94-2.06 2.06-.94-2.06-.94L8.5 2.5l-.94 2.06-2.06.94zm10 10l.94 2.06.94-2.06 2.06-.94-2.06-.94-.94-2.06-.94 2.06-2.06.94z\"/><path d=\"M17.41 7.96l-1.37-1.37c-.4-.4-.92-.59-1.43-.59-.52 0-1.04.2-1.43.59L10.3 9.45l-7.72 7.72c-.78.78-.78 2.05 0 2.83L4 21.41c.39.39.9.59 1.41.59.51 0 1.02-.2 1.41-.59l7.78-7.78 2.81-2.81c.8-.78.8-2.07 0-2.86zM5.41 20L4 18.59l7.72-7.72 1.47 1.35L5.41 20z\"/>\n",
              "  </svg>\n",
              "      </button>\n",
              "      \n",
              "  <style>\n",
              "    .colab-df-container {\n",
              "      display:flex;\n",
              "      flex-wrap:wrap;\n",
              "      gap: 12px;\n",
              "    }\n",
              "\n",
              "    .colab-df-convert {\n",
              "      background-color: #E8F0FE;\n",
              "      border: none;\n",
              "      border-radius: 50%;\n",
              "      cursor: pointer;\n",
              "      display: none;\n",
              "      fill: #1967D2;\n",
              "      height: 32px;\n",
              "      padding: 0 0 0 0;\n",
              "      width: 32px;\n",
              "    }\n",
              "\n",
              "    .colab-df-convert:hover {\n",
              "      background-color: #E2EBFA;\n",
              "      box-shadow: 0px 1px 2px rgba(60, 64, 67, 0.3), 0px 1px 3px 1px rgba(60, 64, 67, 0.15);\n",
              "      fill: #174EA6;\n",
              "    }\n",
              "\n",
              "    [theme=dark] .colab-df-convert {\n",
              "      background-color: #3B4455;\n",
              "      fill: #D2E3FC;\n",
              "    }\n",
              "\n",
              "    [theme=dark] .colab-df-convert:hover {\n",
              "      background-color: #434B5C;\n",
              "      box-shadow: 0px 1px 3px 1px rgba(0, 0, 0, 0.15);\n",
              "      filter: drop-shadow(0px 1px 2px rgba(0, 0, 0, 0.3));\n",
              "      fill: #FFFFFF;\n",
              "    }\n",
              "  </style>\n",
              "\n",
              "      <script>\n",
              "        const buttonEl =\n",
              "          document.querySelector('#df-d27e6ae2-a712-40f6-9962-5cfd4740f2b7 button.colab-df-convert');\n",
              "        buttonEl.style.display =\n",
              "          google.colab.kernel.accessAllowed ? 'block' : 'none';\n",
              "\n",
              "        async function convertToInteractive(key) {\n",
              "          const element = document.querySelector('#df-d27e6ae2-a712-40f6-9962-5cfd4740f2b7');\n",
              "          const dataTable =\n",
              "            await google.colab.kernel.invokeFunction('convertToInteractive',\n",
              "                                                     [key], {});\n",
              "          if (!dataTable) return;\n",
              "\n",
              "          const docLinkHtml = 'Like what you see? Visit the ' +\n",
              "            '<a target=\"_blank\" href=https://colab.research.google.com/notebooks/data_table.ipynb>data table notebook</a>'\n",
              "            + ' to learn more about interactive tables.';\n",
              "          element.innerHTML = '';\n",
              "          dataTable['output_type'] = 'display_data';\n",
              "          await google.colab.output.renderOutput(dataTable, element);\n",
              "          const docLink = document.createElement('div');\n",
              "          docLink.innerHTML = docLinkHtml;\n",
              "          element.appendChild(docLink);\n",
              "        }\n",
              "      </script>\n",
              "    </div>\n",
              "  </div>\n",
              "  "
            ]
          },
          "metadata": {},
          "execution_count": 31
        }
      ]
    },
    {
      "cell_type": "code",
      "source": [
        "df_merged.drop(['Report_Date_Time'], axis=1, inplace=True)"
      ],
      "metadata": {
        "id": "wSpzGP5jFOMG"
      },
      "execution_count": null,
      "outputs": []
    },
    {
      "cell_type": "code",
      "source": [
        "df_merged['Report_Description'].value_counts()"
      ],
      "metadata": {
        "colab": {
          "base_uri": "https://localhost:8080/"
        },
        "id": "oiVwwX2uFQEC",
        "outputId": "576ed70a-487c-4687-bb89-641134673ede"
      },
      "execution_count": null,
      "outputs": [
        {
          "output_type": "execute_result",
          "data": {
            "text/plain": [
              "Surgical Pathology       74056\n",
              "Cytology                 10802\n",
              "Interpretive Lab Test     1750\n",
              "Cytogenetics               360\n",
              "Clinical Pathology          91\n",
              "Autopsy                     81\n",
              "Pathology Report            39\n",
              "Name: Report_Description, dtype: int64"
            ]
          },
          "metadata": {},
          "execution_count": 33
        }
      ]
    },
    {
      "cell_type": "code",
      "source": [
        "surgical_path = df_merged.loc[df_merged.Report_Description == 'Surgical Pathology']"
      ],
      "metadata": {
        "id": "qb8BAOiQOwMM"
      },
      "execution_count": null,
      "outputs": []
    },
    {
      "cell_type": "code",
      "source": [
        "surgical_path.head()"
      ],
      "metadata": {
        "colab": {
          "base_uri": "https://localhost:8080/",
          "height": 206
        },
        "id": "D4vqIA3uO39K",
        "outputId": "01e25d13-f866-48b1-8944-195f58876499"
      },
      "execution_count": null,
      "outputs": [
        {
          "output_type": "execute_result",
          "data": {
            "text/plain": [
              "         EMPI     EPIC_PMRN MRN_Type      MRN Report_Number  \\\n",
              "5   100003956  1.002650e+10      MGH  1784307     S02K17074   \n",
              "6   100003956  1.002650e+10      MGH  1784307      S02M6053   \n",
              "7   100003956  1.002650e+10      NWH   265017    S01:014639   \n",
              "9   100003956  1.002650e+10      NWH   265017    U99:000131   \n",
              "32  100006532  1.004006e+10      BWH   975151    BS19D21021   \n",
              "\n",
              "    Report_Description Report_Status Report_Type  \\\n",
              "5   Surgical Pathology         Final         PAT   \n",
              "6   Surgical Pathology         Final         PAT   \n",
              "7   Surgical Pathology        Signed         PAT   \n",
              "9   Surgical Pathology        Signed         PAT   \n",
              "32  Surgical Pathology         Final         PAT   \n",
              "\n",
              "                                          Report_Text      date_pathology  \n",
              "5   accession number: s02k17074 report status: fin... 2002-03-29 00:00:00  \n",
              "6   accession number: s02m6053 report status: fina... 2002-01-31 14:05:00  \n",
              "7   accession number: s01:014639 report status: si... 2001-11-13 00:00:00  \n",
              "9   accession number: u99:000131 report status: si... 1999-01-11 14:41:00  \n",
              "32  accession number: bs19d21021 report status: fi... 2019-04-10 00:00:00  "
            ],
            "text/html": [
              "\n",
              "  <div id=\"df-08598c7a-36ff-4e11-bf59-01769c7024c0\">\n",
              "    <div class=\"colab-df-container\">\n",
              "      <div>\n",
              "<style scoped>\n",
              "    .dataframe tbody tr th:only-of-type {\n",
              "        vertical-align: middle;\n",
              "    }\n",
              "\n",
              "    .dataframe tbody tr th {\n",
              "        vertical-align: top;\n",
              "    }\n",
              "\n",
              "    .dataframe thead th {\n",
              "        text-align: right;\n",
              "    }\n",
              "</style>\n",
              "<table border=\"1\" class=\"dataframe\">\n",
              "  <thead>\n",
              "    <tr style=\"text-align: right;\">\n",
              "      <th></th>\n",
              "      <th>EMPI</th>\n",
              "      <th>EPIC_PMRN</th>\n",
              "      <th>MRN_Type</th>\n",
              "      <th>MRN</th>\n",
              "      <th>Report_Number</th>\n",
              "      <th>Report_Description</th>\n",
              "      <th>Report_Status</th>\n",
              "      <th>Report_Type</th>\n",
              "      <th>Report_Text</th>\n",
              "      <th>date_pathology</th>\n",
              "    </tr>\n",
              "  </thead>\n",
              "  <tbody>\n",
              "    <tr>\n",
              "      <th>5</th>\n",
              "      <td>100003956</td>\n",
              "      <td>1.002650e+10</td>\n",
              "      <td>MGH</td>\n",
              "      <td>1784307</td>\n",
              "      <td>S02K17074</td>\n",
              "      <td>Surgical Pathology</td>\n",
              "      <td>Final</td>\n",
              "      <td>PAT</td>\n",
              "      <td>accession number: s02k17074 report status: fin...</td>\n",
              "      <td>2002-03-29 00:00:00</td>\n",
              "    </tr>\n",
              "    <tr>\n",
              "      <th>6</th>\n",
              "      <td>100003956</td>\n",
              "      <td>1.002650e+10</td>\n",
              "      <td>MGH</td>\n",
              "      <td>1784307</td>\n",
              "      <td>S02M6053</td>\n",
              "      <td>Surgical Pathology</td>\n",
              "      <td>Final</td>\n",
              "      <td>PAT</td>\n",
              "      <td>accession number: s02m6053 report status: fina...</td>\n",
              "      <td>2002-01-31 14:05:00</td>\n",
              "    </tr>\n",
              "    <tr>\n",
              "      <th>7</th>\n",
              "      <td>100003956</td>\n",
              "      <td>1.002650e+10</td>\n",
              "      <td>NWH</td>\n",
              "      <td>265017</td>\n",
              "      <td>S01:014639</td>\n",
              "      <td>Surgical Pathology</td>\n",
              "      <td>Signed</td>\n",
              "      <td>PAT</td>\n",
              "      <td>accession number: s01:014639 report status: si...</td>\n",
              "      <td>2001-11-13 00:00:00</td>\n",
              "    </tr>\n",
              "    <tr>\n",
              "      <th>9</th>\n",
              "      <td>100003956</td>\n",
              "      <td>1.002650e+10</td>\n",
              "      <td>NWH</td>\n",
              "      <td>265017</td>\n",
              "      <td>U99:000131</td>\n",
              "      <td>Surgical Pathology</td>\n",
              "      <td>Signed</td>\n",
              "      <td>PAT</td>\n",
              "      <td>accession number: u99:000131 report status: si...</td>\n",
              "      <td>1999-01-11 14:41:00</td>\n",
              "    </tr>\n",
              "    <tr>\n",
              "      <th>32</th>\n",
              "      <td>100006532</td>\n",
              "      <td>1.004006e+10</td>\n",
              "      <td>BWH</td>\n",
              "      <td>975151</td>\n",
              "      <td>BS19D21021</td>\n",
              "      <td>Surgical Pathology</td>\n",
              "      <td>Final</td>\n",
              "      <td>PAT</td>\n",
              "      <td>accession number: bs19d21021 report status: fi...</td>\n",
              "      <td>2019-04-10 00:00:00</td>\n",
              "    </tr>\n",
              "  </tbody>\n",
              "</table>\n",
              "</div>\n",
              "      <button class=\"colab-df-convert\" onclick=\"convertToInteractive('df-08598c7a-36ff-4e11-bf59-01769c7024c0')\"\n",
              "              title=\"Convert this dataframe to an interactive table.\"\n",
              "              style=\"display:none;\">\n",
              "        \n",
              "  <svg xmlns=\"http://www.w3.org/2000/svg\" height=\"24px\"viewBox=\"0 0 24 24\"\n",
              "       width=\"24px\">\n",
              "    <path d=\"M0 0h24v24H0V0z\" fill=\"none\"/>\n",
              "    <path d=\"M18.56 5.44l.94 2.06.94-2.06 2.06-.94-2.06-.94-.94-2.06-.94 2.06-2.06.94zm-11 1L8.5 8.5l.94-2.06 2.06-.94-2.06-.94L8.5 2.5l-.94 2.06-2.06.94zm10 10l.94 2.06.94-2.06 2.06-.94-2.06-.94-.94-2.06-.94 2.06-2.06.94z\"/><path d=\"M17.41 7.96l-1.37-1.37c-.4-.4-.92-.59-1.43-.59-.52 0-1.04.2-1.43.59L10.3 9.45l-7.72 7.72c-.78.78-.78 2.05 0 2.83L4 21.41c.39.39.9.59 1.41.59.51 0 1.02-.2 1.41-.59l7.78-7.78 2.81-2.81c.8-.78.8-2.07 0-2.86zM5.41 20L4 18.59l7.72-7.72 1.47 1.35L5.41 20z\"/>\n",
              "  </svg>\n",
              "      </button>\n",
              "      \n",
              "  <style>\n",
              "    .colab-df-container {\n",
              "      display:flex;\n",
              "      flex-wrap:wrap;\n",
              "      gap: 12px;\n",
              "    }\n",
              "\n",
              "    .colab-df-convert {\n",
              "      background-color: #E8F0FE;\n",
              "      border: none;\n",
              "      border-radius: 50%;\n",
              "      cursor: pointer;\n",
              "      display: none;\n",
              "      fill: #1967D2;\n",
              "      height: 32px;\n",
              "      padding: 0 0 0 0;\n",
              "      width: 32px;\n",
              "    }\n",
              "\n",
              "    .colab-df-convert:hover {\n",
              "      background-color: #E2EBFA;\n",
              "      box-shadow: 0px 1px 2px rgba(60, 64, 67, 0.3), 0px 1px 3px 1px rgba(60, 64, 67, 0.15);\n",
              "      fill: #174EA6;\n",
              "    }\n",
              "\n",
              "    [theme=dark] .colab-df-convert {\n",
              "      background-color: #3B4455;\n",
              "      fill: #D2E3FC;\n",
              "    }\n",
              "\n",
              "    [theme=dark] .colab-df-convert:hover {\n",
              "      background-color: #434B5C;\n",
              "      box-shadow: 0px 1px 3px 1px rgba(0, 0, 0, 0.15);\n",
              "      filter: drop-shadow(0px 1px 2px rgba(0, 0, 0, 0.3));\n",
              "      fill: #FFFFFF;\n",
              "    }\n",
              "  </style>\n",
              "\n",
              "      <script>\n",
              "        const buttonEl =\n",
              "          document.querySelector('#df-08598c7a-36ff-4e11-bf59-01769c7024c0 button.colab-df-convert');\n",
              "        buttonEl.style.display =\n",
              "          google.colab.kernel.accessAllowed ? 'block' : 'none';\n",
              "\n",
              "        async function convertToInteractive(key) {\n",
              "          const element = document.querySelector('#df-08598c7a-36ff-4e11-bf59-01769c7024c0');\n",
              "          const dataTable =\n",
              "            await google.colab.kernel.invokeFunction('convertToInteractive',\n",
              "                                                     [key], {});\n",
              "          if (!dataTable) return;\n",
              "\n",
              "          const docLinkHtml = 'Like what you see? Visit the ' +\n",
              "            '<a target=\"_blank\" href=https://colab.research.google.com/notebooks/data_table.ipynb>data table notebook</a>'\n",
              "            + ' to learn more about interactive tables.';\n",
              "          element.innerHTML = '';\n",
              "          dataTable['output_type'] = 'display_data';\n",
              "          await google.colab.output.renderOutput(dataTable, element);\n",
              "          const docLink = document.createElement('div');\n",
              "          docLink.innerHTML = docLinkHtml;\n",
              "          element.appendChild(docLink);\n",
              "        }\n",
              "      </script>\n",
              "    </div>\n",
              "  </div>\n",
              "  "
            ]
          },
          "metadata": {},
          "execution_count": 35
        }
      ]
    },
    {
      "cell_type": "code",
      "source": [
        "surgical_path['date'] = pd.to_datetime(surgical_path['date_pathology']).dt.date"
      ],
      "metadata": {
        "colab": {
          "base_uri": "https://localhost:8080/"
        },
        "id": "DrGf8f--YUF9",
        "outputId": "5edb0d27-a0bc-4e82-df21-684b4803dfcf"
      },
      "execution_count": null,
      "outputs": [
        {
          "output_type": "stream",
          "name": "stderr",
          "text": [
            "/usr/local/lib/python3.7/dist-packages/ipykernel_launcher.py:1: SettingWithCopyWarning: \n",
            "A value is trying to be set on a copy of a slice from a DataFrame.\n",
            "Try using .loc[row_indexer,col_indexer] = value instead\n",
            "\n",
            "See the caveats in the documentation: https://pandas.pydata.org/pandas-docs/stable/user_guide/indexing.html#returning-a-view-versus-a-copy\n",
            "  \"\"\"Entry point for launching an IPython kernel.\n"
          ]
        }
      ]
    },
    {
      "cell_type": "code",
      "source": [
        "surgical_path.date = pd.to_datetime(surgical_path.date)"
      ],
      "metadata": {
        "colab": {
          "base_uri": "https://localhost:8080/"
        },
        "id": "yYV2cerRYgNq",
        "outputId": "6f7aee7e-8a7b-482a-f39e-2cb64b922a1a"
      },
      "execution_count": null,
      "outputs": [
        {
          "output_type": "stream",
          "name": "stderr",
          "text": [
            "/usr/local/lib/python3.7/dist-packages/pandas/core/generic.py:5516: SettingWithCopyWarning: \n",
            "A value is trying to be set on a copy of a slice from a DataFrame.\n",
            "Try using .loc[row_indexer,col_indexer] = value instead\n",
            "\n",
            "See the caveats in the documentation: https://pandas.pydata.org/pandas-docs/stable/user_guide/indexing.html#returning-a-view-versus-a-copy\n",
            "  self[name] = value\n"
          ]
        }
      ]
    },
    {
      "cell_type": "code",
      "source": [
        "id['date_pathology'] = pd.to_datetime(id['date_rp'], infer_datetime_format=True)"
      ],
      "metadata": {
        "id": "r7DLIQnHSVJq"
      },
      "execution_count": null,
      "outputs": []
    },
    {
      "cell_type": "code",
      "source": [
        "final_df = surgical_path.merge(id,left_on=['EMPI','date'], right_on = ['EMPI','date_pathology'])"
      ],
      "metadata": {
        "id": "r9Ydg4VUSXOv"
      },
      "execution_count": null,
      "outputs": []
    },
    {
      "cell_type": "code",
      "source": [
        "final_df"
      ],
      "metadata": {
        "colab": {
          "base_uri": "https://localhost:8080/",
          "height": 1000
        },
        "id": "fr5XUaSAJqqL",
        "outputId": "32dcb931-8b7e-419e-ced4-53df4ae080d1"
      },
      "execution_count": null,
      "outputs": [
        {
          "output_type": "execute_result",
          "data": {
            "text/plain": [
              "            EMPI     EPIC_PMRN MRN_Type       MRN Report_Number  \\\n",
              "0      100003956  1.002650e+10      MGH   1784307     S02K17074   \n",
              "1      100006532  1.004006e+10      BWH    975151     S9905462C   \n",
              "2      100006636  1.004006e+10      BWH    984781    BS05E05528   \n",
              "3      100001308  1.004001e+10      BWH    279307     S9935420S   \n",
              "4      100095964  1.004423e+10      MGH   3408237     S04T31383   \n",
              "...          ...           ...      ...       ...           ...   \n",
              "16651  111108962  1.010778e+10      MGH   5708043     S17-42561   \n",
              "16652  111110994  1.010780e+10      MGH   5703546     S15-80722   \n",
              "16653  111085770  1.010554e+10      MGH   5690246     S19-42440   \n",
              "16654  111142034  1.011387e+10      MGH   1326008     S19-56696   \n",
              "16655  111061498  1.010529e+10       FH  10023679    FS15D09187   \n",
              "\n",
              "       Report_Description Report_Status Report_Type  \\\n",
              "0      Surgical Pathology         Final         PAT   \n",
              "1      Surgical Pathology         Final         PAT   \n",
              "2      Surgical Pathology         Final         PAT   \n",
              "3      Surgical Pathology         Final         PAT   \n",
              "4      Surgical Pathology         Final         PAT   \n",
              "...                   ...           ...         ...   \n",
              "16651  Surgical Pathology         Final         PAT   \n",
              "16652  Surgical Pathology         Final         PAT   \n",
              "16653  Surgical Pathology         Final         PAT   \n",
              "16654  Surgical Pathology         Final         PAT   \n",
              "16655  Surgical Pathology         Final         PAT   \n",
              "\n",
              "                                             Report_Text    date_pathology_x  \\\n",
              "0      accession number: s02k17074 report status: fin... 2002-03-29 00:00:00   \n",
              "1      accession number: s9905462c report status: fin... 1999-02-27 00:00:00   \n",
              "2      accession number: bs05e05528 report status: fi... 2005-02-10 00:00:00   \n",
              "3      accession number: s9935420s report status: fin... 1999-12-17 00:00:00   \n",
              "4      accession number: s04t31383 report status: fin... 2004-06-02 00:00:00   \n",
              "...                                                  ...                 ...   \n",
              "16651  accession number: s17-42561 report status: fin... 2017-06-23 00:00:00   \n",
              "16652  accession number: s15-80722 report status: fin... 2015-12-15 00:00:00   \n",
              "16653  accession number: s19-42440 report status: fin... 2019-06-18 14:48:00   \n",
              "16654  accession number: s19-56696 report status: fin... 2019-08-14 00:00:00   \n",
              "16655  accession number: fs15d09187 report status: fi... 2015-11-02 00:00:00   \n",
              "\n",
              "            date     date_rp hospital_rp  lap_rp  lymph_rp date_pathology_y  \n",
              "0     2002-03-29  2002-03-29         MGH       0         0       2002-03-29  \n",
              "1     1999-02-27  1999-02-27         BWH       0         0       1999-02-27  \n",
              "2     2005-02-10  2005-02-10         BWH       0         1       2005-02-10  \n",
              "3     1999-12-17  1999-12-17         BWH       0         0       1999-12-17  \n",
              "4     2004-06-02  2004-06-02         MGH       0         0       2004-06-02  \n",
              "...          ...         ...         ...     ...       ...              ...  \n",
              "16651 2017-06-23  2017-06-23         MGH       1         1       2017-06-23  \n",
              "16652 2015-12-15  2015-12-15         MGH       1         0       2015-12-15  \n",
              "16653 2019-06-18  2019-06-18         MGH       1         1       2019-06-18  \n",
              "16654 2019-08-14  2019-08-14         MGH       0         0       2019-08-14  \n",
              "16655 2015-11-02  2015-11-02          FH       1         1       2015-11-02  \n",
              "\n",
              "[16656 rows x 16 columns]"
            ],
            "text/html": [
              "\n",
              "  <div id=\"df-dbb7015d-cba7-42fd-9cee-1527286e6927\">\n",
              "    <div class=\"colab-df-container\">\n",
              "      <div>\n",
              "<style scoped>\n",
              "    .dataframe tbody tr th:only-of-type {\n",
              "        vertical-align: middle;\n",
              "    }\n",
              "\n",
              "    .dataframe tbody tr th {\n",
              "        vertical-align: top;\n",
              "    }\n",
              "\n",
              "    .dataframe thead th {\n",
              "        text-align: right;\n",
              "    }\n",
              "</style>\n",
              "<table border=\"1\" class=\"dataframe\">\n",
              "  <thead>\n",
              "    <tr style=\"text-align: right;\">\n",
              "      <th></th>\n",
              "      <th>EMPI</th>\n",
              "      <th>EPIC_PMRN</th>\n",
              "      <th>MRN_Type</th>\n",
              "      <th>MRN</th>\n",
              "      <th>Report_Number</th>\n",
              "      <th>Report_Description</th>\n",
              "      <th>Report_Status</th>\n",
              "      <th>Report_Type</th>\n",
              "      <th>Report_Text</th>\n",
              "      <th>date_pathology_x</th>\n",
              "      <th>date</th>\n",
              "      <th>date_rp</th>\n",
              "      <th>hospital_rp</th>\n",
              "      <th>lap_rp</th>\n",
              "      <th>lymph_rp</th>\n",
              "      <th>date_pathology_y</th>\n",
              "    </tr>\n",
              "  </thead>\n",
              "  <tbody>\n",
              "    <tr>\n",
              "      <th>0</th>\n",
              "      <td>100003956</td>\n",
              "      <td>1.002650e+10</td>\n",
              "      <td>MGH</td>\n",
              "      <td>1784307</td>\n",
              "      <td>S02K17074</td>\n",
              "      <td>Surgical Pathology</td>\n",
              "      <td>Final</td>\n",
              "      <td>PAT</td>\n",
              "      <td>accession number: s02k17074 report status: fin...</td>\n",
              "      <td>2002-03-29 00:00:00</td>\n",
              "      <td>2002-03-29</td>\n",
              "      <td>2002-03-29</td>\n",
              "      <td>MGH</td>\n",
              "      <td>0</td>\n",
              "      <td>0</td>\n",
              "      <td>2002-03-29</td>\n",
              "    </tr>\n",
              "    <tr>\n",
              "      <th>1</th>\n",
              "      <td>100006532</td>\n",
              "      <td>1.004006e+10</td>\n",
              "      <td>BWH</td>\n",
              "      <td>975151</td>\n",
              "      <td>S9905462C</td>\n",
              "      <td>Surgical Pathology</td>\n",
              "      <td>Final</td>\n",
              "      <td>PAT</td>\n",
              "      <td>accession number: s9905462c report status: fin...</td>\n",
              "      <td>1999-02-27 00:00:00</td>\n",
              "      <td>1999-02-27</td>\n",
              "      <td>1999-02-27</td>\n",
              "      <td>BWH</td>\n",
              "      <td>0</td>\n",
              "      <td>0</td>\n",
              "      <td>1999-02-27</td>\n",
              "    </tr>\n",
              "    <tr>\n",
              "      <th>2</th>\n",
              "      <td>100006636</td>\n",
              "      <td>1.004006e+10</td>\n",
              "      <td>BWH</td>\n",
              "      <td>984781</td>\n",
              "      <td>BS05E05528</td>\n",
              "      <td>Surgical Pathology</td>\n",
              "      <td>Final</td>\n",
              "      <td>PAT</td>\n",
              "      <td>accession number: bs05e05528 report status: fi...</td>\n",
              "      <td>2005-02-10 00:00:00</td>\n",
              "      <td>2005-02-10</td>\n",
              "      <td>2005-02-10</td>\n",
              "      <td>BWH</td>\n",
              "      <td>0</td>\n",
              "      <td>1</td>\n",
              "      <td>2005-02-10</td>\n",
              "    </tr>\n",
              "    <tr>\n",
              "      <th>3</th>\n",
              "      <td>100001308</td>\n",
              "      <td>1.004001e+10</td>\n",
              "      <td>BWH</td>\n",
              "      <td>279307</td>\n",
              "      <td>S9935420S</td>\n",
              "      <td>Surgical Pathology</td>\n",
              "      <td>Final</td>\n",
              "      <td>PAT</td>\n",
              "      <td>accession number: s9935420s report status: fin...</td>\n",
              "      <td>1999-12-17 00:00:00</td>\n",
              "      <td>1999-12-17</td>\n",
              "      <td>1999-12-17</td>\n",
              "      <td>BWH</td>\n",
              "      <td>0</td>\n",
              "      <td>0</td>\n",
              "      <td>1999-12-17</td>\n",
              "    </tr>\n",
              "    <tr>\n",
              "      <th>4</th>\n",
              "      <td>100095964</td>\n",
              "      <td>1.004423e+10</td>\n",
              "      <td>MGH</td>\n",
              "      <td>3408237</td>\n",
              "      <td>S04T31383</td>\n",
              "      <td>Surgical Pathology</td>\n",
              "      <td>Final</td>\n",
              "      <td>PAT</td>\n",
              "      <td>accession number: s04t31383 report status: fin...</td>\n",
              "      <td>2004-06-02 00:00:00</td>\n",
              "      <td>2004-06-02</td>\n",
              "      <td>2004-06-02</td>\n",
              "      <td>MGH</td>\n",
              "      <td>0</td>\n",
              "      <td>0</td>\n",
              "      <td>2004-06-02</td>\n",
              "    </tr>\n",
              "    <tr>\n",
              "      <th>...</th>\n",
              "      <td>...</td>\n",
              "      <td>...</td>\n",
              "      <td>...</td>\n",
              "      <td>...</td>\n",
              "      <td>...</td>\n",
              "      <td>...</td>\n",
              "      <td>...</td>\n",
              "      <td>...</td>\n",
              "      <td>...</td>\n",
              "      <td>...</td>\n",
              "      <td>...</td>\n",
              "      <td>...</td>\n",
              "      <td>...</td>\n",
              "      <td>...</td>\n",
              "      <td>...</td>\n",
              "      <td>...</td>\n",
              "    </tr>\n",
              "    <tr>\n",
              "      <th>16651</th>\n",
              "      <td>111108962</td>\n",
              "      <td>1.010778e+10</td>\n",
              "      <td>MGH</td>\n",
              "      <td>5708043</td>\n",
              "      <td>S17-42561</td>\n",
              "      <td>Surgical Pathology</td>\n",
              "      <td>Final</td>\n",
              "      <td>PAT</td>\n",
              "      <td>accession number: s17-42561 report status: fin...</td>\n",
              "      <td>2017-06-23 00:00:00</td>\n",
              "      <td>2017-06-23</td>\n",
              "      <td>2017-06-23</td>\n",
              "      <td>MGH</td>\n",
              "      <td>1</td>\n",
              "      <td>1</td>\n",
              "      <td>2017-06-23</td>\n",
              "    </tr>\n",
              "    <tr>\n",
              "      <th>16652</th>\n",
              "      <td>111110994</td>\n",
              "      <td>1.010780e+10</td>\n",
              "      <td>MGH</td>\n",
              "      <td>5703546</td>\n",
              "      <td>S15-80722</td>\n",
              "      <td>Surgical Pathology</td>\n",
              "      <td>Final</td>\n",
              "      <td>PAT</td>\n",
              "      <td>accession number: s15-80722 report status: fin...</td>\n",
              "      <td>2015-12-15 00:00:00</td>\n",
              "      <td>2015-12-15</td>\n",
              "      <td>2015-12-15</td>\n",
              "      <td>MGH</td>\n",
              "      <td>1</td>\n",
              "      <td>0</td>\n",
              "      <td>2015-12-15</td>\n",
              "    </tr>\n",
              "    <tr>\n",
              "      <th>16653</th>\n",
              "      <td>111085770</td>\n",
              "      <td>1.010554e+10</td>\n",
              "      <td>MGH</td>\n",
              "      <td>5690246</td>\n",
              "      <td>S19-42440</td>\n",
              "      <td>Surgical Pathology</td>\n",
              "      <td>Final</td>\n",
              "      <td>PAT</td>\n",
              "      <td>accession number: s19-42440 report status: fin...</td>\n",
              "      <td>2019-06-18 14:48:00</td>\n",
              "      <td>2019-06-18</td>\n",
              "      <td>2019-06-18</td>\n",
              "      <td>MGH</td>\n",
              "      <td>1</td>\n",
              "      <td>1</td>\n",
              "      <td>2019-06-18</td>\n",
              "    </tr>\n",
              "    <tr>\n",
              "      <th>16654</th>\n",
              "      <td>111142034</td>\n",
              "      <td>1.011387e+10</td>\n",
              "      <td>MGH</td>\n",
              "      <td>1326008</td>\n",
              "      <td>S19-56696</td>\n",
              "      <td>Surgical Pathology</td>\n",
              "      <td>Final</td>\n",
              "      <td>PAT</td>\n",
              "      <td>accession number: s19-56696 report status: fin...</td>\n",
              "      <td>2019-08-14 00:00:00</td>\n",
              "      <td>2019-08-14</td>\n",
              "      <td>2019-08-14</td>\n",
              "      <td>MGH</td>\n",
              "      <td>0</td>\n",
              "      <td>0</td>\n",
              "      <td>2019-08-14</td>\n",
              "    </tr>\n",
              "    <tr>\n",
              "      <th>16655</th>\n",
              "      <td>111061498</td>\n",
              "      <td>1.010529e+10</td>\n",
              "      <td>FH</td>\n",
              "      <td>10023679</td>\n",
              "      <td>FS15D09187</td>\n",
              "      <td>Surgical Pathology</td>\n",
              "      <td>Final</td>\n",
              "      <td>PAT</td>\n",
              "      <td>accession number: fs15d09187 report status: fi...</td>\n",
              "      <td>2015-11-02 00:00:00</td>\n",
              "      <td>2015-11-02</td>\n",
              "      <td>2015-11-02</td>\n",
              "      <td>FH</td>\n",
              "      <td>1</td>\n",
              "      <td>1</td>\n",
              "      <td>2015-11-02</td>\n",
              "    </tr>\n",
              "  </tbody>\n",
              "</table>\n",
              "<p>16656 rows × 16 columns</p>\n",
              "</div>\n",
              "      <button class=\"colab-df-convert\" onclick=\"convertToInteractive('df-dbb7015d-cba7-42fd-9cee-1527286e6927')\"\n",
              "              title=\"Convert this dataframe to an interactive table.\"\n",
              "              style=\"display:none;\">\n",
              "        \n",
              "  <svg xmlns=\"http://www.w3.org/2000/svg\" height=\"24px\"viewBox=\"0 0 24 24\"\n",
              "       width=\"24px\">\n",
              "    <path d=\"M0 0h24v24H0V0z\" fill=\"none\"/>\n",
              "    <path d=\"M18.56 5.44l.94 2.06.94-2.06 2.06-.94-2.06-.94-.94-2.06-.94 2.06-2.06.94zm-11 1L8.5 8.5l.94-2.06 2.06-.94-2.06-.94L8.5 2.5l-.94 2.06-2.06.94zm10 10l.94 2.06.94-2.06 2.06-.94-2.06-.94-.94-2.06-.94 2.06-2.06.94z\"/><path d=\"M17.41 7.96l-1.37-1.37c-.4-.4-.92-.59-1.43-.59-.52 0-1.04.2-1.43.59L10.3 9.45l-7.72 7.72c-.78.78-.78 2.05 0 2.83L4 21.41c.39.39.9.59 1.41.59.51 0 1.02-.2 1.41-.59l7.78-7.78 2.81-2.81c.8-.78.8-2.07 0-2.86zM5.41 20L4 18.59l7.72-7.72 1.47 1.35L5.41 20z\"/>\n",
              "  </svg>\n",
              "      </button>\n",
              "      \n",
              "  <style>\n",
              "    .colab-df-container {\n",
              "      display:flex;\n",
              "      flex-wrap:wrap;\n",
              "      gap: 12px;\n",
              "    }\n",
              "\n",
              "    .colab-df-convert {\n",
              "      background-color: #E8F0FE;\n",
              "      border: none;\n",
              "      border-radius: 50%;\n",
              "      cursor: pointer;\n",
              "      display: none;\n",
              "      fill: #1967D2;\n",
              "      height: 32px;\n",
              "      padding: 0 0 0 0;\n",
              "      width: 32px;\n",
              "    }\n",
              "\n",
              "    .colab-df-convert:hover {\n",
              "      background-color: #E2EBFA;\n",
              "      box-shadow: 0px 1px 2px rgba(60, 64, 67, 0.3), 0px 1px 3px 1px rgba(60, 64, 67, 0.15);\n",
              "      fill: #174EA6;\n",
              "    }\n",
              "\n",
              "    [theme=dark] .colab-df-convert {\n",
              "      background-color: #3B4455;\n",
              "      fill: #D2E3FC;\n",
              "    }\n",
              "\n",
              "    [theme=dark] .colab-df-convert:hover {\n",
              "      background-color: #434B5C;\n",
              "      box-shadow: 0px 1px 3px 1px rgba(0, 0, 0, 0.15);\n",
              "      filter: drop-shadow(0px 1px 2px rgba(0, 0, 0, 0.3));\n",
              "      fill: #FFFFFF;\n",
              "    }\n",
              "  </style>\n",
              "\n",
              "      <script>\n",
              "        const buttonEl =\n",
              "          document.querySelector('#df-dbb7015d-cba7-42fd-9cee-1527286e6927 button.colab-df-convert');\n",
              "        buttonEl.style.display =\n",
              "          google.colab.kernel.accessAllowed ? 'block' : 'none';\n",
              "\n",
              "        async function convertToInteractive(key) {\n",
              "          const element = document.querySelector('#df-dbb7015d-cba7-42fd-9cee-1527286e6927');\n",
              "          const dataTable =\n",
              "            await google.colab.kernel.invokeFunction('convertToInteractive',\n",
              "                                                     [key], {});\n",
              "          if (!dataTable) return;\n",
              "\n",
              "          const docLinkHtml = 'Like what you see? Visit the ' +\n",
              "            '<a target=\"_blank\" href=https://colab.research.google.com/notebooks/data_table.ipynb>data table notebook</a>'\n",
              "            + ' to learn more about interactive tables.';\n",
              "          element.innerHTML = '';\n",
              "          dataTable['output_type'] = 'display_data';\n",
              "          await google.colab.output.renderOutput(dataTable, element);\n",
              "          const docLink = document.createElement('div');\n",
              "          docLink.innerHTML = docLinkHtml;\n",
              "          element.appendChild(docLink);\n",
              "        }\n",
              "      </script>\n",
              "    </div>\n",
              "  </div>\n",
              "  "
            ]
          },
          "metadata": {},
          "execution_count": 40
        }
      ]
    },
    {
      "cell_type": "code",
      "source": [
        "final_df = final_df[['EMPI','Report_Text','hospital_rp','date']]"
      ],
      "metadata": {
        "id": "2tcA0X3SJtU7"
      },
      "execution_count": null,
      "outputs": []
    },
    {
      "cell_type": "code",
      "source": [
        "final_df.to_csv('X_data.csv',index=False)"
      ],
      "metadata": {
        "id": "ES76WAYUKHqN"
      },
      "execution_count": null,
      "outputs": []
    },
    {
      "cell_type": "code",
      "source": [
        "final_df.EMPI.value_counts()"
      ],
      "metadata": {
        "colab": {
          "base_uri": "https://localhost:8080/"
        },
        "id": "WJPFYRbOYEfH",
        "outputId": "918be354-95cd-4e79-dd2e-e9cc74b6cc10"
      },
      "execution_count": null,
      "outputs": [
        {
          "output_type": "execute_result",
          "data": {
            "text/plain": [
              "114192005    4\n",
              "114311515    3\n",
              "107440854    3\n",
              "103938133    3\n",
              "113873044    3\n",
              "            ..\n",
              "104299197    1\n",
              "104292797    1\n",
              "104265245    1\n",
              "104246725    1\n",
              "111061498    1\n",
              "Name: EMPI, Length: 16494, dtype: int64"
            ]
          },
          "metadata": {},
          "execution_count": 43
        }
      ]
    },
    {
      "cell_type": "code",
      "source": [
        "id.shape"
      ],
      "metadata": {
        "colab": {
          "base_uri": "https://localhost:8080/"
        },
        "id": "TrELhQbcbQRX",
        "outputId": "8361fc06-7fac-4ddf-f4f1-0c2ad07c1dbc"
      },
      "execution_count": null,
      "outputs": [
        {
          "output_type": "execute_result",
          "data": {
            "text/plain": [
              "(16768, 6)"
            ]
          },
          "metadata": {},
          "execution_count": 44
        }
      ]
    },
    {
      "cell_type": "code",
      "source": [
        "final_df.columns # hospital/id/date/text/label"
      ],
      "metadata": {
        "colab": {
          "base_uri": "https://localhost:8080/"
        },
        "id": "EP6p8IO_bMG0",
        "outputId": "e944ca37-7b34-4796-86be-91e546aa2f70"
      },
      "execution_count": null,
      "outputs": [
        {
          "output_type": "execute_result",
          "data": {
            "text/plain": [
              "Index(['EMPI', 'Report_Text', 'hospital_rp', 'date'], dtype='object')"
            ]
          },
          "metadata": {},
          "execution_count": 45
        }
      ]
    },
    {
      "cell_type": "code",
      "source": [
        "final_df[final_df.EMPI == 114192005].Report_Text.iloc[0]"
      ],
      "metadata": {
        "colab": {
          "base_uri": "https://localhost:8080/",
          "height": 122
        },
        "id": "KFLlo248ZgJJ",
        "outputId": "2b4c1e02-817a-479b-cf2b-b6b150931760"
      },
      "execution_count": null,
      "outputs": [
        {
          "output_type": "execute_result",
          "data": {
            "text/plain": [
              "'accession number: s19-6963 report status: updated type: surgical pathology procedure date: 01/30/2019 ordering provider: kim, michelle massachusetts general hospital 55 fruit street, boston, ma 02114 tel (617) 726-2967 surgical pathology report accession #: s19-6963 patient name: maddocks, joseph dob: 1/12/1966 (age: 53) sex: m mrn: 6547548 location: periop institution: mgh date of operation: 1/30/2019 date of accession: 1/30/2019 reported: 2/8/2019 18:58 results to: michelle m kim md, phd final pathologic diagnosis: a. ureter biopsy, left distal: - there is no evidence of malignancy. b. ureter biopsy, right distal: - there is no evidence of malignancy. c. bladder and prostate cystoprostatectomy: - urothelial carcinoma, high-grade, with extension into perivesicular adipose, seminal vesicle, prostate, and bowel wall (part g), see synoptic report #1. - lymphovascular invasion is present. - prostatic adenocarcinoma, gleason score 3 + 3 = 6/10 (grade group 1), confined to the gland, see synoptic report #2. d. left pelvic lymph nodes: - invasive urothelial carcinoma involving fibroadipose tissue (soft tissue nodule). - metastatic urothelial carcinoma involving one of three lymph nodes (1/3). note: the involvement of fibroadipose tissue may represent direct tumor extension. scattered metastatic carcinoma cells are identified in the subcapsular sinus of the involved lymph node on an immunostain for keratin ws. e. right obturator lymph nodes: - metastatic urothelial carcinoma involving one of three lymph nodes (1/3). note: the metastatic focus consists of histiocytoid carcinoma cells filling the subcapsular sinus of one lymph node over a span of 0.4 cm. immunostains for keratin ws and keratin ae1.3/cam5.2 examined. f. right iliac lymph nodes: - invasive urothelial carcinoma involving fibroadipose tissue (soft tissue nodule). - metastatic urothelial carcinoma involving one of four lymph nodes (1/4). note: the involvement of fibroadipose tissue may represent direct tumor extension. a small cluster of metastatic carcinoma cells are identified in capsule of the involved lymph node. immunostains for keratin ws and keratin ae1.3/cam5.2 examined. g. rectum: - invasive urothelial carcinoma extensively involving pericolonic soft tissue and muscular bowel wall. - bowel end margins free of tumor. h. right abdominal mole: - seborrheic keratosis, inflamed. ================================================================= synoptic report: urinary bladder cancer parts included: a, b, c, d, e, f and g ptnm stage summary: p t4b n2 specimen procedure: radical cystoprostatectomy tumor tumor site: posterior wall, left and right lateral walls, trigone tumor size: 7.6 x 4.6 x 1.5 cm histologic type: urothelial (transitional cell) carcinoma invasive histologic grade: 3 tumor extent: invades adjacent structures site(s) involved by direct tumor extension: prostate, seminal vesicles, and rectum lymphovascular invasion: present - multifocal margins: involved by invasive carcinoma margin(s) involved by invasive carcinoma: soft tissue regional lymph nodes number of lymph nodes examined: 10 number of lymph nodes involved: 3 nodal site(s) involved: left pelvic, right obturator, and right iliac size of largest nodal metastasis: 0.4 cm location of largest nodal metastasis: obturator other findings additional pathologic findings: adenocarcinoma of prostate immunohistochemistry: the carcinoma cells are positive for gata3 and keratin ws, and are negative for p63, chromogranin, and synaptophysin. 2017 june ajcc 8th edition cap annual release ================================================================= synoptic report: prostate cancer parts included: c ptnm stage summary: p t2 n0 specimen procedure: cystoprostatectomy tumor histologic type: acinar adenocarcinoma gleason score: 3 + 3 = 6/10 grade group: 1 estimated percentage of prostate involved by tumor: 5% extraprostatic extension (epe): not identified treatment effect: not applicable (no known presurgical therapy) margins: uninvolved by invasive carcinoma regional lymph nodes number of lymph nodes examined: see synoptic report #1 for lymph node results. no metastatic prostatic adenocarcinoma identified. number of lymph nodes involved: 0 2017 june ajcc 8th edition cap annual release **electronically signed out by travis l rice-stitt md** resident pathologist: cameron r smith md, phd by his/her signature above, the pathologist listed as making the final diagnosis certifies that he/she has personally reviewed this case and confirmed or corrected the diagnosis. procedures/addenda addendum ordered date: 2/21/2019 pd-l1 immunohistochemical staining: a multiplex stain for pd-l1/cd8 was performed on a representative section of the urothelial carcinoma (c10). 100 or more tumor cells are available in the specimen. pd-l1 shows membranous staining of weak to moderate intensity in ~10% of tumor cells. cd8+ tumor infiltrating lymphocytes are present, associated with 5-25% of tumor cells (score of 2). **electronically signed out by: travis l rice-stitt md on 2/21/2019 17:05** intra-operative diagnosis frozen section diagnosis #1 (\"left distal ureter\"): segment of ureter negative for dysplasia and malignancy. frozen section diagnosis #2 (\"right distal ureter\"): segment of ureter negative for dysplasia and malignancy. stuti shroff mbbs, phd other pathologist(s): kristen j tomaszewski md julian a villalba nunez md clinical history bladder cancer specimens submitted: a: ureter biopsy, left distal b: ureter biopsy, right distal c: bladder and prostate cystoprostatectomy d: left pelvic lymph nodes e: right obturator lymph nodes f: right iliac lymph nodes g: rectum h: right abdominal mole gross description received are 8 containers labeled \"maddocks, joseph mrn:6547548\". a. ureter biopsy, left distal: received fresh labeled \"left distal ureter\" is a 0.4 x 0.3 x 0.2 cm red soft tissue fragment with central lumen that is entirely frozen as fx#1 now submitted in cassette a1. b. ureter biopsy, right distal: received fresh labeled \"right distal ureter\" is a 0.4 x 0.4 x 0.2 cm red to pink soft tissue fragment with central lumen that is entirely frozen as fx#2 now submitted in cassette b1. c. bladder and prostate cystoprostatectomy: received fresh labeled \"bladder and prostate\" is a 10.3 x 7.5 x 4.7 cm cystectomy specimen with attached perivesical fat, 1.5 x 0.7 cm right ureter and 1.1 x 0.4 cm left ureter. the right half of the specimen is inked blue and the left half is inked black. the apical margin is shaved, and the bladder is opened to reveal a 7.6 x 4.6 cm ill-defined, partially exophytic, tan-purple, firm mass involving the posterior, right lateral, and left lateral walls as well as the trigone but appearing to spare the anterior wall and dome. the mass surrounds both ureteral orifices. sectioning reveals that the mass invades to a depth of at least 1.5 cm with extension through the muscular wall into perivesicular soft tissue and is present focally at the posterior soft tissue margin. the seminal vesicles are adherent to the posterior aspect of the specimen and are suspicious for direct tumor extension. also identified is a 4.1 x 3.8 x 2.8 cm prostate, right and left seminal vesicles (1.5 x 0.4 cm, 1.7 x 0.5 cm, respectively) and right and left vasa deferentia (4.5 x 0.7 cm, 4.7 x 0.6 cm, respectively). the prostate is cut into quadrants and each is serially sectioned to reveal tan-white firm parenchyma, with no grossly identifiable masses or lesions. representative sections are submitted as follows: c1-c2: left apical margin, shaved and serially sectioned. c3-c4: right apical margin, shaved and serially sectioned. c5: right ureter margin, en face. c6: left ureter margin, en face. c7: ureter. c8: right ureteral orifice, involved by tumor, section radial to bladder. c9: left ureteral orifice, involved by tumor, section radial to bladder. c10-c12: mass to posterior margin. c13: mass, right lateral bladder wall to posterior margin. c14-c15: mass to seminal vesicles and vas deferens. c16: representative bladder dome. c17: representative anterior bladder. c18: representative right anterior prostate. c19: representative right posterior prostate. c20: representative left anterior prostate. c21: representative left posterior prostate. d. left pelvic lymph nodes: received fresh labeled \"left pelvic lymph nodes\" is a 2.8 x 2.1 x 1.1 cm single piece of fibroadipose tissue. palpation is unrevealing of discrete lymph nodes. the specimen is entirely submitted in cassettes d1-d2. e. right obturator lymph nodes: received fresh labeled \"right obturator lymph nodes\" is a 3.1 x 2.0 x 1.2 cm bisected fragment of fibroadipose tissue. palpation is unrevealing of discrete lymph nodes. the specimen is entirely submitted in cassettes e1-e2. f. right iliac lymph nodes: received fresh labeled \"right iliac lymph nodes\" is a 1.9 x 1.5 x 0.8 cm aggregate of fibroadipose tissue. palpation reveals three candidate lymph nodes ranging in size from 0.6 to 1.3 cm in f1 with the remaining fibroadipose tissue in f2. g. rectum: received fresh labeled \"rectum\" is an 8.5 cm in length x 6.8 cm in average circumference segment of rectum. the specimen is inked such that the radial margin is black and the proximal and distal margins are blue. the serosa is remarkable for a 3.4 x 2.7 cm firm matted area adjacent to and abutting the distal margin and 2.7 cm from the radial margin. the specimen is opened to reveal a tan-brown mucosa with a focal area of marked thinning that measures 4.3 x 3.2 cm located 3.1 cm from the distal resection margin and 3.8 cm from the proximal resection margin. on sectioning, there is a firm tan-white fibrotic region underlying the matted area noted on the serosal surface with a thickness of 0.9 cm that comes to within 0.3 cm of the mucosal surface. palpation of the minimal perirectal adipose tissue does not reveal discrete candidate lymph nodes. no additional masses or lesions are identified. representative sections are submitted as follows: g1-g2: distal resection margin. g3: proximal resection margin. g4-g6: serosal mass to underlying mucosa. g7: representative rectum to radial margin. g8: representative thinned section of rectal mucosa. h. right abdominal mole: received fresh labeled \"right abdominal mole\" are three small soft tissue fragments measuring 1.3 x 0.7 x 0.4 cm in aggregate. the largest fragment and intermediate fragments are serially sectioned and entirely submitted in h1 and h2 respectively. the remaining fragment is too small to section and is entirely submitted in h3. grossed by: cameron r smith md, phd immunohistochemical and in-situ hybridization tests performed at massachusetts general hospital have been developed and their performance characteristics determined by the immunohistochemistry laboratories in the department of pathology at massachusetts general hospital. they have not been cleared or approved by the u.s.food and drug administration (fda); the fda has determined that such clearance or approval is not necessary. part a: ureter biopsy, left distal part b: ureter biopsy, right distal part c: bladder and prostate cystoprostatectomy part d: left pelvic lymph nodes part e: right obturator lymph nodes'"
            ],
            "application/vnd.google.colaboratory.intrinsic+json": {
              "type": "string"
            }
          },
          "metadata": {},
          "execution_count": 46
        }
      ]
    },
    {
      "cell_type": "code",
      "source": [
        "final_df[final_df.EMPI == 114192005].Report_Text.iloc[1]"
      ],
      "metadata": {
        "colab": {
          "base_uri": "https://localhost:8080/",
          "height": 122
        },
        "id": "mKmgEVe1ZnKX",
        "outputId": "252a392f-4f3e-4928-c167-17feceb7f217"
      },
      "execution_count": null,
      "outputs": [
        {
          "output_type": "execute_result",
          "data": {
            "text/plain": [
              "'accession number: m19-1042 report status: final type: surgical pathology procedure date: 01/30/2019 ordering provider: kim, michelle massachusetts general hospital boston, ma 02114 tel (617) 726-2967 molecular pathology report solid snapshot assay accession #: m19-1042 patient name: maddocks, joseph dob: 1/12/1966 (age: 53) sex: m mrn: 6547548 institution: mgh location: mgh e06 date of collection: 1/30/2019 date of accession: 2/1/2019 reported: 2/19/2019 17:35 results to: michelle m kim md, phd xin gao md clinical history: bladder high grade urothelial carcinoma specimens received: a: molecular test for solid snapshot assay gross description: 1 block from massachusetts general hospital; the archived specimen was retrieved and reviewed for adequacy slide-block description: s19-6963 c11 test - snapshot-ngs-v2 assay indication for test: bladder high grade urothelial carcinoma specimen(s) tested: s19-6963 c11 (massachusetts general hospital, boston, ma, united states) results: single nucleotide variants: tp53 ensp00000269305.4:p.met246val (enst00000269305.4:c.736a>g) tert promoter variant (hg19 chr5:g.1295228c>t; c.-124c>t; c228t) rb1 ensp00000267163.4:p.ser567leu (enst00000267163.4:c.1700c>t) nf2 splice acceptor variant (enst00000338641.4:c.676-1g>a) insertions/deletions: no reportable indels with known clinical significance were detected. copy number variants: no reportable cnvs with known clinical significance were detected. interpretation: positive for variant(s) in tert, tp53, nf2 and rb1. test information: this test utilizes a multiplex polymerase chain reaction (pcr) technology called anchored multiplex pcr (amp [1]) for single nucleotide variant (snv), insertion/deletion (indel), and copy number detection in genomic dna using the archerdx platform and illumina nextseq next generation sequencing (ngs). briefly, genomic dna was isolated from a formalin-fixed paraffin embedded tumor specimen (after histological review for tumor enrichment), blood, bone marrow aspirates, or pancreatic cyst fluid. the genomic dna was enzymatically sheared, end-repaired, adenylated, and ligated with a half-functional adapter. a sequencing library targeting hotspots and full exons was generated using two hemi-nested pcr reactions. illumina nextseq 2x150 base paired-end sequencing results were aligned to the hg19 human genome reference using novoalign [2]. an ensemble variant calling approach, using mutect1 [3], lofreq [4], gatk [5, 6, 7], and a laboratory developed hotspot caller, was applied for snv and indel variant detection. a laboratory developed copy number caller utilizing a coverage distribution from a panel of normals was applied for copy gain and loss detection. variants are reported with human genome variation society (hgvs) protein and dna nomenclature, followed by the referenced ensembl transcript id. this test has been validated to detect snv and indel variants at 5% allelic frequency or higher in target regions with sufficient read coverage. the assay shows the following limitations for copy number calling: (1) aneuploidy cannot be distinguished from gene specific copy gains or copy losses, (2) limited sensitivity for borderline/weak copy gains or copy losses, (3) limited sensitivity in specimens with low tumor cellularity, (4) limited performance in poor quality specimens showing suboptimal coverage, and (5) absolute copy number status cannot be determined. the snv and indel gene targets covered by this test are as follows (exons): abl1 (4-7), akt1 (3,6), alk (21-23,25), apc (16), arid1a (1-20), atm (1-63), atrx (1-35), aurka (2,5-8), braf (11,15), brca1 (2-23), brca2 (2-27), ccnb1 (2,[3-partial],5,[6-partial],7), ccnd2 ([2-partial],3-4,[5-partial]), ccnd3 (2-5-partial), ccne1 (3-8,10,12), cdh1 (1-16), cdk4 (2-7), cdk6 (6), cdkn2a (1-3), cic (1-20), csf1r (7,22), ctnnb1 (3), daxx (1-8), ddr2 (12-18), ddx3x (1-17), egfr (3,7,15,18-21), erbb2 (8,10,19-21,24), erbb3 (2-3,7-8), erbb4 (3-4,6-9,15,23), esr1 (8), ezh2 (16), fbxw7 (1-11), fgfr1 (4,7-8,13,15,17), fgfr2 (7,9,12,14), fgfr3 (7-9,14-16,18), flt3 (11,14,16,20), foxl2 (1), gna11 (5), gnaq (4-5), gnas (6-9), h3f3a (2), hnf1a (3-4), hras (2-3), idh1 (3-4), idh2 (4), jak2 (11,13-14,16,19), jak3 (4,13,16), kdr (6-7,11,19,21,26-27,30), keap1 (2-6), kit (2,8-11,13-15,17-18), kras (2-5), map2k1 (2,3,6-7), map3k1 (1-20), mdm2 (2-4,6,8,10), mdm4 ([4-partial],5-6,[7,9-11-partial]), men1 (2-10), met (2,11,14,16,19,21), mitf (1-partial), mlh1 (12), mpl (10), msh6 (1-10), msi, myc (1-3), mycn (3), nf1 (1-58), nf2 (1-15), nkx2-1 (1-partial), notch1 (25-27,34), npm1 (11), nras (2-5), pdgfra (12,14-15,18,23), pik3ca (2,5,7-8,10,14,19,21), pik3r1 (1-10), pole (9-14), ptch1 (1-23), pten (1-9), ptpn11 (3,13), rb1 (1-27), ret (10-11,13-16), rhoa (2-3), rnf43 (2-10), ros1 (36-38), sdhb (1-8), smad2 (7), smad4 (2-12), smarca4 (3-36), smarcb1 (2,4,5,9), smo (3,5-6,9,11), src (14), stag2 (3-34), stk11 (1-9), sufu (1-12), tert (1), tp53 (1-11), tp63 (1-14), tsc1 (3-23), tsc2 (2-42), tshr (10), vhl (1-3). the cnv gene targets covered by this test are as follows: abl1, akt1, alk, apc, arid1a, atm, atrx, aurka, braf, brca1, brca2, camta1, ccnb1, ccnd1, ccnd2, ccnd3, ccne1, cdk4, cdkn2a, cdk6, cic, cdh1, csf1r, daxx, ddr2, ddx3x, egfr, erbb2 (her-2), erbb3, erbb4, fbxw7, fgf19, fgfr1, fgfr2, fgfr3, flt3, foxl2, gli2, gna11, gnaq, gnas, hnf1a, hras, idh1, jak2, jak3, kdr, keap1, kit, kras, map2k1, map3k1, mdm2, mdm4, men1, met, mitf, mlh1, msh6, myc, mycn, nf1, nf2, nkx2-1, notch1, nras, pdgfra, pik3ca, pik3r1, plaur, pole, ptch1, pten, ptpn11, rb1, ret, rhoa, rnf43, sdhb, smad2, smad4, smarca4, smarcb1, smo, src, stag2, stk11, sufu, tert, tp53, tp63, tsc1, tsc2, and vhl. analysis pipeline version: cider v2.7.4 annotation version: variant effect predictor v83 [8] references: 1. zheng et al. nat med 2014;20(12):1479-84. [pmid: 25384085] 2. novocraft technologies (selangor, malaysia) 3. cibulskis et al. nat biotechnol 2013;31(3):213-9. [pmid: 23396013] 4. wilm et al. nucleic acids res 2012; 40(22):11189-201. [pmid: 23066108] 5. mckenna et al. genome res 2010; 20(9):1297-303. [pmid: 20644199 ] 6. depristo et al. nat genet 2011; 43(5):491-8. [pmid: 21478889] 7. van der auwera et al. curr protoc bioinformatics 2013;43:11.10.1-33. [pmid: 25431634] 8. mclaren et al. genome biol. 2016 jun 6;17(1):122. [pmid: 27268795] this test was developed, and its performance characteristics were determined by the mgh center for integrated diagnostics. it has not been cleared or approved by the u.s. food and drug administration. the fda has determined that such clearance or approval is not necessary. this test is used for clinical purposes. pursuant to the requirements of clia 88, this laboratory has established and verified the test accuracy and precision. questions concerning these values should be addressed to dr. jochen k. lennerz at (617) 643-0619. testing was performed at the center for integrated diagnostics, massachusetts general hospital, 55 fruit st, boston, ma 02114, and center for integrated diagnostics, massachusetts general hospital, 149 13th street, charlestown, ma 02129. **electronically signed out by: jochen k lennerz md, phd** part : molecular test for solid snapshot assay'"
            ],
            "application/vnd.google.colaboratory.intrinsic+json": {
              "type": "string"
            }
          },
          "metadata": {},
          "execution_count": 47
        }
      ]
    },
    {
      "cell_type": "code",
      "source": [
        "final_df[final_df.EMPI == 114192005].Report_Text.iloc[2]"
      ],
      "metadata": {
        "colab": {
          "base_uri": "https://localhost:8080/",
          "height": 122
        },
        "id": "Cj7WTGbtaXdx",
        "outputId": "51cb5dd8-4109-4107-e278-bb5946f61103"
      },
      "execution_count": null,
      "outputs": [
        {
          "output_type": "execute_result",
          "data": {
            "text/plain": [
              "'accession number: m19-1043 report status: final type: surgical pathology procedure date: 01/30/2019 ordering provider: kim, michelle massachusetts general hospital boston, ma 02114 tel (617) 726-2967 molecular pathology report solid fusion assay accession #: m19-1043 patient name: maddocks, joseph dob: 1/12/1966 (age: 53) sex: m mrn: 6547548 institution: mgh location: mgh e06 date of collection: 1/30/2019 date of accession: 2/1/2019 reported: 2/22/2019 20:27 results to: michelle m kim md, phd xin gao md clinical history: bladder high grade urothelial carcinoma specimens received: a: molecular test for solid fusion assay gross description: 1 block from massachusetts general hospital; the archived specimen was retrieved and reviewed for adequacy slide-block description: s19-6963 c11 test - solid fusion assay v2 indication for test: bladder high grade urothelial carcinoma specimen(s) tested: s19-6963 c11 (massachusetts general hospital, boston, ma, united states) results: targeted rna next generation sequencing (ngs) using anchored multiplex pcr (amp) detected no reportable fusion transcripts interpretation: negative for reportable fusion transcripts related to alk / ret / ros1 / brd4 / nutm1 / egfr / fgfr2 / ewsr1 / braf / maml2 / nrg1 rearrangement, egfr variant iii (viii), and met exon 14 skipping test information: we have developed anchored multiplex pcr (amp) for targeted fusion transcript detection using next generation sequencing (ngs) [1]. briefly, total nucleic acid was isolated from a formalin-fixed paraffin embedded tumor specimen after histological review for tumor enrichment. the total nucleic acid was reverse transcribed with random hexamers, followed by second strand synthesis to create double-stranded complementary dna (cdna). the double-stranded cdna was end-repaired, adenylated, and ligated with a half-functional adapter. two hemi-nested pcr reactions using the archerdx fusionplex solid tumor kit primers were performed to create a fully functional sequencing library that targets specific genes (exons) listed below. illumina nextseq 2 x 150 base paired-end sequencing results were aligned to the hg19 human genome reference using bwa-mem [2]. a laboratory-developed algorithm was used for fusion transcript detection and annotation. the integrity of the input nucleic acid and the technical performance of the assay were assessed with a qualitative reverse transcription qpcr assay and assessing the dna/rna content in the sequencing results. although this assay may detect several potential fusion variants, only the most prevalent one is reported. the assay is validated for samples showing 5% or higher tumor cellularity. targets validated for clinical reporting: alk (19-22, intron 19), braf (7-12, 15), brd4 (10, 11), egfr (2-7 exon skipping/viii variant, 7-9, 16, 20, 24, 25), ewsr1 (4-14), fgfr2 (2, 8-10, 17), maml2 (2, 3), met (exon 14 skipping), nrg1 (1-3, 6), nutm1 (3), ret (8-13), and ros1 (31-37). additional targeted genes (exons): akt3 (1-3), ar (1-8), arhgap26 (2, 10-12), axl (19,20), brd3 (9-12), csf1 (5-9), csf1r (7,11-13,22), erg (2-11), esr1 (3-6), esrra (3-5), etv1 (3-13), etv4 (2, 4-10), etv5 (2, 3, 7-9), etv6 (1-7), fgfr1 (2, 8-10, 17), fgfr3 (8-10, 17, intron 17), fgr (2), insr (12-22), jazf1 (2-4), mast1 (7-9, 18-21), mast2 (2, 3, 5, 6), met (13, 15), msmb (2-4), musk (7-9, 11-14), myb (7-9, 11-16), notch1 (2, 4, 26-31, internal exon 3-27 deletion), notch2 (5-7, 26-28), ntrk1 (8,10-13), ntrk2 (11-17), ntrk3 (13-16), numbl (3), pdgfra (7, exon 8 deletion, 10-14), pdgfrb (8-14), pik3ca (2), pkn1 (10-13), pparg (1-3), prkca (4-6), prkcb (3), raf1 (4-7, 9-12), rela (3, 4), rspo2 (1, 2), rspo3 (2), tert (2), tfe3 (2-8), tfeb (1,2), thada (24-31,36), and tmprss2 (1-6). analysis pipeline version: 2.7.4 references: 1. zheng et al. nat med 2014;20(12):1479-84. [pmid: 25384085] 2. li h and durbin r. bioinformatics 2009;25(14):1754-60. [pmid: 19451168] this test was developed, and its performance characteristics were determined by the mgh center for integrated diagnostics. it has not been cleared or approved by the u.s. food and drug administration. the fda has determined that such clearance or approval is not necessary. this test is used for clinical purposes. pursuant to the requirements of clia 88, this laboratory has established and verified the test accuracy and precision. questions concerning these values should be addressed to dr. jochen k. lennerz at (617) 643-0619. testing was performed at the center for integrated diagnostics, massachusetts general hospital, 55 fruit st, boston, ma 02114, and center for integrated diagnostics, massachusetts general hospital, 149 13th street, charlestown, ma 02129. **electronically signed out by: long phi le md, phd** part : molecular test for solid fusion assay'"
            ],
            "application/vnd.google.colaboratory.intrinsic+json": {
              "type": "string"
            }
          },
          "metadata": {},
          "execution_count": 48
        }
      ]
    },
    {
      "cell_type": "code",
      "source": [
        "final_df"
      ],
      "metadata": {
        "colab": {
          "base_uri": "https://localhost:8080/",
          "height": 424
        },
        "id": "lvwxTOOZVhL-",
        "outputId": "1511f4b7-8327-4a9f-948b-68189411e577"
      },
      "execution_count": null,
      "outputs": [
        {
          "output_type": "execute_result",
          "data": {
            "text/plain": [
              "            EMPI                                        Report_Text  \\\n",
              "0      100003956  accession number: s02k17074 report status: fin...   \n",
              "1      100006532  accession number: s9905462c report status: fin...   \n",
              "2      100006636  accession number: bs05e05528 report status: fi...   \n",
              "3      100001308  accession number: s9935420s report status: fin...   \n",
              "4      100095964  accession number: s04t31383 report status: fin...   \n",
              "...          ...                                                ...   \n",
              "16651  111108962  accession number: s17-42561 report status: fin...   \n",
              "16652  111110994  accession number: s15-80722 report status: fin...   \n",
              "16653  111085770  accession number: s19-42440 report status: fin...   \n",
              "16654  111142034  accession number: s19-56696 report status: fin...   \n",
              "16655  111061498  accession number: fs15d09187 report status: fi...   \n",
              "\n",
              "      hospital_rp       date  \n",
              "0             MGH 2002-03-29  \n",
              "1             BWH 1999-02-27  \n",
              "2             BWH 2005-02-10  \n",
              "3             BWH 1999-12-17  \n",
              "4             MGH 2004-06-02  \n",
              "...           ...        ...  \n",
              "16651         MGH 2017-06-23  \n",
              "16652         MGH 2015-12-15  \n",
              "16653         MGH 2019-06-18  \n",
              "16654         MGH 2019-08-14  \n",
              "16655          FH 2015-11-02  \n",
              "\n",
              "[16656 rows x 4 columns]"
            ],
            "text/html": [
              "\n",
              "  <div id=\"df-904efdab-169e-443c-8d06-9ad82d87665a\">\n",
              "    <div class=\"colab-df-container\">\n",
              "      <div>\n",
              "<style scoped>\n",
              "    .dataframe tbody tr th:only-of-type {\n",
              "        vertical-align: middle;\n",
              "    }\n",
              "\n",
              "    .dataframe tbody tr th {\n",
              "        vertical-align: top;\n",
              "    }\n",
              "\n",
              "    .dataframe thead th {\n",
              "        text-align: right;\n",
              "    }\n",
              "</style>\n",
              "<table border=\"1\" class=\"dataframe\">\n",
              "  <thead>\n",
              "    <tr style=\"text-align: right;\">\n",
              "      <th></th>\n",
              "      <th>EMPI</th>\n",
              "      <th>Report_Text</th>\n",
              "      <th>hospital_rp</th>\n",
              "      <th>date</th>\n",
              "    </tr>\n",
              "  </thead>\n",
              "  <tbody>\n",
              "    <tr>\n",
              "      <th>0</th>\n",
              "      <td>100003956</td>\n",
              "      <td>accession number: s02k17074 report status: fin...</td>\n",
              "      <td>MGH</td>\n",
              "      <td>2002-03-29</td>\n",
              "    </tr>\n",
              "    <tr>\n",
              "      <th>1</th>\n",
              "      <td>100006532</td>\n",
              "      <td>accession number: s9905462c report status: fin...</td>\n",
              "      <td>BWH</td>\n",
              "      <td>1999-02-27</td>\n",
              "    </tr>\n",
              "    <tr>\n",
              "      <th>2</th>\n",
              "      <td>100006636</td>\n",
              "      <td>accession number: bs05e05528 report status: fi...</td>\n",
              "      <td>BWH</td>\n",
              "      <td>2005-02-10</td>\n",
              "    </tr>\n",
              "    <tr>\n",
              "      <th>3</th>\n",
              "      <td>100001308</td>\n",
              "      <td>accession number: s9935420s report status: fin...</td>\n",
              "      <td>BWH</td>\n",
              "      <td>1999-12-17</td>\n",
              "    </tr>\n",
              "    <tr>\n",
              "      <th>4</th>\n",
              "      <td>100095964</td>\n",
              "      <td>accession number: s04t31383 report status: fin...</td>\n",
              "      <td>MGH</td>\n",
              "      <td>2004-06-02</td>\n",
              "    </tr>\n",
              "    <tr>\n",
              "      <th>...</th>\n",
              "      <td>...</td>\n",
              "      <td>...</td>\n",
              "      <td>...</td>\n",
              "      <td>...</td>\n",
              "    </tr>\n",
              "    <tr>\n",
              "      <th>16651</th>\n",
              "      <td>111108962</td>\n",
              "      <td>accession number: s17-42561 report status: fin...</td>\n",
              "      <td>MGH</td>\n",
              "      <td>2017-06-23</td>\n",
              "    </tr>\n",
              "    <tr>\n",
              "      <th>16652</th>\n",
              "      <td>111110994</td>\n",
              "      <td>accession number: s15-80722 report status: fin...</td>\n",
              "      <td>MGH</td>\n",
              "      <td>2015-12-15</td>\n",
              "    </tr>\n",
              "    <tr>\n",
              "      <th>16653</th>\n",
              "      <td>111085770</td>\n",
              "      <td>accession number: s19-42440 report status: fin...</td>\n",
              "      <td>MGH</td>\n",
              "      <td>2019-06-18</td>\n",
              "    </tr>\n",
              "    <tr>\n",
              "      <th>16654</th>\n",
              "      <td>111142034</td>\n",
              "      <td>accession number: s19-56696 report status: fin...</td>\n",
              "      <td>MGH</td>\n",
              "      <td>2019-08-14</td>\n",
              "    </tr>\n",
              "    <tr>\n",
              "      <th>16655</th>\n",
              "      <td>111061498</td>\n",
              "      <td>accession number: fs15d09187 report status: fi...</td>\n",
              "      <td>FH</td>\n",
              "      <td>2015-11-02</td>\n",
              "    </tr>\n",
              "  </tbody>\n",
              "</table>\n",
              "<p>16656 rows × 4 columns</p>\n",
              "</div>\n",
              "      <button class=\"colab-df-convert\" onclick=\"convertToInteractive('df-904efdab-169e-443c-8d06-9ad82d87665a')\"\n",
              "              title=\"Convert this dataframe to an interactive table.\"\n",
              "              style=\"display:none;\">\n",
              "        \n",
              "  <svg xmlns=\"http://www.w3.org/2000/svg\" height=\"24px\"viewBox=\"0 0 24 24\"\n",
              "       width=\"24px\">\n",
              "    <path d=\"M0 0h24v24H0V0z\" fill=\"none\"/>\n",
              "    <path d=\"M18.56 5.44l.94 2.06.94-2.06 2.06-.94-2.06-.94-.94-2.06-.94 2.06-2.06.94zm-11 1L8.5 8.5l.94-2.06 2.06-.94-2.06-.94L8.5 2.5l-.94 2.06-2.06.94zm10 10l.94 2.06.94-2.06 2.06-.94-2.06-.94-.94-2.06-.94 2.06-2.06.94z\"/><path d=\"M17.41 7.96l-1.37-1.37c-.4-.4-.92-.59-1.43-.59-.52 0-1.04.2-1.43.59L10.3 9.45l-7.72 7.72c-.78.78-.78 2.05 0 2.83L4 21.41c.39.39.9.59 1.41.59.51 0 1.02-.2 1.41-.59l7.78-7.78 2.81-2.81c.8-.78.8-2.07 0-2.86zM5.41 20L4 18.59l7.72-7.72 1.47 1.35L5.41 20z\"/>\n",
              "  </svg>\n",
              "      </button>\n",
              "      \n",
              "  <style>\n",
              "    .colab-df-container {\n",
              "      display:flex;\n",
              "      flex-wrap:wrap;\n",
              "      gap: 12px;\n",
              "    }\n",
              "\n",
              "    .colab-df-convert {\n",
              "      background-color: #E8F0FE;\n",
              "      border: none;\n",
              "      border-radius: 50%;\n",
              "      cursor: pointer;\n",
              "      display: none;\n",
              "      fill: #1967D2;\n",
              "      height: 32px;\n",
              "      padding: 0 0 0 0;\n",
              "      width: 32px;\n",
              "    }\n",
              "\n",
              "    .colab-df-convert:hover {\n",
              "      background-color: #E2EBFA;\n",
              "      box-shadow: 0px 1px 2px rgba(60, 64, 67, 0.3), 0px 1px 3px 1px rgba(60, 64, 67, 0.15);\n",
              "      fill: #174EA6;\n",
              "    }\n",
              "\n",
              "    [theme=dark] .colab-df-convert {\n",
              "      background-color: #3B4455;\n",
              "      fill: #D2E3FC;\n",
              "    }\n",
              "\n",
              "    [theme=dark] .colab-df-convert:hover {\n",
              "      background-color: #434B5C;\n",
              "      box-shadow: 0px 1px 3px 1px rgba(0, 0, 0, 0.15);\n",
              "      filter: drop-shadow(0px 1px 2px rgba(0, 0, 0, 0.3));\n",
              "      fill: #FFFFFF;\n",
              "    }\n",
              "  </style>\n",
              "\n",
              "      <script>\n",
              "        const buttonEl =\n",
              "          document.querySelector('#df-904efdab-169e-443c-8d06-9ad82d87665a button.colab-df-convert');\n",
              "        buttonEl.style.display =\n",
              "          google.colab.kernel.accessAllowed ? 'block' : 'none';\n",
              "\n",
              "        async function convertToInteractive(key) {\n",
              "          const element = document.querySelector('#df-904efdab-169e-443c-8d06-9ad82d87665a');\n",
              "          const dataTable =\n",
              "            await google.colab.kernel.invokeFunction('convertToInteractive',\n",
              "                                                     [key], {});\n",
              "          if (!dataTable) return;\n",
              "\n",
              "          const docLinkHtml = 'Like what you see? Visit the ' +\n",
              "            '<a target=\"_blank\" href=https://colab.research.google.com/notebooks/data_table.ipynb>data table notebook</a>'\n",
              "            + ' to learn more about interactive tables.';\n",
              "          element.innerHTML = '';\n",
              "          dataTable['output_type'] = 'display_data';\n",
              "          await google.colab.output.renderOutput(dataTable, element);\n",
              "          const docLink = document.createElement('div');\n",
              "          docLink.innerHTML = docLinkHtml;\n",
              "          element.appendChild(docLink);\n",
              "        }\n",
              "      </script>\n",
              "    </div>\n",
              "  </div>\n",
              "  "
            ]
          },
          "metadata": {},
          "execution_count": 49
        }
      ]
    },
    {
      "cell_type": "markdown",
      "source": [
        "Below is the operation to selecte people with metasis"
      ],
      "metadata": {
        "id": "He60tv4v_YAW"
      }
    },
    {
      "cell_type": "code",
      "source": [
        "keep_terms_meta = ['n1','carcinoma involving']\n",
        "keep_terms = ['t2b','plnd','SPECIMEN TYPE: Lymph node biopsy']\n",
        "remove_terms_meta = ['no carcinoma']"
      ],
      "metadata": {
        "id": "F8XHhFHHadpW"
      },
      "execution_count": null,
      "outputs": []
    },
    {
      "cell_type": "code",
      "source": [
        "for i in range(len(keep_terms)):\n",
        "    keep_terms[i] = keep_terms[i].lower()"
      ],
      "metadata": {
        "id": "tTE1L4KqYir6"
      },
      "execution_count": null,
      "outputs": []
    },
    {
      "cell_type": "code",
      "source": [
        "final_df[final_df['Report_Text'].str.contains('|'.join(keep_terms + keep_terms_meta), case=False)]"
      ],
      "metadata": {
        "colab": {
          "base_uri": "https://localhost:8080/",
          "height": 424
        },
        "id": "ItxkE91YYkyj",
        "outputId": "958f4378-744f-4193-daeb-636a0b3ad927"
      },
      "execution_count": null,
      "outputs": [
        {
          "output_type": "execute_result",
          "data": {
            "text/plain": [
              "            EMPI                                        Report_Text  \\\n",
              "1      100006532  accession number: s9905462c report status: fin...   \n",
              "2      100006636  accession number: bs05e05528 report status: fi...   \n",
              "3      100001308  accession number: s9935420s report status: fin...   \n",
              "11     100086908  accession number: bs08a16092 report status: fi...   \n",
              "12     100126964  accession number: s19-20098 report status: fin...   \n",
              "...          ...                                                ...   \n",
              "16620  109123082  accession number: s14-38753 report status: fin...   \n",
              "16623  109728042  accession number: bs08w26932 report status: fi...   \n",
              "16629  109969370  accession number: bs15f29649 report status: fi...   \n",
              "16636  109979050  accession number: bs14a59048 report status: fi...   \n",
              "16641  110694898  accession number: s0208828s report status: fin...   \n",
              "\n",
              "      hospital_rp       date  \n",
              "1             BWH 1999-02-27  \n",
              "2             BWH 2005-02-10  \n",
              "3             BWH 1999-12-17  \n",
              "11            BWH 2008-04-14  \n",
              "12            MGH 2019-03-25  \n",
              "...           ...        ...  \n",
              "16620         MGH 2014-06-17  \n",
              "16623         BWH 2008-06-19  \n",
              "16629         BWH 2015-06-18  \n",
              "16636         BWH 2014-11-18  \n",
              "16641         BWH 2002-03-15  \n",
              "\n",
              "[4285 rows x 4 columns]"
            ],
            "text/html": [
              "\n",
              "  <div id=\"df-59d53497-ca1e-4de7-88ed-c89ca0237a16\">\n",
              "    <div class=\"colab-df-container\">\n",
              "      <div>\n",
              "<style scoped>\n",
              "    .dataframe tbody tr th:only-of-type {\n",
              "        vertical-align: middle;\n",
              "    }\n",
              "\n",
              "    .dataframe tbody tr th {\n",
              "        vertical-align: top;\n",
              "    }\n",
              "\n",
              "    .dataframe thead th {\n",
              "        text-align: right;\n",
              "    }\n",
              "</style>\n",
              "<table border=\"1\" class=\"dataframe\">\n",
              "  <thead>\n",
              "    <tr style=\"text-align: right;\">\n",
              "      <th></th>\n",
              "      <th>EMPI</th>\n",
              "      <th>Report_Text</th>\n",
              "      <th>hospital_rp</th>\n",
              "      <th>date</th>\n",
              "    </tr>\n",
              "  </thead>\n",
              "  <tbody>\n",
              "    <tr>\n",
              "      <th>1</th>\n",
              "      <td>100006532</td>\n",
              "      <td>accession number: s9905462c report status: fin...</td>\n",
              "      <td>BWH</td>\n",
              "      <td>1999-02-27</td>\n",
              "    </tr>\n",
              "    <tr>\n",
              "      <th>2</th>\n",
              "      <td>100006636</td>\n",
              "      <td>accession number: bs05e05528 report status: fi...</td>\n",
              "      <td>BWH</td>\n",
              "      <td>2005-02-10</td>\n",
              "    </tr>\n",
              "    <tr>\n",
              "      <th>3</th>\n",
              "      <td>100001308</td>\n",
              "      <td>accession number: s9935420s report status: fin...</td>\n",
              "      <td>BWH</td>\n",
              "      <td>1999-12-17</td>\n",
              "    </tr>\n",
              "    <tr>\n",
              "      <th>11</th>\n",
              "      <td>100086908</td>\n",
              "      <td>accession number: bs08a16092 report status: fi...</td>\n",
              "      <td>BWH</td>\n",
              "      <td>2008-04-14</td>\n",
              "    </tr>\n",
              "    <tr>\n",
              "      <th>12</th>\n",
              "      <td>100126964</td>\n",
              "      <td>accession number: s19-20098 report status: fin...</td>\n",
              "      <td>MGH</td>\n",
              "      <td>2019-03-25</td>\n",
              "    </tr>\n",
              "    <tr>\n",
              "      <th>...</th>\n",
              "      <td>...</td>\n",
              "      <td>...</td>\n",
              "      <td>...</td>\n",
              "      <td>...</td>\n",
              "    </tr>\n",
              "    <tr>\n",
              "      <th>16620</th>\n",
              "      <td>109123082</td>\n",
              "      <td>accession number: s14-38753 report status: fin...</td>\n",
              "      <td>MGH</td>\n",
              "      <td>2014-06-17</td>\n",
              "    </tr>\n",
              "    <tr>\n",
              "      <th>16623</th>\n",
              "      <td>109728042</td>\n",
              "      <td>accession number: bs08w26932 report status: fi...</td>\n",
              "      <td>BWH</td>\n",
              "      <td>2008-06-19</td>\n",
              "    </tr>\n",
              "    <tr>\n",
              "      <th>16629</th>\n",
              "      <td>109969370</td>\n",
              "      <td>accession number: bs15f29649 report status: fi...</td>\n",
              "      <td>BWH</td>\n",
              "      <td>2015-06-18</td>\n",
              "    </tr>\n",
              "    <tr>\n",
              "      <th>16636</th>\n",
              "      <td>109979050</td>\n",
              "      <td>accession number: bs14a59048 report status: fi...</td>\n",
              "      <td>BWH</td>\n",
              "      <td>2014-11-18</td>\n",
              "    </tr>\n",
              "    <tr>\n",
              "      <th>16641</th>\n",
              "      <td>110694898</td>\n",
              "      <td>accession number: s0208828s report status: fin...</td>\n",
              "      <td>BWH</td>\n",
              "      <td>2002-03-15</td>\n",
              "    </tr>\n",
              "  </tbody>\n",
              "</table>\n",
              "<p>4285 rows × 4 columns</p>\n",
              "</div>\n",
              "      <button class=\"colab-df-convert\" onclick=\"convertToInteractive('df-59d53497-ca1e-4de7-88ed-c89ca0237a16')\"\n",
              "              title=\"Convert this dataframe to an interactive table.\"\n",
              "              style=\"display:none;\">\n",
              "        \n",
              "  <svg xmlns=\"http://www.w3.org/2000/svg\" height=\"24px\"viewBox=\"0 0 24 24\"\n",
              "       width=\"24px\">\n",
              "    <path d=\"M0 0h24v24H0V0z\" fill=\"none\"/>\n",
              "    <path d=\"M18.56 5.44l.94 2.06.94-2.06 2.06-.94-2.06-.94-.94-2.06-.94 2.06-2.06.94zm-11 1L8.5 8.5l.94-2.06 2.06-.94-2.06-.94L8.5 2.5l-.94 2.06-2.06.94zm10 10l.94 2.06.94-2.06 2.06-.94-2.06-.94-.94-2.06-.94 2.06-2.06.94z\"/><path d=\"M17.41 7.96l-1.37-1.37c-.4-.4-.92-.59-1.43-.59-.52 0-1.04.2-1.43.59L10.3 9.45l-7.72 7.72c-.78.78-.78 2.05 0 2.83L4 21.41c.39.39.9.59 1.41.59.51 0 1.02-.2 1.41-.59l7.78-7.78 2.81-2.81c.8-.78.8-2.07 0-2.86zM5.41 20L4 18.59l7.72-7.72 1.47 1.35L5.41 20z\"/>\n",
              "  </svg>\n",
              "      </button>\n",
              "      \n",
              "  <style>\n",
              "    .colab-df-container {\n",
              "      display:flex;\n",
              "      flex-wrap:wrap;\n",
              "      gap: 12px;\n",
              "    }\n",
              "\n",
              "    .colab-df-convert {\n",
              "      background-color: #E8F0FE;\n",
              "      border: none;\n",
              "      border-radius: 50%;\n",
              "      cursor: pointer;\n",
              "      display: none;\n",
              "      fill: #1967D2;\n",
              "      height: 32px;\n",
              "      padding: 0 0 0 0;\n",
              "      width: 32px;\n",
              "    }\n",
              "\n",
              "    .colab-df-convert:hover {\n",
              "      background-color: #E2EBFA;\n",
              "      box-shadow: 0px 1px 2px rgba(60, 64, 67, 0.3), 0px 1px 3px 1px rgba(60, 64, 67, 0.15);\n",
              "      fill: #174EA6;\n",
              "    }\n",
              "\n",
              "    [theme=dark] .colab-df-convert {\n",
              "      background-color: #3B4455;\n",
              "      fill: #D2E3FC;\n",
              "    }\n",
              "\n",
              "    [theme=dark] .colab-df-convert:hover {\n",
              "      background-color: #434B5C;\n",
              "      box-shadow: 0px 1px 3px 1px rgba(0, 0, 0, 0.15);\n",
              "      filter: drop-shadow(0px 1px 2px rgba(0, 0, 0, 0.3));\n",
              "      fill: #FFFFFF;\n",
              "    }\n",
              "  </style>\n",
              "\n",
              "      <script>\n",
              "        const buttonEl =\n",
              "          document.querySelector('#df-59d53497-ca1e-4de7-88ed-c89ca0237a16 button.colab-df-convert');\n",
              "        buttonEl.style.display =\n",
              "          google.colab.kernel.accessAllowed ? 'block' : 'none';\n",
              "\n",
              "        async function convertToInteractive(key) {\n",
              "          const element = document.querySelector('#df-59d53497-ca1e-4de7-88ed-c89ca0237a16');\n",
              "          const dataTable =\n",
              "            await google.colab.kernel.invokeFunction('convertToInteractive',\n",
              "                                                     [key], {});\n",
              "          if (!dataTable) return;\n",
              "\n",
              "          const docLinkHtml = 'Like what you see? Visit the ' +\n",
              "            '<a target=\"_blank\" href=https://colab.research.google.com/notebooks/data_table.ipynb>data table notebook</a>'\n",
              "            + ' to learn more about interactive tables.';\n",
              "          element.innerHTML = '';\n",
              "          dataTable['output_type'] = 'display_data';\n",
              "          await google.colab.output.renderOutput(dataTable, element);\n",
              "          const docLink = document.createElement('div');\n",
              "          docLink.innerHTML = docLinkHtml;\n",
              "          element.appendChild(docLink);\n",
              "        }\n",
              "      </script>\n",
              "    </div>\n",
              "  </div>\n",
              "  "
            ]
          },
          "metadata": {},
          "execution_count": 52
        }
      ]
    },
    {
      "cell_type": "code",
      "source": [
        "final_df[final_df['Report_Text'].str.contains('|'.join(keep_terms_meta), case=False)]"
      ],
      "metadata": {
        "colab": {
          "base_uri": "https://localhost:8080/",
          "height": 424
        },
        "id": "4PHDpEixYyzC",
        "outputId": "0a91ef7e-a6ec-4776-f934-876f56159113"
      },
      "execution_count": null,
      "outputs": [
        {
          "output_type": "execute_result",
          "data": {
            "text/plain": [
              "            EMPI                                        Report_Text  \\\n",
              "12     100126964  accession number: s19-20098 report status: fin...   \n",
              "80     100003779  accession number: s95n17653 report status: fin...   \n",
              "86     100076587  accession number: s95d8539 report status: fina...   \n",
              "92     100138531  accession number: bs19f04711 report status: up...   \n",
              "111    100262051  accession number: ms06n16738 report status: fi...   \n",
              "...          ...                                                ...   \n",
              "16513  102028850  accession number: s0226715r report status: fin...   \n",
              "16542  102485346  accession number: s19-16527 report status: fin...   \n",
              "16577  113351226  accession number: bs19a52508 report status: fi...   \n",
              "16589  114288418  accession number: fs19k05224 report status: fi...   \n",
              "16598  114757074  accession number: bs20n13761 report status: fi...   \n",
              "\n",
              "      hospital_rp       date  \n",
              "12            MGH 2019-03-25  \n",
              "80            MGH 1995-05-22  \n",
              "86            MGH 1995-03-13  \n",
              "92            BWH 2019-01-24  \n",
              "111           MGH 2006-03-29  \n",
              "...           ...        ...  \n",
              "16513         BWH 2002-08-07  \n",
              "16542         MGH 2019-03-11  \n",
              "16577         BWH 2019-09-06  \n",
              "16589          FH 2019-05-24  \n",
              "16598         BWH 2020-03-05  \n",
              "\n",
              "[505 rows x 4 columns]"
            ],
            "text/html": [
              "\n",
              "  <div id=\"df-9b384e8a-bbca-42dd-84fa-8f5b59d0d739\">\n",
              "    <div class=\"colab-df-container\">\n",
              "      <div>\n",
              "<style scoped>\n",
              "    .dataframe tbody tr th:only-of-type {\n",
              "        vertical-align: middle;\n",
              "    }\n",
              "\n",
              "    .dataframe tbody tr th {\n",
              "        vertical-align: top;\n",
              "    }\n",
              "\n",
              "    .dataframe thead th {\n",
              "        text-align: right;\n",
              "    }\n",
              "</style>\n",
              "<table border=\"1\" class=\"dataframe\">\n",
              "  <thead>\n",
              "    <tr style=\"text-align: right;\">\n",
              "      <th></th>\n",
              "      <th>EMPI</th>\n",
              "      <th>Report_Text</th>\n",
              "      <th>hospital_rp</th>\n",
              "      <th>date</th>\n",
              "    </tr>\n",
              "  </thead>\n",
              "  <tbody>\n",
              "    <tr>\n",
              "      <th>12</th>\n",
              "      <td>100126964</td>\n",
              "      <td>accession number: s19-20098 report status: fin...</td>\n",
              "      <td>MGH</td>\n",
              "      <td>2019-03-25</td>\n",
              "    </tr>\n",
              "    <tr>\n",
              "      <th>80</th>\n",
              "      <td>100003779</td>\n",
              "      <td>accession number: s95n17653 report status: fin...</td>\n",
              "      <td>MGH</td>\n",
              "      <td>1995-05-22</td>\n",
              "    </tr>\n",
              "    <tr>\n",
              "      <th>86</th>\n",
              "      <td>100076587</td>\n",
              "      <td>accession number: s95d8539 report status: fina...</td>\n",
              "      <td>MGH</td>\n",
              "      <td>1995-03-13</td>\n",
              "    </tr>\n",
              "    <tr>\n",
              "      <th>92</th>\n",
              "      <td>100138531</td>\n",
              "      <td>accession number: bs19f04711 report status: up...</td>\n",
              "      <td>BWH</td>\n",
              "      <td>2019-01-24</td>\n",
              "    </tr>\n",
              "    <tr>\n",
              "      <th>111</th>\n",
              "      <td>100262051</td>\n",
              "      <td>accession number: ms06n16738 report status: fi...</td>\n",
              "      <td>MGH</td>\n",
              "      <td>2006-03-29</td>\n",
              "    </tr>\n",
              "    <tr>\n",
              "      <th>...</th>\n",
              "      <td>...</td>\n",
              "      <td>...</td>\n",
              "      <td>...</td>\n",
              "      <td>...</td>\n",
              "    </tr>\n",
              "    <tr>\n",
              "      <th>16513</th>\n",
              "      <td>102028850</td>\n",
              "      <td>accession number: s0226715r report status: fin...</td>\n",
              "      <td>BWH</td>\n",
              "      <td>2002-08-07</td>\n",
              "    </tr>\n",
              "    <tr>\n",
              "      <th>16542</th>\n",
              "      <td>102485346</td>\n",
              "      <td>accession number: s19-16527 report status: fin...</td>\n",
              "      <td>MGH</td>\n",
              "      <td>2019-03-11</td>\n",
              "    </tr>\n",
              "    <tr>\n",
              "      <th>16577</th>\n",
              "      <td>113351226</td>\n",
              "      <td>accession number: bs19a52508 report status: fi...</td>\n",
              "      <td>BWH</td>\n",
              "      <td>2019-09-06</td>\n",
              "    </tr>\n",
              "    <tr>\n",
              "      <th>16589</th>\n",
              "      <td>114288418</td>\n",
              "      <td>accession number: fs19k05224 report status: fi...</td>\n",
              "      <td>FH</td>\n",
              "      <td>2019-05-24</td>\n",
              "    </tr>\n",
              "    <tr>\n",
              "      <th>16598</th>\n",
              "      <td>114757074</td>\n",
              "      <td>accession number: bs20n13761 report status: fi...</td>\n",
              "      <td>BWH</td>\n",
              "      <td>2020-03-05</td>\n",
              "    </tr>\n",
              "  </tbody>\n",
              "</table>\n",
              "<p>505 rows × 4 columns</p>\n",
              "</div>\n",
              "      <button class=\"colab-df-convert\" onclick=\"convertToInteractive('df-9b384e8a-bbca-42dd-84fa-8f5b59d0d739')\"\n",
              "              title=\"Convert this dataframe to an interactive table.\"\n",
              "              style=\"display:none;\">\n",
              "        \n",
              "  <svg xmlns=\"http://www.w3.org/2000/svg\" height=\"24px\"viewBox=\"0 0 24 24\"\n",
              "       width=\"24px\">\n",
              "    <path d=\"M0 0h24v24H0V0z\" fill=\"none\"/>\n",
              "    <path d=\"M18.56 5.44l.94 2.06.94-2.06 2.06-.94-2.06-.94-.94-2.06-.94 2.06-2.06.94zm-11 1L8.5 8.5l.94-2.06 2.06-.94-2.06-.94L8.5 2.5l-.94 2.06-2.06.94zm10 10l.94 2.06.94-2.06 2.06-.94-2.06-.94-.94-2.06-.94 2.06-2.06.94z\"/><path d=\"M17.41 7.96l-1.37-1.37c-.4-.4-.92-.59-1.43-.59-.52 0-1.04.2-1.43.59L10.3 9.45l-7.72 7.72c-.78.78-.78 2.05 0 2.83L4 21.41c.39.39.9.59 1.41.59.51 0 1.02-.2 1.41-.59l7.78-7.78 2.81-2.81c.8-.78.8-2.07 0-2.86zM5.41 20L4 18.59l7.72-7.72 1.47 1.35L5.41 20z\"/>\n",
              "  </svg>\n",
              "      </button>\n",
              "      \n",
              "  <style>\n",
              "    .colab-df-container {\n",
              "      display:flex;\n",
              "      flex-wrap:wrap;\n",
              "      gap: 12px;\n",
              "    }\n",
              "\n",
              "    .colab-df-convert {\n",
              "      background-color: #E8F0FE;\n",
              "      border: none;\n",
              "      border-radius: 50%;\n",
              "      cursor: pointer;\n",
              "      display: none;\n",
              "      fill: #1967D2;\n",
              "      height: 32px;\n",
              "      padding: 0 0 0 0;\n",
              "      width: 32px;\n",
              "    }\n",
              "\n",
              "    .colab-df-convert:hover {\n",
              "      background-color: #E2EBFA;\n",
              "      box-shadow: 0px 1px 2px rgba(60, 64, 67, 0.3), 0px 1px 3px 1px rgba(60, 64, 67, 0.15);\n",
              "      fill: #174EA6;\n",
              "    }\n",
              "\n",
              "    [theme=dark] .colab-df-convert {\n",
              "      background-color: #3B4455;\n",
              "      fill: #D2E3FC;\n",
              "    }\n",
              "\n",
              "    [theme=dark] .colab-df-convert:hover {\n",
              "      background-color: #434B5C;\n",
              "      box-shadow: 0px 1px 3px 1px rgba(0, 0, 0, 0.15);\n",
              "      filter: drop-shadow(0px 1px 2px rgba(0, 0, 0, 0.3));\n",
              "      fill: #FFFFFF;\n",
              "    }\n",
              "  </style>\n",
              "\n",
              "      <script>\n",
              "        const buttonEl =\n",
              "          document.querySelector('#df-9b384e8a-bbca-42dd-84fa-8f5b59d0d739 button.colab-df-convert');\n",
              "        buttonEl.style.display =\n",
              "          google.colab.kernel.accessAllowed ? 'block' : 'none';\n",
              "\n",
              "        async function convertToInteractive(key) {\n",
              "          const element = document.querySelector('#df-9b384e8a-bbca-42dd-84fa-8f5b59d0d739');\n",
              "          const dataTable =\n",
              "            await google.colab.kernel.invokeFunction('convertToInteractive',\n",
              "                                                     [key], {});\n",
              "          if (!dataTable) return;\n",
              "\n",
              "          const docLinkHtml = 'Like what you see? Visit the ' +\n",
              "            '<a target=\"_blank\" href=https://colab.research.google.com/notebooks/data_table.ipynb>data table notebook</a>'\n",
              "            + ' to learn more about interactive tables.';\n",
              "          element.innerHTML = '';\n",
              "          dataTable['output_type'] = 'display_data';\n",
              "          await google.colab.output.renderOutput(dataTable, element);\n",
              "          const docLink = document.createElement('div');\n",
              "          docLink.innerHTML = docLinkHtml;\n",
              "          element.appendChild(docLink);\n",
              "        }\n",
              "      </script>\n",
              "    </div>\n",
              "  </div>\n",
              "  "
            ]
          },
          "metadata": {},
          "execution_count": 53
        }
      ]
    },
    {
      "cell_type": "code",
      "source": [
        "final_df[final_df['Report_Text'].str.contains('|'.join(remove_terms_meta), case=False)]"
      ],
      "metadata": {
        "colab": {
          "base_uri": "https://localhost:8080/",
          "height": 424
        },
        "id": "IJbCfaPOZFVa",
        "outputId": "24f7c73f-acc8-4a58-a838-e007db2d8dc1"
      },
      "execution_count": null,
      "outputs": [
        {
          "output_type": "execute_result",
          "data": {
            "text/plain": [
              "            EMPI                                        Report_Text  \\\n",
              "3      100001308  accession number: s9935420s report status: fin...   \n",
              "13     100111708  accession number: s0013104l report status: fin...   \n",
              "24     100229964  accession number: s17-49263 report status: fin...   \n",
              "28     100239292  accession number: s9922464c report status: fin...   \n",
              "35     100200108  accession number: s9824819s report status: fin...   \n",
              "...          ...                                                ...   \n",
              "16557  102522906  accession number: s0223052h report status: fin...   \n",
              "16559  102533602  accession number: s0238744n report status: fin...   \n",
              "16566  102753898  accession number: s0325336t report status: fin...   \n",
              "16571  102631330  accession number: s0241853l report status: fin...   \n",
              "16641  110694898  accession number: s0208828s report status: fin...   \n",
              "\n",
              "      hospital_rp       date  \n",
              "3             BWH 1999-12-17  \n",
              "13            BWH 2000-05-05  \n",
              "24            MGH 2017-07-24  \n",
              "28            BWH 1999-08-12  \n",
              "35            BWH 1998-09-22  \n",
              "...           ...        ...  \n",
              "16557         BWH 2002-07-09  \n",
              "16559         BWH 2002-11-14  \n",
              "16566         BWH 2003-07-22  \n",
              "16571         BWH 2002-12-10  \n",
              "16641         BWH 2002-03-15  \n",
              "\n",
              "[1409 rows x 4 columns]"
            ],
            "text/html": [
              "\n",
              "  <div id=\"df-80ed063b-82fd-4076-a87d-b1affe03a5b5\">\n",
              "    <div class=\"colab-df-container\">\n",
              "      <div>\n",
              "<style scoped>\n",
              "    .dataframe tbody tr th:only-of-type {\n",
              "        vertical-align: middle;\n",
              "    }\n",
              "\n",
              "    .dataframe tbody tr th {\n",
              "        vertical-align: top;\n",
              "    }\n",
              "\n",
              "    .dataframe thead th {\n",
              "        text-align: right;\n",
              "    }\n",
              "</style>\n",
              "<table border=\"1\" class=\"dataframe\">\n",
              "  <thead>\n",
              "    <tr style=\"text-align: right;\">\n",
              "      <th></th>\n",
              "      <th>EMPI</th>\n",
              "      <th>Report_Text</th>\n",
              "      <th>hospital_rp</th>\n",
              "      <th>date</th>\n",
              "    </tr>\n",
              "  </thead>\n",
              "  <tbody>\n",
              "    <tr>\n",
              "      <th>3</th>\n",
              "      <td>100001308</td>\n",
              "      <td>accession number: s9935420s report status: fin...</td>\n",
              "      <td>BWH</td>\n",
              "      <td>1999-12-17</td>\n",
              "    </tr>\n",
              "    <tr>\n",
              "      <th>13</th>\n",
              "      <td>100111708</td>\n",
              "      <td>accession number: s0013104l report status: fin...</td>\n",
              "      <td>BWH</td>\n",
              "      <td>2000-05-05</td>\n",
              "    </tr>\n",
              "    <tr>\n",
              "      <th>24</th>\n",
              "      <td>100229964</td>\n",
              "      <td>accession number: s17-49263 report status: fin...</td>\n",
              "      <td>MGH</td>\n",
              "      <td>2017-07-24</td>\n",
              "    </tr>\n",
              "    <tr>\n",
              "      <th>28</th>\n",
              "      <td>100239292</td>\n",
              "      <td>accession number: s9922464c report status: fin...</td>\n",
              "      <td>BWH</td>\n",
              "      <td>1999-08-12</td>\n",
              "    </tr>\n",
              "    <tr>\n",
              "      <th>35</th>\n",
              "      <td>100200108</td>\n",
              "      <td>accession number: s9824819s report status: fin...</td>\n",
              "      <td>BWH</td>\n",
              "      <td>1998-09-22</td>\n",
              "    </tr>\n",
              "    <tr>\n",
              "      <th>...</th>\n",
              "      <td>...</td>\n",
              "      <td>...</td>\n",
              "      <td>...</td>\n",
              "      <td>...</td>\n",
              "    </tr>\n",
              "    <tr>\n",
              "      <th>16557</th>\n",
              "      <td>102522906</td>\n",
              "      <td>accession number: s0223052h report status: fin...</td>\n",
              "      <td>BWH</td>\n",
              "      <td>2002-07-09</td>\n",
              "    </tr>\n",
              "    <tr>\n",
              "      <th>16559</th>\n",
              "      <td>102533602</td>\n",
              "      <td>accession number: s0238744n report status: fin...</td>\n",
              "      <td>BWH</td>\n",
              "      <td>2002-11-14</td>\n",
              "    </tr>\n",
              "    <tr>\n",
              "      <th>16566</th>\n",
              "      <td>102753898</td>\n",
              "      <td>accession number: s0325336t report status: fin...</td>\n",
              "      <td>BWH</td>\n",
              "      <td>2003-07-22</td>\n",
              "    </tr>\n",
              "    <tr>\n",
              "      <th>16571</th>\n",
              "      <td>102631330</td>\n",
              "      <td>accession number: s0241853l report status: fin...</td>\n",
              "      <td>BWH</td>\n",
              "      <td>2002-12-10</td>\n",
              "    </tr>\n",
              "    <tr>\n",
              "      <th>16641</th>\n",
              "      <td>110694898</td>\n",
              "      <td>accession number: s0208828s report status: fin...</td>\n",
              "      <td>BWH</td>\n",
              "      <td>2002-03-15</td>\n",
              "    </tr>\n",
              "  </tbody>\n",
              "</table>\n",
              "<p>1409 rows × 4 columns</p>\n",
              "</div>\n",
              "      <button class=\"colab-df-convert\" onclick=\"convertToInteractive('df-80ed063b-82fd-4076-a87d-b1affe03a5b5')\"\n",
              "              title=\"Convert this dataframe to an interactive table.\"\n",
              "              style=\"display:none;\">\n",
              "        \n",
              "  <svg xmlns=\"http://www.w3.org/2000/svg\" height=\"24px\"viewBox=\"0 0 24 24\"\n",
              "       width=\"24px\">\n",
              "    <path d=\"M0 0h24v24H0V0z\" fill=\"none\"/>\n",
              "    <path d=\"M18.56 5.44l.94 2.06.94-2.06 2.06-.94-2.06-.94-.94-2.06-.94 2.06-2.06.94zm-11 1L8.5 8.5l.94-2.06 2.06-.94-2.06-.94L8.5 2.5l-.94 2.06-2.06.94zm10 10l.94 2.06.94-2.06 2.06-.94-2.06-.94-.94-2.06-.94 2.06-2.06.94z\"/><path d=\"M17.41 7.96l-1.37-1.37c-.4-.4-.92-.59-1.43-.59-.52 0-1.04.2-1.43.59L10.3 9.45l-7.72 7.72c-.78.78-.78 2.05 0 2.83L4 21.41c.39.39.9.59 1.41.59.51 0 1.02-.2 1.41-.59l7.78-7.78 2.81-2.81c.8-.78.8-2.07 0-2.86zM5.41 20L4 18.59l7.72-7.72 1.47 1.35L5.41 20z\"/>\n",
              "  </svg>\n",
              "      </button>\n",
              "      \n",
              "  <style>\n",
              "    .colab-df-container {\n",
              "      display:flex;\n",
              "      flex-wrap:wrap;\n",
              "      gap: 12px;\n",
              "    }\n",
              "\n",
              "    .colab-df-convert {\n",
              "      background-color: #E8F0FE;\n",
              "      border: none;\n",
              "      border-radius: 50%;\n",
              "      cursor: pointer;\n",
              "      display: none;\n",
              "      fill: #1967D2;\n",
              "      height: 32px;\n",
              "      padding: 0 0 0 0;\n",
              "      width: 32px;\n",
              "    }\n",
              "\n",
              "    .colab-df-convert:hover {\n",
              "      background-color: #E2EBFA;\n",
              "      box-shadow: 0px 1px 2px rgba(60, 64, 67, 0.3), 0px 1px 3px 1px rgba(60, 64, 67, 0.15);\n",
              "      fill: #174EA6;\n",
              "    }\n",
              "\n",
              "    [theme=dark] .colab-df-convert {\n",
              "      background-color: #3B4455;\n",
              "      fill: #D2E3FC;\n",
              "    }\n",
              "\n",
              "    [theme=dark] .colab-df-convert:hover {\n",
              "      background-color: #434B5C;\n",
              "      box-shadow: 0px 1px 3px 1px rgba(0, 0, 0, 0.15);\n",
              "      filter: drop-shadow(0px 1px 2px rgba(0, 0, 0, 0.3));\n",
              "      fill: #FFFFFF;\n",
              "    }\n",
              "  </style>\n",
              "\n",
              "      <script>\n",
              "        const buttonEl =\n",
              "          document.querySelector('#df-80ed063b-82fd-4076-a87d-b1affe03a5b5 button.colab-df-convert');\n",
              "        buttonEl.style.display =\n",
              "          google.colab.kernel.accessAllowed ? 'block' : 'none';\n",
              "\n",
              "        async function convertToInteractive(key) {\n",
              "          const element = document.querySelector('#df-80ed063b-82fd-4076-a87d-b1affe03a5b5');\n",
              "          const dataTable =\n",
              "            await google.colab.kernel.invokeFunction('convertToInteractive',\n",
              "                                                     [key], {});\n",
              "          if (!dataTable) return;\n",
              "\n",
              "          const docLinkHtml = 'Like what you see? Visit the ' +\n",
              "            '<a target=\"_blank\" href=https://colab.research.google.com/notebooks/data_table.ipynb>data table notebook</a>'\n",
              "            + ' to learn more about interactive tables.';\n",
              "          element.innerHTML = '';\n",
              "          dataTable['output_type'] = 'display_data';\n",
              "          await google.colab.output.renderOutput(dataTable, element);\n",
              "          const docLink = document.createElement('div');\n",
              "          docLink.innerHTML = docLinkHtml;\n",
              "          element.appendChild(docLink);\n",
              "        }\n",
              "      </script>\n",
              "    </div>\n",
              "  </div>\n",
              "  "
            ]
          },
          "metadata": {},
          "execution_count": 54
        }
      ]
    },
    {
      "cell_type": "code",
      "source": [
        "final_df[~((final_df['Report_Text'].str.contains('lymph')) & (final_df['Report_Text'].str.contains('confined')))].Report_Text.iloc[0]"
      ],
      "metadata": {
        "id": "rJcPsgO4ZMtW",
        "colab": {
          "base_uri": "https://localhost:8080/",
          "height": 122
        },
        "outputId": "b24c7188-1858-4fc0-cfd7-87476dc62aa0"
      },
      "execution_count": null,
      "outputs": [
        {
          "output_type": "execute_result",
          "data": {
            "text/plain": [
              "'accession number: s9905462c report status: final type: surgical pathology pathology report s99-05462-c lymph nodes regional resection accessioned on: 02/27/99 longtine, janina, a., m.d. diagnosis: by longtine,janina a.,m.d. 1) specimen labeled \"left obturator node\" (including fsa1, fsa2, fsa3): twelve (12) lymph nodes with no tumor seen. 2) specimen labeled \"right obturator node\" (including fsb1, fsb2): ten (10) lymph nodes with no tumor seen. 3) specimen labeled \"prostate, radical prostatectomy\": prostatic adenocarcinoma, gleason grade 3+4, involving both lobes, 0.9 cm. in greatest single dimension. the margins of resection are free of tumor. perineural invasion is present. tumor is not identified in extraprostatic soft tissue. the seminal vesicles are free of tumor. ajcc (1997) stage t2b n0 mx. clinical data: history: a 56-year-old male with prostatic adenocarcinoma, gleason 3+4, in one of three (1:3) cores (20% tissue), on left side. tissue submitted: 1) left obturator node 2) right obturator node 3: prostate o.r. consultation: specimen labeled \"left obturator nodes\" (fsa1, fsa2, fsa2): seven (7) lymph nodes with no tumor seen. specimen labeled \"right obturator nodes\" (fsb1, fsb2): six (6) lymph nodes with no tumor seen. gross description: by drapkin,ronny i.,m.d.,ph.d. the specimen is received fresh, in three parts, each labeled with the patient\\'s name and unit number. part one, \"left obturator nodes\", consists of multiple fragments of yellow/tan fibroadipose tissue (3.0 x 2.0 x 0.5 cm, in aggregate). twelve (12) tan lymph nodes are present within the fibroadipose tissue (largest 0.6 cm). eight lymph nodes are taken for intraoperative analysis: fsa1/three nodes, fsa2/two nodes, and fsa3/two nodes. micro 1: fsa1r, 3 frag, ess micro 2: fsa2r, 2 frag, ess micro 3: fsa3r, 3 frag, ess micro 4: 4 lymph nodes, multi frag, ess part two, \"right obturator nodes\", consists of a single fragment of fibroadipose tissue (2.0 x 1.5 x 0.5 cm) that contains ten (10) tan lymph nodes (largest 0.5 cm). six lymph node are taken for intraoperative analysis: fsb1/four nodes, fsb2/two nodes. micro 5: fsb1r, 3 frag, rss micro 6: fsb2r, 2 frag, ess micro 7: fibroadipose tissue, multi frag, ess part three, \"prostate\", consists of a radical prostatectomy specimen (26g; 4.2 cm right to left, 3.4 cm anterior to posterior, and 5.5 cm superior to inferior. the right seminal vesicle measures 2.5 x 0.8 x 0.5 cm, the left seminal vesicle measures 2.6 x 0.9 x 0.6 cm; the right vas deferens measures 3.5 cm in length by 0.5 cm in diameter, and the left vas deferens measures 3.1 cm in length by 0.5 cm in diameter. the external surface of the prostate is smooth. there is no evidence of benign prostatic hypertrophy or masses in the prostatic parenchyma. micro 8: prostate, apex, 5 frag, ess micro 9: prostate, base, multi frag, ess micro 10: prostate, right and left seminal vesicles and vasa deferentia, 1 frag, rss micro 11-15: prostate, right anterior section, apex to base, 1 frag/cass, ess micro 16-20: prostate, right posterior, apex to base, 1 frag/cass, ess micro 21-25: prostate, left posterior apex to base, 1 frag/cass, ess micro 26-30: prostate, left anterior apex to base, 1 frag/cass, ess rdr reports to: doyle, christopher, joseph m.d. specimen type: lymph nodes regional resection additional specimen type: lymph nodes regional resection additional specimen type: prostate radical resection'"
            ],
            "application/vnd.google.colaboratory.intrinsic+json": {
              "type": "string"
            }
          },
          "metadata": {},
          "execution_count": 55
        }
      ]
    },
    {
      "cell_type": "code",
      "source": [
        "final_df[final_df['Report_Text'].str.contains('prostatectomy')]"
      ],
      "metadata": {
        "colab": {
          "base_uri": "https://localhost:8080/",
          "height": 424
        },
        "id": "42jui552AGuE",
        "outputId": "4a78d820-2517-4d69-b37f-c3155cdbac12"
      },
      "execution_count": null,
      "outputs": [
        {
          "output_type": "execute_result",
          "data": {
            "text/plain": [
              "            EMPI                                        Report_Text  \\\n",
              "0      100003956  accession number: s02k17074 report status: fin...   \n",
              "1      100006532  accession number: s9905462c report status: fin...   \n",
              "2      100006636  accession number: bs05e05528 report status: fi...   \n",
              "3      100001308  accession number: s9935420s report status: fin...   \n",
              "4      100095964  accession number: s04t31383 report status: fin...   \n",
              "...          ...                                                ...   \n",
              "16651  111108962  accession number: s17-42561 report status: fin...   \n",
              "16652  111110994  accession number: s15-80722 report status: fin...   \n",
              "16653  111085770  accession number: s19-42440 report status: fin...   \n",
              "16654  111142034  accession number: s19-56696 report status: fin...   \n",
              "16655  111061498  accession number: fs15d09187 report status: fi...   \n",
              "\n",
              "      hospital_rp       date  \n",
              "0             MGH 2002-03-29  \n",
              "1             BWH 1999-02-27  \n",
              "2             BWH 2005-02-10  \n",
              "3             BWH 1999-12-17  \n",
              "4             MGH 2004-06-02  \n",
              "...           ...        ...  \n",
              "16651         MGH 2017-06-23  \n",
              "16652         MGH 2015-12-15  \n",
              "16653         MGH 2019-06-18  \n",
              "16654         MGH 2019-08-14  \n",
              "16655          FH 2015-11-02  \n",
              "\n",
              "[16163 rows x 4 columns]"
            ],
            "text/html": [
              "\n",
              "  <div id=\"df-cc2b45ad-24ed-4aa7-96ad-9aea3c3fc0ae\">\n",
              "    <div class=\"colab-df-container\">\n",
              "      <div>\n",
              "<style scoped>\n",
              "    .dataframe tbody tr th:only-of-type {\n",
              "        vertical-align: middle;\n",
              "    }\n",
              "\n",
              "    .dataframe tbody tr th {\n",
              "        vertical-align: top;\n",
              "    }\n",
              "\n",
              "    .dataframe thead th {\n",
              "        text-align: right;\n",
              "    }\n",
              "</style>\n",
              "<table border=\"1\" class=\"dataframe\">\n",
              "  <thead>\n",
              "    <tr style=\"text-align: right;\">\n",
              "      <th></th>\n",
              "      <th>EMPI</th>\n",
              "      <th>Report_Text</th>\n",
              "      <th>hospital_rp</th>\n",
              "      <th>date</th>\n",
              "    </tr>\n",
              "  </thead>\n",
              "  <tbody>\n",
              "    <tr>\n",
              "      <th>0</th>\n",
              "      <td>100003956</td>\n",
              "      <td>accession number: s02k17074 report status: fin...</td>\n",
              "      <td>MGH</td>\n",
              "      <td>2002-03-29</td>\n",
              "    </tr>\n",
              "    <tr>\n",
              "      <th>1</th>\n",
              "      <td>100006532</td>\n",
              "      <td>accession number: s9905462c report status: fin...</td>\n",
              "      <td>BWH</td>\n",
              "      <td>1999-02-27</td>\n",
              "    </tr>\n",
              "    <tr>\n",
              "      <th>2</th>\n",
              "      <td>100006636</td>\n",
              "      <td>accession number: bs05e05528 report status: fi...</td>\n",
              "      <td>BWH</td>\n",
              "      <td>2005-02-10</td>\n",
              "    </tr>\n",
              "    <tr>\n",
              "      <th>3</th>\n",
              "      <td>100001308</td>\n",
              "      <td>accession number: s9935420s report status: fin...</td>\n",
              "      <td>BWH</td>\n",
              "      <td>1999-12-17</td>\n",
              "    </tr>\n",
              "    <tr>\n",
              "      <th>4</th>\n",
              "      <td>100095964</td>\n",
              "      <td>accession number: s04t31383 report status: fin...</td>\n",
              "      <td>MGH</td>\n",
              "      <td>2004-06-02</td>\n",
              "    </tr>\n",
              "    <tr>\n",
              "      <th>...</th>\n",
              "      <td>...</td>\n",
              "      <td>...</td>\n",
              "      <td>...</td>\n",
              "      <td>...</td>\n",
              "    </tr>\n",
              "    <tr>\n",
              "      <th>16651</th>\n",
              "      <td>111108962</td>\n",
              "      <td>accession number: s17-42561 report status: fin...</td>\n",
              "      <td>MGH</td>\n",
              "      <td>2017-06-23</td>\n",
              "    </tr>\n",
              "    <tr>\n",
              "      <th>16652</th>\n",
              "      <td>111110994</td>\n",
              "      <td>accession number: s15-80722 report status: fin...</td>\n",
              "      <td>MGH</td>\n",
              "      <td>2015-12-15</td>\n",
              "    </tr>\n",
              "    <tr>\n",
              "      <th>16653</th>\n",
              "      <td>111085770</td>\n",
              "      <td>accession number: s19-42440 report status: fin...</td>\n",
              "      <td>MGH</td>\n",
              "      <td>2019-06-18</td>\n",
              "    </tr>\n",
              "    <tr>\n",
              "      <th>16654</th>\n",
              "      <td>111142034</td>\n",
              "      <td>accession number: s19-56696 report status: fin...</td>\n",
              "      <td>MGH</td>\n",
              "      <td>2019-08-14</td>\n",
              "    </tr>\n",
              "    <tr>\n",
              "      <th>16655</th>\n",
              "      <td>111061498</td>\n",
              "      <td>accession number: fs15d09187 report status: fi...</td>\n",
              "      <td>FH</td>\n",
              "      <td>2015-11-02</td>\n",
              "    </tr>\n",
              "  </tbody>\n",
              "</table>\n",
              "<p>16163 rows × 4 columns</p>\n",
              "</div>\n",
              "      <button class=\"colab-df-convert\" onclick=\"convertToInteractive('df-cc2b45ad-24ed-4aa7-96ad-9aea3c3fc0ae')\"\n",
              "              title=\"Convert this dataframe to an interactive table.\"\n",
              "              style=\"display:none;\">\n",
              "        \n",
              "  <svg xmlns=\"http://www.w3.org/2000/svg\" height=\"24px\"viewBox=\"0 0 24 24\"\n",
              "       width=\"24px\">\n",
              "    <path d=\"M0 0h24v24H0V0z\" fill=\"none\"/>\n",
              "    <path d=\"M18.56 5.44l.94 2.06.94-2.06 2.06-.94-2.06-.94-.94-2.06-.94 2.06-2.06.94zm-11 1L8.5 8.5l.94-2.06 2.06-.94-2.06-.94L8.5 2.5l-.94 2.06-2.06.94zm10 10l.94 2.06.94-2.06 2.06-.94-2.06-.94-.94-2.06-.94 2.06-2.06.94z\"/><path d=\"M17.41 7.96l-1.37-1.37c-.4-.4-.92-.59-1.43-.59-.52 0-1.04.2-1.43.59L10.3 9.45l-7.72 7.72c-.78.78-.78 2.05 0 2.83L4 21.41c.39.39.9.59 1.41.59.51 0 1.02-.2 1.41-.59l7.78-7.78 2.81-2.81c.8-.78.8-2.07 0-2.86zM5.41 20L4 18.59l7.72-7.72 1.47 1.35L5.41 20z\"/>\n",
              "  </svg>\n",
              "      </button>\n",
              "      \n",
              "  <style>\n",
              "    .colab-df-container {\n",
              "      display:flex;\n",
              "      flex-wrap:wrap;\n",
              "      gap: 12px;\n",
              "    }\n",
              "\n",
              "    .colab-df-convert {\n",
              "      background-color: #E8F0FE;\n",
              "      border: none;\n",
              "      border-radius: 50%;\n",
              "      cursor: pointer;\n",
              "      display: none;\n",
              "      fill: #1967D2;\n",
              "      height: 32px;\n",
              "      padding: 0 0 0 0;\n",
              "      width: 32px;\n",
              "    }\n",
              "\n",
              "    .colab-df-convert:hover {\n",
              "      background-color: #E2EBFA;\n",
              "      box-shadow: 0px 1px 2px rgba(60, 64, 67, 0.3), 0px 1px 3px 1px rgba(60, 64, 67, 0.15);\n",
              "      fill: #174EA6;\n",
              "    }\n",
              "\n",
              "    [theme=dark] .colab-df-convert {\n",
              "      background-color: #3B4455;\n",
              "      fill: #D2E3FC;\n",
              "    }\n",
              "\n",
              "    [theme=dark] .colab-df-convert:hover {\n",
              "      background-color: #434B5C;\n",
              "      box-shadow: 0px 1px 3px 1px rgba(0, 0, 0, 0.15);\n",
              "      filter: drop-shadow(0px 1px 2px rgba(0, 0, 0, 0.3));\n",
              "      fill: #FFFFFF;\n",
              "    }\n",
              "  </style>\n",
              "\n",
              "      <script>\n",
              "        const buttonEl =\n",
              "          document.querySelector('#df-cc2b45ad-24ed-4aa7-96ad-9aea3c3fc0ae button.colab-df-convert');\n",
              "        buttonEl.style.display =\n",
              "          google.colab.kernel.accessAllowed ? 'block' : 'none';\n",
              "\n",
              "        async function convertToInteractive(key) {\n",
              "          const element = document.querySelector('#df-cc2b45ad-24ed-4aa7-96ad-9aea3c3fc0ae');\n",
              "          const dataTable =\n",
              "            await google.colab.kernel.invokeFunction('convertToInteractive',\n",
              "                                                     [key], {});\n",
              "          if (!dataTable) return;\n",
              "\n",
              "          const docLinkHtml = 'Like what you see? Visit the ' +\n",
              "            '<a target=\"_blank\" href=https://colab.research.google.com/notebooks/data_table.ipynb>data table notebook</a>'\n",
              "            + ' to learn more about interactive tables.';\n",
              "          element.innerHTML = '';\n",
              "          dataTable['output_type'] = 'display_data';\n",
              "          await google.colab.output.renderOutput(dataTable, element);\n",
              "          const docLink = document.createElement('div');\n",
              "          docLink.innerHTML = docLinkHtml;\n",
              "          element.appendChild(docLink);\n",
              "        }\n",
              "      </script>\n",
              "    </div>\n",
              "  </div>\n",
              "  "
            ]
          },
          "metadata": {},
          "execution_count": 56
        }
      ]
    },
    {
      "cell_type": "code",
      "source": [
        "final_df.shape"
      ],
      "metadata": {
        "id": "-GWC2c9bAIXz",
        "colab": {
          "base_uri": "https://localhost:8080/"
        },
        "outputId": "67d0180c-9e9a-43a5-c16f-202a2fa5e012"
      },
      "execution_count": null,
      "outputs": [
        {
          "output_type": "execute_result",
          "data": {
            "text/plain": [
              "(16656, 4)"
            ]
          },
          "metadata": {},
          "execution_count": 57
        }
      ]
    },
    {
      "cell_type": "code",
      "source": [
        "# PLND labeling\n",
        "searchforPLND = [\"lymph\"]\n",
        "lymph_df = final_df[final_df['Report_Text'].str.contains('|'.join(searchforPLND),case=False)]\n",
        "display(lymph_df.shape)\n",
        "display(lymph_df.Report_Text.iloc[0])\n",
        "display(lymph_df[~lymph_df['Report_Text'].str.contains(\"node\",case=False)].Report_Text.iloc[1])\n",
        "\n",
        "# remove duplicate patients based on non-unique EMPI\n",
        "lymph_df = lymph_df.drop_duplicates(subset=['EMPI'], keep=False)\n",
        "\n",
        "lymph_df"
      ],
      "metadata": {
        "colab": {
          "base_uri": "https://localhost:8080/",
          "height": 651
        },
        "id": "uVFx-3IkfdPl",
        "outputId": "0be74857-29c9-4f20-e4cf-e89c97211625"
      },
      "execution_count": null,
      "outputs": [
        {
          "output_type": "display_data",
          "data": {
            "text/plain": [
              "(14597, 4)"
            ]
          },
          "metadata": {}
        },
        {
          "output_type": "display_data",
          "data": {
            "text/plain": [
              "'accession number: s02k17074 report status: final type: surgical pathology pathology report: s02-k17074 operation date: 29 mar 02 accessioned on: 29 mar 02 at 12:56 clinical data: prostate cancer. =============================================================================== *** final diagnosis *** prostate, excision: adenocarcinoma, gleason score 3+4=7/10, confined to the prostate. see note. note: the tumor involves predominantly left and right posterior quadrants and focally left anterior quadrant. all resection margins are negative for tumor. tumor does not extend into periprostatic fat. perineural invasion is present. no lymphatic or vascular invasion is seen. the seminal vesicles and vasa deferentia are unremarkable. lymph nodes (left and right), excision: there is no evidence of malignancy in 2 lymph nodes. the frozen section diagnosis is confirmed. diagnosis by: robert b. colvin, m.d. signed on: 02 apr 02 at 18:18 =============================================================================== gross description: received fresh, labeled with the patient\\'s name, unit number, and \"prostate\" is a 59 gm, 5.0 x 4.5 x 4.5 cm radical prostatectomy specimen. the external surface is unremarkable. the seminal vesicle and the vas deferentia are separately submitted in the same container. there are three seminal vesicle fragments, measuring 2.0 x 1.0 x 0.6 cm, 2.0 x 0.7 x 0.5 cm, and 1.6 x 0.8 x 0.5 cm, which are grossly unremarkable. the vas deferentia measures 4.5 cm in length x 0.4 cm in diameter and 3.9 cm in length x 0.4 cm in diameter. the prostate glands are inked right side blue and left side black. the proximal and distal margins are taken en face and serially sectioned. the prostate is serially sectioned transversely to reveal a whorled, tan-white to focal yellow rubbery firm parenchyma. numerous tan-yellow well-defined nodules are noted ranging from minute to 0.5 cm, predominantly in the transitional zone. representative sections are submitted as follows: section codes: a,b: representative section of the seminal vesicle and left vas deferentia. c-e: proximal margin, radial. f,g: distal margin, radial. h-k: left anterior portion of prostate, from superior to inferior. l-o: left posterior portion, from superior to inferior. p-s: right posterior portion, from superior to inferior. t-w: right anterior portion, from superior to inferior. received fresh, labeled with the patient\\'s name, unit number, and \"lymph node right and left\" are 2 fragments of adipose tissue measuring 2.2 x 0.8 x 0.5 cm and 2.5 x 0.7 x 0.4 cm. the specimens are bisected and entirely submitted in cassettes x and y, respectively. resident: lan wang, md =============================================================================== source care unit: mgh-inpatient (flr.unknown) reports to: douglas middleton dahl, m.d. part a: lymph nodes (left and right), excision part b: prostate, excision'"
            ],
            "application/vnd.google.colaboratory.intrinsic+json": {
              "type": "string"
            }
          },
          "metadata": {}
        },
        {
          "output_type": "display_data",
          "data": {
            "text/plain": [
              "'accession number: bs08n45729 report status: final type: surgical pathology specimen type: prostate, radical resection procedure date: 10/16/2008 ordering provider: jim c hu m.d., m.p.h. case: bs-08-n45729 patient: scott loos resident: christian j. davidson, m.d. pathologist: lucian r chirieac, m.d. pathologic diagnosis: specimen designated \"prostate\": prostatic adenocarcinoma (2.4 cm in greatest dimension), gleason score 3+3 =6, present in both sides. no lymphovascular invasion is identified. tumor is not present in extraprostatic soft tissue. tumor is not present in the seminal vesicles. tumor is not present at the soft tissue resection margin. multiple levels examined. ajcc stage (6th edition): t2c nx mx. clinical data: history: none specified. operation: robotic prostatectomy. operative findings: none specified. clinical diagnosis: prostate ca. tissue submitted: a/1) prostate (s.s). gross description: specimen a, labeled \"#1. prostate\", is received fresh in a specimen container, clearly labeled with the patient\\'s name and medical record number. the specimen consists of a 45.1-gram, 4.2 x 4.1 x 3.1 cm, focally disrupted prostatectomy specimen. the right seminal vesicle is focally disrupted, and measures 2.7 x 2.1 x 0.6 cm. the right vas deferens measures 2.6 cm long x 0.5 cm in diameter. the left vas deferens measures 2.8 cm long x 0.5 cm in diameter. the left seminal vesicle measures 3.2 x 1.8 x 0.5 cm. the right side of the specimen is inked black, and the left side of the specimen is inked blue. the section is sliced from inferior to superior. the apex in slice #1 are unremarkable. slice #2 (1.0 x 0.7 x 0.3 cm) shows a tan very firm nodule, abutting the right lateral capsule. a second, tan/yellow irregular nodule measuring 1.0 x 0.8 x 0.3 cm abuts the right and left posterior capsule. slice #3 (1.7 x 1.0 x 0.3 cm) displays an irregular, subcapsular tan/white nodule abutting the right lateral capsule. in addition, there is a 0.5 x 0.3 x 0.2 cm tan/white firm, subcapsular region abutting the right posterior capsule. slice #4 (1.0 x 0.5 x 0.3 cm) has an irregular tan/white, subcapsular nodule abutting the right lateral capsule. in addition, an irregular tan, subcapsular nodule, measuring 0.2 x 0.2 x 0.2 cm, abuts the right and left posterior capsule. slice #5 (0.8 x 0.6 x 0.3 cm) has an irregular, tan nodule abutting the left lateral capsule, and a tan/white, irregular, firm subcapsular area (2.0 x 0.4 x 0.2 cm, abutting the right and left posterior capsule). slice #6 (1.0 x 0.5 x 0.2 cm) is a tan/white irregular, firm nodule 0.1 cm to the right lateral capsule. in addition, a 0.6 x 0.3 x 0.2 cm tan/white irregular subcapsular area is seen, 0.1 cm from the right lateral capsule. slices #3 and slices #5 are entirely submitted to the tissue bank. a small proximal fragment of the right seminal vesicle and left seminal vesicle is also representatively submitted to tissue bank. representative sections are submitted for histologic analysis. micro a1: right seminal vesicle, 1 frag, rss. micro a2: left seminal vesicle, 1 frag, rss. micro a3: right base, 3 frags, rss. micro a4: left base, 3 frags, rss. micro a5: right apex, 2 frags, rss. micro a6: left apex, 2 frags, rss. micro a7: slice #2, right anterior, 1 frag, rss. micro a8: slice #2, right posterior, 1 frag, rss. micro a9: slice #2, left anterior, 1 frag, rss. micro a10: slice #2, left posterior, 1 frag, rss. micro a11: slice #4, right anterior, 1 frag, rss. micro a12: slice #4, right posterior, 1 frag, rss. micro a13: slice #4, left anterior, 1 frag, rss. micro a14: slice #4, left posterior, 1 frag, rss. micro a15: slice #6, right anterior, 1 frag, ess. micro a16: right posterior, 1 frag, rss. micro a17: slice #6, left anterior, 1 frag, rss. micro a18: slice #6, left posterior, 1 frag, rss. micro a19: slice #7, right anterior, 1 frag, rss. micro a20: slice #7, right posterior, 1 frag, rss. micro a21: slice #7, left anterior, 1 frag, rss. micro a22: slice #7, left posterior, 1 frag, rss. cjd/mmm case number: 45729 by his/her signature below, the senior physician certifies that he/she personally conducted a microscopic examination (\"gross only\" exam if so stated) of the described specimen(s) and rendered or confirmed the diagnosis(es) related thereto. final diagnosis by lucian r chirieac m.d., electronically signed on 10/27/2008'"
            ],
            "application/vnd.google.colaboratory.intrinsic+json": {
              "type": "string"
            }
          },
          "metadata": {}
        },
        {
          "output_type": "execute_result",
          "data": {
            "text/plain": [
              "            EMPI                                        Report_Text  \\\n",
              "0      100003956  accession number: s02k17074 report status: fin...   \n",
              "1      100006532  accession number: s9905462c report status: fin...   \n",
              "2      100006636  accession number: bs05e05528 report status: fi...   \n",
              "3      100001308  accession number: s9935420s report status: fin...   \n",
              "5      100093404  accession number: s99t17262 report status: fin...   \n",
              "...          ...                                                ...   \n",
              "16651  111108962  accession number: s17-42561 report status: fin...   \n",
              "16652  111110994  accession number: s15-80722 report status: fin...   \n",
              "16653  111085770  accession number: s19-42440 report status: fin...   \n",
              "16654  111142034  accession number: s19-56696 report status: fin...   \n",
              "16655  111061498  accession number: fs15d09187 report status: fi...   \n",
              "\n",
              "      hospital_rp       date  \n",
              "0             MGH 2002-03-29  \n",
              "1             BWH 1999-02-27  \n",
              "2             BWH 2005-02-10  \n",
              "3             BWH 1999-12-17  \n",
              "5             MGH 1999-04-14  \n",
              "...           ...        ...  \n",
              "16651         MGH 2017-06-23  \n",
              "16652         MGH 2015-12-15  \n",
              "16653         MGH 2019-06-18  \n",
              "16654         MGH 2019-08-14  \n",
              "16655          FH 2015-11-02  \n",
              "\n",
              "[14502 rows x 4 columns]"
            ],
            "text/html": [
              "\n",
              "  <div id=\"df-f434fbad-b2f9-4025-8752-c208d7b17d9a\">\n",
              "    <div class=\"colab-df-container\">\n",
              "      <div>\n",
              "<style scoped>\n",
              "    .dataframe tbody tr th:only-of-type {\n",
              "        vertical-align: middle;\n",
              "    }\n",
              "\n",
              "    .dataframe tbody tr th {\n",
              "        vertical-align: top;\n",
              "    }\n",
              "\n",
              "    .dataframe thead th {\n",
              "        text-align: right;\n",
              "    }\n",
              "</style>\n",
              "<table border=\"1\" class=\"dataframe\">\n",
              "  <thead>\n",
              "    <tr style=\"text-align: right;\">\n",
              "      <th></th>\n",
              "      <th>EMPI</th>\n",
              "      <th>Report_Text</th>\n",
              "      <th>hospital_rp</th>\n",
              "      <th>date</th>\n",
              "    </tr>\n",
              "  </thead>\n",
              "  <tbody>\n",
              "    <tr>\n",
              "      <th>0</th>\n",
              "      <td>100003956</td>\n",
              "      <td>accession number: s02k17074 report status: fin...</td>\n",
              "      <td>MGH</td>\n",
              "      <td>2002-03-29</td>\n",
              "    </tr>\n",
              "    <tr>\n",
              "      <th>1</th>\n",
              "      <td>100006532</td>\n",
              "      <td>accession number: s9905462c report status: fin...</td>\n",
              "      <td>BWH</td>\n",
              "      <td>1999-02-27</td>\n",
              "    </tr>\n",
              "    <tr>\n",
              "      <th>2</th>\n",
              "      <td>100006636</td>\n",
              "      <td>accession number: bs05e05528 report status: fi...</td>\n",
              "      <td>BWH</td>\n",
              "      <td>2005-02-10</td>\n",
              "    </tr>\n",
              "    <tr>\n",
              "      <th>3</th>\n",
              "      <td>100001308</td>\n",
              "      <td>accession number: s9935420s report status: fin...</td>\n",
              "      <td>BWH</td>\n",
              "      <td>1999-12-17</td>\n",
              "    </tr>\n",
              "    <tr>\n",
              "      <th>5</th>\n",
              "      <td>100093404</td>\n",
              "      <td>accession number: s99t17262 report status: fin...</td>\n",
              "      <td>MGH</td>\n",
              "      <td>1999-04-14</td>\n",
              "    </tr>\n",
              "    <tr>\n",
              "      <th>...</th>\n",
              "      <td>...</td>\n",
              "      <td>...</td>\n",
              "      <td>...</td>\n",
              "      <td>...</td>\n",
              "    </tr>\n",
              "    <tr>\n",
              "      <th>16651</th>\n",
              "      <td>111108962</td>\n",
              "      <td>accession number: s17-42561 report status: fin...</td>\n",
              "      <td>MGH</td>\n",
              "      <td>2017-06-23</td>\n",
              "    </tr>\n",
              "    <tr>\n",
              "      <th>16652</th>\n",
              "      <td>111110994</td>\n",
              "      <td>accession number: s15-80722 report status: fin...</td>\n",
              "      <td>MGH</td>\n",
              "      <td>2015-12-15</td>\n",
              "    </tr>\n",
              "    <tr>\n",
              "      <th>16653</th>\n",
              "      <td>111085770</td>\n",
              "      <td>accession number: s19-42440 report status: fin...</td>\n",
              "      <td>MGH</td>\n",
              "      <td>2019-06-18</td>\n",
              "    </tr>\n",
              "    <tr>\n",
              "      <th>16654</th>\n",
              "      <td>111142034</td>\n",
              "      <td>accession number: s19-56696 report status: fin...</td>\n",
              "      <td>MGH</td>\n",
              "      <td>2019-08-14</td>\n",
              "    </tr>\n",
              "    <tr>\n",
              "      <th>16655</th>\n",
              "      <td>111061498</td>\n",
              "      <td>accession number: fs15d09187 report status: fi...</td>\n",
              "      <td>FH</td>\n",
              "      <td>2015-11-02</td>\n",
              "    </tr>\n",
              "  </tbody>\n",
              "</table>\n",
              "<p>14502 rows × 4 columns</p>\n",
              "</div>\n",
              "      <button class=\"colab-df-convert\" onclick=\"convertToInteractive('df-f434fbad-b2f9-4025-8752-c208d7b17d9a')\"\n",
              "              title=\"Convert this dataframe to an interactive table.\"\n",
              "              style=\"display:none;\">\n",
              "        \n",
              "  <svg xmlns=\"http://www.w3.org/2000/svg\" height=\"24px\"viewBox=\"0 0 24 24\"\n",
              "       width=\"24px\">\n",
              "    <path d=\"M0 0h24v24H0V0z\" fill=\"none\"/>\n",
              "    <path d=\"M18.56 5.44l.94 2.06.94-2.06 2.06-.94-2.06-.94-.94-2.06-.94 2.06-2.06.94zm-11 1L8.5 8.5l.94-2.06 2.06-.94-2.06-.94L8.5 2.5l-.94 2.06-2.06.94zm10 10l.94 2.06.94-2.06 2.06-.94-2.06-.94-.94-2.06-.94 2.06-2.06.94z\"/><path d=\"M17.41 7.96l-1.37-1.37c-.4-.4-.92-.59-1.43-.59-.52 0-1.04.2-1.43.59L10.3 9.45l-7.72 7.72c-.78.78-.78 2.05 0 2.83L4 21.41c.39.39.9.59 1.41.59.51 0 1.02-.2 1.41-.59l7.78-7.78 2.81-2.81c.8-.78.8-2.07 0-2.86zM5.41 20L4 18.59l7.72-7.72 1.47 1.35L5.41 20z\"/>\n",
              "  </svg>\n",
              "      </button>\n",
              "      \n",
              "  <style>\n",
              "    .colab-df-container {\n",
              "      display:flex;\n",
              "      flex-wrap:wrap;\n",
              "      gap: 12px;\n",
              "    }\n",
              "\n",
              "    .colab-df-convert {\n",
              "      background-color: #E8F0FE;\n",
              "      border: none;\n",
              "      border-radius: 50%;\n",
              "      cursor: pointer;\n",
              "      display: none;\n",
              "      fill: #1967D2;\n",
              "      height: 32px;\n",
              "      padding: 0 0 0 0;\n",
              "      width: 32px;\n",
              "    }\n",
              "\n",
              "    .colab-df-convert:hover {\n",
              "      background-color: #E2EBFA;\n",
              "      box-shadow: 0px 1px 2px rgba(60, 64, 67, 0.3), 0px 1px 3px 1px rgba(60, 64, 67, 0.15);\n",
              "      fill: #174EA6;\n",
              "    }\n",
              "\n",
              "    [theme=dark] .colab-df-convert {\n",
              "      background-color: #3B4455;\n",
              "      fill: #D2E3FC;\n",
              "    }\n",
              "\n",
              "    [theme=dark] .colab-df-convert:hover {\n",
              "      background-color: #434B5C;\n",
              "      box-shadow: 0px 1px 3px 1px rgba(0, 0, 0, 0.15);\n",
              "      filter: drop-shadow(0px 1px 2px rgba(0, 0, 0, 0.3));\n",
              "      fill: #FFFFFF;\n",
              "    }\n",
              "  </style>\n",
              "\n",
              "      <script>\n",
              "        const buttonEl =\n",
              "          document.querySelector('#df-f434fbad-b2f9-4025-8752-c208d7b17d9a button.colab-df-convert');\n",
              "        buttonEl.style.display =\n",
              "          google.colab.kernel.accessAllowed ? 'block' : 'none';\n",
              "\n",
              "        async function convertToInteractive(key) {\n",
              "          const element = document.querySelector('#df-f434fbad-b2f9-4025-8752-c208d7b17d9a');\n",
              "          const dataTable =\n",
              "            await google.colab.kernel.invokeFunction('convertToInteractive',\n",
              "                                                     [key], {});\n",
              "          if (!dataTable) return;\n",
              "\n",
              "          const docLinkHtml = 'Like what you see? Visit the ' +\n",
              "            '<a target=\"_blank\" href=https://colab.research.google.com/notebooks/data_table.ipynb>data table notebook</a>'\n",
              "            + ' to learn more about interactive tables.';\n",
              "          element.innerHTML = '';\n",
              "          dataTable['output_type'] = 'display_data';\n",
              "          await google.colab.output.renderOutput(dataTable, element);\n",
              "          const docLink = document.createElement('div');\n",
              "          docLink.innerHTML = docLinkHtml;\n",
              "          element.appendChild(docLink);\n",
              "        }\n",
              "      </script>\n",
              "    </div>\n",
              "  </div>\n",
              "  "
            ]
          },
          "metadata": {},
          "execution_count": 190
        }
      ]
    },
    {
      "cell_type": "code",
      "source": [
        "# PLND labeling - screening for false negatives (i.e. we label as PLND=0 when in fact they have PLND=1)\n",
        "searchforPLND = [\"lymph\"]\n",
        "noPLND_df = final_df[~final_df['Report_Text'].str.contains('|'.join(searchforPLND))]\n",
        "display(noPLND_df[noPLND_df['Report_Text'].str.contains(\"malignan\",case=False)].shape)\n",
        "display(noPLND_df[noPLND_df['Report_Text'].str.contains(\"malignan\",case=False)].Report_Text.iloc[1])\n",
        "\n",
        "noPLNDyesNODE_df = noPLND_df[noPLND_df['Report_Text'].str.contains(\"node\",case=False)]\n",
        "display(noPLNDyesNODE_df[noPLNDyesNODE_df['Report_Text'].str.contains(\"obturator node\",case=False)].shape)\n"
      ],
      "metadata": {
        "colab": {
          "base_uri": "https://localhost:8080/",
          "height": 157
        },
        "id": "uPBGAD7HhiWg",
        "outputId": "a7667043-e585-4f50-cf39-14e9995cad30"
      },
      "execution_count": null,
      "outputs": [
        {
          "output_type": "display_data",
          "data": {
            "text/plain": [
              "(512, 4)"
            ]
          },
          "metadata": {}
        },
        {
          "output_type": "display_data",
          "data": {
            "text/plain": [
              "'accession number: s03m64703 report status: final type: surgical pathology pathology report: s03-m64703 operation date: 17 nov 03 accessioned on: 17 nov 03 at 16:42 clinical data: 59 year old male with prostate ca. =============================================================================== *** final diagnosis *** prostate gland, radical prostatectomy: prostatic adenocarcinoma, gleason score 3+3= 6/10, focally involving the right anterior quadrant and right posterior quadrant. extraprostatic extension is not present. perineural invasion is not seen. the seminal vesicles are unremarkable. all resection margins are negative. ajcc tnm pathologic stage (6th edition):pt2bnxmx. bladder (neck), excision: smooth muscle tissue. there is no evidence of malignancy. diagnosis by: chin-lee wu, md, phd signed on: 21 nov 03 at 17:49 =============================================================================== gross description: received fresh, labeled with the patient\\'s name, unit number, and \"prostate\", is a 32 gram, 5.0 x 3.5 x 2.5 cm prostate gland with attached seminal vesicles and vasa deferentia. the external surface is irregular. the left half of the prostate is marked with black inked and the right half is marked with blue ink. the left seminal vesicle measures 1.4 x 1.2 x 0.5 cm and is grossly unremarkable. the left vas is 1.3 cm in length and 0.5 cm in diameter. the right seminal vesicle is 1.2 x 1.1 x 0.6 cm and is grossly unremarkable. the right vas is 1.4 x 0.5 cm. the proximal and distal margins are taken en face and serially sectioned. the specimen is is serially sectioned transversely from the apex to the base margin, after being divided into quadrants. the parenchyma is diffusely rubbery and tan with a few focal cystic changes. section code: a-b: proximal margin. c-d: distal margin. e-h: right posterior portion from superior to inferior (base margin to apex). i-l: left posterior from superior to inferior (base margin to apex). m-p: right anterior portion from superior to inferior (base to apex. q-t: left anterior portion from superior to inferior (based apex). u: left seminal vesicle and vas. v: right seminal vesicle and vas. received fresh, labeled with the patient\\'s name, unit number, and \"bladder neck, are two rubbery and crusted tan irregular portions of tissue, measuring 0.8 x 0.6 x 0.4 cm and 1.9 x 1.2 x 0.5 cm. the specimen is submitted as w. gross description by: tim j. robinson resident: aliyah rahemtullah, md =============================================================================== source care unit: mgh-inpatient (flr.unknown) reports to: francis james mcgovern, m.d. part a: prostate, prostatectomy part b: bladder(neck),excision'"
            ],
            "application/vnd.google.colaboratory.intrinsic+json": {
              "type": "string"
            }
          },
          "metadata": {}
        },
        {
          "output_type": "display_data",
          "data": {
            "text/plain": [
              "(11, 4)"
            ]
          },
          "metadata": {}
        }
      ]
    },
    {
      "cell_type": "code",
      "source": [
        "# Because AJCC staging (N0, NX, N1) could be embedded within accession number of reports, \n",
        "# remove accession number from pathology reports\n",
        "\n",
        "lymph_df[\"Report_Text_noAN\"] = lymph_df[\"Report_Text\"].str.slice(28,None,1)\n",
        "lymph_df.Report_Text_noAN"
      ],
      "metadata": {
        "id": "wA5mBdvhc89E",
        "colab": {
          "base_uri": "https://localhost:8080/"
        },
        "outputId": "3e0ba559-2a04-49e9-9773-775a2c600322"
      },
      "execution_count": null,
      "outputs": [
        {
          "output_type": "execute_result",
          "data": {
            "text/plain": [
              "0        report status: final type: surgical pathology ...\n",
              "1        report status: final type: surgical pathology ...\n",
              "2         report status: final type: surgical pathology...\n",
              "3        report status: final type: surgical pathology ...\n",
              "5        report status: final type: surgical pathology ...\n",
              "                               ...                        \n",
              "16651    report status: final type: surgical pathology ...\n",
              "16652    report status: final type: surgical pathology ...\n",
              "16653    report status: final type: surgical pathology ...\n",
              "16654    report status: final type: surgical pathology ...\n",
              "16655     report status: final type: surgical pathology...\n",
              "Name: Report_Text_noAN, Length: 14502, dtype: object"
            ]
          },
          "metadata": {},
          "execution_count": 192
        }
      ]
    },
    {
      "cell_type": "code",
      "source": [
        "lymph_df['LN_meta'] = pd.NaT\n",
        "lymph_df['n0'] = pd.NaT\n",
        "lymph_df['n1'] = pd.NaT\n",
        "lymph_df['n2'] = pd.NaT\n",
        "lymph_df['n3'] = pd.NaT\n",
        "\n",
        "# identify patients with AJCC staging nx\n",
        "searchfornx = [\"nx \", \"nxm\", \"nx\\.\", \"nx,\", \"nx:\", \"nx\\(\", \"nx\\)\"];\n",
        "nx_df = lymph_df[lymph_df['Report_Text_noAN'].str.contains('|'.join(searchfornx))]\n",
        "display(\"nx\", nx_df.shape)\n",
        "\n",
        "# remove patients who have PLND 0\n",
        "lymph_df = pd.concat([lymph_df, nx_df]).drop_duplicates(keep=False)\n",
        "display(\"lymph_df shape after removing patients with NX\", lymph_df.shape)\n",
        "\n",
        "# identify patients with AJCC staging n1, n2, n3\n",
        "searchforn0 = [\"n0 \", \"n0m\", \"n0\\.\", \"n0,\", \"n0:\", \"n0\\(\", \"n0\\)\"]\n",
        "n0_df = lymph_df[lymph_df['Report_Text_noAN'].str.contains('|'.join(searchforn0))]\n",
        "display(\"n0\", n0_df.shape)\n",
        "\n",
        "searchforn1 = [\"n1 \", \"n1m\", \"n1\\.\", \"n1,\"]\n",
        "n1_df = lymph_df[lymph_df['Report_Text_noAN'].str.contains('|'.join(searchforn1))]\n",
        "display(\"n1\", n1_df.shape)\n",
        "\n",
        "searchforn2 = [\"n2 \", \"n2m\", \"n2\\.\", \"n2,\", \"n2:\", \"n2\\(\", \"n2\\)\"];\n",
        "n2_df = lymph_df[lymph_df['Report_Text_noAN'].str.contains('|'.join(searchforn2))]\n",
        "display(\"n2\", n2_df.shape)\n",
        "\n",
        "searchforn3 = [\"n3 \", \"n3m\", \"n3\\.\", \"n3,\", \"n3:\", \"n3\\(\", \"n3\\)\"];\n",
        "n3_df = lymph_df[lymph_df['Report_Text_noAN'].str.contains('|'.join(searchforn3))]\n",
        "display(\"n3\", n3_df.shape)\n",
        "\n",
        "# check overlap\n",
        "n0n1 = n1_df[n1_df['Report_Text_noAN'].str.contains('|'.join(searchforn0))]\n",
        "display(\"n0n1\", n0n1.shape)\n",
        "n0n2 = n2_df[n2_df['Report_Text_noAN'].str.contains('|'.join(searchforn0))]\n",
        "display(\"n0n2\", n0n2.shape)\n",
        "n0n3 = n3_df[n3_df['Report_Text_noAN'].str.contains('|'.join(searchforn0))]\n",
        "display(\"n0n3\", n0n3.shape)\n",
        "n1n2 = n2_df[n2_df['Report_Text_noAN'].str.contains('|'.join(searchforn1))]\n",
        "display(\"n1n2\", n1n2.shape)\n",
        "n1n3 = n3_df[n3_df['Report_Text_noAN'].str.contains('|'.join(searchforn1))]\n",
        "display(\"n1n3\", n1n3.shape)\n",
        "n2n3 = n3_df[n3_df['Report_Text_noAN'].str.contains('|'.join(searchforn2))]\n",
        "display(\"n2n3\", n2n3.shape)\n",
        "\n",
        "# if there is multiple AJCC staging for a single patient, class that patient as \n",
        "# having no staging information\n",
        "n0_df = pd.concat([n0_df, n0n1]).drop_duplicates(keep=False); #display(n0_df.shape)\n",
        "n0_df = pd.concat([n0_df, n0n2]).drop_duplicates(keep=False); #display(n0_df.shape)\n",
        "n0_df = pd.concat([n0_df, n0n3]).drop_duplicates(keep=False); #display(n0_df.shape)\n",
        "\n",
        "n1_df = pd.concat([n1_df, n0n1]).drop_duplicates(keep=False); #display(n1_df.shape)\n",
        "n1_df = pd.concat([n1_df, n1n2]).drop_duplicates(keep=False); #display(n1_df.shape)\n",
        "n1_df = pd.concat([n1_df, n1n3]).drop_duplicates(keep=False); #display(n1_df.shape)\n",
        "\n",
        "n2_df = pd.concat([n2_df, n0n2]).drop_duplicates(keep=False); #display(n2_df.shape)\n",
        "n2_df = pd.concat([n2_df, n1n2]).drop_duplicates(keep=False); #display(n2_df.shape)\n",
        "n2_df = pd.concat([n2_df, n2n3]).drop_duplicates(keep=False); #display(n2_df.shape)\n",
        "\n",
        "n3_df = pd.concat([n3_df, n0n3]).drop_duplicates(keep=False); #display(n3_df.shape)\n",
        "n3_df = pd.concat([n3_df, n1n3]).drop_duplicates(keep=False); #display(n3_df.shape)\n",
        "n3_df = pd.concat([n3_df, n2n3]).drop_duplicates(keep=False); #display(n3_df.shape)\n",
        "\n",
        "display(\"FINAL DF SHAPES\", \"n0\", n0_df.shape, \"n1\", n1_df.shape,\n",
        "        \"n2\", n2_df.shape, \"n3\", n3_df.shape)\n",
        "\n",
        "# remove patients who have no staging\n",
        "lymph_df_nostage = pd.concat([lymph_df, n0_df, n1_df, n2_df, n3_df]).drop_duplicates(keep=False)\n",
        "# combine patients with staging\n",
        "lymph_df_withstage = pd.concat([n0_df, n1_df, n2_df])\n",
        "display(lymph_df_nostage.shape, lymph_df_withstage.shape)\n",
        "\n",
        "lymph_df_withstage.loc[lymph_df_withstage.EMPI.isin(n0_df.EMPI), \"LN_meta\"] = 0\n",
        "lymph_df_withstage.loc[lymph_df_withstage.EMPI.isin(n0_df.EMPI), \"n0\"] = 1\n",
        "lymph_df_withstage.loc[lymph_df_withstage.EMPI.isin(n0_df.EMPI), \"n1\"] = 0\n",
        "lymph_df_withstage.loc[lymph_df_withstage.EMPI.isin(n0_df.EMPI), \"n2\"] = 0\n",
        "lymph_df_withstage.loc[lymph_df_withstage.EMPI.isin(n0_df.EMPI), \"n3\"] = 0\n",
        "\n",
        "lymph_df_withstage.loc[lymph_df_withstage.EMPI.isin(n1_df.EMPI), \"LN_meta\"] = 1\n",
        "lymph_df_withstage.loc[lymph_df_withstage.EMPI.isin(n1_df.EMPI), \"n0\"] = 0\n",
        "lymph_df_withstage.loc[lymph_df_withstage.EMPI.isin(n1_df.EMPI), \"n1\"] = 1\n",
        "lymph_df_withstage.loc[lymph_df_withstage.EMPI.isin(n1_df.EMPI), \"n2\"] = 0\n",
        "lymph_df_withstage.loc[lymph_df_withstage.EMPI.isin(n1_df.EMPI), \"n3\"] = 0\n",
        "\n",
        "lymph_df_withstage.loc[lymph_df_withstage.EMPI.isin(n2_df.EMPI), \"LN_meta\"] = 1\n",
        "lymph_df_withstage.loc[lymph_df_withstage.EMPI.isin(n2_df.EMPI), \"n0\"] = 0\n",
        "lymph_df_withstage.loc[lymph_df_withstage.EMPI.isin(n2_df.EMPI), \"n1\"] = 0\n",
        "lymph_df_withstage.loc[lymph_df_withstage.EMPI.isin(n2_df.EMPI), \"n2\"] = 1\n",
        "lymph_df_withstage.loc[lymph_df_withstage.EMPI.isin(n2_df.EMPI), \"n3\"] = 0\n",
        "\n",
        "lymph_df_withstage.loc[lymph_df_withstage.EMPI.isin(n3_df.EMPI), \"LN_meta\"] = 1\n",
        "lymph_df_withstage.loc[lymph_df_withstage.EMPI.isin(n3_df.EMPI), \"n0\"] = 0\n",
        "lymph_df_withstage.loc[lymph_df_withstage.EMPI.isin(n3_df.EMPI), \"n1\"] = 0\n",
        "lymph_df_withstage.loc[lymph_df_withstage.EMPI.isin(n3_df.EMPI), \"n2\"] = 0\n",
        "lymph_df_withstage.loc[lymph_df_withstage.EMPI.isin(n3_df.EMPI), \"n3\"] = 1\n",
        "\n",
        "display(lymph_df)\n",
        "display(lymph_df_nostage)\n",
        "display(lymph_df_withstage)"
      ],
      "metadata": {
        "colab": {
          "base_uri": "https://localhost:8080/",
          "height": 1000
        },
        "id": "PtvqahiFozy8",
        "outputId": "ba1585a7-1194-4e14-ceb6-3e40c29c7f64"
      },
      "execution_count": null,
      "outputs": [
        {
          "output_type": "display_data",
          "data": {
            "text/plain": [
              "'nx'"
            ],
            "application/vnd.google.colaboratory.intrinsic+json": {
              "type": "string"
            }
          },
          "metadata": {}
        },
        {
          "output_type": "display_data",
          "data": {
            "text/plain": [
              "(0, 10)"
            ]
          },
          "metadata": {}
        },
        {
          "output_type": "display_data",
          "data": {
            "text/plain": [
              "'lymph_df shape after removing patients with NX'"
            ],
            "application/vnd.google.colaboratory.intrinsic+json": {
              "type": "string"
            }
          },
          "metadata": {}
        },
        {
          "output_type": "display_data",
          "data": {
            "text/plain": [
              "(12167, 10)"
            ]
          },
          "metadata": {}
        },
        {
          "output_type": "display_data",
          "data": {
            "text/plain": [
              "'n0'"
            ],
            "application/vnd.google.colaboratory.intrinsic+json": {
              "type": "string"
            }
          },
          "metadata": {}
        },
        {
          "output_type": "display_data",
          "data": {
            "text/plain": [
              "(7466, 10)"
            ]
          },
          "metadata": {}
        },
        {
          "output_type": "display_data",
          "data": {
            "text/plain": [
              "'n1'"
            ],
            "application/vnd.google.colaboratory.intrinsic+json": {
              "type": "string"
            }
          },
          "metadata": {}
        },
        {
          "output_type": "display_data",
          "data": {
            "text/plain": [
              "(270, 10)"
            ]
          },
          "metadata": {}
        },
        {
          "output_type": "display_data",
          "data": {
            "text/plain": [
              "'n2'"
            ],
            "application/vnd.google.colaboratory.intrinsic+json": {
              "type": "string"
            }
          },
          "metadata": {}
        },
        {
          "output_type": "display_data",
          "data": {
            "text/plain": [
              "(73, 10)"
            ]
          },
          "metadata": {}
        },
        {
          "output_type": "display_data",
          "data": {
            "text/plain": [
              "'n3'"
            ],
            "application/vnd.google.colaboratory.intrinsic+json": {
              "type": "string"
            }
          },
          "metadata": {}
        },
        {
          "output_type": "display_data",
          "data": {
            "text/plain": [
              "(11, 10)"
            ]
          },
          "metadata": {}
        },
        {
          "output_type": "display_data",
          "data": {
            "text/plain": [
              "'n0n1'"
            ],
            "application/vnd.google.colaboratory.intrinsic+json": {
              "type": "string"
            }
          },
          "metadata": {}
        },
        {
          "output_type": "display_data",
          "data": {
            "text/plain": [
              "(27, 10)"
            ]
          },
          "metadata": {}
        },
        {
          "output_type": "display_data",
          "data": {
            "text/plain": [
              "'n0n2'"
            ],
            "application/vnd.google.colaboratory.intrinsic+json": {
              "type": "string"
            }
          },
          "metadata": {}
        },
        {
          "output_type": "display_data",
          "data": {
            "text/plain": [
              "(29, 10)"
            ]
          },
          "metadata": {}
        },
        {
          "output_type": "display_data",
          "data": {
            "text/plain": [
              "'n0n3'"
            ],
            "application/vnd.google.colaboratory.intrinsic+json": {
              "type": "string"
            }
          },
          "metadata": {}
        },
        {
          "output_type": "display_data",
          "data": {
            "text/plain": [
              "(3, 10)"
            ]
          },
          "metadata": {}
        },
        {
          "output_type": "display_data",
          "data": {
            "text/plain": [
              "'n1n2'"
            ],
            "application/vnd.google.colaboratory.intrinsic+json": {
              "type": "string"
            }
          },
          "metadata": {}
        },
        {
          "output_type": "display_data",
          "data": {
            "text/plain": [
              "(2, 10)"
            ]
          },
          "metadata": {}
        },
        {
          "output_type": "display_data",
          "data": {
            "text/plain": [
              "'n1n3'"
            ],
            "application/vnd.google.colaboratory.intrinsic+json": {
              "type": "string"
            }
          },
          "metadata": {}
        },
        {
          "output_type": "display_data",
          "data": {
            "text/plain": [
              "(0, 10)"
            ]
          },
          "metadata": {}
        },
        {
          "output_type": "display_data",
          "data": {
            "text/plain": [
              "'n2n3'"
            ],
            "application/vnd.google.colaboratory.intrinsic+json": {
              "type": "string"
            }
          },
          "metadata": {}
        },
        {
          "output_type": "display_data",
          "data": {
            "text/plain": [
              "(2, 10)"
            ]
          },
          "metadata": {}
        },
        {
          "output_type": "display_data",
          "data": {
            "text/plain": [
              "'FINAL DF SHAPES'"
            ],
            "application/vnd.google.colaboratory.intrinsic+json": {
              "type": "string"
            }
          },
          "metadata": {}
        },
        {
          "output_type": "display_data",
          "data": {
            "text/plain": [
              "'n0'"
            ],
            "application/vnd.google.colaboratory.intrinsic+json": {
              "type": "string"
            }
          },
          "metadata": {}
        },
        {
          "output_type": "display_data",
          "data": {
            "text/plain": [
              "(7411, 10)"
            ]
          },
          "metadata": {}
        },
        {
          "output_type": "display_data",
          "data": {
            "text/plain": [
              "'n1'"
            ],
            "application/vnd.google.colaboratory.intrinsic+json": {
              "type": "string"
            }
          },
          "metadata": {}
        },
        {
          "output_type": "display_data",
          "data": {
            "text/plain": [
              "(243, 10)"
            ]
          },
          "metadata": {}
        },
        {
          "output_type": "display_data",
          "data": {
            "text/plain": [
              "'n2'"
            ],
            "application/vnd.google.colaboratory.intrinsic+json": {
              "type": "string"
            }
          },
          "metadata": {}
        },
        {
          "output_type": "display_data",
          "data": {
            "text/plain": [
              "(44, 10)"
            ]
          },
          "metadata": {}
        },
        {
          "output_type": "display_data",
          "data": {
            "text/plain": [
              "'n3'"
            ],
            "application/vnd.google.colaboratory.intrinsic+json": {
              "type": "string"
            }
          },
          "metadata": {}
        },
        {
          "output_type": "display_data",
          "data": {
            "text/plain": [
              "(8, 10)"
            ]
          },
          "metadata": {}
        },
        {
          "output_type": "display_data",
          "data": {
            "text/plain": [
              "(4465, 10)"
            ]
          },
          "metadata": {}
        },
        {
          "output_type": "display_data",
          "data": {
            "text/plain": [
              "(7698, 10)"
            ]
          },
          "metadata": {}
        },
        {
          "output_type": "display_data",
          "data": {
            "text/plain": [
              "            EMPI                                        Report_Text  \\\n",
              "0      100003956  accession number: s02k17074 report status: fin...   \n",
              "1      100006532  accession number: s9905462c report status: fin...   \n",
              "2      100006636  accession number: bs05e05528 report status: fi...   \n",
              "3      100001308  accession number: s9935420s report status: fin...   \n",
              "5      100093404  accession number: s99t17262 report status: fin...   \n",
              "...          ...                                                ...   \n",
              "16649  111104018  accession number: s15-66576 report status: fin...   \n",
              "16650  111106474  accession number: ms06t48348 report status: fi...   \n",
              "16651  111108962  accession number: s17-42561 report status: fin...   \n",
              "16653  111085770  accession number: s19-42440 report status: fin...   \n",
              "16655  111061498  accession number: fs15d09187 report status: fi...   \n",
              "\n",
              "      hospital_rp       date  \\\n",
              "0             MGH 2002-03-29   \n",
              "1             BWH 1999-02-27   \n",
              "2             BWH 2005-02-10   \n",
              "3             BWH 1999-12-17   \n",
              "5             MGH 1999-04-14   \n",
              "...           ...        ...   \n",
              "16649         MGH 2015-10-19   \n",
              "16650         MGH 2006-09-06   \n",
              "16651         MGH 2017-06-23   \n",
              "16653         MGH 2019-06-18   \n",
              "16655          FH 2015-11-02   \n",
              "\n",
              "                                        Report_Text_noAN LN_meta  n0  n1  n2  \\\n",
              "0      report status: final type: surgical pathology ...     NaT NaT NaT NaT   \n",
              "1      report status: final type: surgical pathology ...     NaT NaT NaT NaT   \n",
              "2       report status: final type: surgical pathology...     NaT NaT NaT NaT   \n",
              "3      report status: final type: surgical pathology ...     NaT NaT NaT NaT   \n",
              "5      report status: final type: surgical pathology ...     NaT NaT NaT NaT   \n",
              "...                                                  ...     ...  ..  ..  ..   \n",
              "16649  report status: final type: surgical pathology ...     NaT NaT NaT NaT   \n",
              "16650   report status: final type: surgical pathology...     NaT NaT NaT NaT   \n",
              "16651  report status: final type: surgical pathology ...     NaT NaT NaT NaT   \n",
              "16653  report status: final type: surgical pathology ...     NaT NaT NaT NaT   \n",
              "16655   report status: final type: surgical pathology...     NaT NaT NaT NaT   \n",
              "\n",
              "       n3  \n",
              "0     NaT  \n",
              "1     NaT  \n",
              "2     NaT  \n",
              "3     NaT  \n",
              "5     NaT  \n",
              "...    ..  \n",
              "16649 NaT  \n",
              "16650 NaT  \n",
              "16651 NaT  \n",
              "16653 NaT  \n",
              "16655 NaT  \n",
              "\n",
              "[12167 rows x 10 columns]"
            ],
            "text/html": [
              "\n",
              "  <div id=\"df-525bad86-0a29-473c-894d-aa72fb6bbde9\">\n",
              "    <div class=\"colab-df-container\">\n",
              "      <div>\n",
              "<style scoped>\n",
              "    .dataframe tbody tr th:only-of-type {\n",
              "        vertical-align: middle;\n",
              "    }\n",
              "\n",
              "    .dataframe tbody tr th {\n",
              "        vertical-align: top;\n",
              "    }\n",
              "\n",
              "    .dataframe thead th {\n",
              "        text-align: right;\n",
              "    }\n",
              "</style>\n",
              "<table border=\"1\" class=\"dataframe\">\n",
              "  <thead>\n",
              "    <tr style=\"text-align: right;\">\n",
              "      <th></th>\n",
              "      <th>EMPI</th>\n",
              "      <th>Report_Text</th>\n",
              "      <th>hospital_rp</th>\n",
              "      <th>date</th>\n",
              "      <th>Report_Text_noAN</th>\n",
              "      <th>LN_meta</th>\n",
              "      <th>n0</th>\n",
              "      <th>n1</th>\n",
              "      <th>n2</th>\n",
              "      <th>n3</th>\n",
              "    </tr>\n",
              "  </thead>\n",
              "  <tbody>\n",
              "    <tr>\n",
              "      <th>0</th>\n",
              "      <td>100003956</td>\n",
              "      <td>accession number: s02k17074 report status: fin...</td>\n",
              "      <td>MGH</td>\n",
              "      <td>2002-03-29</td>\n",
              "      <td>report status: final type: surgical pathology ...</td>\n",
              "      <td>NaT</td>\n",
              "      <td>NaT</td>\n",
              "      <td>NaT</td>\n",
              "      <td>NaT</td>\n",
              "      <td>NaT</td>\n",
              "    </tr>\n",
              "    <tr>\n",
              "      <th>1</th>\n",
              "      <td>100006532</td>\n",
              "      <td>accession number: s9905462c report status: fin...</td>\n",
              "      <td>BWH</td>\n",
              "      <td>1999-02-27</td>\n",
              "      <td>report status: final type: surgical pathology ...</td>\n",
              "      <td>NaT</td>\n",
              "      <td>NaT</td>\n",
              "      <td>NaT</td>\n",
              "      <td>NaT</td>\n",
              "      <td>NaT</td>\n",
              "    </tr>\n",
              "    <tr>\n",
              "      <th>2</th>\n",
              "      <td>100006636</td>\n",
              "      <td>accession number: bs05e05528 report status: fi...</td>\n",
              "      <td>BWH</td>\n",
              "      <td>2005-02-10</td>\n",
              "      <td>report status: final type: surgical pathology...</td>\n",
              "      <td>NaT</td>\n",
              "      <td>NaT</td>\n",
              "      <td>NaT</td>\n",
              "      <td>NaT</td>\n",
              "      <td>NaT</td>\n",
              "    </tr>\n",
              "    <tr>\n",
              "      <th>3</th>\n",
              "      <td>100001308</td>\n",
              "      <td>accession number: s9935420s report status: fin...</td>\n",
              "      <td>BWH</td>\n",
              "      <td>1999-12-17</td>\n",
              "      <td>report status: final type: surgical pathology ...</td>\n",
              "      <td>NaT</td>\n",
              "      <td>NaT</td>\n",
              "      <td>NaT</td>\n",
              "      <td>NaT</td>\n",
              "      <td>NaT</td>\n",
              "    </tr>\n",
              "    <tr>\n",
              "      <th>5</th>\n",
              "      <td>100093404</td>\n",
              "      <td>accession number: s99t17262 report status: fin...</td>\n",
              "      <td>MGH</td>\n",
              "      <td>1999-04-14</td>\n",
              "      <td>report status: final type: surgical pathology ...</td>\n",
              "      <td>NaT</td>\n",
              "      <td>NaT</td>\n",
              "      <td>NaT</td>\n",
              "      <td>NaT</td>\n",
              "      <td>NaT</td>\n",
              "    </tr>\n",
              "    <tr>\n",
              "      <th>...</th>\n",
              "      <td>...</td>\n",
              "      <td>...</td>\n",
              "      <td>...</td>\n",
              "      <td>...</td>\n",
              "      <td>...</td>\n",
              "      <td>...</td>\n",
              "      <td>...</td>\n",
              "      <td>...</td>\n",
              "      <td>...</td>\n",
              "      <td>...</td>\n",
              "    </tr>\n",
              "    <tr>\n",
              "      <th>16649</th>\n",
              "      <td>111104018</td>\n",
              "      <td>accession number: s15-66576 report status: fin...</td>\n",
              "      <td>MGH</td>\n",
              "      <td>2015-10-19</td>\n",
              "      <td>report status: final type: surgical pathology ...</td>\n",
              "      <td>NaT</td>\n",
              "      <td>NaT</td>\n",
              "      <td>NaT</td>\n",
              "      <td>NaT</td>\n",
              "      <td>NaT</td>\n",
              "    </tr>\n",
              "    <tr>\n",
              "      <th>16650</th>\n",
              "      <td>111106474</td>\n",
              "      <td>accession number: ms06t48348 report status: fi...</td>\n",
              "      <td>MGH</td>\n",
              "      <td>2006-09-06</td>\n",
              "      <td>report status: final type: surgical pathology...</td>\n",
              "      <td>NaT</td>\n",
              "      <td>NaT</td>\n",
              "      <td>NaT</td>\n",
              "      <td>NaT</td>\n",
              "      <td>NaT</td>\n",
              "    </tr>\n",
              "    <tr>\n",
              "      <th>16651</th>\n",
              "      <td>111108962</td>\n",
              "      <td>accession number: s17-42561 report status: fin...</td>\n",
              "      <td>MGH</td>\n",
              "      <td>2017-06-23</td>\n",
              "      <td>report status: final type: surgical pathology ...</td>\n",
              "      <td>NaT</td>\n",
              "      <td>NaT</td>\n",
              "      <td>NaT</td>\n",
              "      <td>NaT</td>\n",
              "      <td>NaT</td>\n",
              "    </tr>\n",
              "    <tr>\n",
              "      <th>16653</th>\n",
              "      <td>111085770</td>\n",
              "      <td>accession number: s19-42440 report status: fin...</td>\n",
              "      <td>MGH</td>\n",
              "      <td>2019-06-18</td>\n",
              "      <td>report status: final type: surgical pathology ...</td>\n",
              "      <td>NaT</td>\n",
              "      <td>NaT</td>\n",
              "      <td>NaT</td>\n",
              "      <td>NaT</td>\n",
              "      <td>NaT</td>\n",
              "    </tr>\n",
              "    <tr>\n",
              "      <th>16655</th>\n",
              "      <td>111061498</td>\n",
              "      <td>accession number: fs15d09187 report status: fi...</td>\n",
              "      <td>FH</td>\n",
              "      <td>2015-11-02</td>\n",
              "      <td>report status: final type: surgical pathology...</td>\n",
              "      <td>NaT</td>\n",
              "      <td>NaT</td>\n",
              "      <td>NaT</td>\n",
              "      <td>NaT</td>\n",
              "      <td>NaT</td>\n",
              "    </tr>\n",
              "  </tbody>\n",
              "</table>\n",
              "<p>12167 rows × 10 columns</p>\n",
              "</div>\n",
              "      <button class=\"colab-df-convert\" onclick=\"convertToInteractive('df-525bad86-0a29-473c-894d-aa72fb6bbde9')\"\n",
              "              title=\"Convert this dataframe to an interactive table.\"\n",
              "              style=\"display:none;\">\n",
              "        \n",
              "  <svg xmlns=\"http://www.w3.org/2000/svg\" height=\"24px\"viewBox=\"0 0 24 24\"\n",
              "       width=\"24px\">\n",
              "    <path d=\"M0 0h24v24H0V0z\" fill=\"none\"/>\n",
              "    <path d=\"M18.56 5.44l.94 2.06.94-2.06 2.06-.94-2.06-.94-.94-2.06-.94 2.06-2.06.94zm-11 1L8.5 8.5l.94-2.06 2.06-.94-2.06-.94L8.5 2.5l-.94 2.06-2.06.94zm10 10l.94 2.06.94-2.06 2.06-.94-2.06-.94-.94-2.06-.94 2.06-2.06.94z\"/><path d=\"M17.41 7.96l-1.37-1.37c-.4-.4-.92-.59-1.43-.59-.52 0-1.04.2-1.43.59L10.3 9.45l-7.72 7.72c-.78.78-.78 2.05 0 2.83L4 21.41c.39.39.9.59 1.41.59.51 0 1.02-.2 1.41-.59l7.78-7.78 2.81-2.81c.8-.78.8-2.07 0-2.86zM5.41 20L4 18.59l7.72-7.72 1.47 1.35L5.41 20z\"/>\n",
              "  </svg>\n",
              "      </button>\n",
              "      \n",
              "  <style>\n",
              "    .colab-df-container {\n",
              "      display:flex;\n",
              "      flex-wrap:wrap;\n",
              "      gap: 12px;\n",
              "    }\n",
              "\n",
              "    .colab-df-convert {\n",
              "      background-color: #E8F0FE;\n",
              "      border: none;\n",
              "      border-radius: 50%;\n",
              "      cursor: pointer;\n",
              "      display: none;\n",
              "      fill: #1967D2;\n",
              "      height: 32px;\n",
              "      padding: 0 0 0 0;\n",
              "      width: 32px;\n",
              "    }\n",
              "\n",
              "    .colab-df-convert:hover {\n",
              "      background-color: #E2EBFA;\n",
              "      box-shadow: 0px 1px 2px rgba(60, 64, 67, 0.3), 0px 1px 3px 1px rgba(60, 64, 67, 0.15);\n",
              "      fill: #174EA6;\n",
              "    }\n",
              "\n",
              "    [theme=dark] .colab-df-convert {\n",
              "      background-color: #3B4455;\n",
              "      fill: #D2E3FC;\n",
              "    }\n",
              "\n",
              "    [theme=dark] .colab-df-convert:hover {\n",
              "      background-color: #434B5C;\n",
              "      box-shadow: 0px 1px 3px 1px rgba(0, 0, 0, 0.15);\n",
              "      filter: drop-shadow(0px 1px 2px rgba(0, 0, 0, 0.3));\n",
              "      fill: #FFFFFF;\n",
              "    }\n",
              "  </style>\n",
              "\n",
              "      <script>\n",
              "        const buttonEl =\n",
              "          document.querySelector('#df-525bad86-0a29-473c-894d-aa72fb6bbde9 button.colab-df-convert');\n",
              "        buttonEl.style.display =\n",
              "          google.colab.kernel.accessAllowed ? 'block' : 'none';\n",
              "\n",
              "        async function convertToInteractive(key) {\n",
              "          const element = document.querySelector('#df-525bad86-0a29-473c-894d-aa72fb6bbde9');\n",
              "          const dataTable =\n",
              "            await google.colab.kernel.invokeFunction('convertToInteractive',\n",
              "                                                     [key], {});\n",
              "          if (!dataTable) return;\n",
              "\n",
              "          const docLinkHtml = 'Like what you see? Visit the ' +\n",
              "            '<a target=\"_blank\" href=https://colab.research.google.com/notebooks/data_table.ipynb>data table notebook</a>'\n",
              "            + ' to learn more about interactive tables.';\n",
              "          element.innerHTML = '';\n",
              "          dataTable['output_type'] = 'display_data';\n",
              "          await google.colab.output.renderOutput(dataTable, element);\n",
              "          const docLink = document.createElement('div');\n",
              "          docLink.innerHTML = docLinkHtml;\n",
              "          element.appendChild(docLink);\n",
              "        }\n",
              "      </script>\n",
              "    </div>\n",
              "  </div>\n",
              "  "
            ]
          },
          "metadata": {}
        },
        {
          "output_type": "display_data",
          "data": {
            "text/plain": [
              "            EMPI                                        Report_Text  \\\n",
              "0      100003956  accession number: s02k17074 report status: fin...   \n",
              "5      100093404  accession number: s99t17262 report status: fin...   \n",
              "7      100104620  accession number: s95n33201 report status: fin...   \n",
              "9      100074436  accession number: s03a71170 report status: fin...   \n",
              "10     100076516  accession number: s94x36797 report status: fin...   \n",
              "...          ...                                                ...   \n",
              "16605  111693306  accession number: s16-58580 report status: fin...   \n",
              "16619  113078474  accession number: bs17w32233 report status: fi...   \n",
              "16625  109714722  accession number: s03f36647 report status: fin...   \n",
              "16640  110530770  accession number: ms07d44309 report status: fi...   \n",
              "16650  111106474  accession number: ms06t48348 report status: fi...   \n",
              "\n",
              "      hospital_rp       date  \\\n",
              "0             MGH 2002-03-29   \n",
              "5             MGH 1999-04-14   \n",
              "7             MGH 1995-09-21   \n",
              "9             MGH 2003-12-19   \n",
              "10            MGH 1994-11-07   \n",
              "...           ...        ...   \n",
              "16605         MGH 2016-09-06   \n",
              "16619         BWH 2017-06-07   \n",
              "16625         MGH 2003-07-01   \n",
              "16640         MGH 2007-07-23   \n",
              "16650         MGH 2006-09-06   \n",
              "\n",
              "                                        Report_Text_noAN LN_meta  n0  n1  n2  \\\n",
              "0      report status: final type: surgical pathology ...     NaT NaT NaT NaT   \n",
              "5      report status: final type: surgical pathology ...     NaT NaT NaT NaT   \n",
              "7      report status: final type: surgical pathology ...     NaT NaT NaT NaT   \n",
              "9      report status: final type: surgical pathology ...     NaT NaT NaT NaT   \n",
              "10     report status: final type: surgical pathology ...     NaT NaT NaT NaT   \n",
              "...                                                  ...     ...  ..  ..  ..   \n",
              "16605  report status: final type: surgical pathology ...     NaT NaT NaT NaT   \n",
              "16619   report status: final type: surgical pathology...     NaT NaT NaT NaT   \n",
              "16625  report status: final type: surgical pathology ...     NaT NaT NaT NaT   \n",
              "16640   report status: final type: surgical pathology...     NaT NaT NaT NaT   \n",
              "16650   report status: final type: surgical pathology...     NaT NaT NaT NaT   \n",
              "\n",
              "       n3  \n",
              "0     NaT  \n",
              "5     NaT  \n",
              "7     NaT  \n",
              "9     NaT  \n",
              "10    NaT  \n",
              "...    ..  \n",
              "16605 NaT  \n",
              "16619 NaT  \n",
              "16625 NaT  \n",
              "16640 NaT  \n",
              "16650 NaT  \n",
              "\n",
              "[4465 rows x 10 columns]"
            ],
            "text/html": [
              "\n",
              "  <div id=\"df-21093b05-8e05-4491-9f67-1c5c04f20b48\">\n",
              "    <div class=\"colab-df-container\">\n",
              "      <div>\n",
              "<style scoped>\n",
              "    .dataframe tbody tr th:only-of-type {\n",
              "        vertical-align: middle;\n",
              "    }\n",
              "\n",
              "    .dataframe tbody tr th {\n",
              "        vertical-align: top;\n",
              "    }\n",
              "\n",
              "    .dataframe thead th {\n",
              "        text-align: right;\n",
              "    }\n",
              "</style>\n",
              "<table border=\"1\" class=\"dataframe\">\n",
              "  <thead>\n",
              "    <tr style=\"text-align: right;\">\n",
              "      <th></th>\n",
              "      <th>EMPI</th>\n",
              "      <th>Report_Text</th>\n",
              "      <th>hospital_rp</th>\n",
              "      <th>date</th>\n",
              "      <th>Report_Text_noAN</th>\n",
              "      <th>LN_meta</th>\n",
              "      <th>n0</th>\n",
              "      <th>n1</th>\n",
              "      <th>n2</th>\n",
              "      <th>n3</th>\n",
              "    </tr>\n",
              "  </thead>\n",
              "  <tbody>\n",
              "    <tr>\n",
              "      <th>0</th>\n",
              "      <td>100003956</td>\n",
              "      <td>accession number: s02k17074 report status: fin...</td>\n",
              "      <td>MGH</td>\n",
              "      <td>2002-03-29</td>\n",
              "      <td>report status: final type: surgical pathology ...</td>\n",
              "      <td>NaT</td>\n",
              "      <td>NaT</td>\n",
              "      <td>NaT</td>\n",
              "      <td>NaT</td>\n",
              "      <td>NaT</td>\n",
              "    </tr>\n",
              "    <tr>\n",
              "      <th>5</th>\n",
              "      <td>100093404</td>\n",
              "      <td>accession number: s99t17262 report status: fin...</td>\n",
              "      <td>MGH</td>\n",
              "      <td>1999-04-14</td>\n",
              "      <td>report status: final type: surgical pathology ...</td>\n",
              "      <td>NaT</td>\n",
              "      <td>NaT</td>\n",
              "      <td>NaT</td>\n",
              "      <td>NaT</td>\n",
              "      <td>NaT</td>\n",
              "    </tr>\n",
              "    <tr>\n",
              "      <th>7</th>\n",
              "      <td>100104620</td>\n",
              "      <td>accession number: s95n33201 report status: fin...</td>\n",
              "      <td>MGH</td>\n",
              "      <td>1995-09-21</td>\n",
              "      <td>report status: final type: surgical pathology ...</td>\n",
              "      <td>NaT</td>\n",
              "      <td>NaT</td>\n",
              "      <td>NaT</td>\n",
              "      <td>NaT</td>\n",
              "      <td>NaT</td>\n",
              "    </tr>\n",
              "    <tr>\n",
              "      <th>9</th>\n",
              "      <td>100074436</td>\n",
              "      <td>accession number: s03a71170 report status: fin...</td>\n",
              "      <td>MGH</td>\n",
              "      <td>2003-12-19</td>\n",
              "      <td>report status: final type: surgical pathology ...</td>\n",
              "      <td>NaT</td>\n",
              "      <td>NaT</td>\n",
              "      <td>NaT</td>\n",
              "      <td>NaT</td>\n",
              "      <td>NaT</td>\n",
              "    </tr>\n",
              "    <tr>\n",
              "      <th>10</th>\n",
              "      <td>100076516</td>\n",
              "      <td>accession number: s94x36797 report status: fin...</td>\n",
              "      <td>MGH</td>\n",
              "      <td>1994-11-07</td>\n",
              "      <td>report status: final type: surgical pathology ...</td>\n",
              "      <td>NaT</td>\n",
              "      <td>NaT</td>\n",
              "      <td>NaT</td>\n",
              "      <td>NaT</td>\n",
              "      <td>NaT</td>\n",
              "    </tr>\n",
              "    <tr>\n",
              "      <th>...</th>\n",
              "      <td>...</td>\n",
              "      <td>...</td>\n",
              "      <td>...</td>\n",
              "      <td>...</td>\n",
              "      <td>...</td>\n",
              "      <td>...</td>\n",
              "      <td>...</td>\n",
              "      <td>...</td>\n",
              "      <td>...</td>\n",
              "      <td>...</td>\n",
              "    </tr>\n",
              "    <tr>\n",
              "      <th>16605</th>\n",
              "      <td>111693306</td>\n",
              "      <td>accession number: s16-58580 report status: fin...</td>\n",
              "      <td>MGH</td>\n",
              "      <td>2016-09-06</td>\n",
              "      <td>report status: final type: surgical pathology ...</td>\n",
              "      <td>NaT</td>\n",
              "      <td>NaT</td>\n",
              "      <td>NaT</td>\n",
              "      <td>NaT</td>\n",
              "      <td>NaT</td>\n",
              "    </tr>\n",
              "    <tr>\n",
              "      <th>16619</th>\n",
              "      <td>113078474</td>\n",
              "      <td>accession number: bs17w32233 report status: fi...</td>\n",
              "      <td>BWH</td>\n",
              "      <td>2017-06-07</td>\n",
              "      <td>report status: final type: surgical pathology...</td>\n",
              "      <td>NaT</td>\n",
              "      <td>NaT</td>\n",
              "      <td>NaT</td>\n",
              "      <td>NaT</td>\n",
              "      <td>NaT</td>\n",
              "    </tr>\n",
              "    <tr>\n",
              "      <th>16625</th>\n",
              "      <td>109714722</td>\n",
              "      <td>accession number: s03f36647 report status: fin...</td>\n",
              "      <td>MGH</td>\n",
              "      <td>2003-07-01</td>\n",
              "      <td>report status: final type: surgical pathology ...</td>\n",
              "      <td>NaT</td>\n",
              "      <td>NaT</td>\n",
              "      <td>NaT</td>\n",
              "      <td>NaT</td>\n",
              "      <td>NaT</td>\n",
              "    </tr>\n",
              "    <tr>\n",
              "      <th>16640</th>\n",
              "      <td>110530770</td>\n",
              "      <td>accession number: ms07d44309 report status: fi...</td>\n",
              "      <td>MGH</td>\n",
              "      <td>2007-07-23</td>\n",
              "      <td>report status: final type: surgical pathology...</td>\n",
              "      <td>NaT</td>\n",
              "      <td>NaT</td>\n",
              "      <td>NaT</td>\n",
              "      <td>NaT</td>\n",
              "      <td>NaT</td>\n",
              "    </tr>\n",
              "    <tr>\n",
              "      <th>16650</th>\n",
              "      <td>111106474</td>\n",
              "      <td>accession number: ms06t48348 report status: fi...</td>\n",
              "      <td>MGH</td>\n",
              "      <td>2006-09-06</td>\n",
              "      <td>report status: final type: surgical pathology...</td>\n",
              "      <td>NaT</td>\n",
              "      <td>NaT</td>\n",
              "      <td>NaT</td>\n",
              "      <td>NaT</td>\n",
              "      <td>NaT</td>\n",
              "    </tr>\n",
              "  </tbody>\n",
              "</table>\n",
              "<p>4465 rows × 10 columns</p>\n",
              "</div>\n",
              "      <button class=\"colab-df-convert\" onclick=\"convertToInteractive('df-21093b05-8e05-4491-9f67-1c5c04f20b48')\"\n",
              "              title=\"Convert this dataframe to an interactive table.\"\n",
              "              style=\"display:none;\">\n",
              "        \n",
              "  <svg xmlns=\"http://www.w3.org/2000/svg\" height=\"24px\"viewBox=\"0 0 24 24\"\n",
              "       width=\"24px\">\n",
              "    <path d=\"M0 0h24v24H0V0z\" fill=\"none\"/>\n",
              "    <path d=\"M18.56 5.44l.94 2.06.94-2.06 2.06-.94-2.06-.94-.94-2.06-.94 2.06-2.06.94zm-11 1L8.5 8.5l.94-2.06 2.06-.94-2.06-.94L8.5 2.5l-.94 2.06-2.06.94zm10 10l.94 2.06.94-2.06 2.06-.94-2.06-.94-.94-2.06-.94 2.06-2.06.94z\"/><path d=\"M17.41 7.96l-1.37-1.37c-.4-.4-.92-.59-1.43-.59-.52 0-1.04.2-1.43.59L10.3 9.45l-7.72 7.72c-.78.78-.78 2.05 0 2.83L4 21.41c.39.39.9.59 1.41.59.51 0 1.02-.2 1.41-.59l7.78-7.78 2.81-2.81c.8-.78.8-2.07 0-2.86zM5.41 20L4 18.59l7.72-7.72 1.47 1.35L5.41 20z\"/>\n",
              "  </svg>\n",
              "      </button>\n",
              "      \n",
              "  <style>\n",
              "    .colab-df-container {\n",
              "      display:flex;\n",
              "      flex-wrap:wrap;\n",
              "      gap: 12px;\n",
              "    }\n",
              "\n",
              "    .colab-df-convert {\n",
              "      background-color: #E8F0FE;\n",
              "      border: none;\n",
              "      border-radius: 50%;\n",
              "      cursor: pointer;\n",
              "      display: none;\n",
              "      fill: #1967D2;\n",
              "      height: 32px;\n",
              "      padding: 0 0 0 0;\n",
              "      width: 32px;\n",
              "    }\n",
              "\n",
              "    .colab-df-convert:hover {\n",
              "      background-color: #E2EBFA;\n",
              "      box-shadow: 0px 1px 2px rgba(60, 64, 67, 0.3), 0px 1px 3px 1px rgba(60, 64, 67, 0.15);\n",
              "      fill: #174EA6;\n",
              "    }\n",
              "\n",
              "    [theme=dark] .colab-df-convert {\n",
              "      background-color: #3B4455;\n",
              "      fill: #D2E3FC;\n",
              "    }\n",
              "\n",
              "    [theme=dark] .colab-df-convert:hover {\n",
              "      background-color: #434B5C;\n",
              "      box-shadow: 0px 1px 3px 1px rgba(0, 0, 0, 0.15);\n",
              "      filter: drop-shadow(0px 1px 2px rgba(0, 0, 0, 0.3));\n",
              "      fill: #FFFFFF;\n",
              "    }\n",
              "  </style>\n",
              "\n",
              "      <script>\n",
              "        const buttonEl =\n",
              "          document.querySelector('#df-21093b05-8e05-4491-9f67-1c5c04f20b48 button.colab-df-convert');\n",
              "        buttonEl.style.display =\n",
              "          google.colab.kernel.accessAllowed ? 'block' : 'none';\n",
              "\n",
              "        async function convertToInteractive(key) {\n",
              "          const element = document.querySelector('#df-21093b05-8e05-4491-9f67-1c5c04f20b48');\n",
              "          const dataTable =\n",
              "            await google.colab.kernel.invokeFunction('convertToInteractive',\n",
              "                                                     [key], {});\n",
              "          if (!dataTable) return;\n",
              "\n",
              "          const docLinkHtml = 'Like what you see? Visit the ' +\n",
              "            '<a target=\"_blank\" href=https://colab.research.google.com/notebooks/data_table.ipynb>data table notebook</a>'\n",
              "            + ' to learn more about interactive tables.';\n",
              "          element.innerHTML = '';\n",
              "          dataTable['output_type'] = 'display_data';\n",
              "          await google.colab.output.renderOutput(dataTable, element);\n",
              "          const docLink = document.createElement('div');\n",
              "          docLink.innerHTML = docLinkHtml;\n",
              "          element.appendChild(docLink);\n",
              "        }\n",
              "      </script>\n",
              "    </div>\n",
              "  </div>\n",
              "  "
            ]
          },
          "metadata": {}
        },
        {
          "output_type": "display_data",
          "data": {
            "text/plain": [
              "            EMPI                                        Report_Text  \\\n",
              "1      100006532  accession number: s9905462c report status: fin...   \n",
              "2      100006636  accession number: bs05e05528 report status: fi...   \n",
              "3      100001308  accession number: s9935420s report status: fin...   \n",
              "8      100081580  accession number: s16-62959 report status: fin...   \n",
              "11     100086908  accession number: bs08a16092 report status: fi...   \n",
              "...          ...                                                ...   \n",
              "15516  100053049  accession number: ms07r74905 report status: fi...   \n",
              "16168  107187498  accession number: s17-35531 report status: fin...   \n",
              "16379  104222082  accession number: s14-312 report status: final...   \n",
              "7465   105835635  accession number: s15-82321 report status: fin...   \n",
              "2576   107890975  accession number: s16-48390 report status: fin...   \n",
              "\n",
              "      hospital_rp       date  \\\n",
              "1             BWH 1999-02-27   \n",
              "2             BWH 2005-02-10   \n",
              "3             BWH 1999-12-17   \n",
              "8             MGH 2016-09-23   \n",
              "11            BWH 2008-04-14   \n",
              "...           ...        ...   \n",
              "15516         MGH 2007-12-12   \n",
              "16168         MGH 2017-05-26   \n",
              "16379         MGH 2014-01-03   \n",
              "7465          MGH 2015-12-22   \n",
              "2576          MGH 2016-07-25   \n",
              "\n",
              "                                        Report_Text_noAN LN_meta n0 n1 n2 n3  \n",
              "1      report status: final type: surgical pathology ...       0  1  0  0  0  \n",
              "2       report status: final type: surgical pathology...       0  1  0  0  0  \n",
              "3      report status: final type: surgical pathology ...       0  1  0  0  0  \n",
              "8      report status: final type: surgical pathology ...       0  1  0  0  0  \n",
              "11      report status: final type: surgical pathology...       0  1  0  0  0  \n",
              "...                                                  ...     ... .. .. .. ..  \n",
              "15516   report status: final type: surgical pathology...       1  0  0  1  0  \n",
              "16168  report status: final type: surgical pathology ...       1  0  0  1  0  \n",
              "16379  port status: final type: surgical pathology pa...       1  0  0  1  0  \n",
              "7465   report status: final type: surgical pathology ...       1  0  0  1  0  \n",
              "2576   report status: final type: surgical pathology ...       1  0  0  0  1  \n",
              "\n",
              "[7698 rows x 10 columns]"
            ],
            "text/html": [
              "\n",
              "  <div id=\"df-c4f0379a-a008-4d5d-95e5-a371c2d72db6\">\n",
              "    <div class=\"colab-df-container\">\n",
              "      <div>\n",
              "<style scoped>\n",
              "    .dataframe tbody tr th:only-of-type {\n",
              "        vertical-align: middle;\n",
              "    }\n",
              "\n",
              "    .dataframe tbody tr th {\n",
              "        vertical-align: top;\n",
              "    }\n",
              "\n",
              "    .dataframe thead th {\n",
              "        text-align: right;\n",
              "    }\n",
              "</style>\n",
              "<table border=\"1\" class=\"dataframe\">\n",
              "  <thead>\n",
              "    <tr style=\"text-align: right;\">\n",
              "      <th></th>\n",
              "      <th>EMPI</th>\n",
              "      <th>Report_Text</th>\n",
              "      <th>hospital_rp</th>\n",
              "      <th>date</th>\n",
              "      <th>Report_Text_noAN</th>\n",
              "      <th>LN_meta</th>\n",
              "      <th>n0</th>\n",
              "      <th>n1</th>\n",
              "      <th>n2</th>\n",
              "      <th>n3</th>\n",
              "    </tr>\n",
              "  </thead>\n",
              "  <tbody>\n",
              "    <tr>\n",
              "      <th>1</th>\n",
              "      <td>100006532</td>\n",
              "      <td>accession number: s9905462c report status: fin...</td>\n",
              "      <td>BWH</td>\n",
              "      <td>1999-02-27</td>\n",
              "      <td>report status: final type: surgical pathology ...</td>\n",
              "      <td>0</td>\n",
              "      <td>1</td>\n",
              "      <td>0</td>\n",
              "      <td>0</td>\n",
              "      <td>0</td>\n",
              "    </tr>\n",
              "    <tr>\n",
              "      <th>2</th>\n",
              "      <td>100006636</td>\n",
              "      <td>accession number: bs05e05528 report status: fi...</td>\n",
              "      <td>BWH</td>\n",
              "      <td>2005-02-10</td>\n",
              "      <td>report status: final type: surgical pathology...</td>\n",
              "      <td>0</td>\n",
              "      <td>1</td>\n",
              "      <td>0</td>\n",
              "      <td>0</td>\n",
              "      <td>0</td>\n",
              "    </tr>\n",
              "    <tr>\n",
              "      <th>3</th>\n",
              "      <td>100001308</td>\n",
              "      <td>accession number: s9935420s report status: fin...</td>\n",
              "      <td>BWH</td>\n",
              "      <td>1999-12-17</td>\n",
              "      <td>report status: final type: surgical pathology ...</td>\n",
              "      <td>0</td>\n",
              "      <td>1</td>\n",
              "      <td>0</td>\n",
              "      <td>0</td>\n",
              "      <td>0</td>\n",
              "    </tr>\n",
              "    <tr>\n",
              "      <th>8</th>\n",
              "      <td>100081580</td>\n",
              "      <td>accession number: s16-62959 report status: fin...</td>\n",
              "      <td>MGH</td>\n",
              "      <td>2016-09-23</td>\n",
              "      <td>report status: final type: surgical pathology ...</td>\n",
              "      <td>0</td>\n",
              "      <td>1</td>\n",
              "      <td>0</td>\n",
              "      <td>0</td>\n",
              "      <td>0</td>\n",
              "    </tr>\n",
              "    <tr>\n",
              "      <th>11</th>\n",
              "      <td>100086908</td>\n",
              "      <td>accession number: bs08a16092 report status: fi...</td>\n",
              "      <td>BWH</td>\n",
              "      <td>2008-04-14</td>\n",
              "      <td>report status: final type: surgical pathology...</td>\n",
              "      <td>0</td>\n",
              "      <td>1</td>\n",
              "      <td>0</td>\n",
              "      <td>0</td>\n",
              "      <td>0</td>\n",
              "    </tr>\n",
              "    <tr>\n",
              "      <th>...</th>\n",
              "      <td>...</td>\n",
              "      <td>...</td>\n",
              "      <td>...</td>\n",
              "      <td>...</td>\n",
              "      <td>...</td>\n",
              "      <td>...</td>\n",
              "      <td>...</td>\n",
              "      <td>...</td>\n",
              "      <td>...</td>\n",
              "      <td>...</td>\n",
              "    </tr>\n",
              "    <tr>\n",
              "      <th>15516</th>\n",
              "      <td>100053049</td>\n",
              "      <td>accession number: ms07r74905 report status: fi...</td>\n",
              "      <td>MGH</td>\n",
              "      <td>2007-12-12</td>\n",
              "      <td>report status: final type: surgical pathology...</td>\n",
              "      <td>1</td>\n",
              "      <td>0</td>\n",
              "      <td>0</td>\n",
              "      <td>1</td>\n",
              "      <td>0</td>\n",
              "    </tr>\n",
              "    <tr>\n",
              "      <th>16168</th>\n",
              "      <td>107187498</td>\n",
              "      <td>accession number: s17-35531 report status: fin...</td>\n",
              "      <td>MGH</td>\n",
              "      <td>2017-05-26</td>\n",
              "      <td>report status: final type: surgical pathology ...</td>\n",
              "      <td>1</td>\n",
              "      <td>0</td>\n",
              "      <td>0</td>\n",
              "      <td>1</td>\n",
              "      <td>0</td>\n",
              "    </tr>\n",
              "    <tr>\n",
              "      <th>16379</th>\n",
              "      <td>104222082</td>\n",
              "      <td>accession number: s14-312 report status: final...</td>\n",
              "      <td>MGH</td>\n",
              "      <td>2014-01-03</td>\n",
              "      <td>port status: final type: surgical pathology pa...</td>\n",
              "      <td>1</td>\n",
              "      <td>0</td>\n",
              "      <td>0</td>\n",
              "      <td>1</td>\n",
              "      <td>0</td>\n",
              "    </tr>\n",
              "    <tr>\n",
              "      <th>7465</th>\n",
              "      <td>105835635</td>\n",
              "      <td>accession number: s15-82321 report status: fin...</td>\n",
              "      <td>MGH</td>\n",
              "      <td>2015-12-22</td>\n",
              "      <td>report status: final type: surgical pathology ...</td>\n",
              "      <td>1</td>\n",
              "      <td>0</td>\n",
              "      <td>0</td>\n",
              "      <td>1</td>\n",
              "      <td>0</td>\n",
              "    </tr>\n",
              "    <tr>\n",
              "      <th>2576</th>\n",
              "      <td>107890975</td>\n",
              "      <td>accession number: s16-48390 report status: fin...</td>\n",
              "      <td>MGH</td>\n",
              "      <td>2016-07-25</td>\n",
              "      <td>report status: final type: surgical pathology ...</td>\n",
              "      <td>1</td>\n",
              "      <td>0</td>\n",
              "      <td>0</td>\n",
              "      <td>0</td>\n",
              "      <td>1</td>\n",
              "    </tr>\n",
              "  </tbody>\n",
              "</table>\n",
              "<p>7698 rows × 10 columns</p>\n",
              "</div>\n",
              "      <button class=\"colab-df-convert\" onclick=\"convertToInteractive('df-c4f0379a-a008-4d5d-95e5-a371c2d72db6')\"\n",
              "              title=\"Convert this dataframe to an interactive table.\"\n",
              "              style=\"display:none;\">\n",
              "        \n",
              "  <svg xmlns=\"http://www.w3.org/2000/svg\" height=\"24px\"viewBox=\"0 0 24 24\"\n",
              "       width=\"24px\">\n",
              "    <path d=\"M0 0h24v24H0V0z\" fill=\"none\"/>\n",
              "    <path d=\"M18.56 5.44l.94 2.06.94-2.06 2.06-.94-2.06-.94-.94-2.06-.94 2.06-2.06.94zm-11 1L8.5 8.5l.94-2.06 2.06-.94-2.06-.94L8.5 2.5l-.94 2.06-2.06.94zm10 10l.94 2.06.94-2.06 2.06-.94-2.06-.94-.94-2.06-.94 2.06-2.06.94z\"/><path d=\"M17.41 7.96l-1.37-1.37c-.4-.4-.92-.59-1.43-.59-.52 0-1.04.2-1.43.59L10.3 9.45l-7.72 7.72c-.78.78-.78 2.05 0 2.83L4 21.41c.39.39.9.59 1.41.59.51 0 1.02-.2 1.41-.59l7.78-7.78 2.81-2.81c.8-.78.8-2.07 0-2.86zM5.41 20L4 18.59l7.72-7.72 1.47 1.35L5.41 20z\"/>\n",
              "  </svg>\n",
              "      </button>\n",
              "      \n",
              "  <style>\n",
              "    .colab-df-container {\n",
              "      display:flex;\n",
              "      flex-wrap:wrap;\n",
              "      gap: 12px;\n",
              "    }\n",
              "\n",
              "    .colab-df-convert {\n",
              "      background-color: #E8F0FE;\n",
              "      border: none;\n",
              "      border-radius: 50%;\n",
              "      cursor: pointer;\n",
              "      display: none;\n",
              "      fill: #1967D2;\n",
              "      height: 32px;\n",
              "      padding: 0 0 0 0;\n",
              "      width: 32px;\n",
              "    }\n",
              "\n",
              "    .colab-df-convert:hover {\n",
              "      background-color: #E2EBFA;\n",
              "      box-shadow: 0px 1px 2px rgba(60, 64, 67, 0.3), 0px 1px 3px 1px rgba(60, 64, 67, 0.15);\n",
              "      fill: #174EA6;\n",
              "    }\n",
              "\n",
              "    [theme=dark] .colab-df-convert {\n",
              "      background-color: #3B4455;\n",
              "      fill: #D2E3FC;\n",
              "    }\n",
              "\n",
              "    [theme=dark] .colab-df-convert:hover {\n",
              "      background-color: #434B5C;\n",
              "      box-shadow: 0px 1px 3px 1px rgba(0, 0, 0, 0.15);\n",
              "      filter: drop-shadow(0px 1px 2px rgba(0, 0, 0, 0.3));\n",
              "      fill: #FFFFFF;\n",
              "    }\n",
              "  </style>\n",
              "\n",
              "      <script>\n",
              "        const buttonEl =\n",
              "          document.querySelector('#df-c4f0379a-a008-4d5d-95e5-a371c2d72db6 button.colab-df-convert');\n",
              "        buttonEl.style.display =\n",
              "          google.colab.kernel.accessAllowed ? 'block' : 'none';\n",
              "\n",
              "        async function convertToInteractive(key) {\n",
              "          const element = document.querySelector('#df-c4f0379a-a008-4d5d-95e5-a371c2d72db6');\n",
              "          const dataTable =\n",
              "            await google.colab.kernel.invokeFunction('convertToInteractive',\n",
              "                                                     [key], {});\n",
              "          if (!dataTable) return;\n",
              "\n",
              "          const docLinkHtml = 'Like what you see? Visit the ' +\n",
              "            '<a target=\"_blank\" href=https://colab.research.google.com/notebooks/data_table.ipynb>data table notebook</a>'\n",
              "            + ' to learn more about interactive tables.';\n",
              "          element.innerHTML = '';\n",
              "          dataTable['output_type'] = 'display_data';\n",
              "          await google.colab.output.renderOutput(dataTable, element);\n",
              "          const docLink = document.createElement('div');\n",
              "          docLink.innerHTML = docLinkHtml;\n",
              "          element.appendChild(docLink);\n",
              "        }\n",
              "      </script>\n",
              "    </div>\n",
              "  </div>\n",
              "  "
            ]
          },
          "metadata": {}
        },
        {
          "output_type": "stream",
          "name": "stdout",
          "text": [
            "Error: Runtime no longer has a reference to this dataframe, please re-run this cell and try again.\n",
            "Error: Runtime no longer has a reference to this dataframe, please re-run this cell and try again.\n"
          ]
        }
      ]
    },
    {
      "cell_type": "code",
      "source": [
        "lymph_df_nostage.to_csv(\"lymph_df_nostage.csv\", sep='\\t')\n",
        "lymph_df_withstage.to_csv(\"lymph_df_withstage.csv\", sep='\\t')\n",
        "\n",
        "from google.colab import files\n",
        "files.download('lymph_df_withstage.csv')"
      ],
      "metadata": {
        "colab": {
          "base_uri": "https://localhost:8080/",
          "height": 34
        },
        "id": "HDt4K-vNGlxx",
        "outputId": "997a23d2-0990-4bb7-d1f7-dd71561803ea"
      },
      "execution_count": null,
      "outputs": [
        {
          "output_type": "display_data",
          "data": {
            "text/plain": [
              "<IPython.core.display.Javascript object>"
            ],
            "application/javascript": [
              "\n",
              "    async function download(id, filename, size) {\n",
              "      if (!google.colab.kernel.accessAllowed) {\n",
              "        return;\n",
              "      }\n",
              "      const div = document.createElement('div');\n",
              "      const label = document.createElement('label');\n",
              "      label.textContent = `Downloading \"${filename}\": `;\n",
              "      div.appendChild(label);\n",
              "      const progress = document.createElement('progress');\n",
              "      progress.max = size;\n",
              "      div.appendChild(progress);\n",
              "      document.body.appendChild(div);\n",
              "\n",
              "      const buffers = [];\n",
              "      let downloaded = 0;\n",
              "\n",
              "      const channel = await google.colab.kernel.comms.open(id);\n",
              "      // Send a message to notify the kernel that we're ready.\n",
              "      channel.send({})\n",
              "\n",
              "      for await (const message of channel.messages) {\n",
              "        // Send a message to notify the kernel that we're ready.\n",
              "        channel.send({})\n",
              "        if (message.buffers) {\n",
              "          for (const buffer of message.buffers) {\n",
              "            buffers.push(buffer);\n",
              "            downloaded += buffer.byteLength;\n",
              "            progress.value = downloaded;\n",
              "          }\n",
              "        }\n",
              "      }\n",
              "      const blob = new Blob(buffers, {type: 'application/binary'});\n",
              "      const a = document.createElement('a');\n",
              "      a.href = window.URL.createObjectURL(blob);\n",
              "      a.download = filename;\n",
              "      div.appendChild(a);\n",
              "      a.click();\n",
              "      div.remove();\n",
              "    }\n",
              "  "
            ]
          },
          "metadata": {}
        },
        {
          "output_type": "display_data",
          "data": {
            "text/plain": [
              "<IPython.core.display.Javascript object>"
            ],
            "application/javascript": [
              "download(\"download_89803010-b997-49e4-bae9-b5ba73bfa2dd\", \"lymph_df_withstage.csv\", 68164717)"
            ]
          },
          "metadata": {}
        }
      ]
    },
    {
      "cell_type": "code",
      "source": [
        "n0EMPI_df = n0_df.EMPI\n",
        "n1EMPI_df = n1_df.EMPI\n",
        "\n",
        "display(n0EMPI_df)\n",
        "display(n1EMPI_df)\n",
        "\n",
        "n0EMPI_df.to_csv(\"n0_EMPI_220422.csv\", sep='\\t')\n",
        "n1EMPI_df.to_csv(\"n1_EMPI_220422.csv\", sep='\\t')"
      ],
      "metadata": {
        "colab": {
          "base_uri": "https://localhost:8080/",
          "height": 434
        },
        "id": "-Lk-JiLvdrCU",
        "outputId": "06731ea9-757f-4529-c560-73852c645d97"
      },
      "execution_count": null,
      "outputs": [
        {
          "output_type": "display_data",
          "data": {
            "text/plain": [
              "1        100006532\n",
              "2        100006636\n",
              "3        100001308\n",
              "8        100081580\n",
              "11       100086908\n",
              "           ...    \n",
              "16648    111017906\n",
              "16649    111104018\n",
              "16651    111108962\n",
              "16653    111085770\n",
              "16655    111061498\n",
              "Name: EMPI, Length: 7531, dtype: int64"
            ]
          },
          "metadata": {}
        },
        {
          "output_type": "display_data",
          "data": {
            "text/plain": [
              "92       100138531\n",
              "156      107079507\n",
              "187      107948843\n",
              "201      108849667\n",
              "216      105059147\n",
              "           ...    \n",
              "16426    100895546\n",
              "16503    101968130\n",
              "16513    102028850\n",
              "16577    113351226\n",
              "16589    114288418\n",
              "Name: EMPI, Length: 277, dtype: int64"
            ]
          },
          "metadata": {}
        }
      ]
    },
    {
      "cell_type": "code",
      "source": [
        "# LN metastasis labeling\n",
        "searchforNOMETAS = [\"lymph node negative for\",\n",
        "                    \"lymph node, negative for\",\n",
        "                    \"lymph node; negative for\",\n",
        "                    \"lymph node: negative for\",\n",
        "                    \"lymph nodes negative for\",\n",
        "                    \"lymph nodes, negative for\",\n",
        "                    \"lymph nodes: negative for\",\n",
        "                    \"lymph nodes; negative for\",\n",
        "\n",
        "                    \"lymph node; no tumor\",\n",
        "                    \"lymph node; no malign\",\n",
        "                    \"lymph node; no metas\",\n",
        "                    \"lymph node; no carcin\",\n",
        "                    \"lymph node; no evidence of\",\n",
        "\n",
        "                    \"lymph nodes with no evidence of metas\",\n",
        "\n",
        "                    \"benign lymph node\",\n",
        "                  \n",
        "                    \"no evidence of malignan\",\n",
        "                    \n",
        "                    \"lymph node with no tumor\",\n",
        "                    \"lymph nodes with no tumor\",\n",
        "                    \n",
        "                    \"lymph node with no carcinoma\",\n",
        "                    \"lymph nodes with no carcinoma\",\n",
        "\n",
        "                    \"uninvolved by invasive carcinoma regional lymph nodes\",\n",
        "\n",
        "                    \"no definite lymph\",\n",
        "                    \"no definite perin\"\n",
        "                  ];\n",
        "#metas_df = lymph_df[~lymph_df['Report_Text'].str.contains('|'.join(searchforNOMETAS))]\n",
        "nometas_df = lymph_df_nostage[lymph_df_nostage['Report_Text'].str.contains('|'.join(searchforNOMETAS))]\n",
        "display(nometas_df.shape)\n",
        "Xnometas_df = lymph_df_nostage[~lymph_df_nostage['Report_Text'].str.contains('|'.join(searchforNOMETAS))]\n",
        "display(Xnometas_df.shape)\n",
        "search_report = 10\n",
        "display(\"Xnometas example report\", Xnometas_df.Report_Text.iloc[search_report])\n",
        "display(\"Xnometas example report\", Xnometas_df.Report_Text.iloc[search_report+1])\n",
        "display(\"Xnometas example report\", Xnometas_df.Report_Text.iloc[search_report+2])\n",
        "\n",
        "searchforMETAS = [\"lymph node: metas\",\n",
        "                  \"lymph nodes: metas\"];\n",
        "metas_df = lymph_df_nostage[lymph_df_nostage['Report_Text'].str.contains('|'.join(searchforMETAS))]\n",
        "display(\"metas_df:\", metas_df.shape)\n",
        "display(metas_df.Report_Text.iloc[0])\n",
        "\n",
        "searchforX = [\"n2 \", \"n2m\", \"n2\\.\", \"n2,\", \"n2:\", \"n2\\(\", \"n2\\)\"];\n",
        "# lymph nodes with no evidence of metas = 10\n",
        "# no lymph nodes present = 21\n",
        "X_df = lymph_df_nostage[lymph_df_nostage['Report_Text_noAN'].str.contains('|'.join(searchforX))]\n",
        "display(X_df.shape)\n",
        "display(X_df.Report_Text.iloc [5])\n",
        "\n",
        "\n",
        "\n",
        "# Overlap between datasets\n",
        "#list(set(nometas_df.EMPI) & set(xn1x_df.EMPI))"
      ],
      "metadata": {
        "colab": {
          "base_uri": "https://localhost:8080/",
          "height": 875
        },
        "id": "_CLJOAUf6rp3",
        "outputId": "b0f878a3-b3e5-4d91-9052-85d4586bcd1d"
      },
      "execution_count": null,
      "outputs": [
        {
          "output_type": "display_data",
          "data": {
            "text/plain": [
              "(3914, 8)"
            ]
          },
          "metadata": {}
        },
        {
          "output_type": "display_data",
          "data": {
            "text/plain": [
              "(2850, 8)"
            ]
          },
          "metadata": {}
        },
        {
          "output_type": "display_data",
          "data": {
            "text/plain": [
              "'Xnometas example report'"
            ],
            "application/vnd.google.colaboratory.intrinsic+json": {
              "type": "string"
            }
          },
          "metadata": {}
        },
        {
          "output_type": "display_data",
          "data": {
            "text/plain": [
              "'accession number: bs10m02862 report status: final type: surgical pathology specimen type: prostate, radical resection procedure date: 01/21/2010 ordering provider: jim c hu m.d., m.p.h. case: bs-10-m02862 patient: richard desmond resident: douglas i. lin, m.d., ph.d. pathologist: william r welch, m.d. pathologic diagnosis: a. prostate, radical prostatectomy: prostatic adenocarcinoma (0.5 cm in greatest dimension), gleason grade 3+3 =6, present in both sides. no lymphovascular invasion is identified. tumor is not present in extraprostatic soft tissue. tumor is not present in the seminal vesicles. tumor is not present at the soft tissue resection margin. ajcc stage (7th edition): t2c nx mx. clinical data: history: not provided operation: robot assisted laparoscopic nerve sparing radical prostatectomy operative findings: not provided clinical diagnosis: prostate ca tissue submitted: a/1. prostate (tissue bank) gross description: the specimen is received fresh in the frozen room, labeled with the patient\\'s name and medical record number, and \"#1. prostate\", and consists of a 51.5-gram radical prostatectomy specimen containing a prostate (4.8 x 4.0 x 4.0 cm), right seminal vesicle (2.4 x 1.5 x 0.9 cm), right vas deferens (3.1 cm in length x 0.5 cm in diameter), left seminal vesicle (3.1 x 2.0 x 0.8 cm), and a left vas deferens (4.7 cm in length x 0.5 cm in diameter). the right side of the specimen is inked black and the left side is inked blue. the specimen is sectioned from apex (slice #1) to base (slice #6). slice #2 contains a variegated tan nodule (0.3 x 0.2 x 0.2 cm), 0.3 cm to the left anterior capsule. slice #3 contains multiple tan variegated ill-defined nodules (the largest of which measures 0.8 cm in greatest dimension) and coming to 0.1 cm from the right and left capsule. slice #4 additionally contains multiple nodules (the largest of which measures 1.5 x 0.7 x 0.3 cm), coming to 0.1 cm from the right posterior and left posterior capsule. slice #5 contains a multiloculated tan/yellow firm area (1.2 x 0.8 x 0.3 cm) located 0.1 cm to the left anterior capsule. representative sections of the slices #3 and #5 are submitted to the tissue bank. representative sections of the right and left seminal vesicles are submitted to the tissue bank. alternate slices are submitted for histological evaluation. micro a1: right proximal urethral margin, multi frags, ess. micro a2: left proximal urethral margin, multi frags, ess. micro a3: right distal urethral margin, multi frags, ess. micro a4: left distal urethral margin, multi frags, ess. micro a5: slice #2, right anterior, 1 frag, rss. micro a6: slice #2, left anterior, 2 frags, rss. micro a7: ____ right posterior, 2 frags, rss. micro a8: ____ left posterior, 2 frags, rss. micro a9: slice #3, right anterior, 1 frag, rss. micro a10: slice #3, left anterior, 1 frag, rss. micro a11: slice #3, right posterior, 1 frag, rss. micro a12: slice #3, left posterior, 1 frag, rss. micro a13: slice #4, right anterior, 1 frag, rss. micro a14: slice #4, left anterior, 1 frag, rss. micro a15: slice #4, right posterior, 1 frag, rss. micro a16: slice #4, left posterior, 1 frag, rss. micro a17: right seminal vesicle and right vas deferens, 2 frags, rss. micro a18: left seminal vesicle and left vas deferens, 2 frags, rss. case number: 2862. dil/ajb by his/her signature below, the senior physician certifies that he/she personally conducted a microscopic examination (\"gross only\" exam if so stated) of the described specimen(s) and rendered or confirmed the diagnosis(es) related thereto. final diagnosis by william r welch m.d., electronically signed on tuesday january 26, 2010 at 03:59:20pm'"
            ],
            "application/vnd.google.colaboratory.intrinsic+json": {
              "type": "string"
            }
          },
          "metadata": {}
        },
        {
          "output_type": "display_data",
          "data": {
            "text/plain": [
              "'Xnometas example report'"
            ],
            "application/vnd.google.colaboratory.intrinsic+json": {
              "type": "string"
            }
          },
          "metadata": {}
        },
        {
          "output_type": "display_data",
          "data": {
            "text/plain": [
              "'accession number: s14-9218 report status: signed type: surgical pathology pathology report from comed department of pathology 1153 centre street boston, ma 02130 tel: 617-983-7114 fax: 617-983-7736 patient name: baptiste, raymond a. specimen #: s14-9218 med. rec. #: 00964721 service: surgery date of service: 10/28/2014 dob: 11/23/1951 (age: 62) m financial #: 24868439 received: 10/28/2014 room #: 757 signout: 11/1/2014 17:12 physician(s): quoc-dien trinh, m.d. surgical pathology report specimen(s) received a:prostate, radical resection b:lymph nodes, bilateral pelvic c:prostate tissue, distal margin final diagnosis a. prostate, radical resection: 1. prostate adenocarcinoma, gleason grade 3+4 = 7, involving both lobes, at least 1.8 cm, and occupying 25% of the prostate by volume. see comment. 2. no lymphatic/vascular invasion is present. 3. perineural invasion is present. 4. the seminal vesicles and extraprostatic soft tissue are free of tumor. 5. the inked margins are free of tumor. 6. high grade prostatic intraepithelial neoplasia is present. b. lymph nodes, bilateral pelvic: fibroadipose tissue with few minute lymphoid aggregates; no lymph nodes present. c. prostate tissue, distal margin: skeletal muscle and fibromuscular stroma; negative for tumor. comment: ajcc classification: pt2c nx tw /11/1/2014 17:11 tad wieczorek, m.d. ** report electronically signed out ** clinical history prostate cancer. gross description a. prostate, radical resection: received in formalin is a prostatectomy specimen with attached seminal vesicles and vasa deferentia weighing 47 grams. the prostate measures 3.1 cm from apex to base, 2.3 cm anterior to posterior and 4.3 cm laterally. the left seminal vesicle measures up to 2.4 cm in length and the right seminal vesicle up to 3.5. the left anterior quadrant is inked yellow, left posterior black, right posterior blue and right anterior green. the apex is sectioned and submitted entirely in cassettes a1-a2. the remainder of the specimen is sectioned in quadrants starting at the left anterior apex and submitted in cassettes a3-a14. the base is sectioned and submitted in cassettes a15-a18. sections from the left seminal vesicle are submitted in cassette a19 and sections from the right seminal vesicle are submitted in a20. b. lymph nodes, bilateral pelvic: received in formalin are tan-yellow tissue fragments measuring 3.5 x 3.3 x 1.2 cm in aggregate. no lymph node candidates are identified. the specimen is entirely submitted in cassettes b1-b4. c. prostate tissue, distal margin: received fresh and transferred to formalin is a tan-pink tissue fragment measuring 0.6 x 0.4 x 0.3 cm. the specimen is inked, bisected, and entirely submitted in cassette c1. sppl/pl/10/29/2014 12:45 part a: prostate, radical resection part b: lymph nodes, bilateral pelvic part c: prostate tissue, distal margin'"
            ],
            "application/vnd.google.colaboratory.intrinsic+json": {
              "type": "string"
            }
          },
          "metadata": {}
        },
        {
          "output_type": "display_data",
          "data": {
            "text/plain": [
              "'Xnometas example report'"
            ],
            "application/vnd.google.colaboratory.intrinsic+json": {
              "type": "string"
            }
          },
          "metadata": {}
        },
        {
          "output_type": "display_data",
          "data": {
            "text/plain": [
              "'accession number: bs07j49615 report status: final type: surgical pathology specimen type: prostate, radical resection procedure date: 11/07/2007 ordering provider: jim c hu m.d., m.p.h. case: bs-07-j49615 patient: paul provencher resident: dick guang-iong hwang, m.d., ph.d. pathologist: hejin p hahn, m.d., ph.d. pathologic diagnosis: prostate, radical prostatectomy: prostatic adenocarcinoma (1.4 cm in greatest dimension), gleason grade 4+3 =7, present in the left side. lymphovascular invasion is present. tumor is not present in extraprostatic soft tissue. tumor is not present in the seminal vesicles. tumor is not present at the soft tissue resection margin. focal necrosis, granuloma formation, and hyalinization present in the right side (a11, a15) and the left side (a21). ajcc stage (6th edition): t2b nx mx. note: this case was also reviewed by dr. m. loda, gu pathology service, who concurs. clinical data: history: none given. operation: robot assisted laparoscopic nerve sparring radical prostatectomy. operative findings: none given. clinical diagnosis: prostate cancer. tissue submitted: a/1. prostate (study). gross description: the specimen is received fresh, labeled with the patient\\'s name, unit number and \"#1. prostate\", and consists of a 48-gram radical prostatectomy specimen including prostate (5.5 x 4.2 x 3.8 cm), right seminal vesicle (3.0 x 1.1 x 0.8 cm), right vas deferens (2.8 cm in length x 0.4 cm in diameter), left vas deferens (2.2 cm in length x 0.5 cm in diameter), and left seminal vesicle (3.1 x 1.4 x 0.8 cm). the right side of the specimen is inked black and the left side of the specimen is inked blue. the specimen is serially sectioned from inferior to superior into a total of seven slices (slice #1 equals apex). in slice #2 and #3, there is a firm tan/yellow nodule (1.0 x 0.9 x 0.5 cm) in the left posterior lobe which is less than 0.1 cm to the left posterior capsule. in slice #5, there is a firm tan nodule (0.3 x 0.3 x 0.2 cm) in the left posterior lobe, comes within 0.3 cm of the left posterior capsule. the remaining prostate parenchyma is tan rubbery with moderate periureteral nodularity. the prostatic urethra (0.9 cm in maximum diameter) exhibits smooth hyperemic pink/tan mucosa. the adnexa are grossly unremarkable. slice #2 (ess) and slice #4 (ess) were previously allocated to the tissue bank. in addition, representative sections of both the right and left seminal vesicles were previously allocated to the tissue bank. the remaining slices (slice #3, #5, and #6) are entirely submitted for permanent section. micro a1: right apex/distal ureteral margin, radially sectioned, multi frags, ess. micro a2: left apex/distal ureteral margin, radially sectioned, 4 frags, ess. micro a3 through a4: right base/proximal ureteral margin, radially sectioned, multi frags in each, ess. micro a5 through a6: left base/proximal ureteral margin, radially sectioned, multi frags in each, ess. micro a7 through a8: slice 3ra, partially devoid of ink, 2 frags in each, ess. micro a9 through a10: slice 3la, partially devoid of ink, 2 frags in each, ess. micro a11 through a12: slice 3rp, 1 frag in each, ess. micro a13 through a14: slice 3lp, 1 frag in each, ess. micro a15 through a16: slice 5ra, 1 frag in each, ess. micro a17 through a18: slice 5la, partially devoid of ink, 1 frag in each, ess. micro a19 through a20: slice 5ra, partially devoid of ink, 1 frag in each, ess. micro a21 through a22: slice 5lp, partially devoid of ink, 1 frag in each, ess. micro a23 through a24: slice 6ra, 3 frags total, ess. micro a25 through a26: slice 6la, 2 frags in each, ess. micro a27: slice 6rp to include insertion of rsv and rvd margin en face, 3 frags, ess. micro a28 through a30: slice 6lp to include insertion of lsv and lvd margin (in a29), en face, multi frags, ess. micro a31 through a33: right seminal vesicle and right vas deferens, serially sectioned, multi frags total, ess. micro a34 through a36: left seminal vesicle and left vas deferens, serially sectioned, multi frags total, ess. case number: bs-07-49615. lm/ag by his/her signature below, the senior physician certifies that he/she personally conducted a microscopic examination (\"gross only\" exam if so stated) of the described specimen(s) and rendered or confirmed the diagnosis(es) related thereto. final diagnosis by hejin p hahn m.d., ph.d., electronically signed on 11/14/2007'"
            ],
            "application/vnd.google.colaboratory.intrinsic+json": {
              "type": "string"
            }
          },
          "metadata": {}
        },
        {
          "output_type": "display_data",
          "data": {
            "text/plain": [
              "'metas_df:'"
            ],
            "application/vnd.google.colaboratory.intrinsic+json": {
              "type": "string"
            }
          },
          "metadata": {}
        },
        {
          "output_type": "display_data",
          "data": {
            "text/plain": [
              "(6, 8)"
            ]
          },
          "metadata": {}
        },
        {
          "output_type": "display_data",
          "data": {
            "text/plain": [
              "'accession number: bs12a45661 report status: final type: surgical pathology specimen type: ureter biopsy procedure date: 10/03/2012 ordering provider: jerome p richie m.d. case: bs-12-a45661 patient: urgel dacosta resident: leigh compton, m.d., ph.d. pathologist: agoston tony agoston, m.d., ph.d. pathologic diagnosis: a. distal left ureter (including fsa): portion of ureter, negative for tumor and dysplasia. b. left pelvic lymph nodes: metastatic urothelial carcinoma involving one of five lymph nodes (1:5). c. bladder and prostate, cystoprostatectomy: urothelial carcinoma, high grade (at least 2.0cm), predominantly located in the prostate with focal extension into the bladder neck. bladder with chronic inflammation and focal ulceration. the ureteral, prostatic urethral, and peri-prostatic/vesicular soft tissue resection margins are negative for tumor. no lymphovascular invasion is identified. severe chronic inflammation and giant cell reaction are present involving predominantly the base of prostate and prostatic ducts. two lymph nodes, negative for tumor (0:2). clinical data: history: invasive operation: not given operative findings: not given clinical diagnosis: invasive bladder cancer tissue submitted: a/1. distal left ureter (fs). b/2. left pelvic node. c/3. bladder. o.r. consultation: specimen labeled \"#1. distal left ureter\" (fsa): negative for tumor. or consultation by: justine barletta, m.d. resident: annely richardson, m.d.?? the senior physician certifies that he/she personally conducted a gross and/or microscopic examination of the described specimen(s) and rendered or confirmed the rapid diagnos(es) related thereto. gross description: the specimen is received fresh, in three parts, each labeled with the patient\\'s name and medical record number. part a, \"#1. distal left ureter\", consists of a cross section of ureter with a small amount of attached soft tissue (0.6 x 0.4 x 0.3 cm). the specimen is entirely submitted for frozen section analysis as fsa. micro a1: ureter, fsa remnant, 1 frag, ess. part b, \"#2. left pelvic node\", consists of multiple tan/brown/yellow soft tissue fragments (5.8 x 4.0 x 2.2 cm) containing multiple potential lymph nodes (up to 2.0 cm in greatest dimension). the specimen is entirely submitted for histologic examination. micro b1: largest lymph node, bisected, 2 frags, ess. micro b2: lymph nodes, 2 frags, ess. micro b3-b5: remainder of soft tissue, multi frags, ess. part c, \"#3. urinary bladder\", consists of a cystoprostatectomy specimen including bladder (7.2 x 6.5 x 2.5 cm), prostate (3.7 x 3.2 x 1.5 cm), left ureter (2.0 cm in length x 0.4 cm in diameter), right seminal vesicle (4 x 1.5 x 1.0 cm), right vas deferens (10.2 cm in length x 0.4 cm in diameter), left seminal vesicle (4.5 x 1.5 x 1.0 cm), and left vas deferens (10.5 cm in length x 0.4 cm in diameter). the specimen is received with a catheter (15.8 cm in length x 0.7 cm in diameter) in the urethra. the right ureter is not grossly identified. the specimen is inked in the following manner (right prostate - black, left prostate - blue, anterior bladder - red, posterior bladder - black). there is a tan/white stellate/flattened scar/lesion (1.4 x 1.2 cm) that obliterates the right ureteral orifice, is 2.1 cm from the left ureteral orifice, and is 1.0 cm from the prostatic urethra. inferior to the scar and extending into the bladder neck and prostatic urethra is a firm slightly ulcerated and hemorrhagic area (1.8 x 1.8 cm) that is 2.4 cm from the left ureteral orifice. the scar and firm area do not appear to grossly extend into muscularis propria and are 3.2 cm from the deep margin. the left lateral prostate shows a previous disruption (1.8 cm, inked orange). the prostatic urethra appears diffusely hemorrhagic and congested. there is an irregular poorly circumscribed tan/white/brown nodule (1.2 x 0.8 x 0.6 cm), located in the apex of the prostate, 0.4 cm from the prostatic urethral margin. the prostate is serially sectioned into six slices with the apex as slice #1 and the base as slice #6. the prostate is entirely submitted for histologic examination. micro c1-c6: area of scar and bladder neck firmness, 1 frag each, ess. micro c7-c8: area of firmness extending from bladder neck to prostatic urethra, 1 frag each, ess. micro c9: lateral left bladder wall, 1 frag, rss. micro c10: posterior bladder wall, 1 frag, rss. micro c11: superior bladder wall, 1 frag, rss. micro c12: anterior bladder wall, 1 frag, rss. micro c13: left ureteral orifice, 1 frag, rss. micro c14: right prostatic apex, perpendicular sections, 4 frags, ess. micro c15: left prostatic apex, perpendicular sections, 5 frags, ess. micro c16: prostate 2r, 1 frag, ess. micro c17: prostate 2l, 1 frag, ess. micro c18: prostate 3r, 1 frag, ess. micro c19: prostate 3l, 1 frag, ess. micro c20: prostate 4r, 1 frag, ess. micro c21: prostate 4l, 1 frag, ess. micro c22: prostate 5r, 1 frag, ess. micro c23: prostate 5l, 1 frag, ess. micro c24: prostate 6r, 1 frag, ess. micro c25: prostate 6l, 1 frag, ess. micro c26: lymph node, 1 frag, ess. case number: bs-12-45661. dictated by: hwang, david by his/her signature below, the senior physician certifies that he/she personally conducted a microscopic examination (\"gross only\" exam if so stated) of the described specimen(s) and rendered or confirmed the diagnosis(es) related thereto. final diagnosis by agoston tony agoston m.d., ph.d., electronically signed on thursday october 11, 2012 at 02:31:22pm'"
            ],
            "application/vnd.google.colaboratory.intrinsic+json": {
              "type": "string"
            }
          },
          "metadata": {}
        },
        {
          "output_type": "display_data",
          "data": {
            "text/plain": [
              "(0, 8)"
            ]
          },
          "metadata": {}
        },
        {
          "output_type": "error",
          "ename": "IndexError",
          "evalue": "ignored",
          "traceback": [
            "\u001b[0;31m---------------------------------------------------------------------------\u001b[0m",
            "\u001b[0;31mIndexError\u001b[0m                                Traceback (most recent call last)",
            "\u001b[0;32m<ipython-input-102-e3e3c23af653>\u001b[0m in \u001b[0;36m<module>\u001b[0;34m()\u001b[0m\n\u001b[1;32m     53\u001b[0m \u001b[0mX_df\u001b[0m \u001b[0;34m=\u001b[0m \u001b[0mlymph_df_nostage\u001b[0m\u001b[0;34m[\u001b[0m\u001b[0mlymph_df_nostage\u001b[0m\u001b[0;34m[\u001b[0m\u001b[0;34m'Report_Text_noAN'\u001b[0m\u001b[0;34m]\u001b[0m\u001b[0;34m.\u001b[0m\u001b[0mstr\u001b[0m\u001b[0;34m.\u001b[0m\u001b[0mcontains\u001b[0m\u001b[0;34m(\u001b[0m\u001b[0;34m'|'\u001b[0m\u001b[0;34m.\u001b[0m\u001b[0mjoin\u001b[0m\u001b[0;34m(\u001b[0m\u001b[0msearchforX\u001b[0m\u001b[0;34m)\u001b[0m\u001b[0;34m)\u001b[0m\u001b[0;34m]\u001b[0m\u001b[0;34m\u001b[0m\u001b[0;34m\u001b[0m\u001b[0m\n\u001b[1;32m     54\u001b[0m \u001b[0mdisplay\u001b[0m\u001b[0;34m(\u001b[0m\u001b[0mX_df\u001b[0m\u001b[0;34m.\u001b[0m\u001b[0mshape\u001b[0m\u001b[0;34m)\u001b[0m\u001b[0;34m\u001b[0m\u001b[0;34m\u001b[0m\u001b[0m\n\u001b[0;32m---> 55\u001b[0;31m \u001b[0mdisplay\u001b[0m\u001b[0;34m(\u001b[0m\u001b[0mX_df\u001b[0m\u001b[0;34m.\u001b[0m\u001b[0mReport_Text\u001b[0m\u001b[0;34m.\u001b[0m\u001b[0miloc\u001b[0m \u001b[0;34m[\u001b[0m\u001b[0;36m5\u001b[0m\u001b[0;34m]\u001b[0m\u001b[0;34m)\u001b[0m\u001b[0;34m\u001b[0m\u001b[0;34m\u001b[0m\u001b[0m\n\u001b[0m\u001b[1;32m     56\u001b[0m \u001b[0;34m\u001b[0m\u001b[0m\n\u001b[1;32m     57\u001b[0m \u001b[0;34m\u001b[0m\u001b[0m\n",
            "\u001b[0;32m/usr/local/lib/python3.7/dist-packages/pandas/core/indexing.py\u001b[0m in \u001b[0;36m__getitem__\u001b[0;34m(self, key)\u001b[0m\n\u001b[1;32m    929\u001b[0m \u001b[0;34m\u001b[0m\u001b[0m\n\u001b[1;32m    930\u001b[0m             \u001b[0mmaybe_callable\u001b[0m \u001b[0;34m=\u001b[0m \u001b[0mcom\u001b[0m\u001b[0;34m.\u001b[0m\u001b[0mapply_if_callable\u001b[0m\u001b[0;34m(\u001b[0m\u001b[0mkey\u001b[0m\u001b[0;34m,\u001b[0m \u001b[0mself\u001b[0m\u001b[0;34m.\u001b[0m\u001b[0mobj\u001b[0m\u001b[0;34m)\u001b[0m\u001b[0;34m\u001b[0m\u001b[0;34m\u001b[0m\u001b[0m\n\u001b[0;32m--> 931\u001b[0;31m             \u001b[0;32mreturn\u001b[0m \u001b[0mself\u001b[0m\u001b[0;34m.\u001b[0m\u001b[0m_getitem_axis\u001b[0m\u001b[0;34m(\u001b[0m\u001b[0mmaybe_callable\u001b[0m\u001b[0;34m,\u001b[0m \u001b[0maxis\u001b[0m\u001b[0;34m=\u001b[0m\u001b[0maxis\u001b[0m\u001b[0;34m)\u001b[0m\u001b[0;34m\u001b[0m\u001b[0;34m\u001b[0m\u001b[0m\n\u001b[0m\u001b[1;32m    932\u001b[0m \u001b[0;34m\u001b[0m\u001b[0m\n\u001b[1;32m    933\u001b[0m     \u001b[0;32mdef\u001b[0m \u001b[0m_is_scalar_access\u001b[0m\u001b[0;34m(\u001b[0m\u001b[0mself\u001b[0m\u001b[0;34m,\u001b[0m \u001b[0mkey\u001b[0m\u001b[0;34m:\u001b[0m \u001b[0mtuple\u001b[0m\u001b[0;34m)\u001b[0m\u001b[0;34m:\u001b[0m\u001b[0;34m\u001b[0m\u001b[0;34m\u001b[0m\u001b[0m\n",
            "\u001b[0;32m/usr/local/lib/python3.7/dist-packages/pandas/core/indexing.py\u001b[0m in \u001b[0;36m_getitem_axis\u001b[0;34m(self, key, axis)\u001b[0m\n\u001b[1;32m   1564\u001b[0m \u001b[0;34m\u001b[0m\u001b[0m\n\u001b[1;32m   1565\u001b[0m             \u001b[0;31m# validate the location\u001b[0m\u001b[0;34m\u001b[0m\u001b[0;34m\u001b[0m\u001b[0;34m\u001b[0m\u001b[0m\n\u001b[0;32m-> 1566\u001b[0;31m             \u001b[0mself\u001b[0m\u001b[0;34m.\u001b[0m\u001b[0m_validate_integer\u001b[0m\u001b[0;34m(\u001b[0m\u001b[0mkey\u001b[0m\u001b[0;34m,\u001b[0m \u001b[0maxis\u001b[0m\u001b[0;34m)\u001b[0m\u001b[0;34m\u001b[0m\u001b[0;34m\u001b[0m\u001b[0m\n\u001b[0m\u001b[1;32m   1567\u001b[0m \u001b[0;34m\u001b[0m\u001b[0m\n\u001b[1;32m   1568\u001b[0m             \u001b[0;32mreturn\u001b[0m \u001b[0mself\u001b[0m\u001b[0;34m.\u001b[0m\u001b[0mobj\u001b[0m\u001b[0;34m.\u001b[0m\u001b[0m_ixs\u001b[0m\u001b[0;34m(\u001b[0m\u001b[0mkey\u001b[0m\u001b[0;34m,\u001b[0m \u001b[0maxis\u001b[0m\u001b[0;34m=\u001b[0m\u001b[0maxis\u001b[0m\u001b[0;34m)\u001b[0m\u001b[0;34m\u001b[0m\u001b[0;34m\u001b[0m\u001b[0m\n",
            "\u001b[0;32m/usr/local/lib/python3.7/dist-packages/pandas/core/indexing.py\u001b[0m in \u001b[0;36m_validate_integer\u001b[0;34m(self, key, axis)\u001b[0m\n\u001b[1;32m   1498\u001b[0m         \u001b[0mlen_axis\u001b[0m \u001b[0;34m=\u001b[0m \u001b[0mlen\u001b[0m\u001b[0;34m(\u001b[0m\u001b[0mself\u001b[0m\u001b[0;34m.\u001b[0m\u001b[0mobj\u001b[0m\u001b[0;34m.\u001b[0m\u001b[0m_get_axis\u001b[0m\u001b[0;34m(\u001b[0m\u001b[0maxis\u001b[0m\u001b[0;34m)\u001b[0m\u001b[0;34m)\u001b[0m\u001b[0;34m\u001b[0m\u001b[0;34m\u001b[0m\u001b[0m\n\u001b[1;32m   1499\u001b[0m         \u001b[0;32mif\u001b[0m \u001b[0mkey\u001b[0m \u001b[0;34m>=\u001b[0m \u001b[0mlen_axis\u001b[0m \u001b[0;32mor\u001b[0m \u001b[0mkey\u001b[0m \u001b[0;34m<\u001b[0m \u001b[0;34m-\u001b[0m\u001b[0mlen_axis\u001b[0m\u001b[0;34m:\u001b[0m\u001b[0;34m\u001b[0m\u001b[0;34m\u001b[0m\u001b[0m\n\u001b[0;32m-> 1500\u001b[0;31m             \u001b[0;32mraise\u001b[0m \u001b[0mIndexError\u001b[0m\u001b[0;34m(\u001b[0m\u001b[0;34m\"single positional indexer is out-of-bounds\"\u001b[0m\u001b[0;34m)\u001b[0m\u001b[0;34m\u001b[0m\u001b[0;34m\u001b[0m\u001b[0m\n\u001b[0m\u001b[1;32m   1501\u001b[0m \u001b[0;34m\u001b[0m\u001b[0m\n\u001b[1;32m   1502\u001b[0m     \u001b[0;31m# -------------------------------------------------------------------\u001b[0m\u001b[0;34m\u001b[0m\u001b[0;34m\u001b[0m\u001b[0;34m\u001b[0m\u001b[0m\n",
            "\u001b[0;31mIndexError\u001b[0m: single positional indexer is out-of-bounds"
          ]
        }
      ]
    },
    {
      "cell_type": "code",
      "source": [
        ""
      ],
      "metadata": {
        "id": "22NG_sF255a4"
      },
      "execution_count": null,
      "outputs": []
    },
    {
      "cell_type": "code",
      "source": [
        ""
      ],
      "metadata": {
        "id": "acdWee3v56dw"
      },
      "execution_count": null,
      "outputs": []
    },
    {
      "cell_type": "code",
      "source": [
        "def stage_found(string):\n",
        "  stage_df = lymph_df[lymph_df['Report_Text'].str.contains('|'.join(string))]\n",
        "  display(string, stage_df.shape)\n",
        "\n",
        "stage_found([\"ct1a\"])\n",
        "stage_found([\"ct1b\"])\n",
        "stage_found([\"ct1c\"])\n",
        "stage_found([\"ct2a\"])\n",
        "stage_found([\"ct2b\"])\n",
        "stage_found([\"ct2c\"])\n",
        "stage_found([\"pt2\"])\n",
        "stage_found([\"ct3a\"])\n",
        "stage_found([\"ct3b\"])\n",
        "stage_found([\"pt3a\"])\n",
        "stage_found([\"pt3b\"])\n",
        "stage_found([\"pt4\"])\n",
        "stage_found([\"ct1c\", \"ct2a\", \"ct2b\", \"pt2\", \"pt3a\", \"pt3b\", \"pt4\"])\n",
        "stage_found([\"report status: \"])\n",
        "stage_found([\"accession number: \"])\n"
      ],
      "metadata": {
        "colab": {
          "base_uri": "https://localhost:8080/",
          "height": 538
        },
        "id": "oSRU_8r25uqJ",
        "outputId": "e0765bc0-c975-4eb6-8292-11c39321ce8c"
      },
      "execution_count": null,
      "outputs": [
        {
          "output_type": "display_data",
          "data": {
            "text/plain": [
              "['ct1a']"
            ]
          },
          "metadata": {}
        },
        {
          "output_type": "display_data",
          "data": {
            "text/plain": [
              "(0, 8)"
            ]
          },
          "metadata": {}
        },
        {
          "output_type": "display_data",
          "data": {
            "text/plain": [
              "['ct1b']"
            ]
          },
          "metadata": {}
        },
        {
          "output_type": "display_data",
          "data": {
            "text/plain": [
              "(0, 8)"
            ]
          },
          "metadata": {}
        },
        {
          "output_type": "display_data",
          "data": {
            "text/plain": [
              "['ct1c']"
            ]
          },
          "metadata": {}
        },
        {
          "output_type": "display_data",
          "data": {
            "text/plain": [
              "(7, 8)"
            ]
          },
          "metadata": {}
        },
        {
          "output_type": "display_data",
          "data": {
            "text/plain": [
              "['ct2a']"
            ]
          },
          "metadata": {}
        },
        {
          "output_type": "display_data",
          "data": {
            "text/plain": [
              "(1, 8)"
            ]
          },
          "metadata": {}
        },
        {
          "output_type": "display_data",
          "data": {
            "text/plain": [
              "['ct2b']"
            ]
          },
          "metadata": {}
        },
        {
          "output_type": "display_data",
          "data": {
            "text/plain": [
              "(1, 8)"
            ]
          },
          "metadata": {}
        },
        {
          "output_type": "display_data",
          "data": {
            "text/plain": [
              "['ct2c']"
            ]
          },
          "metadata": {}
        },
        {
          "output_type": "display_data",
          "data": {
            "text/plain": [
              "(0, 8)"
            ]
          },
          "metadata": {}
        },
        {
          "output_type": "display_data",
          "data": {
            "text/plain": [
              "['pt2']"
            ]
          },
          "metadata": {}
        },
        {
          "output_type": "display_data",
          "data": {
            "text/plain": [
              "(4900, 8)"
            ]
          },
          "metadata": {}
        },
        {
          "output_type": "display_data",
          "data": {
            "text/plain": [
              "['ct3a']"
            ]
          },
          "metadata": {}
        },
        {
          "output_type": "display_data",
          "data": {
            "text/plain": [
              "(0, 8)"
            ]
          },
          "metadata": {}
        },
        {
          "output_type": "display_data",
          "data": {
            "text/plain": [
              "['ct3b']"
            ]
          },
          "metadata": {}
        },
        {
          "output_type": "display_data",
          "data": {
            "text/plain": [
              "(0, 8)"
            ]
          },
          "metadata": {}
        },
        {
          "output_type": "display_data",
          "data": {
            "text/plain": [
              "['pt3a']"
            ]
          },
          "metadata": {}
        },
        {
          "output_type": "display_data",
          "data": {
            "text/plain": [
              "(1526, 8)"
            ]
          },
          "metadata": {}
        },
        {
          "output_type": "display_data",
          "data": {
            "text/plain": [
              "['pt3b']"
            ]
          },
          "metadata": {}
        },
        {
          "output_type": "display_data",
          "data": {
            "text/plain": [
              "(548, 8)"
            ]
          },
          "metadata": {}
        },
        {
          "output_type": "display_data",
          "data": {
            "text/plain": [
              "['pt4']"
            ]
          },
          "metadata": {}
        },
        {
          "output_type": "display_data",
          "data": {
            "text/plain": [
              "(76, 8)"
            ]
          },
          "metadata": {}
        },
        {
          "output_type": "display_data",
          "data": {
            "text/plain": [
              "['ct1c', 'ct2a', 'ct2b', 'pt2', 'pt3a', 'pt3b', 'pt4']"
            ]
          },
          "metadata": {}
        },
        {
          "output_type": "display_data",
          "data": {
            "text/plain": [
              "(6970, 8)"
            ]
          },
          "metadata": {}
        },
        {
          "output_type": "display_data",
          "data": {
            "text/plain": [
              "['report status: ']"
            ]
          },
          "metadata": {}
        },
        {
          "output_type": "display_data",
          "data": {
            "text/plain": [
              "(14597, 8)"
            ]
          },
          "metadata": {}
        },
        {
          "output_type": "display_data",
          "data": {
            "text/plain": [
              "['accession number: ']"
            ]
          },
          "metadata": {}
        },
        {
          "output_type": "display_data",
          "data": {
            "text/plain": [
              "(14597, 8)"
            ]
          },
          "metadata": {}
        }
      ]
    },
    {
      "cell_type": "code",
      "source": [
        ""
      ],
      "metadata": {
        "colab": {
          "base_uri": "https://localhost:8080/"
        },
        "id": "rCXj9dD8iJfd",
        "outputId": "711e8c5f-1436-4ac7-9a4c-a9d88cf1ed5a"
      },
      "execution_count": null,
      "outputs": [
        {
          "output_type": "stream",
          "name": "stderr",
          "text": [
            "/usr/local/lib/python3.7/dist-packages/ipykernel_launcher.py:1: SettingWithCopyWarning: \n",
            "A value is trying to be set on a copy of a slice from a DataFrame.\n",
            "Try using .loc[row_indexer,col_indexer] = value instead\n",
            "\n",
            "See the caveats in the documentation: https://pandas.pydata.org/pandas-docs/stable/user_guide/indexing.html#returning-a-view-versus-a-copy\n",
            "  \"\"\"Entry point for launching an IPython kernel.\n"
          ]
        },
        {
          "output_type": "execute_result",
          "data": {
            "text/plain": [
              "0        report status: final type: surgical pathology ...\n",
              "1        report status: final type: surgical pathology ...\n",
              "2         report status: final type: surgical pathology...\n",
              "3        report status: final type: surgical pathology ...\n",
              "5        report status: final type: surgical pathology ...\n",
              "                               ...                        \n",
              "16651    report status: final type: surgical pathology ...\n",
              "16652    report status: final type: surgical pathology ...\n",
              "16653    report status: final type: surgical pathology ...\n",
              "16654    report status: final type: surgical pathology ...\n",
              "16655     report status: final type: surgical pathology...\n",
              "Name: Report_Text_noAN, Length: 14597, dtype: object"
            ]
          },
          "metadata": {},
          "execution_count": 176
        }
      ]
    },
    {
      "cell_type": "code",
      "source": [
        ""
      ],
      "metadata": {
        "colab": {
          "base_uri": "https://localhost:8080/",
          "height": 35
        },
        "id": "HGTaGRFkiAj0",
        "outputId": "df192132-1b00-489b-c0c3-550b33d76ee2"
      },
      "execution_count": null,
      "outputs": [
        {
          "output_type": "execute_result",
          "data": {
            "text/plain": [
              "'lymph node, negative for'"
            ],
            "application/vnd.google.colaboratory.intrinsic+json": {
              "type": "string"
            }
          },
          "metadata": {},
          "execution_count": 127
        }
      ]
    },
    {
      "cell_type": "code",
      "source": [
        "# LN metastasis labeling\n",
        "searchforNOMETAS = [\"lymph node negative for\",\n",
        "                    \"lymph node, negative for\",\n",
        "                    \"lymph node; negative for\",\n",
        "                    \"lymph node: negative for\",\n",
        "                    \"lymph nodes negative for\",\n",
        "                    \"lymph nodes, negative for\",\n",
        "                    \"lymph nodes: negative for\",\n",
        "                    \"lymph nodes; negative for\",\n",
        "\n",
        "                    \"lymph node; no tumor\",\n",
        "                    \"lymph node; no malign\",\n",
        "                    \"lymph node; no metas\",\n",
        "                    \"lymph node; no carcin\",\n",
        "                    \"lymph node; no evidence of\",\n",
        "\n",
        "                    \"lymph nodes with no evidence of metas\",\n",
        "\n",
        "                    \"benign lymph node\",\n",
        "\n",
        "                    #\"no lymphatic invasion\",\n",
        "                    #\"no lymphatic or vascular invasion\",\n",
        "                    #\"no vascular or lymphatic invasion\",\n",
        "                    #\"no lymphovascular invasion\",\n",
        "                    #\"lymphovascular invasion: not identified\",\n",
        "                    #\"no lymphatic vascular invasion\",\n",
        "                    #\"lymph-vascular invasion: not identified\",\n",
        "                  \n",
        "                    \"no evidence of malignan\",\n",
        "                    \n",
        "                    \"lymph node with no tumor\",\n",
        "                    \"lymph nodes with no tumor\",\n",
        "                    \n",
        "                    \"lymph node with no carcinoma\",\n",
        "                    \"lymph nodes with no carcinoma\",\n",
        "\n",
        "                    #\"no evidence of perineural or lymphovascular involvement\",\n",
        "                    #\"no lymphatic/vascular invasion\",\n",
        "                    #\"no perineural or lymphovascular invasion\",\n",
        "                    #\"no evidence of lymphovascular involvement\",\n",
        "                    #\"neither perineural nor lymphovascular invasion\",\n",
        "                    #\"lymphovascular invasion is not identified\",\n",
        "                    #\"lymphovascular invasion and perineural invasion are not identified\",\n",
        "                    #\"no definitive lymphovascular invasion\",\n",
        "                    #\"no definite lymphovascular invasion\",\n",
        "                    #\"no definite angiolymphatic invasion\",\n",
        "                    #\"lymphovascular invasion is not seen\",\n",
        "                    #\"no definitive lymphovascular\",\n",
        "                    \"uninvolved by invasive carcinoma regional lymph nodes\",\n",
        "                    #\"lymphatic invasion is not seen\",\n",
        "                    #\"lymphovascular invasion and extraprostatic extension are not identified\",\n",
        "                    #\"lymphovascular invasion: absent\",\n",
        "                    #\"lymphatic/vascular invasion is not identified\",\n",
        "                    #\"no lymphovascular or perineural invasion is identified\",\n",
        "\n",
        "                    \"no definite lymph\",\n",
        "                    \"no definite perin\"\n",
        "                  ];\n",
        "#metas_df = lymph_df[~lymph_df['Report_Text'].str.contains('|'.join(searchforNOMETAS))]\n",
        "nometas_df = lymph_df_nostage[lymph_df_nostage['Report_Text'].str.contains('|'.join(searchforNOMETAS))]\n",
        "display(nometas_df.shape)\n",
        "Xnometas_df = lymph_df_nostage[~lymph_df_nostage['Report_Text'].str.contains('|'.join(searchforNOMETAS))]\n",
        "display(Xnometas_df.shape)\n",
        "search_report = 10\n",
        "display(\"Xnometas example report\", Xnometas_df.Report_Text.iloc[search_report])\n",
        "display(\"Xnometas example report\", Xnometas_df.Report_Text.iloc[search_report+1])\n",
        "display(\"Xnometas example report\", Xnometas_df.Report_Text.iloc[search_report+2])\n",
        "\n",
        "searchforMETAS = [\"lymph-vascular invasion: present\",\n",
        "                  \"lymphovascular invasion: present\",\n",
        "                  \"lymph node: metas\",\n",
        "                  \"lymph nodes: metas\"];\n",
        "metas_df = lymph_df_nostage[lymph_df_nostage['Report_Text'].str.contains('|'.join(searchforMETAS))]\n",
        "display(\"metas_df:\", metas_df.shape)\n",
        "#display(metas_df.Report_Text.iloc[2])\n",
        "\n",
        "searchforX = [\"no definitive perineural invasion or lymphovascular invasion is identified\"];\n",
        "# no definitive lymphovascular invasion = 569\n",
        "# no definite lymphovascular invasion = 126\n",
        "# no definite angiolymphatic invasion = 6\n",
        "# lymphovascular invasion is not seen = 185\n",
        "# no definitive lymphovascular = 683\n",
        "# lymphatic invasion is not seen = 31\n",
        "# \"lymphovascular invasion and extraprostatic extension are not identified\" = 2\n",
        "# lymphovascular invasion: absent = 40\n",
        "# lymph nodes with no evidence of metas = 10\n",
        "# lymphatic/vascular invasion is not identified = 3\n",
        "# no definite lymph = 8\n",
        "# no definite perin = 6\n",
        "# no lymphovascular or perineural invasion is identified = 19\n",
        "\n",
        "# ASK MADHUR - uninvolved by invasive carcinoma regional lymph nodes = 461\n",
        "\n",
        "X_df = Xnometas_df[Xnometas_df['Report_Text'].str.contains('|'.join(searchforX))]\n",
        "display(X_df.shape)\n",
        "display(X_df.Report_Text.iloc [2])\n",
        "\n",
        "#searchforAJCC = [\" n0 \", \" n1 \", \" nx \", \"no mx\"];\n",
        "#noAJCC_df = lymph_df[~lymph_df['Report_Text'].str.contains('|'.join(searchforAJCC))]\n",
        "#display(noAJCC_df.shape)\n",
        "#display(noAJCC_df.Report_Text.iloc [5])\n",
        "\n",
        "\n",
        "# string_found(\"n0\",)\n",
        "#searchforxn0x = [\" n0 \"];\n",
        "#xn0x_df = lymph_df[lymph_df['Report_Text'].str.contains('|'.join(searchforxn0x))]\n",
        "#searchforxn1x = [\" n1 \"];\n",
        "#xn1x_df = lymph_df[lymph_df['Report_Text'].str.contains('|'.join(searchforxn1x))]\n",
        "#searchforxnxx = [\" nx \"];\n",
        "#xnxx_df = lymph_df[lymph_df['Report_Text'].str.contains('|'.join(searchforxnxx))]\n",
        "\n",
        "#searchforMETAS = [\"lymph node; no evidence of\"];\n",
        "#metas_df = lymph_df[lymph_df['Report_Text'].str.contains('|'.join(searchforMETAS))]\n",
        "\n",
        "#secondscreen = [\"lymph nodes: negative for tumor\",\n",
        "#                \"lymph nodes: negative for malign\",\n",
        "#                \"lymph nodes: negative for carcin\",\n",
        "#                \"lymph nodes: negative for metas\"]\n",
        "#display(metas_df.shape)\n",
        "#display(metas_df.Report_Text.iloc[1])\n",
        "#display(metas_df[metas_df['Report_Text'].str.contains('|'.join(secondscreen))].shape)\n",
        "#display(metas_df[~metas_df['Report_Text'].str.contains('|'.join(secondscreen))].Report_Text.iloc[0])\n",
        "\n",
        "# Overlap between datasets\n",
        "#list(set(nometas_df.EMPI) & set(xn1x_df.EMPI))"
      ],
      "metadata": {
        "colab": {
          "base_uri": "https://localhost:8080/",
          "height": 909
        },
        "id": "y0mAaKTRqjwU",
        "outputId": "b34f1357-e87b-4cd8-fa99-9e80a033c700"
      },
      "execution_count": null,
      "outputs": [
        {
          "output_type": "display_data",
          "data": {
            "text/plain": [
              "(4913, 7)"
            ]
          },
          "metadata": {}
        },
        {
          "output_type": "display_data",
          "data": {
            "text/plain": [
              "(794, 7)"
            ]
          },
          "metadata": {}
        },
        {
          "output_type": "display_data",
          "data": {
            "text/plain": [
              "'Xnometas example report'"
            ],
            "application/vnd.google.colaboratory.intrinsic+json": {
              "type": "string"
            }
          },
          "metadata": {}
        },
        {
          "output_type": "display_data",
          "data": {
            "text/plain": [
              "'accession number: ms09r34960 report status: final type: surgical pathology pathology report: ms-09-r34960 case: ms-09-r34960 patient: don hawley date taken: 6/2/2009 source care unit: mgh inpatient path subspecialty service: genito-urinary results to: douglas middleton dahl, m.d. resident: ricard masia, m.d. signed out by: peter m sadow, m.d., ph.d. clinical data: prostate cancer. final diagnosis: prostate, prostatectomy (60.3 gm): adenocarcinoma, gleason score 3 + 3 = 6/10, bilateral (pt2c), involving <5% of examined tissue, confined to the prostate (see note). note: all surgical margins, seminal vesicles and vasa deferentia are negative for carcinoma. no perineural or lymphovascular invasion is identified. gross description: received fresh, labeled don hawley, #468-32-24 and \"prostate\", is a 60.3 gram, 5.5 x 5.0 x 4.5 cm radical prostatectomy specimen with unremarkable external surface. the left vas deferens measures 3.4 cm in length and 0.3 cm in diameter, the right vas deferens measures 3.2 cm in length and 0.3 cm in diameter, and they are both unremarkable. the left seminal vesicle measures 3.2 x 1.1 x 0.5 cm, the right seminal vesicle measures 2.8 x 1.5 x 0.6 cm, and they are both unremarkable. the specimen is inked as follows: left - black, right - blue. the proximal and distal urethral margins are taken en face and radially sectioned. the specimen is serially sectioned transversely to reveal a tan-white to yellow parenchymal cut surface with multiple rubbery nodules up to 0.6 cm in diameter, with no hemorrhage or other focal lesions. tissue is taken for tumor bank. tissue is taken for tumor banking. representative sections are submitted as follows: a1-a2: proximal urethral margin, radially sectioned. a3-a4: distal urethral margin, radially sectioned. a5: representative left vas deferens (cross-section), and seminal vesicle (radial to prostate). a6: representative right vas deferens (cross-section), and seminal vesicle (radial to prostate). a7-a10: representative left anterior quadrant, superior to inferior. a11-a14: representative left posterior quadrant, superior to inferior. a15-a18: representative right anterior quadrant, superior to inferior. a19-a22: representative right posterior quadrant, superior to inferior. final diagnosis by peter m sadow m.d., ph.d., electronically signed on thursday june 04, 2009 at 10:08:27am by his/her signature above, the pathologist listed as making the final diagnosis certifies that he/she has personally reviewed this case and confirmed or corrected the diagnoses. part : prostate, radical prostatectomy'"
            ],
            "application/vnd.google.colaboratory.intrinsic+json": {
              "type": "string"
            }
          },
          "metadata": {}
        },
        {
          "output_type": "display_data",
          "data": {
            "text/plain": [
              "'Xnometas example report'"
            ],
            "application/vnd.google.colaboratory.intrinsic+json": {
              "type": "string"
            }
          },
          "metadata": {}
        },
        {
          "output_type": "display_data",
          "data": {
            "text/plain": [
              "'accession number: s12-32251 report status: final type: surgical pathology pathology report: s12-32251 massachusetts general hospital boston, ma 02114 tel (617) 726-2967 surgical pathology report accession #: s12-32251 patient name: costanza, felix j. dob: 7/1/1946 (age: 65) sex: m mrn: 4743521 location: pac institution: mgh date of operation: 5/21/2012 date of accession: 5/21/2012 reported: 5/25/2012 19:32 results to: francis james mcgovern md final pathologic diagnosis: a. prostate radical prostatectomy: prostate adenocarcinoma, gleason score 3+4=7, involving the right posterior, right anterior, and left posterior quadrants (<20% of total tissue examined) confined to the gland (pt2). perineural invasion is seen. seminal vesicle and vasa deferentia with no diagnostic abnormality recognized. note: surgical margins are free of tumor. no definitive lymphovascular invasion is seen. ***electronically signed out by esther oliva md*** clinical history 55 year old man with prostate cancer. specimens submitted: a: prostate radical prostatectomy gross description a. received fresh, labeled felix costanza, #474-35-21 & \"prostate\", is a 48 gram radical prostatectomy specimen with a 4.5 x 4.0 x 3.6 cm prostate, bilateral vasa deferentia (left-1.0 x 0.5 cm, right-1.1 x 0.5 cm), and portions of bilateral seminal vesicles (left-1.1 x 0.9 x 0.6 cm, right-1.4 x 1.2 x 0.5 cm). the specimen is inked: right-blue, left-black. the apical and blader base margins are shaved and serially sectioned. the specimen is cut into a quadrant and each is serially sectioned to reveal pink-tan, whorled parenchyma with focal nodularity and gritty calcification in the posterior prostate. representative sections are submitted as follows: a1-a2: apical margin, radial. a3-a4: bladder base margin, radial. a5: left vas deferens, en face margin and left seminal vesicle. a6: right vas deferens, en face margin and right seminal vesicle. a7-a10: left posterior prostate, apex to base. a11-a14: right posterior prostate, apex to base. a15-a18: left anterior prostate, apex to base. a19-a22: right anterior prostate, apex to base. part : prostate radical prostatectomy'"
            ],
            "application/vnd.google.colaboratory.intrinsic+json": {
              "type": "string"
            }
          },
          "metadata": {}
        },
        {
          "output_type": "display_data",
          "data": {
            "text/plain": [
              "'Xnometas example report'"
            ],
            "application/vnd.google.colaboratory.intrinsic+json": {
              "type": "string"
            }
          },
          "metadata": {}
        },
        {
          "output_type": "display_data",
          "data": {
            "text/plain": [
              "'accession number: ms09r79188 report status: final type: surgical pathology pathology report: ms-09-r79188 case: ms-09-r79188 patient: jeffrey kroesen date taken: 12/8/2009 source care unit: mgh inpatient path subspecialty service: genito-urinary results to: douglas middleton dahl, m.d. resident: yeowon kim, m.d. signed out by: colleen a lamb, m.d. clinical data: prostate cancer. final diagnosis: prostate, radical prostatectomy: adenocarcinoma, gleason score 3+3 = 6/10, very focally involving the right and left lobes, confined to the prostate (pt2). note: the vasa deferentia and seminal vesicles are uninvolved by tumor. all resection margins are negative. no perineural or lymphovascular invasion is seen. gross description: received fresh, labeled jeffrey kroesen, #475-86-40 and \"prostate\", is a 49.1 gram, 5.2 x 4.5 x 4.5 cm prostate with attached grossly unremarkable 4.5 cm in length x 0.9 cm in diameter left vas deferens, 4.5 x 2.0 x 1.1 cm fragmented left seminal vesicle, 4.7 cm in length x 1.0 cm in diameter right vas deferens, and 5.0 x 1.5 x 1.0 cm right seminal vesicle. also received within the container is a 3.0 x 2.0 x 0.6 cm piece of seminal vesicle. the specimen is inked as follows: right - blue, left - black. the specimen is sectioned to reveal a diffusely nodular, rubbery, tan-pink cut surface. no discrete masses or lesions are identified. representative sections are submitted as follows: a1-a2: apex, from anterior to posterior. a3-a4: base, from anterior to posterior. a5: right vas deferens and seminal vesicle. a6: left vas deferens and seminal vesicle. a7-a10: right anterior prostate, from base to apex. a11-a14: right posterior prostate, from base to apex. a15-a18: left anterior prostate, from base to apex. a19-a22: left posterior prostate, from base to apex. final diagnosis by colleen a lamb m.d., electronically signed on thursday december 10, 2009 at 05:52:55pm by his/her signature above, the pathologist listed as making the final diagnosis certifies that he/she has personally reviewed this case and confirmed or corrected the diagnoses. part : prostate, radical prostatectomy'"
            ],
            "application/vnd.google.colaboratory.intrinsic+json": {
              "type": "string"
            }
          },
          "metadata": {}
        },
        {
          "output_type": "display_data",
          "data": {
            "text/plain": [
              "'metas_df:'"
            ],
            "application/vnd.google.colaboratory.intrinsic+json": {
              "type": "string"
            }
          },
          "metadata": {}
        },
        {
          "output_type": "display_data",
          "data": {
            "text/plain": [
              "(67, 7)"
            ]
          },
          "metadata": {}
        },
        {
          "output_type": "display_data",
          "data": {
            "text/plain": [
              "(2, 7)"
            ]
          },
          "metadata": {}
        },
        {
          "output_type": "error",
          "ename": "IndexError",
          "evalue": "ignored",
          "traceback": [
            "\u001b[0;31m---------------------------------------------------------------------------\u001b[0m",
            "\u001b[0;31mIndexError\u001b[0m                                Traceback (most recent call last)",
            "\u001b[0;32m<ipython-input-100-1ad646a16b95>\u001b[0m in \u001b[0;36m<module>\u001b[0;34m()\u001b[0m\n\u001b[1;32m     94\u001b[0m \u001b[0mX_df\u001b[0m \u001b[0;34m=\u001b[0m \u001b[0mXnometas_df\u001b[0m\u001b[0;34m[\u001b[0m\u001b[0mXnometas_df\u001b[0m\u001b[0;34m[\u001b[0m\u001b[0;34m'Report_Text'\u001b[0m\u001b[0;34m]\u001b[0m\u001b[0;34m.\u001b[0m\u001b[0mstr\u001b[0m\u001b[0;34m.\u001b[0m\u001b[0mcontains\u001b[0m\u001b[0;34m(\u001b[0m\u001b[0;34m'|'\u001b[0m\u001b[0;34m.\u001b[0m\u001b[0mjoin\u001b[0m\u001b[0;34m(\u001b[0m\u001b[0msearchforX\u001b[0m\u001b[0;34m)\u001b[0m\u001b[0;34m)\u001b[0m\u001b[0;34m]\u001b[0m\u001b[0;34m\u001b[0m\u001b[0;34m\u001b[0m\u001b[0m\n\u001b[1;32m     95\u001b[0m \u001b[0mdisplay\u001b[0m\u001b[0;34m(\u001b[0m\u001b[0mX_df\u001b[0m\u001b[0;34m.\u001b[0m\u001b[0mshape\u001b[0m\u001b[0;34m)\u001b[0m\u001b[0;34m\u001b[0m\u001b[0;34m\u001b[0m\u001b[0m\n\u001b[0;32m---> 96\u001b[0;31m \u001b[0mdisplay\u001b[0m\u001b[0;34m(\u001b[0m\u001b[0mX_df\u001b[0m\u001b[0;34m.\u001b[0m\u001b[0mReport_Text\u001b[0m\u001b[0;34m.\u001b[0m\u001b[0miloc\u001b[0m \u001b[0;34m[\u001b[0m\u001b[0;36m2\u001b[0m\u001b[0;34m]\u001b[0m\u001b[0;34m)\u001b[0m\u001b[0;34m\u001b[0m\u001b[0;34m\u001b[0m\u001b[0m\n\u001b[0m\u001b[1;32m     97\u001b[0m \u001b[0;34m\u001b[0m\u001b[0m\n\u001b[1;32m     98\u001b[0m \u001b[0;31m#searchforAJCC = [\" n0 \", \" n1 \", \" nx \", \"no mx\"];\u001b[0m\u001b[0;34m\u001b[0m\u001b[0;34m\u001b[0m\u001b[0;34m\u001b[0m\u001b[0m\n",
            "\u001b[0;32m/usr/local/lib/python3.7/dist-packages/pandas/core/indexing.py\u001b[0m in \u001b[0;36m__getitem__\u001b[0;34m(self, key)\u001b[0m\n\u001b[1;32m    929\u001b[0m \u001b[0;34m\u001b[0m\u001b[0m\n\u001b[1;32m    930\u001b[0m             \u001b[0mmaybe_callable\u001b[0m \u001b[0;34m=\u001b[0m \u001b[0mcom\u001b[0m\u001b[0;34m.\u001b[0m\u001b[0mapply_if_callable\u001b[0m\u001b[0;34m(\u001b[0m\u001b[0mkey\u001b[0m\u001b[0;34m,\u001b[0m \u001b[0mself\u001b[0m\u001b[0;34m.\u001b[0m\u001b[0mobj\u001b[0m\u001b[0;34m)\u001b[0m\u001b[0;34m\u001b[0m\u001b[0;34m\u001b[0m\u001b[0m\n\u001b[0;32m--> 931\u001b[0;31m             \u001b[0;32mreturn\u001b[0m \u001b[0mself\u001b[0m\u001b[0;34m.\u001b[0m\u001b[0m_getitem_axis\u001b[0m\u001b[0;34m(\u001b[0m\u001b[0mmaybe_callable\u001b[0m\u001b[0;34m,\u001b[0m \u001b[0maxis\u001b[0m\u001b[0;34m=\u001b[0m\u001b[0maxis\u001b[0m\u001b[0;34m)\u001b[0m\u001b[0;34m\u001b[0m\u001b[0;34m\u001b[0m\u001b[0m\n\u001b[0m\u001b[1;32m    932\u001b[0m \u001b[0;34m\u001b[0m\u001b[0m\n\u001b[1;32m    933\u001b[0m     \u001b[0;32mdef\u001b[0m \u001b[0m_is_scalar_access\u001b[0m\u001b[0;34m(\u001b[0m\u001b[0mself\u001b[0m\u001b[0;34m,\u001b[0m \u001b[0mkey\u001b[0m\u001b[0;34m:\u001b[0m \u001b[0mtuple\u001b[0m\u001b[0;34m)\u001b[0m\u001b[0;34m:\u001b[0m\u001b[0;34m\u001b[0m\u001b[0;34m\u001b[0m\u001b[0m\n",
            "\u001b[0;32m/usr/local/lib/python3.7/dist-packages/pandas/core/indexing.py\u001b[0m in \u001b[0;36m_getitem_axis\u001b[0;34m(self, key, axis)\u001b[0m\n\u001b[1;32m   1564\u001b[0m \u001b[0;34m\u001b[0m\u001b[0m\n\u001b[1;32m   1565\u001b[0m             \u001b[0;31m# validate the location\u001b[0m\u001b[0;34m\u001b[0m\u001b[0;34m\u001b[0m\u001b[0;34m\u001b[0m\u001b[0m\n\u001b[0;32m-> 1566\u001b[0;31m             \u001b[0mself\u001b[0m\u001b[0;34m.\u001b[0m\u001b[0m_validate_integer\u001b[0m\u001b[0;34m(\u001b[0m\u001b[0mkey\u001b[0m\u001b[0;34m,\u001b[0m \u001b[0maxis\u001b[0m\u001b[0;34m)\u001b[0m\u001b[0;34m\u001b[0m\u001b[0;34m\u001b[0m\u001b[0m\n\u001b[0m\u001b[1;32m   1567\u001b[0m \u001b[0;34m\u001b[0m\u001b[0m\n\u001b[1;32m   1568\u001b[0m             \u001b[0;32mreturn\u001b[0m \u001b[0mself\u001b[0m\u001b[0;34m.\u001b[0m\u001b[0mobj\u001b[0m\u001b[0;34m.\u001b[0m\u001b[0m_ixs\u001b[0m\u001b[0;34m(\u001b[0m\u001b[0mkey\u001b[0m\u001b[0;34m,\u001b[0m \u001b[0maxis\u001b[0m\u001b[0;34m=\u001b[0m\u001b[0maxis\u001b[0m\u001b[0;34m)\u001b[0m\u001b[0;34m\u001b[0m\u001b[0;34m\u001b[0m\u001b[0m\n",
            "\u001b[0;32m/usr/local/lib/python3.7/dist-packages/pandas/core/indexing.py\u001b[0m in \u001b[0;36m_validate_integer\u001b[0;34m(self, key, axis)\u001b[0m\n\u001b[1;32m   1498\u001b[0m         \u001b[0mlen_axis\u001b[0m \u001b[0;34m=\u001b[0m \u001b[0mlen\u001b[0m\u001b[0;34m(\u001b[0m\u001b[0mself\u001b[0m\u001b[0;34m.\u001b[0m\u001b[0mobj\u001b[0m\u001b[0;34m.\u001b[0m\u001b[0m_get_axis\u001b[0m\u001b[0;34m(\u001b[0m\u001b[0maxis\u001b[0m\u001b[0;34m)\u001b[0m\u001b[0;34m)\u001b[0m\u001b[0;34m\u001b[0m\u001b[0;34m\u001b[0m\u001b[0m\n\u001b[1;32m   1499\u001b[0m         \u001b[0;32mif\u001b[0m \u001b[0mkey\u001b[0m \u001b[0;34m>=\u001b[0m \u001b[0mlen_axis\u001b[0m \u001b[0;32mor\u001b[0m \u001b[0mkey\u001b[0m \u001b[0;34m<\u001b[0m \u001b[0;34m-\u001b[0m\u001b[0mlen_axis\u001b[0m\u001b[0;34m:\u001b[0m\u001b[0;34m\u001b[0m\u001b[0;34m\u001b[0m\u001b[0m\n\u001b[0;32m-> 1500\u001b[0;31m             \u001b[0;32mraise\u001b[0m \u001b[0mIndexError\u001b[0m\u001b[0;34m(\u001b[0m\u001b[0;34m\"single positional indexer is out-of-bounds\"\u001b[0m\u001b[0;34m)\u001b[0m\u001b[0;34m\u001b[0m\u001b[0;34m\u001b[0m\u001b[0m\n\u001b[0m\u001b[1;32m   1501\u001b[0m \u001b[0;34m\u001b[0m\u001b[0m\n\u001b[1;32m   1502\u001b[0m     \u001b[0;31m# -------------------------------------------------------------------\u001b[0m\u001b[0;34m\u001b[0m\u001b[0;34m\u001b[0m\u001b[0;34m\u001b[0m\u001b[0m\n",
            "\u001b[0;31mIndexError\u001b[0m: single positional indexer is out-of-bounds"
          ]
        }
      ]
    },
    {
      "cell_type": "code",
      "source": [
        ""
      ],
      "metadata": {
        "id": "cnXp6kLrQrIL"
      },
      "execution_count": null,
      "outputs": []
    },
    {
      "cell_type": "code",
      "source": [
        ""
      ],
      "metadata": {
        "id": "rQNksRcCHS7W"
      },
      "execution_count": null,
      "outputs": []
    },
    {
      "cell_type": "code",
      "source": [
        ""
      ],
      "metadata": {
        "id": "LBbfG9itHLfK"
      },
      "execution_count": null,
      "outputs": []
    },
    {
      "cell_type": "code",
      "source": [
        ""
      ],
      "metadata": {
        "id": "Aldx_EZRrVp1"
      },
      "execution_count": null,
      "outputs": []
    },
    {
      "cell_type": "code",
      "source": [
        "searchfor = ['metas', 'malignan','tumor','invasion','confined']\n",
        "final_df = lymph_df[lymph_df['Report_Text'].str.contains('|'.join(searchfor))]"
      ],
      "metadata": {
        "id": "uO4M5ZkWALP9"
      },
      "execution_count": null,
      "outputs": []
    },
    {
      "cell_type": "code",
      "source": [
        "# check for n+digit "
      ],
      "metadata": {
        "id": "TStZ7DclnQJ8"
      },
      "execution_count": null,
      "outputs": []
    },
    {
      "cell_type": "code",
      "source": [
        "final_df[final_df['Report_Text'].str.contains('meta')].Report_Text.iloc[4]"
      ],
      "metadata": {
        "id": "pIEeZGNfALSp",
        "colab": {
          "base_uri": "https://localhost:8080/",
          "height": 192
        },
        "outputId": "3630a99f-0e99-4770-96bf-5805ba284f38"
      },
      "execution_count": null,
      "outputs": [
        {
          "output_type": "execute_result",
          "data": {
            "text/plain": [
              "'accession number: bs19f04711 report status: updated type: surgical pathology procedure date: 01/24/2019 ordering provider: adam stuart kibel m.d. case: bs-19-f04711 patient: charles risio brigham and women\\'s hospital department of pathology 75 francis street, boston, ma 02115 clia license no.: 22d0705149 laboratory director: dr. christopher d.m. fletcher physician: adam stuart kibel, m.d. procedure date: 01/24/2019 ========== revised report ========== resident: andres acosta, m.d. pathologist: michelle s. hirsch, m.d., ph.d. pathologic diagnosis: a. prostate, seminal vesicles and periprostatic fat, prostatectomy: prostatic adenocarcinoma. tumor fecally invades the extraprostatic soft tissue. resection margins are negative for tumor. see synoptic report below for detailed findings. b. additional left lateral margin: fibroconnective tissue, negative for tumor. c. right pelvic lymph nodes: seven (7) lymph nodes, negative for tumor. d. left pelvic lymph nodes: metastatic prostatic adenocarcinoma (up to 0.1 cm), involving two of five (2:5) lymph nodes (best seen in levels d1-9 and d1-10) (see note). the prostatic carcinoma is positive for nkx3.1 (immunohistochemistry performed on multiple levels). multiple h&e levels were examined. note: areas of fibrosis in the lymph node fragments (slide d1) were concerning for carcinoma; however, definitive carcinoma could not be identified in the original h&e level. multiple h&e stained slides as well as multiple nkx3.1 immunostains were obtained and definitive carcinoma was identified by both staining methods (best see in slides d1-9 and d1-10). comment: this case was revised to update the lymph node status from negative to positive for carcinoma. these results were emailed to dr. a. kibel on 2/5/2019. prostate gland synoptic report procedure: radical prostatectomy histologic type: acinar histologic grade: na intraductal carcinoma (idc): not identified tumor quantitation: greatest dimension: 1.3 extraprostatic extension (epe): present, focal, right posterior (slide a13) urinary bladder neck invasion: not identified seminal vesicle invasion: not identified margins: negative for tumor treatment effect: present (neo-adjuvant trial 16-223) lymphovascular invasion: not identified. regional lymph nodes: positive for metastatic carcinoma number of lymph nodes involved: 2 number of lymph nodes examined: 12 pathologic stage classification (ajcc 8th edition): ypt3a n1 clinical data: history: prostate adenocarcinoma, previously diagnosed by core biopsy, patient enrolled in neoadjuvant clinical trial (16-223). operation: robotic laparoscopic prostatectomy radical. operative findings: none provided. clinical diagnosis: none provided. tissue submitted: a/1. prostate seminal vesicles and periprostatic fat b/2. additional left lateral margin c/3. right pelvic lymph nodes d/4. left pelvic lymph nodes gross description: the specimen is received in 4 parts, each labeled with the patient\\'s name and medical record number. part a, received fresh in the frozen section lab labeled \"prostate seminal vesicles and periprostatic fat\", and consists of a radical prostatectomy specimen (38 g, 5.0 x 5.0 x 4.0 cm) with attached bilateral seminal vesicles (right: 2.0 x 1.0 x 0.3 cm, left: 2.0 x 1.8 x 0.3 cm) and bilateral vasa deferentia (right: 2.0 cm length x 0.3 cm diameter, left: 1.5 cm length x 0.3 cm diameter) and attached periprostatic fat (3.0 x 3.0 x 2.0 cm). the right prostate is inked black and the left prostate is inked blue. sectioning reveals a tan-white, dense, fibrocystic stroma, with an ill-defined area of yellow discoloration (1.0 x 0.5 x 0.5 cm) in the right anterior lobe. slices 3 and 5 and representative sections of the left and right seminal vesicles are allocated for tissue banking. no additional masses or lesions are identified. no candidate lymph nodes are identified. the entire posterior lobe is submitted, and representative sections of the remainder of the specimen are submitted. a1: right apex margin perpendicular, multiple fragments, ess. a2: left apex margin perpendicular, multiple fragments, ess. a3: right base margin perpendicular, multiple fragments, ess. a4: left base margin perpendicular, multiple fragments, ess. a5: slice #2 rp, 1 fragment, ess. a6: slice #2 lp, 1 fragment, ess. a7: slice #4 rp, 1 fragment, ess. a8: slice #4 lp, 1 fragment, ess. a9: slice 6, ill-defined yellow area, 1 fragment, a10: slice #6 rp, 1 fragment, ess. a11: slice #6 lp, 1 fragment, ess. a12-a13: slice #7 rp, 1 fragment in each, ess. a14-a15: slice #7 lp, 1 fragment in each, ess. a16-a17: slice #7 ra, 1 fragment in each, ess. a18-a19: slice #7 la, 1 fragment in each, ess. a20: right vas deferens margin and seminal vesicle junction, 2 fragments, rss. a21: left vas deferens margin and seminal vesicle junction, 2 fragments, rss. part b, received fresh labeled \"additional left lateral margin\", and consists of disrupted fragments of tan-gray soft tissue (2.0 x 1.1 x 0.6 cm in aggregate) held together by multiple white plastic surgical clips. the surgical clips are removed and the specimen is submitted in toto. b1: soft tissue, 2 fragments, ess. part c, received fresh labeled \"right pelvic lymph nodes\", and consists of a portion of tan-yellow lobulated adipose tissue (4.7 x 3.2 x 1.2 cm). 7 tan-pink candidate lymph nodes are identified (aging from 0.3-2.4 cm in greatest dimension). the candidate lymph nodes are submitted entirely. c1: 4 intact candidate lymph nodes, 4 fragments, ess. c2-c3: each cassette containing one serially sectioned lymph node, multiple fragments in each, ess. part d, received fresh labeled \"left pelvic lymph nodes\", and consists of a tan-yellow lobulated adipose tissue (4.7 x 1.6 x 1.3 cm). 5 tan-pink candidate lymph nodes are identified (ranging from 0.3-2.6 cm in greatest dimension). the candidate lymph nodes are submitted entirely. d1: 4 intact candidate lymph nodes, 4 fragments, ess. d2-d3: 1 candidate lymph node (serially sectioned), multiple fragments in each, ess. dictated by: schlotterbeck, emily by his/her signature below, the senior physician certifies that he/she personally conducted a microscopic examination (\"gross only\" exam if so stated) of the described specimen(s) and rendered or confirmed the diagnosis(es) related thereto. final diagnosis by michelle s. hirsch m.d., ph.d., on monday january 28, 2019 at 04:23:44pm amendment #1 by michelle s. hirsch m.d., ph.d., electronically signed on tuesday february 05, 2019 at 01:57:12pm specimen type: prostate, radical resection additional specimen type: surgical margin additional specimen type: lymph node biopsy (non-heme)'"
            ],
            "application/vnd.google.colaboratory.intrinsic+json": {
              "type": "string"
            }
          },
          "metadata": {},
          "execution_count": 62
        }
      ]
    },
    {
      "cell_type": "code",
      "source": [
        "final_df.shape"
      ],
      "metadata": {
        "colab": {
          "base_uri": "https://localhost:8080/"
        },
        "id": "cMs_5mgdALVc",
        "outputId": "a086563e-9a20-4014-a28f-eca0ba77aaf9"
      },
      "execution_count": null,
      "outputs": [
        {
          "output_type": "execute_result",
          "data": {
            "text/plain": [
              "(14557, 4)"
            ]
          },
          "metadata": {},
          "execution_count": 63
        }
      ]
    },
    {
      "cell_type": "code",
      "source": [
        "from sklearn.feature_extraction.text import TfidfVectorizer\n",
        "from sklearn.feature_extraction.text import HashingVectorizer\n",
        "from sklearn.feature_extraction.text import TfidfTransformer\n",
        "from sklearn.pipeline import make_pipeline\n",
        "from sklearn.preprocessing import Normalizer\n",
        "from sklearn.decomposition import TruncatedSVD\n",
        "from sklearn import metrics\n",
        "from time import time\n",
        "from sklearn.cluster import KMeans\n"
      ],
      "metadata": {
        "id": "QA5-Xb-zJkGW"
      },
      "execution_count": null,
      "outputs": []
    },
    {
      "cell_type": "code",
      "source": [
        "from nltk.stem.snowball import EnglishStemmer\n",
        "\n",
        "stemmer = EnglishStemmer()\n",
        "analyzer = TfidfVectorizer().build_analyzer()\n",
        "\n",
        "def stemmed_words(doc):\n",
        "    return (stemmer.stem(w) for w in analyzer(doc))"
      ],
      "metadata": {
        "id": "4LYRSkm0cTae"
      },
      "execution_count": null,
      "outputs": []
    },
    {
      "cell_type": "code",
      "source": [
        "def clean_data(df):\n",
        "  data = df.copy()\n",
        "  for i,row in data.iterrows():\n",
        "    sen = row['Report_Text']\n",
        "    sen = re.sub(\"[^a-zA-Z0-9]+\", \".\",sen).lower()\n",
        "    sen = sen.split('.')\n",
        "    sen = \" \".join(sen)\n",
        "    sen =  sen \n",
        "    data.loc[i,'text'] = sen\n",
        "  return data['text']"
      ],
      "metadata": {
        "id": "_U5bWxmdaCNb"
      },
      "execution_count": null,
      "outputs": []
    },
    {
      "cell_type": "code",
      "source": [
        "data = clean_data(final_df)"
      ],
      "metadata": {
        "id": "dtlVAld0aSH2"
      },
      "execution_count": null,
      "outputs": []
    },
    {
      "cell_type": "code",
      "source": [
        "vectorizer = TfidfVectorizer(\n",
        "    analyzer=stemmed_words,\n",
        "    max_df=0.7,\n",
        "    min_df=2,\n",
        "    ngram_range = (2,2),\n",
        "    use_idf=True,\n",
        ")\n",
        "X = vectorizer.fit_transform(data)"
      ],
      "metadata": {
        "id": "xRz_r2E_TXFH"
      },
      "execution_count": null,
      "outputs": []
    },
    {
      "cell_type": "code",
      "source": [
        "X.shape"
      ],
      "metadata": {
        "colab": {
          "base_uri": "https://localhost:8080/"
        },
        "id": "J0ATl4a1bYu3",
        "outputId": "389383bb-cd94-412a-d1a4-5a5f0305b1b0"
      },
      "execution_count": null,
      "outputs": [
        {
          "output_type": "execute_result",
          "data": {
            "text/plain": [
              "(14557, 9442)"
            ]
          },
          "metadata": {},
          "execution_count": 69
        }
      ]
    },
    {
      "cell_type": "code",
      "source": [
        "print(\"Performing dimensionality reduction using LSA\")\n",
        "t0 = time()\n",
        "# Vectorizer results are normalized, which makes KMeans behave as\n",
        "# spherical k-means for better results. Since LSA/SVD results are\n",
        "# not normalized, we have to redo the normalization.\n",
        "svd = TruncatedSVD(1000)\n",
        "normalizer = Normalizer(copy=False)\n",
        "lsa = make_pipeline(svd, normalizer)\n",
        "\n",
        "X_low = lsa.fit_transform(X)\n",
        "\n",
        "print(\"done in %fs\" % (time() - t0))\n",
        "\n",
        "explained_variance = svd.explained_variance_ratio_.sum()\n",
        "print(\n",
        "    \"Explained variance of the SVD step: {}%\".format(int(explained_variance * 100))\n",
        ")\n",
        "\n",
        "print()"
      ],
      "metadata": {
        "colab": {
          "base_uri": "https://localhost:8080/"
        },
        "id": "ZgS7CCtCXzwQ",
        "outputId": "ea12f6bb-b53e-48dc-e1b8-e7d96307fc10"
      },
      "execution_count": null,
      "outputs": [
        {
          "output_type": "stream",
          "name": "stdout",
          "text": [
            "Performing dimensionality reduction using LSA\n",
            "done in 41.869687s\n",
            "Explained variance of the SVD step: 88%\n",
            "\n"
          ]
        }
      ]
    },
    {
      "cell_type": "code",
      "source": [
        "X_low.shape"
      ],
      "metadata": {
        "colab": {
          "base_uri": "https://localhost:8080/"
        },
        "id": "uxS8sNuEaWQn",
        "outputId": "f9d42dd0-16df-4fca-d668-6c723989c7f5"
      },
      "execution_count": null,
      "outputs": [
        {
          "output_type": "execute_result",
          "data": {
            "text/plain": [
              "(14557, 1000)"
            ]
          },
          "metadata": {},
          "execution_count": 71
        }
      ]
    },
    {
      "cell_type": "code",
      "source": [
        "km2 = KMeans(\n",
        "    n_clusters=2,\n",
        "    init=\"k-means++\",\n",
        "    max_iter=100,\n",
        "    n_init=1\n",
        ")"
      ],
      "metadata": {
        "id": "DhC-Zz61Yesj"
      },
      "execution_count": null,
      "outputs": []
    },
    {
      "cell_type": "code",
      "source": [
        "print(\"Clustering sparse data with %s\" % km2)\n",
        "t0 = time()\n",
        "km2.fit(X)\n",
        "print(\"done in %0.3fs\" % (time() - t0))"
      ],
      "metadata": {
        "colab": {
          "base_uri": "https://localhost:8080/"
        },
        "id": "CxcqNzzAYtlJ",
        "outputId": "c39fa703-aa0c-4c7d-a0a1-9dc05c9a72ae"
      },
      "execution_count": null,
      "outputs": [
        {
          "output_type": "stream",
          "name": "stdout",
          "text": [
            "Clustering sparse data with KMeans(max_iter=100, n_clusters=2, n_init=1)\n",
            "done in 0.153s\n"
          ]
        }
      ]
    },
    {
      "cell_type": "code",
      "source": [
        "print(\"Top terms per cluster:\")\n",
        "order_centroids = km2.cluster_centers_.argsort()[:, ::-1]\n",
        "terms = vectorizer.get_feature_names_out()\n",
        "for i in range(2):\n",
        "    print(\"Cluster %d:\" % i, end=\"\")\n",
        "    for ind in order_centroids[i, :20]:\n",
        "        print(\" %s\" % terms[ind], end=\"\")\n",
        "    print()"
      ],
      "metadata": {
        "colab": {
          "base_uri": "https://localhost:8080/"
        },
        "id": "BXtfO8lFY-5t",
        "outputId": "8725a911-661d-4ca0-cebd-760b12fcdc1c"
      },
      "execution_count": null,
      "outputs": [
        {
          "output_type": "stream",
          "name": "stdout",
          "text": [
            "Top terms per cluster:\n",
            "Cluster 0: frag micro ess slice rss pelvic fragment consist for apex one biopsi lp rp base candid each soft multi ph\n",
            "Cluster 1: quadrant obtur pelvic inferior cassett superior frozen dissect measur md malign evid distal there serial bladder proxim unremark follow excis\n"
          ]
        }
      ]
    },
    {
      "cell_type": "code",
      "source": [
        "from sklearn.metrics import silhouette_samples"
      ],
      "metadata": {
        "id": "uGflIOYaPVQs"
      },
      "execution_count": null,
      "outputs": []
    },
    {
      "cell_type": "code",
      "source": [
        "sample_silhouette_values = silhouette_samples(X, km2.labels_)\n",
        "print(f\"Silhouette values:\")\n",
        "silhouette_values = []\n",
        "for i in range(2):\n",
        "    cluster_silhouette_values = sample_silhouette_values[km2.labels_ == i]\n",
        "    silhouette_values.append(\n",
        "        (\n",
        "            i,\n",
        "            cluster_silhouette_values.shape[0],\n",
        "            cluster_silhouette_values.mean(),\n",
        "            cluster_silhouette_values.min(),\n",
        "            cluster_silhouette_values.max(),\n",
        "        )\n",
        "    )\n",
        "silhouette_values = sorted(\n",
        "    silhouette_values, key=lambda tup: tup[2], reverse=True\n",
        ")\n",
        "for s in silhouette_values:\n",
        "    print(\n",
        "        f\"    Cluster {s[0]}: Size:{s[1]} | Avg:{s[2]:.2f} | Min:{s[3]:.2f} | Max: {s[4]:.2f}\"\n",
        "    )"
      ],
      "metadata": {
        "colab": {
          "base_uri": "https://localhost:8080/"
        },
        "id": "pyKgaKxnMJT_",
        "outputId": "c234eb56-6aad-4bc3-9aba-09d26b727ff4"
      },
      "execution_count": null,
      "outputs": [
        {
          "output_type": "stream",
          "name": "stdout",
          "text": [
            "Silhouette values:\n",
            "    Cluster 0: Size:5367 | Avg:0.28 | Min:0.09 | Max: 0.41\n",
            "    Cluster 1: Size:9190 | Avg:0.06 | Min:-0.10 | Max: 0.11\n"
          ]
        }
      ]
    },
    {
      "cell_type": "code",
      "source": [
        "km4 = KMeans(\n",
        "    n_clusters=2,\n",
        "    init=\"k-means++\",\n",
        "    max_iter=100,\n",
        "    n_init=1\n",
        ")"
      ],
      "metadata": {
        "id": "thEYvcaJa1nF"
      },
      "execution_count": null,
      "outputs": []
    },
    {
      "cell_type": "code",
      "source": [
        "print(\"Clustering sparse data with %s\" % km4)\n",
        "t0 = time()\n",
        "km4.fit(X_low)\n",
        "print(\"done in %0.3fs\" % (time() - t0))\n",
        "print()"
      ],
      "metadata": {
        "colab": {
          "base_uri": "https://localhost:8080/"
        },
        "id": "gkKCAef3bRl2",
        "outputId": "9ef9f95a-d751-4f79-895b-2e37c33f66dd"
      },
      "execution_count": null,
      "outputs": [
        {
          "output_type": "stream",
          "name": "stdout",
          "text": [
            "Clustering sparse data with KMeans(max_iter=100, n_clusters=2, n_init=1)\n",
            "done in 0.468s\n",
            "\n"
          ]
        }
      ]
    },
    {
      "cell_type": "code",
      "source": [
        "original_space_centroids = svd.inverse_transform(km4.cluster_centers_)\n",
        "print(\"Top terms per cluster:\")\n",
        "order_centroids = original_space_centroids.argsort()[:, ::-1]\n",
        "terms = vectorizer.get_feature_names_out()\n",
        "for i in range(2):\n",
        "    print(\"Cluster %d:\" % i, end=\"\")\n",
        "    for ind in order_centroids[i, :20]:\n",
        "        print(\" %s\" % terms[ind], end=\"\")\n",
        "    print()"
      ],
      "metadata": {
        "colab": {
          "base_uri": "https://localhost:8080/"
        },
        "id": "SAnAnPAkb3RX",
        "outputId": "5223bb3a-a870-4200-f7d7-642214a0c255"
      },
      "execution_count": null,
      "outputs": [
        {
          "output_type": "stream",
          "name": "stdout",
          "text": [
            "Top terms per cluster:\n",
            "Cluster 0: quadrant obtur pelvic inferior superior cassett frozen dissect measur md malign evid distal there serial bladder proxim follow unremark excis\n",
            "Cluster 1: frag micro ess slice rss pelvic fragment consist for apex one biopsi lp rp base candid each soft multi ph\n"
          ]
        }
      ]
    },
    {
      "cell_type": "code",
      "source": [
        "sample_silhouette_values = silhouette_samples(X_low, km4.labels_)\n",
        "print(f\"Silhouette values:\")\n",
        "silhouette_values = []\n",
        "for i in range(2):\n",
        "    cluster_silhouette_values = sample_silhouette_values[km4.labels_ == i]\n",
        "    silhouette_values.append(\n",
        "        (\n",
        "            i,\n",
        "            cluster_silhouette_values.shape[0],\n",
        "            cluster_silhouette_values.mean(),\n",
        "            cluster_silhouette_values.min(),\n",
        "            cluster_silhouette_values.max(),\n",
        "        )\n",
        "    )\n",
        "silhouette_values = sorted(\n",
        "    silhouette_values, key=lambda tup: tup[2], reverse=True\n",
        ")\n",
        "for s in silhouette_values:\n",
        "    print(\n",
        "        f\"    Cluster {s[0]}: Size:{s[1]} | Avg:{s[2]:.2f} | Min:{s[3]:.2f} | Max: {s[4]:.2f}\"\n",
        "    )"
      ],
      "metadata": {
        "colab": {
          "base_uri": "https://localhost:8080/"
        },
        "id": "iLHk9hf8MR5n",
        "outputId": "2b6ee967-7835-432d-f57c-05ddd8c9df6b"
      },
      "execution_count": null,
      "outputs": [
        {
          "output_type": "stream",
          "name": "stdout",
          "text": [
            "Silhouette values:\n",
            "    Cluster 1: Size:5380 | Avg:0.30 | Min:0.10 | Max: 0.44\n",
            "    Cluster 0: Size:9177 | Avg:0.07 | Min:-0.11 | Max: 0.12\n"
          ]
        }
      ]
    },
    {
      "cell_type": "code",
      "source": [
        "labels = km4.predict(X_low)"
      ],
      "metadata": {
        "id": "kVxyMhSmiwC5"
      },
      "execution_count": null,
      "outputs": []
    },
    {
      "cell_type": "code",
      "source": [
        "final_df['y_raw_kmeans'] = labels"
      ],
      "metadata": {
        "id": "WXWmY1fTiyDP",
        "colab": {
          "base_uri": "https://localhost:8080/"
        },
        "outputId": "8c9e176d-843a-41b1-9d73-a542291674e9"
      },
      "execution_count": null,
      "outputs": [
        {
          "output_type": "stream",
          "name": "stderr",
          "text": [
            "/usr/local/lib/python3.7/dist-packages/ipykernel_launcher.py:1: SettingWithCopyWarning: \n",
            "A value is trying to be set on a copy of a slice from a DataFrame.\n",
            "Try using .loc[row_indexer,col_indexer] = value instead\n",
            "\n",
            "See the caveats in the documentation: https://pandas.pydata.org/pandas-docs/stable/user_guide/indexing.html#returning-a-view-versus-a-copy\n",
            "  \"\"\"Entry point for launching an IPython kernel.\n"
          ]
        }
      ]
    },
    {
      "cell_type": "code",
      "source": [
        "final_df[final_df['y_raw_kmeans'] == 1].sample(1).Report_Text.values[0]"
      ],
      "metadata": {
        "id": "IF88wXQAi1bT",
        "colab": {
          "base_uri": "https://localhost:8080/",
          "height": 192
        },
        "outputId": "72ef7af8-ebed-4978-8242-a5656f6d7157"
      },
      "execution_count": null,
      "outputs": [
        {
          "output_type": "execute_result",
          "data": {
            "text/plain": [
              "'accession number: bs10w33354 report status: final type: surgical pathology specimen type: soft tissue tumor, extensive resection procedure date: 07/30/2010 ordering provider: graeme steele m.d. case: bs-10-w33354 patient: walter becht resident: brooke e. lane, m.d. pathologist: jeffrey f krane, m.d., ph.d.; michelle s hirsch, m.d., ph.d. pathologic diagnosis: a. left ureter, margin (including fsa): segment of ureter with chronic inflammation, negative for tumor (best seen on original frozen section slide). b. right ureter, margin (including fsb): segment of ureter, negative for tumor. c. cystoprostatectomy: bladder: focal, residual papillary urothelial carcinoma, high grade (former who grade 3 of 3) (best seen in slides c2, c4, and c8), with focal extension into cystitis glandularis. no invasive tumor identified. the urethral and radial soft tissue resection margins are negative for tumor. no lymphovascular invasion. prostate: prostatic adenocarcinoma, microscopic foci up to 0.5 cm in greatest dimension, gleason grade 3+3=6, present in the left side of the prostate. no lymphovascular invasion is identified. extraprostatic soft tissue is negative for tumor. the seminal vesicles are negative for tumor. the inked soft tissue resection margin is negative for tumor. d. left pelvic lymph nodes: five (5) lymph nodes, negative for tumor. e. right pelvic lymph nodes: three (3) lymph nodes, negative for tumor. ajcc classification (7th edition) for the bladder carcinoma: ypta n0. ajcc stage (7th edition) for the prostate carcinoma: t2a n0. clinical data: history: status post na chemotherapy. operation: not provided operative findings: not provided clinical diagnosis: bladder cancer. tissue submitted: a. l ureteral margin fs b. r ureteral margin fs c. bladder + prostate d. l pelvic lymph node e. r pelvic lymph node o.r. consultation: specimen labeled \"1. l ureteral margin\" (fsa): segment of ureter with dense inflammation, negative for tumor. specimen labeled \"2. r ureteral margin\" (fsb): segment of ureter, negative for tumor. or consultation by: andrew m. bellizzi, m.d. resident: emily king, m.d. the senior physician certifies that he/she personally conducted a gross and/or microscopic examination of the described specimen(s) and rendered or confirmed the rapid diagnos(es) related thereto. gross description: five specimens are received fresh, labeled with the patient\\'s name and medical record number. part a, labeled \"#1. left ureteral margin\", consists of a single fragment of unoriented tan-pink soft tissue measuring 0.6 x 0.5 x 0.2 cm, containing a 0.2 x 0.2 cm tubular segment with central lumen measuring 0.1 cm in diameter. this is entirely submitted for fsa. micro a1: fsa remnant (left ureteral margin), 1 frag, ess. part b, labeled \"#2. right ureteral margin\", consists of a single unoriented fragment of tan-pink soft tissue measuring 0.7 x 0.6 x 0.3 cm with 0.5 cm in diameter tubular segment and 0.3 cm in length with central lumen measuring 0.3 cm. this is entirely submitted for fsb. micro b1: fsb remnant (right ureteral margin), 1 frag, ess. part c, labeled \"#3. bladder and prostate\", consists of a cystoprostatectomy specimen with deflated bladder (8.0 x 6.0 x 3.0 cm) and a prostate (4.0 x 3.5 x 3.0 cm). the left seminal vesicle is 4.5 x 1.5 x 0.4 cm. the right seminal vesicle is 3.5 x 1.5 x 0.5 cm. the left vas deferens is 11.0 cm in length x 0.4 cm in diameter. the right vas deferens is 8.0 cm in length x 0.5 cm in diameter. the right ureter is 3.0 cm in length and 0.3 cm in diameter. the left ureter is not identifiable and when probed, the probe exits the specimen at the inked soft tissue margin, without identifiable ureter, therefore this margin cannot be assessed on this specimen. the specimen is inked as follows: right prostate = red, left prostate = blue, soft tissue bladder margin = black. the bladder mucosa is grossly unremarkable except for an ill-defined, vaguely denuded/ulcerated area on the posterior wall superior and adjacent to the right ureteral orifice, measuring 3.0 x 2.3 cm, and 4.5 cm from the prostatic urethral margin. no other mucosal lesion is identified. the prostatic parenchyma is grossly unremarkable, with no discrete lesions or masses identified. gross photographs are taken. micro c1: right ureteral margin, 1 frag, ess. micro c2: tumor to right ureteral orifice, 1 frag, rss. micro c3-c8: ulcerated mass by the right ureteral orifice, 1 frag each, ess. micro c9: right anterolateral bladder mucosa, 1 frag, ess. micro c10: left anterolateral bladder mucosa, 1 frag, rss. micro c11: grossly normal posterior bladder wall, 1 frag, rss. micro c12: the relationship of bladder mucosa to the left ureteral orifice, 1 frag, rss. micro c13: the right bladder neck, 1 frag, rss. micro c14: the left bladder neck (bisected), 2 frags, ess. micro c15: right prostatic urethral margin, 6 frags, ess. micro c16: left prostatic urethral margin, 6 frags, ess. micro c17: right seminal vesicle, 1 frag, rss. micro c18: left seminal vesicle, 1 frag, rss. micro c19-c22: right prostate, 1 frag each, rss. micro c23-c26: left prostate, 1 frag each, rss. part d, labeled \"#4. left pelvic lymph node\", consists of yellow-tan fibrofatty tissue measuring 11.0 x 6.0 x 1.0 cm containing four to five lymph nodes ranging in size from 1.8 to 4.2 cm in greatest dimension. micro d1: 1 lymph node (bisected), 2 frags, ess. micro d2: 1 lymph node (bisected), 2 frags, ess. micro d3-d5: 1 lymph node (sectioned), 1-2 frags each, ess. micro d6-d7: 1 lymph node (sectioned), 1-2 frags each, ess. micro d8-d11: 1 lymph node (sectioned), 1 frag each, ess. part e, labeled \"#5. right pelvic lymph node\", consists of yellow-tan fibrofatty tissue measuring 10.0 x 2.0 x 1.0 cm and containing three candidate lymph nodes ranging in size from 1.5 cm to 4.5 cm. the lymph nodes are entirely submitted. micro e1-e2: 1 lymph node (bisected), 1 frag each, ess. micro e3-e6: 1 lymph node (sectioned), 1 frag each, ess. micro e7-e9: 1 lymph node (bisected), 1 frag each, ess. case number: 33354. brl/ajb by his/her signature below, the senior physician certifies that he/she personally conducted a microscopic examination (\"gross only\" exam if so stated) of the described specimen(s) and rendered or confirmed the diagnosis(es) related thereto. final diagnosis by michelle s hirsch m.d., ph.d., electronically signed on thursday august 19, 2010 at 08:02:22pm'"
            ],
            "application/vnd.google.colaboratory.intrinsic+json": {
              "type": "string"
            }
          },
          "metadata": {},
          "execution_count": 83
        }
      ]
    },
    {
      "cell_type": "code",
      "source": [
        "final_df[final_df['y_raw_kmeans'] == 0].sample(1).Report_Text.values[0]"
      ],
      "metadata": {
        "colab": {
          "base_uri": "https://localhost:8080/",
          "height": 192
        },
        "id": "dxoIVwxwfHAj",
        "outputId": "e6026899-2334-4d2e-aaa9-f1d19e7a7b7b"
      },
      "execution_count": null,
      "outputs": [
        {
          "output_type": "execute_result",
          "data": {
            "text/plain": [
              "'accession number: ms10x46648 report status: final type: surgical pathology pathology report: ms-10-x46648 case: ms-10-x46648 patient: george martwichuck date taken: 7/21/2010 source care unit: mgh inpatient path subspecialty service: genito-urinary results to: francis james mcgovern, m.d. resident: darcy kerr, m.d. signed out by: colleen a lamb, m.d. clinical data: history of prostate cancer. final diagnosis: prostate, radical prostatectomy: adenocarcinoma, gleason score 3 + 4 = 7/10, focally involving all four quadrants, confined to the prostate (pt2); see note. note: all resection margins are free of tumor. lymphovascular invasion is not seen. gross description: received fresh, labeled george martwichuck, #491-67-67, and \"prostate\", is a 57.5 g, 4.7 x 4.5 x 4.3 cm radical prostatectomy specimen with an unremarkable external surface. the left seminal vesicle measures 1.5 x 0.9 x 0.5 cm, the right seminal vesicle measures 1.4 x 1.0 x 0.4 cm, and they are both unremarkable. the left vas deferens measures 1.3 x 0.5 cm, the right vas deferens measures 2.1 x 0.5 cm, and they are both unremarkable. the specimen is inked as follows: left - black, right - blue. proximal and distal urethral margins are taken en face and radially sectioned. the specimen is serially sectioned transversely to reveal a tan-white parenchymal cut surface with multiple well-circumscribed white rubbery nodules measuring up to 2.5 cm in diameter, with no hemorrhage or other focal lesions. representative sections are submitted as follows: a1-a2: proximal urethral margin, radially sectioned. a3-a4: distal urethral margin, radially sectioned. a5: representative left vas deferens, in cross-section, and seminal vesicle, radial to prostate. a6: representative right vas deferens, in cross-section, and seminal vesicle, radial to prostate. a7-a10: representative left anterior quadrant, superior to inferior. a11-a14: representative left posterior quadrant, superior to inferior. a15-a18: representative right anterior quadrant, superior to inferior. a19-a22: representative right posterior quadrant, superior to inferior. final diagnosis by colleen a lamb m.d., electronically signed on monday july 26, 2010 at 03:56:25pm by his/her signature above, the pathologist listed as making the final diagnosis certifies that he/she has personally reviewed this case and confirmed or corrected the diagnoses. part : prostate, radical prostatectomy'"
            ],
            "application/vnd.google.colaboratory.intrinsic+json": {
              "type": "string"
            }
          },
          "metadata": {},
          "execution_count": 84
        }
      ]
    },
    {
      "cell_type": "code",
      "source": [
        "  # if opts.n_components:\n",
        "  #     original_space_centroids = svd.inverse_transform(km.cluster_centers_)\n",
        "  #     order_centroids = original_space_centroids.argsort()[:, ::-1]\n",
        "  # else:"
      ],
      "metadata": {
        "id": "O5aIjy2NZNtw"
      },
      "execution_count": null,
      "outputs": []
    },
    {
      "cell_type": "code",
      "source": [
        "# Try word2vec"
      ],
      "metadata": {
        "id": "KPdT0Lj5eRj8"
      },
      "execution_count": null,
      "outputs": []
    },
    {
      "cell_type": "markdown",
      "source": [
        "**K-means using word embedding**"
      ],
      "metadata": {
        "id": "l0_dHpVsHXJX"
      }
    },
    {
      "cell_type": "code",
      "source": [
        "import os\n",
        "import random\n",
        "import re\n",
        "import string\n",
        "\n",
        "import nltk\n",
        "import numpy as np\n",
        "import pandas as pd\n",
        "from tensorflow.keras.layers import TextVectorization\n",
        "from gensim.models import Word2Vec\n",
        "\n",
        "from nltk import word_tokenize\n",
        "from nltk.corpus import stopwords\n",
        "\n",
        "from sklearn.cluster import MiniBatchKMeans\n",
        "from sklearn.metrics import silhouette_samples, silhouette_score"
      ],
      "metadata": {
        "id": "iJA2U4Z1eK0U"
      },
      "execution_count": null,
      "outputs": []
    },
    {
      "cell_type": "code",
      "source": [
        "def read_data(file_name):\n",
        "    with open(file_name,'r') as f:\n",
        "        word_vocab = set() # not using list to avoid duplicate entry\n",
        "        word2vector = {}\n",
        "        for line in f:\n",
        "            line_ = line.strip() #Remove white space\n",
        "            words_Vec = line_.split()\n",
        "            word_vocab.add(words_Vec[0])\n",
        "            word2vector[words_Vec[0]] = np.array(words_Vec[1:],dtype=float)\n",
        "    print(\"Total Words in DataSet:\",len(word_vocab))\n",
        "    return word_vocab,word2vector"
      ],
      "metadata": {
        "id": "JGklg_wYRPx3"
      },
      "execution_count": null,
      "outputs": []
    },
    {
      "cell_type": "code",
      "source": [
        "data = final_df.copy()\n",
        "\n",
        "\n",
        "new_df = clean_data(data)\n",
        "new_df.head()"
      ],
      "metadata": {
        "colab": {
          "base_uri": "https://localhost:8080/"
        },
        "id": "IKrL5o0NS_c5",
        "outputId": "87e84396-55c2-4075-be25-9fff45e8489d"
      },
      "execution_count": null,
      "outputs": [
        {
          "output_type": "execute_result",
          "data": {
            "text/plain": [
              "0    accession number s02k17074 report status final...\n",
              "1    accession number s9905462c report status final...\n",
              "2    accession number bs05e05528 report status fina...\n",
              "3    accession number s9935420s report status final...\n",
              "5    accession number s99t17262 report status final...\n",
              "Name: text, dtype: object"
            ]
          },
          "metadata": {},
          "execution_count": 89
        }
      ]
    },
    {
      "cell_type": "code",
      "source": [
        "from gensim.models.doc2vec import Doc2Vec, TaggedDocument"
      ],
      "metadata": {
        "id": "HcMKdHoNTtCG"
      },
      "execution_count": null,
      "outputs": []
    },
    {
      "cell_type": "code",
      "source": [
        "documents = [TaggedDocument(doc, [i]) for i, doc in enumerate(new_df)]\n",
        "model = Doc2Vec(documents, vector_size=100, window=2, min_count=1, workers=4)"
      ],
      "metadata": {
        "id": "6VkP79QrTwT2"
      },
      "execution_count": null,
      "outputs": []
    },
    {
      "cell_type": "code",
      "source": [
        "emb_X = []\n",
        "for i in range(len(new_df)):\n",
        "  text = new_df.iloc[i]\n",
        "  emb_X.append(model.infer_vector(text))"
      ],
      "metadata": {
        "id": "CTPTQjICQV9D"
      },
      "execution_count": null,
      "outputs": []
    },
    {
      "cell_type": "code",
      "source": [
        "emb_X = np.array(emb_X)"
      ],
      "metadata": {
        "id": "09INNGThV0p5"
      },
      "execution_count": null,
      "outputs": []
    },
    {
      "cell_type": "code",
      "source": [
        "def mbkmeans_clusters(\n",
        "\tX, \n",
        "    k, \n",
        "    mb, \n",
        "    print_silhouette_values, \n",
        "):\n",
        "    \"\"\"Generate clusters and print Silhouette metrics using MBKmeans\n",
        "\n",
        "    Args:\n",
        "        X: Matrix of features.\n",
        "        k: Number of clusters.\n",
        "        mb: Size of mini-batches.\n",
        "        print_silhouette_values: Print silhouette values per cluster.\n",
        "\n",
        "    Returns:\n",
        "        Trained clustering model and labels based on X.\n",
        "    \"\"\"\n",
        "    km = MiniBatchKMeans(n_clusters=k, batch_size=mb).fit(X)\n",
        "    print(f\"For n_clusters = {k}\")\n",
        "    print(f\"Silhouette coefficient: {silhouette_score(X, km.labels_):0.2f}\")\n",
        "    print(f\"Inertia:{km.inertia_}\")\n",
        "\n",
        "    if print_silhouette_values:\n",
        "        sample_silhouette_values = silhouette_samples(X, km.labels_)\n",
        "        print(f\"Silhouette values:\")\n",
        "        silhouette_values = []\n",
        "        for i in range(k):\n",
        "            cluster_silhouette_values = sample_silhouette_values[km.labels_ == i]\n",
        "            silhouette_values.append(\n",
        "                (\n",
        "                    i,\n",
        "                    cluster_silhouette_values.shape[0],\n",
        "                    cluster_silhouette_values.mean(),\n",
        "                    cluster_silhouette_values.min(),\n",
        "                    cluster_silhouette_values.max(),\n",
        "                )\n",
        "            )\n",
        "        silhouette_values = sorted(\n",
        "            silhouette_values, key=lambda tup: tup[2], reverse=True\n",
        "        )\n",
        "        for s in silhouette_values:\n",
        "            print(\n",
        "                f\"    Cluster {s[0]}: Size:{s[1]} | Avg:{s[2]:.2f} | Min:{s[3]:.2f} | Max: {s[4]:.2f}\"\n",
        "            )\n",
        "    return km, km.labels_"
      ],
      "metadata": {
        "id": "GHj2o36mUfiS"
      },
      "execution_count": null,
      "outputs": []
    },
    {
      "cell_type": "code",
      "source": [
        "clustering, cluster_labels = mbkmeans_clusters(\n",
        "\tX=emb_X,\n",
        "    k=2,\n",
        "    mb=10,\n",
        "    print_silhouette_values=True,\n",
        ")\n",
        "# df_clusters = pd.DataFrame({\n",
        "#     \"text\": docs,\n",
        "#     \"tokens\": [\" \".join(text) for text in tokenized_docs],\n",
        "#     \"cluster\": cluster_labels\n",
        "# })"
      ],
      "metadata": {
        "colab": {
          "base_uri": "https://localhost:8080/"
        },
        "id": "uMNtjyKsU7Ut",
        "outputId": "4034d734-f984-4445-8091-e321b4ae0574"
      },
      "execution_count": null,
      "outputs": [
        {
          "output_type": "stream",
          "name": "stdout",
          "text": [
            "For n_clusters = 2\n",
            "Silhouette coefficient: 0.13\n",
            "Inertia:23188.796875\n",
            "Silhouette values:\n",
            "    Cluster 0: Size:5071 | Avg:0.14 | Min:-0.02 | Max: 0.28\n",
            "    Cluster 1: Size:9486 | Avg:0.13 | Min:-0.05 | Max: 0.26\n"
          ]
        }
      ]
    },
    {
      "cell_type": "code",
      "source": [
        "model.docvecs.most_similar([original_space_centroids[0]])"
      ],
      "metadata": {
        "colab": {
          "base_uri": "https://localhost:8080/",
          "height": 340
        },
        "id": "AXr8D5pVXoBE",
        "outputId": "c31823b9-f3d7-4af2-c48b-59a72206d2d8"
      },
      "execution_count": null,
      "outputs": [
        {
          "output_type": "error",
          "ename": "ValueError",
          "evalue": "ignored",
          "traceback": [
            "\u001b[0;31m---------------------------------------------------------------------------\u001b[0m",
            "\u001b[0;31mValueError\u001b[0m                                Traceback (most recent call last)",
            "\u001b[0;32m<ipython-input-96-1562edd70e9f>\u001b[0m in \u001b[0;36m<module>\u001b[0;34m()\u001b[0m\n\u001b[0;32m----> 1\u001b[0;31m \u001b[0mmodel\u001b[0m\u001b[0;34m.\u001b[0m\u001b[0mdocvecs\u001b[0m\u001b[0;34m.\u001b[0m\u001b[0mmost_similar\u001b[0m\u001b[0;34m(\u001b[0m\u001b[0;34m[\u001b[0m\u001b[0moriginal_space_centroids\u001b[0m\u001b[0;34m[\u001b[0m\u001b[0;36m0\u001b[0m\u001b[0;34m]\u001b[0m\u001b[0;34m]\u001b[0m\u001b[0;34m)\u001b[0m\u001b[0;34m\u001b[0m\u001b[0;34m\u001b[0m\u001b[0m\n\u001b[0m",
            "\u001b[0;32m/usr/local/lib/python3.7/dist-packages/gensim/models/keyedvectors.py\u001b[0m in \u001b[0;36mmost_similar\u001b[0;34m(self, positive, negative, topn, clip_start, clip_end, indexer)\u001b[0m\n\u001b[1;32m   1659\u001b[0m             \u001b[0;32mreturn\u001b[0m \u001b[0mindexer\u001b[0m\u001b[0;34m.\u001b[0m\u001b[0mmost_similar\u001b[0m\u001b[0;34m(\u001b[0m\u001b[0mmean\u001b[0m\u001b[0;34m,\u001b[0m \u001b[0mtopn\u001b[0m\u001b[0;34m)\u001b[0m\u001b[0;34m\u001b[0m\u001b[0;34m\u001b[0m\u001b[0m\n\u001b[1;32m   1660\u001b[0m \u001b[0;34m\u001b[0m\u001b[0m\n\u001b[0;32m-> 1661\u001b[0;31m         \u001b[0mdists\u001b[0m \u001b[0;34m=\u001b[0m \u001b[0mdot\u001b[0m\u001b[0;34m(\u001b[0m\u001b[0mself\u001b[0m\u001b[0;34m.\u001b[0m\u001b[0mvectors_docs_norm\u001b[0m\u001b[0;34m[\u001b[0m\u001b[0mclip_start\u001b[0m\u001b[0;34m:\u001b[0m\u001b[0mclip_end\u001b[0m\u001b[0;34m]\u001b[0m\u001b[0;34m,\u001b[0m \u001b[0mmean\u001b[0m\u001b[0;34m)\u001b[0m\u001b[0;34m\u001b[0m\u001b[0;34m\u001b[0m\u001b[0m\n\u001b[0m\u001b[1;32m   1662\u001b[0m         \u001b[0;32mif\u001b[0m \u001b[0;32mnot\u001b[0m \u001b[0mtopn\u001b[0m\u001b[0;34m:\u001b[0m\u001b[0;34m\u001b[0m\u001b[0;34m\u001b[0m\u001b[0m\n\u001b[1;32m   1663\u001b[0m             \u001b[0;32mreturn\u001b[0m \u001b[0mdists\u001b[0m\u001b[0;34m\u001b[0m\u001b[0;34m\u001b[0m\u001b[0m\n",
            "\u001b[0;32m<__array_function__ internals>\u001b[0m in \u001b[0;36mdot\u001b[0;34m(*args, **kwargs)\u001b[0m\n",
            "\u001b[0;31mValueError\u001b[0m: shapes (14557,100) and (9442,) not aligned: 100 (dim 1) != 9442 (dim 0)"
          ]
        }
      ]
    },
    {
      "cell_type": "code",
      "source": [
        "model.docvecs.most_similar([original_space_centroids[1]])"
      ],
      "metadata": {
        "id": "fxd_C8grYAhx"
      },
      "execution_count": null,
      "outputs": []
    },
    {
      "cell_type": "code",
      "source": [
        "  new_df.iloc[7568]"
      ],
      "metadata": {
        "id": "oJhIwfwuV8gK"
      },
      "execution_count": null,
      "outputs": []
    },
    {
      "cell_type": "code",
      "source": [
        "new_df.iloc[7885]"
      ],
      "metadata": {
        "id": "Br2tvOuMYJs5"
      },
      "execution_count": null,
      "outputs": []
    },
    {
      "cell_type": "code",
      "source": [
        "new_df.iloc[11698]"
      ],
      "metadata": {
        "id": "qnSTpTAgYMjI"
      },
      "execution_count": null,
      "outputs": []
    },
    {
      "cell_type": "code",
      "source": [
        "new_df.iloc[10785]"
      ],
      "metadata": {
        "id": "TJ1zIWk7YPeu"
      },
      "execution_count": null,
      "outputs": []
    },
    {
      "cell_type": "code",
      "source": [
        ""
      ],
      "metadata": {
        "id": "txdBZI1fYSYl"
      },
      "execution_count": null,
      "outputs": []
    }
  ]
}